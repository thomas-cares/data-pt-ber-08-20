{
 "cells": [
  {
   "cell_type": "markdown",
   "metadata": {},
   "source": [
    "# Extra Project: Logistic Regression"
   ]
  },
  {
   "cell_type": "code",
   "execution_count": 47,
   "metadata": {},
   "outputs": [],
   "source": [
    "import pandas as pd\n",
    "import numpy as np\n",
    "import statsmodels.api as sm"
   ]
  },
  {
   "cell_type": "markdown",
   "metadata": {},
   "source": [
    "## 1 Reading and merging the data"
   ]
  },
  {
   "cell_type": "code",
   "execution_count": 48,
   "metadata": {},
   "outputs": [],
   "source": [
    "web = pd.read_csv('logs_web.csv')\n",
    "noti = pd.read_csv('logs_notifications.csv')"
   ]
  },
  {
   "cell_type": "markdown",
   "metadata": {},
   "source": [
    "#### Merging the data into one DataFrame"
   ]
  },
  {
   "cell_type": "code",
   "execution_count": 49,
   "metadata": {},
   "outputs": [],
   "source": [
    "noti.rename(columns = {'datetime': 'datetime_noti'}, inplace = True) \n",
    "web.rename(columns = {'datetime': 'datetime_web'}, inplace = True)\n",
    "logs = pd.merge(noti, web, on = ['browser', 'ip_anonymized', 'language','message'], how = 'left')"
   ]
  },
  {
   "cell_type": "markdown",
   "metadata": {},
   "source": [
    "#### Creating a column for whether users clicked on the notification"
   ]
  },
  {
   "cell_type": "code",
   "execution_count": 50,
   "metadata": {},
   "outputs": [],
   "source": [
    "logs['clicked'] = np.where(logs['datetime_web'].isna(), 0, 1)"
   ]
  },
  {
   "cell_type": "markdown",
   "metadata": {},
   "source": [
    "## 2 Data Analysis"
   ]
  },
  {
   "cell_type": "markdown",
   "metadata": {},
   "source": [
    "### 2.1 Performance of different translations"
   ]
  },
  {
   "cell_type": "code",
   "execution_count": 51,
   "metadata": {},
   "outputs": [
    {
     "data": {
      "text/html": [
       "<div>\n",
       "<style scoped>\n",
       "    .dataframe tbody tr th:only-of-type {\n",
       "        vertical-align: middle;\n",
       "    }\n",
       "\n",
       "    .dataframe tbody tr th {\n",
       "        vertical-align: top;\n",
       "    }\n",
       "\n",
       "    .dataframe thead th {\n",
       "        text-align: right;\n",
       "    }\n",
       "</style>\n",
       "<table border=\"1\" class=\"dataframe\">\n",
       "  <thead>\n",
       "    <tr style=\"text-align: right;\">\n",
       "      <th>clicked</th>\n",
       "      <th>0</th>\n",
       "      <th>1</th>\n",
       "    </tr>\n",
       "    <tr>\n",
       "      <th>language</th>\n",
       "      <th></th>\n",
       "      <th></th>\n",
       "    </tr>\n",
       "  </thead>\n",
       "  <tbody>\n",
       "    <tr>\n",
       "      <th>cn</th>\n",
       "      <td>33423</td>\n",
       "      <td>512</td>\n",
       "    </tr>\n",
       "    <tr>\n",
       "      <th>de</th>\n",
       "      <td>117882</td>\n",
       "      <td>2036</td>\n",
       "    </tr>\n",
       "    <tr>\n",
       "      <th>en</th>\n",
       "      <td>161285</td>\n",
       "      <td>2716</td>\n",
       "    </tr>\n",
       "    <tr>\n",
       "      <th>es</th>\n",
       "      <td>50963</td>\n",
       "      <td>0</td>\n",
       "    </tr>\n",
       "    <tr>\n",
       "      <th>fr</th>\n",
       "      <td>50500</td>\n",
       "      <td>823</td>\n",
       "    </tr>\n",
       "    <tr>\n",
       "      <th>ru</th>\n",
       "      <td>79563</td>\n",
       "      <td>297</td>\n",
       "    </tr>\n",
       "  </tbody>\n",
       "</table>\n",
       "</div>"
      ],
      "text/plain": [
       "clicked        0     1\n",
       "language              \n",
       "cn         33423   512\n",
       "de        117882  2036\n",
       "en        161285  2716\n",
       "es         50963     0\n",
       "fr         50500   823\n",
       "ru         79563   297"
      ]
     },
     "execution_count": 51,
     "metadata": {},
     "output_type": "execute_result"
    }
   ],
   "source": [
    "pd.crosstab(logs['language'], logs['clicked'])"
   ]
  },
  {
   "cell_type": "markdown",
   "metadata": {},
   "source": [
    "We can see that none of the notifications in Spanish language led to people clicking on the link!\n",
    "This points to a bad Spanish translation of the message."
   ]
  },
  {
   "cell_type": "code",
   "execution_count": 52,
   "metadata": {},
   "outputs": [
    {
     "name": "stdout",
     "output_type": "stream",
     "text": [
      "Warning: Maximum number of iterations has been exceeded.\n",
      "         Current function value: 0.065582\n",
      "         Iterations: 35\n"
     ]
    },
    {
     "name": "stderr",
     "output_type": "stream",
     "text": [
      "/opt/anaconda3/lib/python3.8/site-packages/statsmodels/base/model.py:567: ConvergenceWarning: Maximum Likelihood optimization failed to converge. Check mle_retvals\n",
      "  warn(\"Maximum Likelihood optimization failed to converge. \"\n"
     ]
    },
    {
     "data": {
      "text/html": [
       "<table class=\"simpletable\">\n",
       "<caption>Logit Regression Results</caption>\n",
       "<tr>\n",
       "  <th>Dep. Variable:</th>        <td>clicked</td>     <th>  No. Observations:  </th>  <td>500000</td> \n",
       "</tr>\n",
       "<tr>\n",
       "  <th>Model:</th>                 <td>Logit</td>      <th>  Df Residuals:      </th>  <td>499991</td> \n",
       "</tr>\n",
       "<tr>\n",
       "  <th>Method:</th>                 <td>MLE</td>       <th>  Df Model:          </th>  <td>     8</td> \n",
       "</tr>\n",
       "<tr>\n",
       "  <th>Date:</th>            <td>Sat, 14 Nov 2020</td> <th>  Pseudo R-squ.:     </th>  <td>0.04071</td>\n",
       "</tr>\n",
       "<tr>\n",
       "  <th>Time:</th>                <td>10:36:21</td>     <th>  Log-Likelihood:    </th> <td> -32791.</td>\n",
       "</tr>\n",
       "<tr>\n",
       "  <th>converged:</th>             <td>False</td>      <th>  LL-Null:           </th> <td> -34183.</td>\n",
       "</tr>\n",
       "<tr>\n",
       "  <th>Covariance Type:</th>     <td>nonrobust</td>    <th>  LLR p-value:       </th>  <td> 0.000</td> \n",
       "</tr>\n",
       "</table>\n",
       "<table class=\"simpletable\">\n",
       "<tr>\n",
       "     <td></td>        <th>coef</th>     <th>std err</th>      <th>z</th>      <th>P>|z|</th>  <th>[0.025</th>    <th>0.975]</th>  \n",
       "</tr>\n",
       "<tr>\n",
       "  <th>const</th>   <td>   -4.5031</td> <td>    0.050</td> <td>  -89.955</td> <td> 0.000</td> <td>   -4.601</td> <td>   -4.405</td>\n",
       "</tr>\n",
       "<tr>\n",
       "  <th>firefox</th> <td>    0.4495</td> <td>    0.025</td> <td>   17.657</td> <td> 0.000</td> <td>    0.400</td> <td>    0.499</td>\n",
       "</tr>\n",
       "<tr>\n",
       "  <th>de</th>      <td>    0.1192</td> <td>    0.050</td> <td>    2.392</td> <td> 0.017</td> <td>    0.022</td> <td>    0.217</td>\n",
       "</tr>\n",
       "<tr>\n",
       "  <th>en</th>      <td>    0.0952</td> <td>    0.049</td> <td>    1.961</td> <td> 0.050</td> <td> 3.73e-05</td> <td>    0.190</td>\n",
       "</tr>\n",
       "<tr>\n",
       "  <th>es</th>      <td>  -28.5348</td> <td> 5.63e+04</td> <td>   -0.001</td> <td> 1.000</td> <td> -1.1e+05</td> <td>  1.1e+05</td>\n",
       "</tr>\n",
       "<tr>\n",
       "  <th>fr</th>      <td>    0.0629</td> <td>    0.057</td> <td>    1.109</td> <td> 0.268</td> <td>   -0.048</td> <td>    0.174</td>\n",
       "</tr>\n",
       "<tr>\n",
       "  <th>ru</th>      <td>   -1.4121</td> <td>    0.073</td> <td>  -19.278</td> <td> 0.000</td> <td>   -1.556</td> <td>   -1.269</td>\n",
       "</tr>\n",
       "<tr>\n",
       "  <th>1</th>       <td>    0.2617</td> <td>    0.031</td> <td>    8.341</td> <td> 0.000</td> <td>    0.200</td> <td>    0.323</td>\n",
       "</tr>\n",
       "<tr>\n",
       "  <th>2</th>       <td>    0.1757</td> <td>    0.032</td> <td>    5.495</td> <td> 0.000</td> <td>    0.113</td> <td>    0.238</td>\n",
       "</tr>\n",
       "</table><br/><br/>Possibly complete quasi-separation: A fraction 0.10 of observations can be<br/>perfectly predicted. This might indicate that there is complete<br/>quasi-separation. In this case some parameters will not be identified."
      ],
      "text/plain": [
       "<class 'statsmodels.iolib.summary.Summary'>\n",
       "\"\"\"\n",
       "                           Logit Regression Results                           \n",
       "==============================================================================\n",
       "Dep. Variable:                clicked   No. Observations:               500000\n",
       "Model:                          Logit   Df Residuals:                   499991\n",
       "Method:                           MLE   Df Model:                            8\n",
       "Date:                Sat, 14 Nov 2020   Pseudo R-squ.:                 0.04071\n",
       "Time:                        10:36:21   Log-Likelihood:                -32791.\n",
       "converged:                      False   LL-Null:                       -34183.\n",
       "Covariance Type:            nonrobust   LLR p-value:                     0.000\n",
       "==============================================================================\n",
       "                 coef    std err          z      P>|z|      [0.025      0.975]\n",
       "------------------------------------------------------------------------------\n",
       "const         -4.5031      0.050    -89.955      0.000      -4.601      -4.405\n",
       "firefox        0.4495      0.025     17.657      0.000       0.400       0.499\n",
       "de             0.1192      0.050      2.392      0.017       0.022       0.217\n",
       "en             0.0952      0.049      1.961      0.050    3.73e-05       0.190\n",
       "es           -28.5348   5.63e+04     -0.001      1.000    -1.1e+05     1.1e+05\n",
       "fr             0.0629      0.057      1.109      0.268      -0.048       0.174\n",
       "ru            -1.4121      0.073    -19.278      0.000      -1.556      -1.269\n",
       "1              0.2617      0.031      8.341      0.000       0.200       0.323\n",
       "2              0.1757      0.032      5.495      0.000       0.113       0.238\n",
       "==============================================================================\n",
       "\n",
       "Possibly complete quasi-separation: A fraction 0.10 of observations can be\n",
       "perfectly predicted. This might indicate that there is complete\n",
       "quasi-separation. In this case some parameters will not be identified.\n",
       "\"\"\""
      ]
     },
     "execution_count": 52,
     "metadata": {},
     "output_type": "execute_result"
    }
   ],
   "source": [
    "y = logs[['clicked']]\n",
    "X = pd.concat([pd.get_dummies(logs['browser'], drop_first=True), pd.get_dummies(logs['language'], drop_first=True), pd.get_dummies(logs['message'], drop_first=True)], axis=1) \n",
    "X = sm.add_constant(X)\n",
    "model = sm.Logit(y, X).fit()\n",
    "model.summary()"
   ]
  },
  {
   "cell_type": "markdown",
   "metadata": {},
   "source": [
    "**In this model specification, we have problem of quasi separation, so one or more categories predict failure perfectly. This is because none of the Spanish translated messages were clicked on. We therefore need to drop this category from the model.**"
   ]
  },
  {
   "cell_type": "code",
   "execution_count": 53,
   "metadata": {},
   "outputs": [
    {
     "name": "stdout",
     "output_type": "stream",
     "text": [
      "Optimization terminated successfully.\n",
      "         Current function value: 0.073025\n",
      "         Iterations 10\n"
     ]
    },
    {
     "data": {
      "text/html": [
       "<table class=\"simpletable\">\n",
       "<caption>Logit Regression Results</caption>\n",
       "<tr>\n",
       "  <th>Dep. Variable:</th>        <td>clicked</td>     <th>  No. Observations:  </th>   <td>449037</td>  \n",
       "</tr>\n",
       "<tr>\n",
       "  <th>Model:</th>                 <td>Logit</td>      <th>  Df Residuals:      </th>   <td>449029</td>  \n",
       "</tr>\n",
       "<tr>\n",
       "  <th>Method:</th>                 <td>MLE</td>       <th>  Df Model:          </th>   <td>     7</td>  \n",
       "</tr>\n",
       "<tr>\n",
       "  <th>Date:</th>            <td>Sat, 14 Nov 2020</td> <th>  Pseudo R-squ.:     </th>   <td>0.02092</td> \n",
       "</tr>\n",
       "<tr>\n",
       "  <th>Time:</th>                <td>10:36:24</td>     <th>  Log-Likelihood:    </th>  <td> -32791.</td> \n",
       "</tr>\n",
       "<tr>\n",
       "  <th>converged:</th>             <td>True</td>       <th>  LL-Null:           </th>  <td> -33492.</td> \n",
       "</tr>\n",
       "<tr>\n",
       "  <th>Covariance Type:</th>     <td>nonrobust</td>    <th>  LLR p-value:       </th> <td>1.967e-298</td>\n",
       "</tr>\n",
       "</table>\n",
       "<table class=\"simpletable\">\n",
       "<tr>\n",
       "     <td></td>        <th>coef</th>     <th>std err</th>      <th>z</th>      <th>P>|z|</th>  <th>[0.025</th>    <th>0.975]</th>  \n",
       "</tr>\n",
       "<tr>\n",
       "  <th>const</th>   <td>   -4.5031</td> <td>    0.050</td> <td>  -89.955</td> <td> 0.000</td> <td>   -4.601</td> <td>   -4.405</td>\n",
       "</tr>\n",
       "<tr>\n",
       "  <th>firefox</th> <td>    0.4495</td> <td>    0.025</td> <td>   17.657</td> <td> 0.000</td> <td>    0.400</td> <td>    0.499</td>\n",
       "</tr>\n",
       "<tr>\n",
       "  <th>de</th>      <td>    0.1192</td> <td>    0.050</td> <td>    2.392</td> <td> 0.017</td> <td>    0.022</td> <td>    0.217</td>\n",
       "</tr>\n",
       "<tr>\n",
       "  <th>en</th>      <td>    0.0952</td> <td>    0.049</td> <td>    1.961</td> <td> 0.050</td> <td> 3.73e-05</td> <td>    0.190</td>\n",
       "</tr>\n",
       "<tr>\n",
       "  <th>fr</th>      <td>    0.0629</td> <td>    0.057</td> <td>    1.109</td> <td> 0.268</td> <td>   -0.048</td> <td>    0.174</td>\n",
       "</tr>\n",
       "<tr>\n",
       "  <th>ru</th>      <td>   -1.4121</td> <td>    0.073</td> <td>  -19.278</td> <td> 0.000</td> <td>   -1.556</td> <td>   -1.269</td>\n",
       "</tr>\n",
       "<tr>\n",
       "  <th>1</th>       <td>    0.2617</td> <td>    0.031</td> <td>    8.341</td> <td> 0.000</td> <td>    0.200</td> <td>    0.323</td>\n",
       "</tr>\n",
       "<tr>\n",
       "  <th>2</th>       <td>    0.1757</td> <td>    0.032</td> <td>    5.495</td> <td> 0.000</td> <td>    0.113</td> <td>    0.238</td>\n",
       "</tr>\n",
       "</table>"
      ],
      "text/plain": [
       "<class 'statsmodels.iolib.summary.Summary'>\n",
       "\"\"\"\n",
       "                           Logit Regression Results                           \n",
       "==============================================================================\n",
       "Dep. Variable:                clicked   No. Observations:               449037\n",
       "Model:                          Logit   Df Residuals:                   449029\n",
       "Method:                           MLE   Df Model:                            7\n",
       "Date:                Sat, 14 Nov 2020   Pseudo R-squ.:                 0.02092\n",
       "Time:                        10:36:24   Log-Likelihood:                -32791.\n",
       "converged:                       True   LL-Null:                       -33492.\n",
       "Covariance Type:            nonrobust   LLR p-value:                1.967e-298\n",
       "==============================================================================\n",
       "                 coef    std err          z      P>|z|      [0.025      0.975]\n",
       "------------------------------------------------------------------------------\n",
       "const         -4.5031      0.050    -89.955      0.000      -4.601      -4.405\n",
       "firefox        0.4495      0.025     17.657      0.000       0.400       0.499\n",
       "de             0.1192      0.050      2.392      0.017       0.022       0.217\n",
       "en             0.0952      0.049      1.961      0.050    3.73e-05       0.190\n",
       "fr             0.0629      0.057      1.109      0.268      -0.048       0.174\n",
       "ru            -1.4121      0.073    -19.278      0.000      -1.556      -1.269\n",
       "1              0.2617      0.031      8.341      0.000       0.200       0.323\n",
       "2              0.1757      0.032      5.495      0.000       0.113       0.238\n",
       "==============================================================================\n",
       "\"\"\""
      ]
     },
     "execution_count": 53,
     "metadata": {},
     "output_type": "execute_result"
    }
   ],
   "source": [
    "logs_es = logs.loc[logs['language'] != 'es']\n",
    "y = logs_es[['clicked']]\n",
    "X = pd.concat([pd.get_dummies(logs_es['browser'], drop_first=True), pd.get_dummies(logs_es['language'], drop_first=True), pd.get_dummies(logs_es['message'], drop_first=True)], axis=1) \n",
    "X = sm.add_constant(X)\n",
    "model = sm.Logit(y, X).fit()\n",
    "model.summary()"
   ]
  },
  {
   "cell_type": "markdown",
   "metadata": {},
   "source": [
    "Looking at the results for the other languages, notifications in the Russian language furthermore perform significantly worse."
   ]
  },
  {
   "cell_type": "markdown",
   "metadata": {},
   "source": [
    "### 2.2 Different Browsers"
   ]
  },
  {
   "cell_type": "markdown",
   "metadata": {},
   "source": [
    "From the coefficient on firefox, we can see that the chances of a user clicking on the notification is significantly higher than for users of Chrome. Thus, it seems like we will get better results for Firefox users.\n"
   ]
  },
  {
   "cell_type": "markdown",
   "metadata": {},
   "source": [
    "### 2.3 Performance of Different Messages"
   ]
  },
  {
   "cell_type": "code",
   "execution_count": 54,
   "metadata": {},
   "outputs": [
    {
     "name": "stdout",
     "output_type": "stream",
     "text": [
      "                             Test for Constraints                             \n",
      "==============================================================================\n",
      "                 coef    std err          z      P>|z|      [0.025      0.975]\n",
      "------------------------------------------------------------------------------\n",
      "c0             0.2737      0.041      6.695      0.000       0.194       0.354\n",
      "==============================================================================\n"
     ]
    }
   ],
   "source": [
    "r = np.zeros_like(model.params)\n",
    "r[1] = 1\n",
    "r[7] = -1\n",
    "T_test = model.t_test(r)\n",
    "print(T_test)"
   ]
  },
  {
   "cell_type": "markdown",
   "metadata": {},
   "source": [
    "We can see that the coefficients on message 1 and 2 are significantly different from each other. Additionally, since the coefficients on each of the individual variables are significant, they are also significant from the base caregory (message 0). Hence, message 1 shows the best performance to users clicking on the link after receiving the notification, followed by message 2 and then message 0.\n",
    "If we send messages to all users, we should use message 1 for best performance."
   ]
  },
  {
   "cell_type": "markdown",
   "metadata": {},
   "source": [
    "**Note: We haven't done this in class yet - we will talk about hypothesis testing next week, so it should become more clear what I'm doing here!**"
   ]
  },
  {
   "cell_type": "markdown",
   "metadata": {},
   "source": [
    "### Bonus: Number of Installations we can expect"
   ]
  },
  {
   "cell_type": "code",
   "execution_count": 55,
   "metadata": {},
   "outputs": [
    {
     "data": {
      "text/plain": [
       "319200.0"
      ]
     },
     "execution_count": 55,
     "metadata": {},
     "output_type": "execute_result"
    }
   ],
   "source": [
    "round(np.sum(model.predict(X)) * 100 * 0.5)"
   ]
  },
  {
   "cell_type": "markdown",
   "metadata": {},
   "source": [
    "If we send notifications to all of the users with the same distribution and translations we have this far, according to this model we should expect a total of 319200 installations of the app."
   ]
  },
  {
   "cell_type": "markdown",
   "metadata": {},
   "source": [
    "Below, we run a quick simulation to see what would happen if we sent all of our users message 1."
   ]
  },
  {
   "cell_type": "code",
   "execution_count": 56,
   "metadata": {},
   "outputs": [
    {
     "data": {
      "text/plain": [
       "355575.0"
      ]
     },
     "execution_count": 56,
     "metadata": {},
     "output_type": "execute_result"
    }
   ],
   "source": [
    "X_fict = X\n",
    "X_fict[1] = 1\n",
    "X_fict[2] = 0\n",
    "round(np.sum(model.predict(X_fict)) * 100 * 0.5)"
   ]
  },
  {
   "cell_type": "markdown",
   "metadata": {},
   "source": [
    "Here we could increase the number to about 356,000."
   ]
  },
  {
   "cell_type": "markdown",
   "metadata": {},
   "source": [
    "### Summary of Results"
   ]
  },
  {
   "cell_type": "markdown",
   "metadata": {},
   "source": [
    "Analyzing the data on notifications sent out to users and who clicks on the link after receiving one, we have found a number of interesting results:\n",
    "- The messages we have sent out to users differ in their performance. Overall, Message 1 shows the highest performance for users clicking on the link, followed by Message 2 and then Message 0.\n",
    "- Some of our translations seem to be having an issue. None of our users, who received the notification in Spanish language clicked on the link to install the new app. For users who received the notification in Russian language, fewer than average clicked on the link.\n",
    "- Users of Firefox were more likely to click on the link than users of Chrome, so it seems like the display mechanism in the Firebox browser is working better for us.\n",
    "- From our current data, if we send notifications out to all of our users, we could expect roughly 319,000 installations. Keep in mind, however, that this number does not account for fixing the potential issues pointed out above. If we focus on sending out Message 1 for example, we could improve our numbers. A quick simulation of sending everyone message 1 estimated about 355,000 installations."
   ]
  },
  {
   "cell_type": "code",
   "execution_count": null,
   "metadata": {},
   "outputs": [],
   "source": []
  }
 ],
 "metadata": {
  "kernelspec": {
   "display_name": "Python 3",
   "language": "python",
   "name": "python3"
  },
  "language_info": {
   "codemirror_mode": {
    "name": "ipython",
    "version": 3
   },
   "file_extension": ".py",
   "mimetype": "text/x-python",
   "name": "python",
   "nbconvert_exporter": "python",
   "pygments_lexer": "ipython3",
   "version": "3.8.5"
  }
 },
 "nbformat": 4,
 "nbformat_minor": 4
}
