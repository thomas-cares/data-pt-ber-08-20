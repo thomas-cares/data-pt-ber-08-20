{
 "cells": [
  {
   "cell_type": "markdown",
   "metadata": {},
   "source": [
    "## Challenge A: Password Validator\n",
    "\n",
    "#### Description\n",
    "Your job is to create a simple password validation function, as seen on many websites.\n",
    "\n",
    "The rules for a valid password are as follows:\n",
    "\n",
    "There needs to be at least 1 uppercase letter.\n",
    "There needs to be at least 1 lowercase letter.\n",
    "There needs to be at least 1 number.\n",
    "The password needs to be at least 8 characters long.\n",
    "\n",
    "*You are permitted to use any methods to validate the password.*"
   ]
  },
  {
   "cell_type": "code",
   "execution_count": 205,
   "metadata": {},
   "outputs": [],
   "source": [
    "import pandas as pd\n",
    "import numpy as np\n",
    "from functools import reduce\n",
    "import re\n",
    "import random\n",
    "import string"
   ]
  },
  {
   "cell_type": "code",
   "execution_count": 208,
   "metadata": {},
   "outputs": [
    {
     "name": "stdout",
     "output_type": "stream",
     "text": [
      "CREATE PASSWORD\n",
      "---\n",
      "Hi [UserName], enter the password you‘d like to go with\n",
      "Your password needs to meet these 4 criteria:\n",
      "\n",
      "(1)hold 1 uppercase letter\n",
      "(2)hold 1 lowercase letter\n",
      "(3)hold 1 digit\n",
      "(4)minimum length of 8 characters\n",
      "\n",
      "---\n",
      "thomas23_E\n",
      "---\n",
      "...checking criteria...\n",
      "---\n",
      "{'upper': True, 'lower': True, 'number': True, 'minlength': True}\n",
      "---\n",
      "BIGLY SUCCESS!\n",
      "What a tremendous password\n"
     ]
    }
   ],
   "source": [
    "#STREAMLINING CRITERA CHECK\n",
    "'''CRITERIA DICTIONARY'''\n",
    "crit_dict={'upper':False,'lower':False,'number':False,'minlength':False}\n",
    "crit_list=['(1)hold 1 uppercase letter','(2)hold 1 lowercase letter','(3)hold 1 digit','(4)minimum length of 8 characters']\n",
    "tries=0 #counts efforts to enter password\n",
    "'''---------------------------------'''\n",
    "\n",
    "'''USER INPUTS PASSWORD'''\n",
    "def enter_pwd(x):\n",
    "    tries=+1 # counts efforts to enter password\n",
    "    print(f'CREATE PASSWORD\\n---\\nHi {x}, enter the password you‘d like to go with\\nYour password needs to meet these {len(crit_dict.items())} criteria:\\n')\n",
    "    for i in range(4):\n",
    "        print(f'{crit_list[i]}')\n",
    "    print('\\n---')     \n",
    "    pwd_string=input()\n",
    "    return pwd_string\n",
    "'''---------------------------------'''\n",
    "\n",
    "'''CHECKING CRITERIA'''\n",
    "\n",
    "def crit_check(pwd_string):\n",
    "    print('---\\n...checking criteria...\\n---')\n",
    "        #number check\n",
    "    if any(i.isdigit() for i in pwd_string):\n",
    "        crit_dict['number']=True\n",
    "        #length check\n",
    "    if len(pwd_string) >= 8:\n",
    "        crit_dict['minlength'] = True\n",
    "    for i in pwd_string:\n",
    "        #uppercase check\n",
    "        if i.isupper():\n",
    "            crit_dict['upper'] = True \n",
    "        #lowercase check\n",
    "        if i.islower():\n",
    "             crit_dict['lower'] = True\n",
    "    return crit_dict\n",
    "'''---------------------------------'''\n",
    "\n",
    "'''FEEDBACK FOR USER'''\n",
    "\n",
    "def crit_feedback(crit_dict):\n",
    "    print(crit_dict)\n",
    "    if reduce(lambda a,b: a + b, crit_dict.values())==len(crit_dict.items()):\n",
    "        return print('---\\nBIGLY SUCCESS!\\nWhat a tremendous password')\n",
    "    else:\n",
    "        return print('---\\nFail! Your password is weak and so are you!\\nSAD!')\n",
    "    \n",
    "'''---------------------------------'''\n",
    "'''---PROGRAMM---'''\n",
    "username='[UserName]'\n",
    "pwd_string=enter_pwd('[UserName]')\n",
    "crit_dict=crit_check(pwd_string)\n",
    "feedback=crit_feedback(crit_dict)"
   ]
  },
  {
   "cell_type": "code",
   "execution_count": 216,
   "metadata": {},
   "outputs": [
    {
     "name": "stdout",
     "output_type": "stream",
     "text": [
      "Thomas Spitzer 1982\n"
     ]
    },
    {
     "data": {
      "text/plain": [
       "'SUCESS! Your password meets all criteria'"
      ]
     },
     "execution_count": 216,
     "metadata": {},
     "output_type": "execute_result"
    }
   ],
   "source": [
    "#WITH REGULAR EXPRESSIONS\n",
    "import re\n",
    "\n",
    "password=input()\n",
    "\n",
    "def checking(x):\n",
    "    check='valid'\n",
    "    if len(x)<=8:\n",
    "        print ('password too short')\n",
    "        check='invalid'\n",
    "    if re.search('[0-9]', x) == None:\n",
    "        print ('password lacks a number')\n",
    "        check='invalid'\n",
    "    if re.search('[a-z]', x) == None:\n",
    "        print ('lacking lower case')\n",
    "        check='invalid'\n",
    "    if re.search('[A-Z]', x) == None:\n",
    "        print ('lacking upper case')\n",
    "        check='invalid'\n",
    "    if check=='invalid':\n",
    "        print('Password failed to process, try again')\n",
    "    else:\n",
    "            return 'SUCESS! Your password meets all criteria'\n",
    "checking(password)\n"
   ]
  },
  {
   "cell_type": "markdown",
   "metadata": {},
   "source": [
    "## Challenge B: Credit Card Validator\n",
    "\n",
    "#### Description\n",
    "\n",
    "Your task is to write a program which reads credit card number prints the validation result ‘Valid’ or ‘Invalid’.\n",
    "\n",
    "A valid credit card has following features:\n",
    "\n",
    "- It should start with 4, 5 or 6\n",
    "- It should have exactly 16 digits\n",
    "- It should only consist of digits (0-9)\n",
    "- It may have digits in groups of 4 and separated by one hyphen \"-\"\n",
    "- It should NOT use any other separator like ‘ ’,‘_’, etc.\n",
    "- It should NOT have 4 or more consecutive repeated digits\n",
    "\n",
    "Valid Credit Card Numbers:\n",
    "1. 4263525778615786\n",
    "2. 5535535535559555\n",
    "3. 6344-2389-7542-9163\n",
    "\n",
    "Invalid Credit Card Numbers:\n",
    "1. 42536258796157867       \n",
    "2. 66266666626662666       \n",
    "3. 5122-2368-7954 -3214   \n",
    "4. 44244x4424442444       \n",
    "5. 0525362587961578"
   ]
  },
  {
   "cell_type": "code",
   "execution_count": null,
   "metadata": {},
   "outputs": [],
   "source": [
    "# your code here \n",
    "card_num=str(input())\n",
    "def check (x)\n",
    "if (x[0] in ['4','5,'6']) & (len(x.replace('-',''))==16) & (set.findall([\\W]', x')) in [set()]\n",
    "             \n",
    "check(card_num)"
   ]
  },
  {
   "cell_type": "markdown",
   "metadata": {},
   "source": [
    "## Challenge C: Multiplication Table\n",
    "\n",
    "#### Description\n",
    "    \n",
    "Your task, is to create a function which returns a **NxN multiplication table**, of size N provided as a function argument.\n",
    "\n",
    "for example, when given size is 3:\n",
    "\n",
    "1 2 3\n",
    "\n",
    "2 4 6\n",
    "\n",
    "3 6 9\n",
    "\n",
    "So for the given example, the return value should be: [[1,2,3],[2,4,6],[3,6,9]]"
   ]
  },
  {
   "cell_type": "code",
   "execution_count": 32,
   "metadata": {},
   "outputs": [
    {
     "name": "stdout",
     "output_type": "stream",
     "text": [
      "3\n",
      "[[1. 2. 3.]\n",
      " [2. 4. 6.]\n",
      " [3. 6. 9.]]\n"
     ]
    }
   ],
   "source": [
    "size=int(input())\n",
    "x = np.ones((size,size))\n",
    "\n",
    "for i in range(size):\n",
    "    x[i]= np.arange(1,(size+1))*(i+1)\n",
    "                    \n",
    "print (x)"
   ]
  },
  {
   "cell_type": "markdown",
   "metadata": {},
   "source": [
    "## Challenge D: ID Assignment\n",
    "\n",
    "#### Description\n",
    "\n",
    "a) You work in a company with 100 people - to start, please create a list of people ranging from Person 1 to Person 100. For company purposes, each of these people is identified with a Personal ID, which is a combination of 2 uppercase letters and a random number of 5 digits. For each person, generate a random ID, and store it in a dictionary alongside their name (for example ('Person 5': 'AB73648')). Then sort the dictionary according to the values of their Personal IDs.\n",
    "\n",
    "b) One month later, your company changes the ID format for every employee - from now on, every person will have an ID that consists of only letters. In order to convert them, every letter in the employee ID should be replaced by the corresponding uppercase letter in the alphabeth. Please write a function that accomplishes this change"
   ]
  },
  {
   "cell_type": "code",
   "execution_count": 186,
   "metadata": {},
   "outputs": [
    {
     "name": "stdout",
     "output_type": "stream",
     "text": [
      "{'Person 87': 'AA15364', 'Person 14': 'AC51449', 'Person 89': 'AD92157', 'Person 84': 'AS17445', 'Person 9': 'BD41828', 'Person 8': 'CT65245', 'Person 53': 'CV32014', 'Person 48': 'CW13763', 'Person 71': 'CY42370', 'Person 10': 'DA42344', 'Person 52': 'DF66244', 'Person 7': 'DL65992', 'Person 23': 'DT91305', 'Person 58': 'EF15516', 'Person 92': 'EI45464', 'Person 22': 'ES54935', 'Person 86': 'EU48520', 'Person 70': 'FD16655', 'Person 25': 'FI61769', 'Person 16': 'FM77735', 'Person 6': 'GH68829', 'Person 11': 'GI27273', 'Person 50': 'GX93057', 'Person 91': 'HO89658', 'Person 72': 'HV17794', 'Person 46': 'II56926', 'Person 38': 'IL35370', 'Person 80': 'IS49674', 'Person 24': 'IT40386', 'Person 21': 'JH46521', 'Person 34': 'JI36609', 'Person 82': 'JR12333', 'Person 1': 'JY46049', 'Person 74': 'KA75484', 'Person 88': 'KU46643', 'Person 56': 'KX45640', 'Person 27': 'LB67412', 'Person 67': 'LO76775', 'Person 41': 'MC33717', 'Person 30': 'MI85335', 'Person 73': 'MN42656', 'Person 3': 'MP11750', 'Person 79': 'MS74923', 'Person 42': 'MV59515', 'Person 57': 'MY62631', 'Person 26': 'ND88310', 'Person 93': 'NE26316', 'Person 28': 'NH20256', 'Person 59': 'NJ91738', 'Person 63': 'NK90470', 'Person 76': 'NL90704', 'Person 29': 'NP28069', 'Person 20': 'NS44662', 'Person 51': 'NT46518', 'Person 68': 'NU33194', 'Person 49': 'OG41519', 'Person 54': 'OJ87634', 'Person 60': 'OT59798', 'Person 66': 'PJ67568', 'Person 61': 'PM18575', 'Person 47': 'PW85452', 'Person 12': 'QF59486', 'Person 39': 'QJ92988', 'Person 45': 'QN19039', 'Person 5': 'QO37883', 'Person 90': 'QR54256', 'Person 17': 'RC25368', 'Person 4': 'RE73102', 'Person 69': 'RX40464', 'Person 55': 'SA46090', 'Person 31': 'SF11702', 'Person 36': 'SG52542', 'Person 77': 'SX93618', 'Person 75': 'TU93780', 'Person 37': 'TV56977', 'Person 2': 'TW94435', 'Person 40': 'UA27567', 'Person 64': 'UM37643', 'Person 81': 'UO15502', 'Person 65': 'UW32723', 'Person 19': 'WG47027', 'Person 15': 'WJ14593', 'Person 44': 'WQ86090', 'Person 85': 'WR65010', 'Person 78': 'XB78926', 'Person 18': 'XL87644', 'Person 83': 'XM87711', 'Person 43': 'XY26686', 'Person 32': 'YJ64117', 'Person 62': 'YQ67848', 'Person 33': 'YS30847', 'Person 35': 'YT72196', 'Person 13': 'YU80746'}\n",
      "93\n"
     ]
    }
   ],
   "source": [
    "# CREATE DICTIONARY\n",
    "\n",
    "\n",
    "#CREAT DICTONARY WITH PERSON NUMBERS AS KEYS and AN ID FROM CAPITAL LETTERS AND DIGITS AS IDs\n",
    "#Person 1 - Person 100 List\n",
    "empl_list=[f'Person'+' '+str(i) for i in range(1,101)]\n",
    "#Create IDs\n",
    "char_set = set([string.ascii_uppercase[np.random.randint(25)]+ string.ascii_uppercase[np.random.randint(25)]for x in range(100)])\n",
    "numbers_list=[random.randint(10000, 99999) for x in range (len(empl_list))]\n",
    "id_list=[(lambda a,b: f'{a}{b}')(a,b) for (a,b) in zip(char_set,numbers_list)]\n",
    "#Create dictionary\n",
    "empl_dict={}\n",
    "empl_dict=dict(zip(empl_list,id_list))\n",
    "#Sort by value\n",
    "empl_dict=dict(sorted(empl_dict.items(), key=lambda x: x[1]))\n",
    "print(empl_dict)\n",
    "print(len(empl_dict))"
   ]
  },
  {
   "cell_type": "code",
   "execution_count": 183,
   "metadata": {},
   "outputs": [
    {
     "name": "stdout",
     "output_type": "stream",
     "text": [
      "['ABXT', 'ACYX', 'AEQM', 'AFKB', 'AIKK', 'APGQ', 'BXYI', 'BYSU', 'CIFC', 'CVJO', 'CXVV', 'DGXA', 'DWNM', 'EDQH', 'ELEQ', 'EUEJ', 'FBRC', 'FLED', 'FMXX', 'FPMP', 'FWPD', 'GHVN', 'GJFG', 'GLDO', 'GPSU', 'GTYB', 'HGFQ', 'IPHV', 'IYRH', 'JALS', 'JMCV', 'JNUY', 'JPPJ', 'KEWC', 'KLHU', 'KPJQ', 'LDSU', 'LHHB', 'LIGP', 'LODD', 'LXLK', 'LYGA', 'MDAX', 'MGRI', 'MVSB', 'NAAH', 'NEWG', 'NLEI', 'NOYP', 'NPHO', 'NVLN', 'NXRM', 'OERY', 'OMGW', 'ORNT', 'OYAA', 'PBRI', 'PKDW', 'QGGU', 'QMLU', 'QSVI', 'RCMM', 'RHKH', 'ROEC', 'RUFO', 'SBUA', 'SJYC', 'SOGV', 'SQES', 'SRGY', 'SYBU', 'TMJW', 'TUHM', 'UCJO', 'UEOO', 'UMAW', 'UOSU', 'VHHF', 'VIIF', 'VJTW', 'VPXH', 'VUOE', 'WAWJ', 'WBRM', 'WDUI', 'WUFA', 'XDQJ', 'XFPN', 'XVEW', 'YJYP', 'YKCE', 'YRBA', 'YSOG']\n",
      "93\n"
     ]
    }
   ],
   "source": [
    "#CHANGE ID: Now only 4 letters. Existing 2 letters should remain.\n",
    "value_list=list(empl_dict.values())\n",
    "new_id_value=[value_list[i][0:2]+string.ascii_uppercase[np.random.randint(25)]+string.ascii_uppercase[np.random.randint(25)] for i in range(len(value_list))]\n",
    "print(new_id_value)"
   ]
  },
  {
   "cell_type": "code",
   "execution_count": 195,
   "metadata": {},
   "outputs": [
    {
     "name": "stdout",
     "output_type": "stream",
     "text": [
      "{'Person 87': 'ABXT', 'Person 14': 'ACYX', 'Person 89': 'AEQM', 'Person 84': 'AFKB', 'Person 9': 'AIKK', 'Person 8': 'APGQ', 'Person 53': 'BXYI', 'Person 48': 'BYSU', 'Person 71': 'CIFC', 'Person 10': 'CVJO', 'Person 52': 'CXVV', 'Person 7': 'DGXA', 'Person 23': 'DWNM', 'Person 58': 'EDQH', 'Person 92': 'ELEQ', 'Person 22': 'EUEJ', 'Person 86': 'FBRC', 'Person 70': 'FLED', 'Person 25': 'FMXX', 'Person 16': 'FPMP', 'Person 6': 'FWPD', 'Person 11': 'GHVN', 'Person 50': 'GJFG', 'Person 91': 'GLDO', 'Person 72': 'GPSU', 'Person 46': 'GTYB', 'Person 38': 'HGFQ', 'Person 80': 'IPHV', 'Person 24': 'IYRH', 'Person 21': 'JALS', 'Person 34': 'JMCV', 'Person 82': 'JNUY', 'Person 1': 'JPPJ', 'Person 74': 'KEWC', 'Person 88': 'KLHU', 'Person 56': 'KPJQ', 'Person 27': 'LDSU', 'Person 67': 'LHHB', 'Person 41': 'LIGP', 'Person 30': 'LODD', 'Person 73': 'LXLK', 'Person 3': 'LYGA', 'Person 79': 'MDAX', 'Person 42': 'MGRI', 'Person 57': 'MVSB', 'Person 26': 'NAAH', 'Person 93': 'NEWG', 'Person 28': 'NLEI', 'Person 59': 'NOYP', 'Person 63': 'NPHO', 'Person 76': 'NVLN', 'Person 29': 'NXRM', 'Person 20': 'OERY', 'Person 51': 'OMGW', 'Person 68': 'ORNT', 'Person 49': 'OYAA', 'Person 54': 'PBRI', 'Person 60': 'PKDW', 'Person 66': 'QGGU', 'Person 61': 'QMLU', 'Person 47': 'QSVI', 'Person 12': 'RCMM', 'Person 39': 'RHKH', 'Person 45': 'ROEC', 'Person 5': 'RUFO', 'Person 90': 'SBUA', 'Person 17': 'SJYC', 'Person 4': 'SOGV', 'Person 69': 'SQES', 'Person 55': 'SRGY', 'Person 31': 'SYBU', 'Person 36': 'TMJW', 'Person 77': 'TUHM', 'Person 75': 'UCJO', 'Person 37': 'UEOO', 'Person 2': 'UMAW', 'Person 40': 'UOSU', 'Person 64': 'VHHF', 'Person 81': 'VIIF', 'Person 65': 'VJTW', 'Person 19': 'VPXH', 'Person 15': 'VUOE', 'Person 44': 'WAWJ', 'Person 85': 'WBRM', 'Person 78': 'WDUI', 'Person 18': 'WUFA', 'Person 83': 'XDQJ', 'Person 43': 'XFPN', 'Person 32': 'XVEW', 'Person 62': 'YJYP', 'Person 33': 'YKCE', 'Person 35': 'YRBA', 'Person 13': 'YSOG'}\n"
     ]
    }
   ],
   "source": [
    "for a,b in zip(empl_dict.keys(),new_id_value):\n",
    "    empl_dict[a]=b\n",
    "print(empl_dict)"
   ]
  }
 ],
 "metadata": {
  "kernelspec": {
   "display_name": "Python 3",
   "language": "python",
   "name": "python3"
  }
 },
 "nbformat": 4,
 "nbformat_minor": 2
}
