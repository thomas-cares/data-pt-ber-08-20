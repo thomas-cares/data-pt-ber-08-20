{
 "cells": [
  {
   "cell_type": "markdown",
   "metadata": {},
   "source": [
    "## Challenge A: Password Validator\n",
    "\n",
    "#### Description\n",
    "Your job is to create a simple password validation function, as seen on many websites.\n",
    "\n",
    "The rules for a valid password are as follows:\n",
    "\n",
    "There needs to be at least 1 uppercase letter.\n",
    "There needs to be at least 1 lowercase letter.\n",
    "There needs to be at least 1 number.\n",
    "The password needs to be at least 8 characters long.\n",
    "\n",
    "*You are permitted to use any methods to validate the password.*"
   ]
  },
  {
   "cell_type": "code",
   "execution_count": 1,
   "metadata": {},
   "outputs": [],
   "source": [
    "import pandas as pd\n",
    "import numpy as np\n",
    "from functools import reduce"
   ]
  },
  {
   "cell_type": "code",
   "execution_count": 16,
   "metadata": {},
   "outputs": [
    {
     "name": "stdout",
     "output_type": "stream",
     "text": [
      "CREATE PASSWORD\n",
      "---\n",
      "Hi [UserName], enter the password you‘d like to go with\n",
      "Your password needs to contain:\n",
      "(1)1 uppercase letter \n",
      "(2)1 lowercase letter\n",
      "(3)1 number\n",
      "---\n",
      "Thomas23\n",
      "---\n",
      "...checking criteria...\n",
      "---\n",
      "{'upper': True, 'lower': True, 'number': True, 'minlength': True}\n",
      "---\n",
      "GOOD!\n",
      "Your password has been validated\n"
     ]
    }
   ],
   "source": [
    "#STREAMLINING CRITERA CHECK\n",
    "'''CRITERIA DICTIONARY'''\n",
    "crit_dict={'upper':False,'lower':False,'number':False,'minlength':False}\n",
    "tries=0 #counts efforts to enter password\n",
    "'''---------------------------------'''\n",
    "\n",
    "'''USER INPUTS PASSWORD'''\n",
    "def enter_pwd(x):\n",
    "    tries=+1 # counts efforts to enter password\n",
    "    print(f'CREATE PASSWORD\\n---\\nHi {x}, enter the password you‘d like to go with\\nYour password needs to contain:\\n(1)1 uppercase letter \\n(2)1 lowercase letter\\n(3)1 number\\n---')\n",
    "    pwd_string=input()\n",
    "    return pwd_string\n",
    "'''---------------------------------'''\n",
    "\n",
    "'''CHECKING CRITERIA'''\n",
    "\n",
    "def crit_check(pwd_string):\n",
    "    print('---\\n...checking criteria...\\n---')\n",
    "        #number check\n",
    "    if any(i.isdigit() for i in pwd_string):\n",
    "        crit_dict['number']=True\n",
    "        #length check\n",
    "    if len(pwd_string) >= 8:\n",
    "        crit_dict['minlength'] = True\n",
    "    for i in pwd_string:\n",
    "        #uppercase check\n",
    "        if i.isupper():\n",
    "            crit_dict['upper'] = True \n",
    "        #lowercase check\n",
    "        if i.islower():\n",
    "             crit_dict['lower'] = True\n",
    "    return crit_dict\n",
    "'''---------------------------------'''\n",
    "\n",
    "'''FEEDBACK FOR USER'''\n",
    "\n",
    "def crit_feedback(crit_dict):\n",
    "    print(crit_dict)\n",
    "    if reduce(lambda a,b: a + b, crit_dict.values())==4:\n",
    "        return print('---\\nGOOD!\\nYour password has been validated')\n",
    "    else:\n",
    "        return print('---\\nNOPE!\\nYour password failed to meet the criteria\\nTry again!')\n",
    "    \n",
    "'''---------------------------------'''\n",
    "'''---PROGRAMM---'''\n",
    "username='[UserName]'\n",
    "pwd_string=enter_pwd('[UserName]')\n",
    "crit_dict=crit_check(pwd_string)\n",
    "feedback=crit_feedback(crit_dict)"
   ]
  },
  {
   "cell_type": "code",
   "execution_count": 6,
   "metadata": {},
   "outputs": [
    {
     "ename": "TypeError",
     "evalue": "keys() takes no arguments (1 given)",
     "output_type": "error",
     "traceback": [
      "\u001b[0;31m---------------------------------------------------------------------------\u001b[0m",
      "\u001b[0;31mTypeError\u001b[0m                                 Traceback (most recent call last)",
      "\u001b[0;32m<ipython-input-6-2eb7057abd47>\u001b[0m in \u001b[0;36m<module>\u001b[0;34m\u001b[0m\n\u001b[1;32m      1\u001b[0m \u001b[0mcrit_dict\u001b[0m\u001b[0;34m=\u001b[0m\u001b[0;34m{\u001b[0m\u001b[0;34m'upper'\u001b[0m\u001b[0;34m:\u001b[0m\u001b[0;32mFalse\u001b[0m\u001b[0;34m,\u001b[0m\u001b[0;34m'lower'\u001b[0m\u001b[0;34m:\u001b[0m\u001b[0;32mFalse\u001b[0m\u001b[0;34m,\u001b[0m\u001b[0;34m'number'\u001b[0m\u001b[0;34m:\u001b[0m\u001b[0;32mFalse\u001b[0m\u001b[0;34m,\u001b[0m\u001b[0;34m'minlength'\u001b[0m\u001b[0;34m:\u001b[0m\u001b[0;32mFalse\u001b[0m\u001b[0;34m}\u001b[0m\u001b[0;34m\u001b[0m\u001b[0;34m\u001b[0m\u001b[0m\n\u001b[0;32m----> 2\u001b[0;31m \u001b[0mcrit_dict\u001b[0m\u001b[0;34m.\u001b[0m\u001b[0mkeys\u001b[0m\u001b[0;34m(\u001b[0m\u001b[0;32mFalse\u001b[0m\u001b[0;34m)\u001b[0m\u001b[0;34m\u001b[0m\u001b[0;34m\u001b[0m\u001b[0m\n\u001b[0m",
      "\u001b[0;31mTypeError\u001b[0m: keys() takes no arguments (1 given)"
     ]
    }
   ],
   "source": [
    "crit_dict={'upper':False,'lower':False,'number':False,'minlength':False}\n",
    "crit_dict.keys(False)"
   ]
  },
  {
   "cell_type": "code",
   "execution_count": 2,
   "metadata": {},
   "outputs": [
    {
     "name": "stdout",
     "output_type": "stream",
     "text": [
      "CREATE PASSWORD\n",
      "---\n",
      "Hi [UserName], enter the password you‘d like to go with\n",
      "Your password needs to contain:\n",
      "(1)1 uppercase letter \n",
      "(2)1 lowercase letter\n",
      "(3)1 number\n",
      "---\n",
      "Thomas 23\n",
      "---\n",
      "...checking criteria...\n",
      "---\n",
      "{'upper': True, 'lower': True, 'number': True, 'minlength': True}\n"
     ]
    }
   ],
   "source": [
    "#CRITERIA CHECK WITH LOOPS OVER LOOPS\n",
    "'''CRITERIA DICTIONARY'''\n",
    "crit={'upper':False,'lower':False,'number':False,'minlength':False}\n",
    "\n",
    "'''USER INPUTS PASSWORD'''\n",
    "def enter_pwd(x):\n",
    "    print(f'CREATE PASSWORD\\n---\\nHi {x}, enter the password you‘d like to go with\\nYour password needs to contain:\\n(1)1 uppercase letter \\n(2)1 lowercase letter\\n(3)1 number\\n---')\n",
    "    pwd_string=input()\n",
    "    return pwd_string\n",
    "\n",
    "def criteria_check(pwd_string):\n",
    "    print('---\\n...checking criteria...\\n---')\n",
    "        #number check\n",
    "    if any(i.isdigit() for i in pwd_string)==True:\n",
    "        crit['number']=True\n",
    "        #length check\n",
    "    if len(pwd_string) >= 8:\n",
    "        crit['minlength'] = True\n",
    "    for i in pwd_string:\n",
    "        #uppercase check\n",
    "        if i.isupper():\n",
    "            crit['upper'] = True \n",
    "        #lowercase check\n",
    "        if i.islower():\n",
    "             crit['lower'] = True\n",
    "    return print(crit)\n",
    "\n",
    "pwd_string=enter_pwd('[UserName]')\n",
    "crit=criteria_check(pwd_string)"
   ]
  },
  {
   "cell_type": "code",
   "execution_count": null,
   "metadata": {},
   "outputs": [],
   "source": []
  },
  {
   "cell_type": "code",
   "execution_count": null,
   "metadata": {},
   "outputs": [],
   "source": []
  },
  {
   "cell_type": "code",
   "execution_count": null,
   "metadata": {},
   "outputs": [],
   "source": [
    "# your code here\n",
    "#PACKAGES\n",
    "\n",
    "'''CRITERIA DICTIONARY'''\n",
    "criteria={'upper':False,'lower':False,'number':False,'minlength':False}\n",
    "\n",
    "'''USER INPUTS PASSWORD'''\n",
    "def enter_pwd(x):\n",
    "    print(f'CREATE PASSWORD\\n---\\nHi {x}, enter the password you‘d like to go with\\nPassword needs to contain:\\n(1)1 uppercase letter \\n(2)1 lowercase letter\\n(3)1 number\\n---')\n",
    "    pwd_string=input()\n",
    "    return pwd_string\n",
    "\n",
    "'''CHECKING ALL 3 CRITERIA'''\n",
    "def criteria_check(pwd_string):\n",
    "    print('---\\n...starting criteria check...\\n---')\n",
    "        #number check\n",
    "    if any(i.isdigit() for i in pwd_string)==True:\n",
    "        criteria['number']=True\n",
    "    #length check\n",
    "    if len(pwd_string) >= 8:\n",
    "        criteria['minlength'] = True\n",
    "    for i in pwd_string:\n",
    "        #uppercase check\n",
    "        if i.isupper():\n",
    "            criteria['upper'] = True \n",
    "        #lowercase check\n",
    "        if i.islower():\n",
    "             criteria['lower'] = True\n",
    "    return print(criteria)\n",
    "\n",
    "'''OUTPUT'''\n",
    "\n",
    "\n",
    "'''PROGRAMM'''      \n",
    "pwd_string=enter_pwd('user')\n",
    "criteria=criteria_check(pwd_string)"
   ]
  },
  {
   "cell_type": "markdown",
   "metadata": {},
   "source": [
    "## Challenge B: Credit Card Validator\n",
    "\n",
    "#### Description\n",
    "\n",
    "Your task is to write a program which reads credit card number prints the validation result ‘Valid’ or ‘Invalid’.\n",
    "\n",
    "A valid credit card has following features:\n",
    "\n",
    "- It should start with 4, 5 or 6\n",
    "- It should have exactly 16 digits\n",
    "- It should only consist of digits (0-9)\n",
    "- It may have digits in groups of 4 and separated by one hyphen \"-\"\n",
    "- It should NOT use any other separator like ‘ ’,‘_’, etc.\n",
    "- It should NOT have 4 or more consecutive repeated digits\n",
    "\n",
    "Valid Credit Card Numbers:\n",
    "1. 4263525778615786\n",
    "2. 5535535535559555\n",
    "3. 6344-2389-7542-9163\n",
    "\n",
    "Invalid Credit Card Numbers:\n",
    "1. 42536258796157867       \n",
    "2. 66266666626662666       \n",
    "3. 5122-2368-7954 -3214   \n",
    "4. 44244x4424442444       \n",
    "5. 0525362587961578"
   ]
  },
  {
   "cell_type": "code",
   "execution_count": 2,
   "metadata": {},
   "outputs": [],
   "source": [
    "# your code here \n"
   ]
  },
  {
   "cell_type": "markdown",
   "metadata": {},
   "source": [
    "## Challenge C: Multiplication Table\n",
    "\n",
    "#### Description\n",
    "    \n",
    "Your task, is to create a function which returns a **NxN multiplication table**, of size N provided as a function argument.\n",
    "\n",
    "for example, when given size is 3:\n",
    "\n",
    "1 2 3\n",
    "\n",
    "2 4 6\n",
    "\n",
    "3 6 9\n",
    "\n",
    "So for the given example, the return value should be: [[1,2,3],[2,4,6],[3,6,9]]"
   ]
  },
  {
   "cell_type": "code",
   "execution_count": 3,
   "metadata": {},
   "outputs": [],
   "source": [
    "# your code here\n"
   ]
  },
  {
   "cell_type": "markdown",
   "metadata": {},
   "source": [
    "## Challenge D: ID Assignment\n",
    "\n",
    "#### Description\n",
    "\n",
    "a) You work in a company with 100 people - to start, please create a list of people ranging from Person 1 to Person 100. For company purposes, each of these people is identified with a Personal ID, which is a combination of 2 uppercase letters and a random number of 5 digits. For each person, generate a random ID, and store it in a dictionary alongside their name (for example ('Person 5': 'AB73648')). Then sort the dictionary according to the values of their Personal IDs.\n",
    "\n",
    "b) One month later, your company changes the ID format for every employee - from now on, every person will have an ID that consists of only letters. In order to convert them, every letter in the employee ID should be replaced by the corresponding uppercase letter in the alphabeth. Please write a function that accomplishes this change"
   ]
  },
  {
   "cell_type": "code",
   "execution_count": 4,
   "metadata": {},
   "outputs": [],
   "source": [
    "# your code here\n"
   ]
  }
 ],
 "metadata": {
  "kernelspec": {
   "display_name": "Python 3",
   "language": "python",
   "name": "python3"
  },
  "language_info": {
   "codemirror_mode": {
    "name": "ipython",
    "version": 3
   },
   "file_extension": ".py",
   "mimetype": "text/x-python",
   "name": "python",
   "nbconvert_exporter": "python",
   "pygments_lexer": "ipython3",
   "version": "3.8.5"
  }
 },
 "nbformat": 4,
 "nbformat_minor": 2
}
