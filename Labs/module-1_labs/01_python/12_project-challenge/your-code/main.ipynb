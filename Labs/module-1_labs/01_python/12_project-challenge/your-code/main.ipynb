{
 "cells": [
  {
   "cell_type": "markdown",
   "metadata": {},
   "source": [
    "## Challenge A: Password Validator\n",
    "\n",
    "#### Description\n",
    "Your job is to create a simple password validation function, as seen on many websites.\n",
    "\n",
    "The rules for a valid password are as follows:\n",
    "\n",
    "There needs to be at least 1 uppercase letter.\n",
    "There needs to be at least 1 lowercase letter.\n",
    "There needs to be at least 1 number.\n",
    "The password needs to be at least 8 characters long.\n",
    "\n",
    "*You are permitted to use any methods to validate the password.*"
   ]
  },
  {
   "cell_type": "code",
   "execution_count": 1,
   "metadata": {},
   "outputs": [],
   "source": [
    "import pandas as pd\n",
    "import numpy as np\n",
    "from functools import reduce\n",
    "import re\n",
    "import random\n",
    "import string"
   ]
  },
  {
   "cell_type": "code",
   "execution_count": 2,
   "metadata": {},
   "outputs": [
    {
     "name": "stdout",
     "output_type": "stream",
     "text": [
      "CREATE PASSWORD\n",
      "---\n",
      "Hi [UserName], enter the password you‘d like to go with\n",
      "Your password needs to meet these 4 criteria:\n",
      "\n",
      "(1)hold 1 uppercase letter\n",
      "(2)hold 1 lowercase letter\n",
      "(3)hold 1 digit\n",
      "(4)minimum length of 8 characters\n",
      "\n",
      "---\n",
      "Thomas2345\n",
      "---\n",
      "...checking criteria...\n",
      "---\n",
      "{'upper': True, 'lower': True, 'number': True, 'minlength': True}\n",
      "---\n",
      "BIGLY SUCCESS!\n",
      "What a tremendous password\n"
     ]
    }
   ],
   "source": [
    "'''CRITERIA DICTIONARY'''\n",
    "crit_dict={'upper':False,'lower':False,'number':False,'minlength':False}\n",
    "crit_list=['(1)hold 1 uppercase letter','(2)hold 1 lowercase letter','(3)hold 1 digit','(4)minimum length of 8 characters']\n",
    "tries=0 #counts efforts to enter password\n",
    "'''---------------------------------'''\n",
    "    \n",
    "\n",
    "'''USER INPUTS PASSWORD'''\n",
    "def enter_pwd(x):\n",
    "    print(f'CREATE PASSWORD\\n---\\nHi {x}, enter the password you‘d like to go with\\nYour password needs to meet these {len(crit_dict.items())} criteria:\\n')\n",
    "    for i in range(4):\n",
    "        print(f'{crit_list[i]}')\n",
    "    print('\\n---')     \n",
    "    pwd_string=input()\n",
    "    return pwd_string\n",
    "'''---------------------------------'''\n",
    "\n",
    "'''CHECKING CRITERIA'''\n",
    "\n",
    "def crit_check(pwd_string):\n",
    "    print('---\\n...checking criteria...\\n---')\n",
    "        #number check\n",
    "    if any(i.isdigit() for i in pwd_string):\n",
    "        crit_dict['number']=True\n",
    "        #length check\n",
    "    if len(pwd_string) >= 8:\n",
    "        crit_dict['minlength'] = True\n",
    "    for i in pwd_string:\n",
    "        #uppercase check\n",
    "        if i.isupper():\n",
    "            crit_dict['upper'] = True \n",
    "        #lowercase check\n",
    "        if i.islower():\n",
    "             crit_dict['lower'] = True\n",
    "    return crit_dict\n",
    "'''---------------------------------'''\n",
    "\n",
    "'''FEEDBACK FOR USER'''\n",
    "\n",
    "def crit_feedback(crit_dict):\n",
    "    print(crit_dict)\n",
    "    if reduce(lambda a,b: a + b, crit_dict.values())==len(crit_dict.items()):\n",
    "        return print('---\\nBIGLY SUCCESS!\\nWhat a tremendous password')\n",
    "    else:\n",
    "        return print('---\\nFail! Your password is weak and so are you!\\nSAD!')\n",
    "    \n",
    "'''---------------------------------'''\n",
    "'''---PROGRAMM---'''\n",
    "username='[UserName]'\n",
    "pwd_string=enter_pwd('[UserName]')\n",
    "crit_dict=crit_check(pwd_string)\n",
    "feedback=crit_feedback(crit_dict)"
   ]
  },
  {
   "cell_type": "code",
   "execution_count": 3,
   "metadata": {},
   "outputs": [
    {
     "name": "stdout",
     "output_type": "stream",
     "text": [
      "thomas2345\n",
      "lacking upper case\n",
      "FAILED! Password failed to process, try again\n"
     ]
    }
   ],
   "source": [
    "#WITH REGULAR EXPRESSIONS\n",
    "import re\n",
    "\n",
    "password=input()\n",
    "\n",
    "def checking(x):\n",
    "    check='valid'\n",
    "    if len(x)<=8:\n",
    "        print ('password too short')\n",
    "        check='invalid'\n",
    "    if re.search('[0-9]', x) == None:\n",
    "        print ('password lacks a number')\n",
    "        check='invalid'\n",
    "    if re.search('[a-z]', x) == None:\n",
    "        print ('lacking lower case')\n",
    "        check='invalid'\n",
    "    if re.search('[A-Z]', x) == None:\n",
    "        print ('lacking upper case')\n",
    "        check='invalid'\n",
    "    if check=='invalid':\n",
    "        print('FAILED! Password failed to process, try again')\n",
    "    else:\n",
    "            return 'SUCCESS! Your password meets all criteria'\n",
    "checking(password)\n"
   ]
  },
  {
   "cell_type": "markdown",
   "metadata": {},
   "source": [
    "## Challenge B: Credit Card Validator\n",
    "\n",
    "#### Description\n",
    "\n",
    "Your task is to write a program which reads credit card number prints the validation result ‘Valid’ or ‘Invalid’.\n",
    "\n",
    "A valid credit card has following features:\n",
    "\n",
    "- It should start with 4, 5 or 6\n",
    "- It should have exactly 16 digits\n",
    "- It should only consist of digits (0-9)\n",
    "- It may have digits in groups of 4 and separated by one hyphen \"-\"\n",
    "- It should NOT use any other separator like ‘ ’,‘_’, etc.\n",
    "- It should NOT have 4 or more consecutive repeated digits\n",
    "\n",
    "Valid Credit Card Numbers:\n",
    "1. 4263525778615786\n",
    "2. 5535535535559555\n",
    "3. 6344-2389-7542-9163\n",
    "\n",
    "Invalid Credit Card Numbers:\n",
    "1. 42536258796157867       \n",
    "2. 66266666626662666       \n",
    "3. 5122-2368-7954 -3214   \n",
    "4. 44244x4424442444       \n",
    "5. 0525362587961578"
   ]
  },
  {
   "cell_type": "code",
   "execution_count": 16,
   "metadata": {
    "scrolled": true
   },
   "outputs": [
    {
     "name": "stdout",
     "output_type": "stream",
     "text": [
      "Enter your card number6344-4489-7542-9163\n",
      "VALID\n"
     ]
    }
   ],
   "source": [
    "# your code here \n",
    "#my code wouldnt be able to identfy a 4 digit repetition across a hyphon\n",
    "card_num=str(input('Enter your card number'))\n",
    "\n",
    "def check (x):\n",
    "    if (x[0] in ['4','5','6']) & (len(x.replace('-',''))==16) & (x.isnumeric()) & (re.search('[\\W]', x) is None) or (re.search('\\d\\d\\d\\d-\\d\\d\\d\\d-\\d\\d\\d\\d-\\d\\d\\d\\d', x)):\n",
    "        print('VALID')\n",
    "    else:\n",
    "        print('INVALID')\n",
    "        \n",
    "                   \n",
    "check(card_num)"
   ]
  },
  {
   "cell_type": "code",
   "execution_count": 8,
   "metadata": {},
   "outputs": [],
   "source": [
    "#SOLUTION CHRISTINA\n",
    "\n",
    "def validate_cc(x):\n",
    "    import re\n",
    "    if (x[0] in ['4', '5', '6']) & (len(x.replace('-', ''))==16) & (set(re.findall('[\\W]', x)) in [set(), {'-'}]) & ((x.isnumeric()) or (not (not re.search('\\d\\d\\d\\d-\\d\\d\\d\\d-\\d\\d\\d\\d-\\d\\d\\d\\d', x)))) & (not[re.findall(str(i)*5, x.replace('-', '')) for i in range(10)] == [[]]):\n",
    "        print(\"Thank you! All good.\")\n",
    "        return True\n",
    "    else:\n",
    "        print(\"This number is not a valid credit card number.\")\n",
    "        return False"
   ]
  },
  {
   "cell_type": "code",
   "execution_count": null,
   "metadata": {},
   "outputs": [],
   "source": [
    "6344-4489-7542-9163"
   ]
  },
  {
   "cell_type": "code",
   "execution_count": 9,
   "metadata": {},
   "outputs": [
    {
     "name": "stdout",
     "output_type": "stream",
     "text": [
      "Please type your credit card number: 4263525778615786\n",
      "Thank you! All good.\n"
     ]
    },
    {
     "data": {
      "text/plain": [
       "True"
      ]
     },
     "execution_count": 9,
     "metadata": {},
     "output_type": "execute_result"
    }
   ],
   "source": [
    "cc = input(\"Please type your credit card number: \")\n",
    "validate_cc(cc)"
   ]
  },
  {
   "cell_type": "markdown",
   "metadata": {},
   "source": [
    "## Challenge C: Multiplication Table\n",
    "\n",
    "#### Description\n",
    "    \n",
    "Your task, is to create a function which returns a **NxN multiplication table**, of size N provided as a function argument.\n",
    "\n",
    "for example, when given size is 3:\n",
    "\n",
    "1 2 3\n",
    "\n",
    "2 4 6\n",
    "\n",
    "3 6 9\n",
    "\n",
    "So for the given example, the return value should be: [[1,2,3],[2,4,6],[3,6,9]]"
   ]
  },
  {
   "cell_type": "code",
   "execution_count": null,
   "metadata": {},
   "outputs": [],
   "source": [
    "size=int(input())\n",
    "x = np.ones((size,size))\n",
    "\n",
    "for i in range(size):\n",
    "    x[i]= np.arange(1,(size+1))*(i+1)\n",
    "                    \n",
    "print (x)"
   ]
  },
  {
   "cell_type": "code",
   "execution_count": null,
   "metadata": {},
   "outputs": [],
   "source": [
    "size=int(input('Enter a number to create a multiplication table'))\n",
    "x = np.full((size,size),1)\n",
    "\n",
    "for i in range(1,size):\n",
    "    x[i]=np.arange(1,(size+1))*(i+1)\n",
    "print(x)\n"
   ]
  },
  {
   "cell_type": "markdown",
   "metadata": {},
   "source": [
    "## Challenge D: ID Assignment\n",
    "\n",
    "#### Description\n",
    "\n",
    "a) You work in a company with 100 people - to start, please create a list of people ranging from Person 1 to Person 100. For company purposes, each of these people is identified with a Personal ID, which is a combination of 2 uppercase letters and a random number of 5 digits. For each person, generate a random ID, and store it in a dictionary alongside their name (for example ('Person 5': 'AB73648')). Then sort the dictionary according to the values of their Personal IDs.\n",
    "\n",
    "b) One month later, your company changes the ID format for every employee - from now on, every person will have an ID that consists of only letters. In order to convert them, every letter in the employee ID should be replaced by the corresponding uppercase letter in the alphabeth. Please write a function that accomplishes this change"
   ]
  },
  {
   "cell_type": "code",
   "execution_count": null,
   "metadata": {},
   "outputs": [],
   "source": [
    "# CREATE DICTIONARY\n",
    "\n",
    "\n",
    "#CREAT DICTONARY WITH PERSON NUMBERS AS KEYS and AN ID FROM CAPITAL LETTERS AND DIGITS AS IDs\n",
    "#Person 1 - Person 100 List\n",
    "empl_list=[f'Person'+' '+str(i) for i in range(1,101)]\n",
    "#Create IDs\n",
    "char_set = set([string.ascii_uppercase[np.random.randint(25)]+ string.ascii_uppercase[np.random.randint(25)]for x in range(100)])\n",
    "numbers_list=[random.randint(10000, 99999) for x in range (len(empl_list))]\n",
    "id_list=[(lambda a,b: f'{a}{b}')(a,b) for (a,b) in zip(char_set,numbers_list)]\n",
    "#Create dictionary\n",
    "empl_dict={}\n",
    "empl_dict=dict(zip(empl_list,id_list))\n",
    "#Sort by value\n",
    "empl_dict=dict(sorted(empl_dict.items(), key=lambda x: x[1]))\n",
    "print(empl_dict)\n",
    "print(len(empl_dict))"
   ]
  },
  {
   "cell_type": "code",
   "execution_count": null,
   "metadata": {},
   "outputs": [],
   "source": [
    "#CHANGE ID: Now only 4 letters. Existing 2 letters should remain.\n",
    "value_list=list(empl_dict.values())\n",
    "new_id_value=[value_list[i][0:2]+string.ascii_uppercase[np.random.randint(25)]+string.ascii_uppercase[np.random.randint(25)] for i in range(len(value_list))]\n",
    "print(new_id_value)"
   ]
  },
  {
   "cell_type": "code",
   "execution_count": null,
   "metadata": {},
   "outputs": [],
   "source": [
    "for a,b in zip(empl_dict.keys(),new_id_value):\n",
    "    empl_dict[a]=b\n",
    "print(empl_dict)"
   ]
  }
 ],
 "metadata": {
  "kernelspec": {
   "display_name": "Python 3",
   "language": "python",
   "name": "python3"
  },
  "language_info": {
   "codemirror_mode": {
    "name": "ipython",
    "version": 3
   },
   "file_extension": ".py",
   "mimetype": "text/x-python",
   "name": "python",
   "nbconvert_exporter": "python",
   "pygments_lexer": "ipython3",
   "version": "3.8.5"
  }
 },
 "nbformat": 4,
 "nbformat_minor": 2
}
