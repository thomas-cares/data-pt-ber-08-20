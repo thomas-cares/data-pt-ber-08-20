{
 "cells": [
  {
   "cell_type": "markdown",
   "metadata": {},
   "source": [
    "## Challenge 2: Sets\n",
    "\n",
    "There are a lot to learn about Python Sets and the information presented in the lesson is limited due to its length. To learn Python Sets in depth you are strongly encouraged to review the W3Schools tutorial on [Python Sets Examples and Methods](https://www.w3schools.com/python/python_sets.asp) before you work on this lab. Some difficult questions in this lab have their solutions in the W3Schools tutorial.\n",
    "\n",
    "#### First, import the Python `random` libary"
   ]
  },
  {
   "cell_type": "code",
   "execution_count": 5,
   "metadata": {},
   "outputs": [],
   "source": [
    "import random"
   ]
  },
  {
   "cell_type": "markdown",
   "metadata": {},
   "source": [
    "#### In the cell below, create a list named `sample_list_1` with 80 random values. \n",
    "\n",
    "Requirements:\n",
    "\n",
    "* Each value is an integer falling between 0 and 100.\n",
    "* Each value in the list is unique.\n",
    "\n",
    "Print `sample_list_1` to review its values\n",
    "\n",
    "*Hint: use `random.sample` ([reference](https://docs.python.org/3/library/random.html#random.sample)).*"
   ]
  },
  {
   "cell_type": "code",
   "execution_count": 19,
   "metadata": {},
   "outputs": [
    {
     "name": "stdout",
     "output_type": "stream",
     "text": [
      "[28, 66, 5, 94, 60, 71, 53, 68, 24, 76, 21, 16, 93, 25, 43, 91, 19, 63, 50, 26, 2, 56, 77, 67, 52, 41, 85, 36, 32, 78, 42, 33, 7, 11, 58, 72, 81, 83, 99, 23, 45, 97, 96, 0, 40, 48, 49, 6, 12, 46, 61, 14, 82, 55, 4, 35, 10, 88, 8, 84, 74, 75, 87, 18, 9, 13, 86, 95, 59, 57, 100, 39, 37, 31, 30, 90, 22, 65, 20, 92]\n"
     ]
    }
   ],
   "source": [
    "# Your code here\n",
    "sample_list_1=(random.sample(range(101), k=80))\n",
    "print (sample_list_1)"
   ]
  },
  {
   "cell_type": "markdown",
   "metadata": {},
   "source": [
    "#### Convert `sample_list_1` to a set called `set1`. Print the length of the set. Is its length still 80?"
   ]
  },
  {
   "cell_type": "code",
   "execution_count": 29,
   "metadata": {
    "scrolled": true
   },
   "outputs": [
    {
     "name": "stdout",
     "output_type": "stream",
     "text": [
      "Set1 contains this many elements:  80\n",
      "---\n",
      "Set1 und sample_list_1 contain the same number of elements. That's odd, right?\n"
     ]
    }
   ],
   "source": [
    "# Your code here\n",
    "set1=set(sample_list_1)\n",
    "print(\"Set1 contains this many elements: \", len(set1))\n",
    "      \n",
    "if len(set1) == len(sample_list_1):\n",
    "    print(\"---\")\n",
    "    print (\"Set1 und sample_list_1 contain the same number of elements. That's odd, right?\")\n",
    "else:\n",
    "    print (\"---\")\n",
    "    print (\"Set1 und sample_list_1 do not contain the same number of element\" )"
   ]
  },
  {
   "cell_type": "markdown",
   "metadata": {},
   "source": [
    "#### Create another list named `sample_list_2` with 80 random values.\n",
    "\n",
    "Requirements:\n",
    "\n",
    "* Each value is an integer falling between 0 and 100.\n",
    "* The values in the list don't have to be unique.\n",
    "\n",
    "*Hint: Use a FOR loop.*"
   ]
  },
  {
   "cell_type": "code",
   "execution_count": 67,
   "metadata": {},
   "outputs": [
    {
     "name": "stdout",
     "output_type": "stream",
     "text": [
      "Following list got  80  random elements of integers between 0 and 100:\n",
      "---\n",
      "[44, 72, 88, 27, 84, 46, 50, 83, 83, 81, 14, 26, 95, 76, 85, 1, 25, 31, 9, 68, 11, 92, 35, 50, 6, 56, 30, 91, 1, 70, 5, 56, 22, 24, 80, 70, 80, 44, 50, 28, 88, 82, 9, 26, 29, 1, 16, 77, 17, 83, 69, 76, 6, 47, 3, 15, 95, 40, 6, 70, 53, 50, 4, 20, 95, 40, 44, 63, 46, 30, 75, 28, 93, 79, 12, 14, 84, 88, 73, 99]\n"
     ]
    }
   ],
   "source": [
    "# Your code here\n",
    "sample_list_2=[]\n",
    "hundred = (range(0, 101))\n",
    "i=0\n",
    "\n",
    "for x in range(80):\n",
    "    i=random.choice(hundred)\n",
    "    sample_list_2.append(i)\n",
    "\n",
    "print(\"Following list got \",len(sample_list_2),\" random elements of integers between 0 and 100:\")\n",
    "print(\"---\")\n",
    "print(sample_list_2)"
   ]
  },
  {
   "cell_type": "markdown",
   "metadata": {},
   "source": [
    "#### Convert `sample_list_2` to a set called `set2`. Print the length of the set. Is its length still 80?"
   ]
  },
  {
   "cell_type": "code",
   "execution_count": 73,
   "metadata": {},
   "outputs": [
    {
     "name": "stdout",
     "output_type": "stream",
     "text": [
      "---\n",
      "Set2 got  52  elements\n",
      "sample_list_2 got  80  elements\n",
      "---\n",
      "Set2 und sample_list_2 do not contain the same number of element\n"
     ]
    }
   ],
   "source": [
    "# Your code here\n",
    "set2=set(sample_list_2)\n",
    "print (\"---\")\n",
    "print (\"Set2 got \",len(set2),\" elements\")\n",
    "print (\"sample_list_2 got \",len(sample_list_2),\" elements\")\n",
    "\n",
    "if len(set2) == len(sample_list_2):\n",
    "    print(\"---\")\n",
    "    print (\"Set2 und sample_list_2 contain the same number of elements. That's odd, right?\")\n",
    "else:\n",
    "    print (\"---\")\n",
    "    print (\"Set2 und sample_list_2 do not contain the same number of element\" )"
   ]
  },
  {
   "cell_type": "markdown",
   "metadata": {},
   "source": [
    "#### Identify the elements present in `set1` but not in `set2`. Assign the elements to a new set named `set3`."
   ]
  },
  {
   "cell_type": "code",
   "execution_count": 80,
   "metadata": {},
   "outputs": [
    {
     "name": "stdout",
     "output_type": "stream",
     "text": [
      "<class 'set'>\n",
      "---\n",
      "Set1:  {0, 2, 4, 5, 6, 7, 8, 9, 10, 11, 12, 13, 14, 16, 18, 19, 20, 21, 22, 23, 24, 25, 26, 28, 30, 31, 32, 33, 35, 36, 37, 39, 40, 41, 42, 43, 45, 46, 48, 49, 50, 52, 53, 55, 56, 57, 58, 59, 60, 61, 63, 65, 66, 67, 68, 71, 72, 74, 75, 76, 77, 78, 81, 82, 83, 84, 85, 86, 87, 88, 90, 91, 92, 93, 94, 95, 96, 97, 99, 100}\n",
      "---\n",
      "Set2:  {1, 3, 4, 5, 6, 9, 11, 12, 14, 15, 16, 17, 20, 22, 24, 25, 26, 27, 28, 29, 30, 31, 35, 40, 44, 46, 47, 50, 53, 56, 63, 68, 69, 70, 72, 73, 75, 76, 77, 79, 80, 81, 82, 83, 84, 85, 88, 91, 92, 93, 95, 99}\n",
      "---\n",
      "Set3:  {0, 2, 7, 8, 10, 13, 18, 19, 21, 23, 32, 33, 36, 37, 39, 41, 42, 43, 45, 48, 49, 52, 55, 57, 58, 59, 60, 61, 65, 66, 67, 71, 74, 78, 86, 87, 90, 94, 96, 97, 100}\n"
     ]
    }
   ],
   "source": [
    "# Your code here\n",
    "set3=set()\n",
    "print(type(set3))\n",
    "\n",
    "for x in set1 :\n",
    "    if x in set2 :\n",
    "        continue\n",
    "    else:\n",
    "        set3.add(x)\n",
    "print(\"---\")\n",
    "print(\"Set1: \",set1)\n",
    "print(\"---\")\n",
    "print(\"Set2: \",set2)\n",
    "print(\"---\")\n",
    "print(\"Set3: \",set3)\n",
    "        "
   ]
  },
  {
   "cell_type": "markdown",
   "metadata": {},
   "source": [
    "#### Identify the elements present in `set2` but not in `set1`. Assign the elements to a new set named `set4`."
   ]
  },
  {
   "cell_type": "code",
   "execution_count": 82,
   "metadata": {},
   "outputs": [
    {
     "name": "stdout",
     "output_type": "stream",
     "text": [
      "<class 'set'>\n",
      "---\n",
      "Set1:  {0, 2, 4, 5, 6, 7, 8, 9, 10, 11, 12, 13, 14, 16, 18, 19, 20, 21, 22, 23, 24, 25, 26, 28, 30, 31, 32, 33, 35, 36, 37, 39, 40, 41, 42, 43, 45, 46, 48, 49, 50, 52, 53, 55, 56, 57, 58, 59, 60, 61, 63, 65, 66, 67, 68, 71, 72, 74, 75, 76, 77, 78, 81, 82, 83, 84, 85, 86, 87, 88, 90, 91, 92, 93, 94, 95, 96, 97, 99, 100}\n",
      "---\n",
      "Set2:  {1, 3, 4, 5, 6, 9, 11, 12, 14, 15, 16, 17, 20, 22, 24, 25, 26, 27, 28, 29, 30, 31, 35, 40, 44, 46, 47, 50, 53, 56, 63, 68, 69, 70, 72, 73, 75, 76, 77, 79, 80, 81, 82, 83, 84, 85, 88, 91, 92, 93, 95, 99}\n",
      "---\n",
      "Set4:  {1, 3, 69, 70, 73, 44, 15, 47, 17, 79, 80, 27, 29}\n",
      "<class 'set'>\n"
     ]
    }
   ],
   "source": [
    "# Your code here\n",
    "set4=set()\n",
    "print(type(set4))\n",
    "\n",
    "for x in set2 :\n",
    "    if x in set1 :\n",
    "        continue\n",
    "    else:\n",
    "        set4.add(x)\n",
    "print(\"---\")\n",
    "print(\"Set1: \",set1)\n",
    "print(\"---\")\n",
    "print(\"Set2: \",set2)\n",
    "print(\"---\")\n",
    "print(\"Set4: \",set4)\n",
    "print(type(set4))      \n"
   ]
  },
  {
   "cell_type": "markdown",
   "metadata": {},
   "source": [
    "#### Now Identify the elements shared between `set1` and `set2`. Assign the elements to a new set named `set5`."
   ]
  },
  {
   "cell_type": "code",
   "execution_count": 100,
   "metadata": {},
   "outputs": [
    {
     "name": "stdout",
     "output_type": "stream",
     "text": [
      "---\n",
      "Set1:  {0, 2, 4, 5, 6, 7, 8, 9, 10, 11, 12, 13, 14, 16, 18, 19, 20, 21, 22, 23, 24, 25, 26, 28, 30, 31, 32, 33, 35, 36, 37, 39, 40, 41, 42, 43, 45, 46, 48, 49, 50, 52, 53, 55, 56, 57, 58, 59, 60, 61, 63, 65, 66, 67, 68, 71, 72, 74, 75, 76, 77, 78, 81, 82, 83, 84, 85, 86, 87, 88, 90, 91, 92, 93, 94, 95, 96, 97, 99, 100}\n",
      "---\n",
      "Set2:  {1, 3, 4, 5, 6, 9, 11, 12, 14, 15, 16, 17, 20, 22, 24, 25, 26, 27, 28, 29, 30, 31, 35, 40, 44, 46, 47, 50, 53, 56, 63, 68, 69, 70, 72, 73, 75, 76, 77, 79, 80, 81, 82, 83, 84, 85, 88, 91, 92, 93, 95, 99}\n",
      "---\n",
      "Set5:  {4, 5, 6, 9, 11, 12, 14, 16, 20, 22, 24, 25, 26, 28, 30, 31, 35, 40, 46, 50, 53, 56, 63, 68, 72, 75, 76, 77, 81, 82, 83, 84, 85, 88, 91, 92, 93, 95, 99}\n",
      "---\n",
      "Intersection methodes:  {4, 5, 6, 9, 11, 12, 14, 16, 20, 22, 24, 25, 26, 28, 30, 31, 35, 40, 46, 50, 53, 56, 63, 68, 72, 75, 76, 77, 81, 82, 83, 84, 85, 88, 91, 92, 93, 95, 99}\n"
     ]
    }
   ],
   "source": [
    "# Your code here\n",
    "set5=set()\n",
    "\n",
    "for x in set1 :\n",
    "    if x in set2 :\n",
    "        set5.add(x)\n",
    "        \n",
    "print(\"---\")\n",
    "print(\"Set1: \",set1)\n",
    "print(\"---\")\n",
    "print(\"Set2: \",set2)\n",
    "print(\"---\")\n",
    "print(\"Set5: \",set5)\n",
    "print(\"---\")\n",
    "print(\"Intersection methode: \", set1.intersection(set2))"
   ]
  },
  {
   "cell_type": "markdown",
   "metadata": {},
   "source": [
    "#### What is the relationship among the following values:\n",
    "\n",
    "* len(set1)\n",
    "* len(set2)\n",
    "* len(set3)\n",
    "* len(set4)\n",
    "* len(set5)\n",
    "\n",
    "Use a math formular to represent that relationship. Test your formular with Python code."
   ]
  },
  {
   "cell_type": "code",
   "execution_count": null,
   "metadata": {},
   "outputs": [],
   "source": [
    "# Your code here\n"
   ]
  },
  {
   "cell_type": "markdown",
   "metadata": {},
   "source": [
    "#### Create an empty set called `set6`."
   ]
  },
  {
   "cell_type": "code",
   "execution_count": 88,
   "metadata": {},
   "outputs": [],
   "source": [
    "# Your code here\n",
    "set6=set()"
   ]
  },
  {
   "cell_type": "markdown",
   "metadata": {},
   "source": [
    "#### Add `set3` and `set5` to `set6` using the Python Set `update` method."
   ]
  },
  {
   "cell_type": "code",
   "execution_count": 92,
   "metadata": {},
   "outputs": [
    {
     "name": "stdout",
     "output_type": "stream",
     "text": [
      "41\n",
      "39\n",
      "80\n"
     ]
    }
   ],
   "source": [
    "# Your code here\n",
    "set6.update(set3,set5)\n",
    "print(len(set3))\n",
    "print(len(set5))\n",
    "print(len(set6))"
   ]
  },
  {
   "cell_type": "markdown",
   "metadata": {},
   "source": [
    "#### Check if `set1` and `set6` are equal."
   ]
  },
  {
   "cell_type": "code",
   "execution_count": 103,
   "metadata": {},
   "outputs": [
    {
     "name": "stdout",
     "output_type": "stream",
     "text": [
      "diese werte aus set1 sind nicht in set6:\n",
      "[]\n",
      "isdisjoint Methode:  False\n"
     ]
    }
   ],
   "source": [
    "# Your code here\n",
    "missing=[]\n",
    "\n",
    "for x in set1:\n",
    "    if x in set6:\n",
    "        continue\n",
    "    else:\n",
    "        missing.append(x)\n",
    "print(\"diese werte aus set1 sind nicht in set6:\")\n",
    "print(missing)\n",
    "\n",
    "print(\"isdisjoint Methode: \",set1.isdisjoint(set6))"
   ]
  },
  {
   "cell_type": "markdown",
   "metadata": {},
   "source": [
    "#### Check if `set1` contains `set2` using the Python Set `issubset` method. Then check if `set1` contains `set3`.*"
   ]
  },
  {
   "cell_type": "code",
   "execution_count": 116,
   "metadata": {},
   "outputs": [
    {
     "name": "stdout",
     "output_type": "stream",
     "text": [
      "Set2 is a subset of set1:  False\n",
      "Set3 is a subset of set1:  True\n",
      "---\n",
      "set1  {0, 2, 4, 5, 6, 7, 8, 9, 10, 11, 12, 13, 14, 16, 18, 19, 20, 21, 22, 23, 24, 25, 26, 28, 30, 31, 32, 33, 35, 36, 37, 39, 40, 41, 42, 43, 45, 46, 48, 49, 50, 52, 53, 55, 56, 57, 58, 59, 60, 61, 63, 65, 66, 67, 68, 71, 72, 74, 75, 76, 77, 78, 81, 82, 83, 84, 85, 86, 87, 88, 90, 91, 92, 93, 94, 95, 96, 97, 99, 100}\n",
      "---\n",
      "set2  {1, 3, 4, 5, 6, 9, 11, 12, 14, 15, 16, 17, 20, 22, 24, 25, 26, 27, 28, 29, 30, 31, 35, 40, 44, 46, 47, 50, 53, 56, 63, 68, 69, 70, 72, 73, 75, 76, 77, 79, 80, 81, 82, 83, 84, 85, 88, 91, 92, 93, 95, 99}\n",
      "---\n",
      "set3  {0, 2, 7, 8, 10, 13, 18, 19, 21, 23, 32, 33, 36, 37, 39, 41, 42, 43, 45, 48, 49, 52, 55, 57, 58, 59, 60, 61, 65, 66, 67, 71, 74, 78, 86, 87, 90, 94, 96, 97, 100}\n"
     ]
    }
   ],
   "source": [
    "# Your code here\n",
    "print(\"Set2 is a subset of set1: \", set2.issubset(set1))\n",
    "print(\"Set3 is a subset of set1: \", set3.issubset(set1))\n",
    "print(\"---\")\n",
    "print(\"set1 \",set1)\n",
    "print(\"---\")\n",
    "print(\"set2 \",set2)\n",
    "print(\"---\")\n",
    "print(\"set3 \",set3)"
   ]
  },
  {
   "cell_type": "markdown",
   "metadata": {},
   "source": [
    "#### Using the Python Set `union` method, aggregate `set3`, `set4`, and `set5`. Then aggregate `set1` and `set2`. \n",
    "\n",
    "#### Check if the aggregated values are equal."
   ]
  },
  {
   "cell_type": "code",
   "execution_count": 120,
   "metadata": {},
   "outputs": [
    {
     "name": "stdout",
     "output_type": "stream",
     "text": [
      "set_3_4_5 differs from set_1_2:  False\n",
      "---\n",
      "set_3_4_5:  {0, 1, 2, 3, 4, 5, 6, 7, 8, 9, 10, 11, 12, 13, 14, 15, 16, 17, 18, 19, 20, 21, 22, 23, 24, 25, 26, 27, 28, 29, 30, 31, 32, 33, 35, 36, 37, 39, 40, 41, 42, 43, 44, 45, 46, 47, 48, 49, 50, 52, 53, 55, 56, 57, 58, 59, 60, 61, 63, 65, 66, 67, 68, 69, 70, 71, 72, 73, 74, 75, 76, 77, 78, 79, 80, 81, 82, 83, 84, 85, 86, 87, 88, 90, 91, 92, 93, 94, 95, 96, 97, 99, 100}\n",
      "---\n",
      "set_1_2:  {0, 1, 2, 3, 4, 5, 6, 7, 8, 9, 10, 11, 12, 13, 14, 15, 16, 17, 18, 19, 20, 21, 22, 23, 24, 25, 26, 27, 28, 29, 30, 31, 32, 33, 35, 36, 37, 39, 40, 41, 42, 43, 44, 45, 46, 47, 48, 49, 50, 52, 53, 55, 56, 57, 58, 59, 60, 61, 63, 65, 66, 67, 68, 69, 70, 71, 72, 73, 74, 75, 76, 77, 78, 79, 80, 81, 82, 83, 84, 85, 86, 87, 88, 90, 91, 92, 93, 94, 95, 96, 97, 99, 100}\n"
     ]
    }
   ],
   "source": [
    "# Your code here\n",
    "set_3_4_5=set.union(set3,set4,set5)\n",
    "set_1_2=set.union(set1,set2)\n",
    "\n",
    "print(\"set_3_4_5 differs from set_1_2: \", set_3_4_5.isdisjoint(set_1_2))\n",
    "print(\"---\")\n",
    "print(\"set_3_4_5: \",set_3_4_5)\n",
    "print(\"---\")\n",
    "print(\"set_1_2: \",set_1_2)"
   ]
  },
  {
   "cell_type": "markdown",
   "metadata": {},
   "source": [
    "#### Using the `pop` method, remove an element from `set1`."
   ]
  },
  {
   "cell_type": "code",
   "execution_count": null,
   "metadata": {},
   "outputs": [],
   "source": [
    "# Your code here\n"
   ]
  },
  {
   "cell_type": "markdown",
   "metadata": {},
   "source": [
    "#### Remove every element in the following list from `set1` if they are present in the set. Print the remaining elements.\n",
    "\n",
    "```\n",
    "list_to_remove = [1, 9, 11, 19, 21, 29, 31, 39, 41, 49, 51, 59, 61, 69, 71, 79, 81, 89, 91, 99]\n",
    "```"
   ]
  },
  {
   "cell_type": "code",
   "execution_count": 127,
   "metadata": {},
   "outputs": [
    {
     "name": "stdout",
     "output_type": "stream",
     "text": [
      "SET1 BEFORE THE START:  {0, 2, 4, 5, 6, 7, 8, 10, 12, 13, 14, 16, 18, 20, 22, 23, 24, 25, 26, 28, 30, 32, 33, 35, 36, 37, 40, 42, 43, 45, 46, 48, 50, 52, 53, 55, 56, 57, 58, 60, 63, 65, 66, 67, 68, 72, 74, 75, 76, 77, 78, 82, 83, 84, 85, 86, 87, 88, 90, 92, 93, 94, 95, 96, 97, 100}\n",
      "SET1 LENGTH:  66\n",
      "---\n",
      "---\n",
      "SET1 AFTER DIFFERENCE UPDATE:  {0, 2, 4, 5, 6, 7, 8, 10, 12, 13, 14, 16, 18, 20, 22, 23, 24, 25, 26, 28, 30, 32, 33, 35, 36, 37, 40, 42, 43, 45, 46, 48, 50, 52, 53, 55, 56, 57, 58, 60, 63, 65, 66, 67, 68, 72, 74, 75, 76, 77, 78, 82, 83, 84, 85, 86, 87, 88, 90, 92, 93, 94, 95, 96, 97, 100}\n",
      "SET1 LENGTH:  66\n"
     ]
    }
   ],
   "source": [
    "# Your code here\n",
    "\n",
    "print(\"SET1 BEFORE THE START: \",set1)\n",
    "print(\"SET1 LENGTH: \", len(set1))\n",
    "print(\"---\")\n",
    "list_to_remove = [1, 9, 11, 19, 21, 29, 31, 39, 41, 49, 51, 59, 61, 69, 71, 79, 81, 89, 91, 99]\n",
    "set_to_remove = set(list_to_remove)\n",
    "set1.difference_update(set_to_remove)\n",
    "print(\"---\")\n",
    "print(\"SET1 AFTER DIFFERENCE UPDATE: \",set1)\n",
    "print(\"SET1 LENGTH: \", len(set1))"
   ]
  },
  {
   "cell_type": "code",
   "execution_count": null,
   "metadata": {},
   "outputs": [],
   "source": []
  }
 ],
 "metadata": {
  "kernelspec": {
   "display_name": "Python 3",
   "language": "python",
   "name": "python3"
  },
  "language_info": {
   "codemirror_mode": {
    "name": "ipython",
    "version": 3
   },
   "file_extension": ".py",
   "mimetype": "text/x-python",
   "name": "python",
   "nbconvert_exporter": "python",
   "pygments_lexer": "ipython3",
   "version": "3.8.5"
  }
 },
 "nbformat": 4,
 "nbformat_minor": 2
}
