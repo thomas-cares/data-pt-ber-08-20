{
 "cells": [
  {
   "cell_type": "markdown",
   "metadata": {},
   "source": [
    "## Challenge: Functions\n",
    "\n",
    "In this challenge, we will be defining and applying some functions for problems which we have seen in similar form before!\n",
    "\n",
    "**In the cell below, define a function called max_two which finds the maximum of two input numbers.**\n"
   ]
  },
  {
   "cell_type": "code",
   "execution_count": 1,
   "metadata": {},
   "outputs": [
    {
     "name": "stdout",
     "output_type": "stream",
     "text": [
      "WE COMPARE NUMBERS AND TELL YOU WHICH IS BIGGER\n",
      "Type in an integer number!  2\n",
      "Type in another integer number!  4\n",
      "The highest number entered was:  4\n"
     ]
    }
   ],
   "source": [
    "# Your code here\n",
    "#input_call=\"Type in an integer number!\"\n",
    "\n",
    "\n",
    "\n",
    "def max_two( a, b ):\n",
    "    if a > b:\n",
    "        return a\n",
    "    return b\n",
    "\n",
    "print(\"WE COMPARE NUMBERS AND TELL YOU WHICH IS BIGGER\")\n",
    "first=int(input(\"Type in an integer number!  \"))\n",
    "second=int(input(\"Type in another integer number!  \"))\n",
    "print(\"The highest number entered was: \",max_two(first,second))\n"
   ]
  },
  {
   "cell_type": "markdown",
   "metadata": {},
   "source": [
    "#### Now apply the function to several pairs of numbers to test if it functions correctly.\n"
   ]
  },
  {
   "cell_type": "code",
   "execution_count": 2,
   "metadata": {},
   "outputs": [],
   "source": [
    "# Your code here\n",
    "# >>> option to test via input included above"
   ]
  },
  {
   "cell_type": "markdown",
   "metadata": {},
   "source": [
    "#### Now write a Python function called check_range to check whether a number is in the range of 1-100.\n",
    "\n",
    "The function should return different statements based on whether the test fails or succeeds!\n"
   ]
  },
  {
   "cell_type": "code",
   "execution_count": 3,
   "metadata": {},
   "outputs": [
    {
     "name": "stdout",
     "output_type": "stream",
     "text": [
      "Type in a number you'd like to have checked  27\n"
     ]
    },
    {
     "data": {
      "text/plain": [
       "'within range'"
      ]
     },
     "execution_count": 3,
     "metadata": {},
     "output_type": "execute_result"
    }
   ],
   "source": [
    "# Your code here\n",
    "def check_range(x):\n",
    "    if x<0 or x>100:\n",
    "        return 'outside of range'\n",
    "    else:\n",
    "        return 'within range'\n",
    "    \n",
    "number=int(input(\"Type in a number you'd like to have checked  \"))\n",
    "check_range(number)"
   ]
  },
  {
   "cell_type": "markdown",
   "metadata": {},
   "source": [
    "#### Again, apply the function to different numbers to test if it functions correctly.\n"
   ]
  },
  {
   "cell_type": "code",
   "execution_count": 4,
   "metadata": {},
   "outputs": [],
   "source": [
    "# Your code here\n",
    "# >>> option to test included above"
   ]
  },
  {
   "cell_type": "markdown",
   "metadata": {},
   "source": [
    "#### Write a function called count_upper_lower that counts the number of uppercase and the number of lowercase characters in a given string."
   ]
  },
  {
   "cell_type": "code",
   "execution_count": 5,
   "metadata": {},
   "outputs": [
    {
     "name": "stdout",
     "output_type": "stream",
     "text": [
      "Enter a sentence. We count the number of upper case and lower case characters: \n",
      "Hey Jessica what are you up to on Monday?\n",
      "---\n",
      "RESULT:\n",
      "# upper case letters:  3 \n",
      "# lower case letters:  29 \n",
      "Amazing, right? Google can't wait to hire me!\n"
     ]
    }
   ],
   "source": [
    "# Your code here\n",
    "import re\n",
    "\n",
    "def count_upper_lower (text):\n",
    "    lower_char=(re.findall('[a-z]', text))\n",
    "    upper_char=(re.findall('[A-Z]', text))\n",
    "    \n",
    "    return print (\"---\\nRESULT:\\n# upper case letters: \",len(upper_char),\"\\n# lower case letters: \",len(lower_char),\"\\nAmazing, right? Google can't wait to hire me!\")\n",
    "\n",
    "UserInput=input(\"Enter a sentence. We count the number of upper case and lower case characters: \\n\")\n",
    "\n",
    "count_upper_lower(UserInput)\n"
   ]
  },
  {
   "cell_type": "markdown",
   "metadata": {},
   "source": [
    "#### Apply the function to the test string \"A large grey cat was asleep on a rocking chair in Idaho.\"."
   ]
  },
  {
   "cell_type": "code",
   "execution_count": null,
   "metadata": {},
   "outputs": [],
   "source": [
    "# Your code here\n",
    "#feel free to enter any sentence in the little thingy above"
   ]
  },
  {
   "cell_type": "code",
   "execution_count": null,
   "metadata": {},
   "outputs": [],
   "source": []
  }
 ],
 "metadata": {
  "kernelspec": {
   "display_name": "Python 3",
   "language": "python",
   "name": "python3"
  },
  "language_info": {
   "codemirror_mode": {
    "name": "ipython",
    "version": 3
   },
   "file_extension": ".py",
   "mimetype": "text/x-python",
   "name": "python",
   "nbconvert_exporter": "python",
   "pygments_lexer": "ipython3",
   "version": "3.8.5"
  }
 },
 "nbformat": 4,
 "nbformat_minor": 2
}
