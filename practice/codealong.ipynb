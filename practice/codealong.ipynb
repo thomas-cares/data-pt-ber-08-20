{
 "cells": [
  {
   "cell_type": "code",
   "execution_count": 1,
   "metadata": {},
   "outputs": [],
   "source": [
    "names = [\"john\",\"paul\",\"ringo\",\"george\"]"
   ]
  },
  {
   "cell_type": "code",
   "execution_count": null,
   "metadata": {},
   "outputs": [],
   "source": []
  },
  {
   "cell_type": "code",
   "execution_count": 2,
   "metadata": {},
   "outputs": [
    {
     "name": "stdout",
     "output_type": "stream",
     "text": [
      "john\n",
      "paul\n",
      "ringo\n"
     ]
    }
   ],
   "source": [
    "for i in names:\n",
    "    print (i)\n",
    "    if i == \"ringo\":\n",
    "        break"
   ]
  },
  {
   "cell_type": "code",
   "execution_count": 3,
   "metadata": {},
   "outputs": [
    {
     "name": "stdout",
     "output_type": "stream",
     "text": [
      "1\n",
      "4\n",
      "7\n",
      "10\n",
      "13\n",
      "16\n",
      "19\n"
     ]
    }
   ],
   "source": [
    "#loop macht 3er Schritte\n",
    "for x in range (1,21,3):\n",
    "    print (x)"
   ]
  },
  {
   "cell_type": "code",
   "execution_count": 4,
   "metadata": {},
   "outputs": [
    {
     "name": "stdout",
     "output_type": "stream",
     "text": [
      "apple\n"
     ]
    }
   ],
   "source": [
    "#break befehl unterbricht loop\n",
    "fruits = [\"apple\", \"banana\", \"cherry\"]\n",
    "for x in fruits:\n",
    "  if x == \"banana\":\n",
    "    break\n",
    "  print(x)"
   ]
  },
  {
   "cell_type": "code",
   "execution_count": 5,
   "metadata": {},
   "outputs": [
    {
     "name": "stdout",
     "output_type": "stream",
     "text": [
      "red apple\n",
      "red banana\n",
      "red cherry\n",
      "big apple\n",
      "big banana\n",
      "big cherry\n",
      "tasty apple\n",
      "tasty banana\n",
      "tasty cherry\n"
     ]
    }
   ],
   "source": [
    "#A nested loop is a loop inside a loop.\n",
    "adj = [\"red\", \"big\", \"tasty\"]\n",
    "fruits = [\"apple\", \"banana\", \"cherry\"]\n",
    "\n",
    "for x in adj:\n",
    "  for y in fruits:\n",
    "    print(x, y) "
   ]
  },
  {
   "cell_type": "code",
   "execution_count": 6,
   "metadata": {},
   "outputs": [
    {
     "name": "stdout",
     "output_type": "stream",
     "text": [
      "apple\n",
      "cherry\n"
     ]
    }
   ],
   "source": [
    "#continue überspringt wert\n",
    "fruits = [\"apple\", \"banana\", \"cherry\"]\n",
    "for x in fruits:\n",
    "  if x == \"banana\":\n",
    "    continue\n",
    "  print(x)\n"
   ]
  },
  {
   "cell_type": "code",
   "execution_count": 7,
   "metadata": {},
   "outputs": [
    {
     "name": "stdout",
     "output_type": "stream",
     "text": [
      "[71, 50, 33, 38, 75, 87, 12, 97, 51, 64, 54, 93, 90, 48, 43, 34, 22, 92, 39, 30, 9, 80, 96, 15, 40, 95, 28, 24, 63, 26, 70, 6, 68, 58, 77, 36, 73, 7, 57, 10, 0, 14, 1, 4, 89, 52, 5, 19, 23, 31, 11, 44, 65, 16, 76, 49, 46, 29, 69, 83, 94, 45, 91, 59, 86, 100, 41, 88, 27, 85, 98, 8, 84, 99, 74, 20, 56, 21, 81, 61]\n"
     ]
    }
   ],
   "source": [
    "#create list of 80 random elements with values 0-100\n",
    "import random\n",
    "sample_list_1=(random.sample(range(101), k=80))\n",
    "print (sample_list_1)"
   ]
  },
  {
   "cell_type": "code",
   "execution_count": 8,
   "metadata": {},
   "outputs": [
    {
     "data": {
      "text/plain": [
       "11"
      ]
     },
     "execution_count": 8,
     "metadata": {},
     "output_type": "execute_result"
    }
   ],
   "source": [
    "import random\n",
    "random.randint(10, 11)"
   ]
  },
  {
   "cell_type": "code",
   "execution_count": 9,
   "metadata": {},
   "outputs": [
    {
     "name": "stdout",
     "output_type": "stream",
     "text": [
      "hello Function\n",
      "hello Function\n",
      "hello Function\n",
      "hello Function\n"
     ]
    }
   ],
   "source": [
    "def hello_func():\n",
    "    print(\"hello Function\")\n",
    "\n",
    "hello_func()\n",
    "hello_func()\n",
    "hello_func()\n",
    "hello_func()"
   ]
  },
  {
   "cell_type": "code",
   "execution_count": 10,
   "metadata": {},
   "outputs": [
    {
     "name": "stdout",
     "output_type": "stream",
     "text": [
      "HI, YOU\n"
     ]
    }
   ],
   "source": [
    "import random\n",
    "\n",
    "def hello_func(greeting = \"hi\", name = \"you\") :\n",
    "    return \"{}, {}\".format(greeting, name).upper()\n",
    "    \n",
    "print(hello_func())\n"
   ]
  },
  {
   "cell_type": "code",
   "execution_count": 11,
   "metadata": {},
   "outputs": [],
   "source": [
    "def student_info(*args, **kwargs):\n",
    "    print(args)\n",
    "    print(kwarg)"
   ]
  },
  {
   "cell_type": "code",
   "execution_count": 12,
   "metadata": {},
   "outputs": [
    {
     "name": "stdout",
     "output_type": "stream",
     "text": [
      "meow\n",
      "{'cat': 'meow', 'cow': 'mooh', 'dog': 'bark', 'bird': 'zirp'}\n",
      "cat: meow\n",
      "cow: mooh\n",
      "dog: bark\n",
      "bird: zirp\n"
     ]
    }
   ],
   "source": [
    "#dictonary key value pair\n",
    "dict = {\"cat\": \"meow\", \"cow\":\"mooh\", \"dog\":\"bark\"}\n",
    "x = dict[\"cat\"]\n",
    "print(x)\n",
    "\n",
    "dict[\"bird\"] =\"zirp\"\n",
    "print(dict)\n",
    "\n",
    "for k,v in dict.items():\n",
    "    print(k+\": \"+v)"
   ]
  },
  {
   "cell_type": "code",
   "execution_count": 13,
   "metadata": {},
   "outputs": [
    {
     "name": "stdout",
     "output_type": "stream",
     "text": [
      "John, Norway\n"
     ]
    }
   ],
   "source": [
    "myDict = {\"name\": \"John\", \"country\": \"Norway\"}\n",
    "mySeparator = \"TEST\"\n",
    "\n",
    "x = \", \".join(myDict.values())\n",
    "\n",
    "print(x)\n"
   ]
  },
  {
   "cell_type": "code",
   "execution_count": 14,
   "metadata": {},
   "outputs": [],
   "source": [
    "import numpy as np"
   ]
  },
  {
   "cell_type": "code",
   "execution_count": 15,
   "metadata": {},
   "outputs": [
    {
     "name": "stdout",
     "output_type": "stream",
     "text": [
      "0\n",
      "1\n",
      "2\n",
      "3\n"
     ]
    }
   ],
   "source": [
    "a = np.array(42)\n",
    "b = np.array([1, 2, 3, 4, 5])\n",
    "c = np.array([[1, 2, 3], [4, 5, 6]])\n",
    "d = np.array([[[1, 2, 3], [4, 5, 6]], [[1, 2, 3], [4, 5, 6]]])\n",
    "\n",
    "print(a.ndim)\n",
    "print(b.ndim)\n",
    "print(c.ndim)\n",
    "print(d.ndim) "
   ]
  },
  {
   "cell_type": "code",
   "execution_count": 16,
   "metadata": {},
   "outputs": [
    {
     "name": "stdout",
     "output_type": "stream",
     "text": [
      "[[1 2 3]\n",
      " [4 5 6]\n",
      " [7 8 9]]\n"
     ]
    }
   ],
   "source": [
    "lst_lst = [[1,2,3],[4,5,6],[7,8,9]]\n",
    "d = np.array(lst_lst)\n",
    "print(d)"
   ]
  },
  {
   "cell_type": "code",
   "execution_count": 17,
   "metadata": {},
   "outputs": [
    {
     "data": {
      "text/plain": [
       "array([0., 0., 0.])"
      ]
     },
     "execution_count": 17,
     "metadata": {},
     "output_type": "execute_result"
    }
   ],
   "source": [
    "a=np.zeros(3)\n",
    "a"
   ]
  },
  {
   "cell_type": "code",
   "execution_count": 18,
   "metadata": {},
   "outputs": [
    {
     "name": "stdout",
     "output_type": "stream",
     "text": [
      "The cipher text is :  ?krow siht seod woH\n"
     ]
    }
   ],
   "source": [
    "message = 'How does this work?'\n",
    "translated = '' #cipher text is stored in this variable\n",
    "i = len(message) - 1\n",
    "\n",
    "while i >= 0:\n",
    "   translated = translated + message[i]\n",
    "   i = i - 1\n",
    "print('The cipher text is : ', translated)"
   ]
  },
  {
   "cell_type": "code",
   "execution_count": 19,
   "metadata": {},
   "outputs": [
    {
     "ename": "IndentationError",
     "evalue": "expected an indented block (<ipython-input-19-77fc53ce950e>, line 2)",
     "output_type": "error",
     "traceback": [
      "\u001b[0;36m  File \u001b[0;32m\"<ipython-input-19-77fc53ce950e>\"\u001b[0;36m, line \u001b[0;32m2\u001b[0m\n\u001b[0;31m    result = \"\"\u001b[0m\n\u001b[0m    ^\u001b[0m\n\u001b[0;31mIndentationError\u001b[0m\u001b[0;31m:\u001b[0m expected an indented block\n"
     ]
    }
   ],
   "source": [
    "def encrypt(text,s):\n",
    "result = \"\"\n",
    "   # transverse the plain text\n",
    "   for i in range(len(text)):\n",
    "      char = text[i]\n",
    "      # Encrypt uppercase characters in plain text\n",
    "      \n",
    "      if (char.isupper()):\n",
    "         result += chr((ord(char) + s-65) % 26 + 65)\n",
    "      # Encrypt lowercase characters in plain text\n",
    "      else:\n",
    "            result += chr((ord(char) + s - 97) % 26 + 97)\n",
    "      return result\n",
    "#check the above function\n",
    "text = \"CEASER CIPHER DEMO\"\n",
    "s = 4\n",
    "\n",
    "print \"Plain Text : \" + text\n",
    "print \"Shift pattern : \" + str(s)\n",
    "print \"Cipher: \" + encrypt(text,s)"
   ]
  },
  {
   "cell_type": "code",
   "execution_count": null,
   "metadata": {},
   "outputs": [],
   "source": [
    "#list comprehnsion\n",
    "square=\n",
    "print(square)"
   ]
  },
  {
   "cell_type": "code",
   "execution_count": null,
   "metadata": {},
   "outputs": [],
   "source": [
    "import numpy as np"
   ]
  },
  {
   "cell_type": "code",
   "execution_count": null,
   "metadata": {},
   "outputs": [],
   "source": [
    "a=np.random.random((2,3))"
   ]
  },
  {
   "cell_type": "code",
   "execution_count": null,
   "metadata": {},
   "outputs": [],
   "source": [
    "a"
   ]
  },
  {
   "cell_type": "code",
   "execution_count": null,
   "metadata": {},
   "outputs": [],
   "source": [
    "a.shape"
   ]
  },
  {
   "cell_type": "code",
   "execution_count": null,
   "metadata": {},
   "outputs": [],
   "source": [
    "a.size #two by three items is 6"
   ]
  },
  {
   "cell_type": "code",
   "execution_count": null,
   "metadata": {},
   "outputs": [],
   "source": [
    "a[0, 0] # element links oben"
   ]
  },
  {
   "cell_type": "code",
   "execution_count": null,
   "metadata": {},
   "outputs": [],
   "source": [
    "a [:,0] #hole first column"
   ]
  },
  {
   "cell_type": "code",
   "execution_count": null,
   "metadata": {},
   "outputs": [],
   "source": [
    "a[0,:] #hole first row"
   ]
  },
  {
   "cell_type": "code",
   "execution_count": null,
   "metadata": {},
   "outputs": [],
   "source": [
    "np.random.random((2,3,5)) #3 dimensons: 2 depth / 3 columns / 5 rows"
   ]
  },
  {
   "cell_type": "code",
   "execution_count": null,
   "metadata": {},
   "outputs": [],
   "source": [
    "b=np.random.random((2,3,5))\n",
    "b"
   ]
  },
  {
   "cell_type": "code",
   "execution_count": null,
   "metadata": {},
   "outputs": [],
   "source": [
    "b*10 #smart way to have random numbers between 0 and 10 - 10 not included"
   ]
  },
  {
   "cell_type": "code",
   "execution_count": null,
   "metadata": {},
   "outputs": [],
   "source": [
    "b[0,0,0]"
   ]
  },
  {
   "cell_type": "code",
   "execution_count": null,
   "metadata": {},
   "outputs": [],
   "source": [
    "b[0,2,:]#vorderste Matrix, komplette 3. Zeile,"
   ]
  },
  {
   "cell_type": "code",
   "execution_count": null,
   "metadata": {},
   "outputs": [],
   "source": [
    "b[0,:,2]#vorderste Matrix komplette 3. Spalte"
   ]
  },
  {
   "cell_type": "code",
   "execution_count": null,
   "metadata": {},
   "outputs": [],
   "source": [
    "#mutabe ich kann eine einzelne Zeile ändern\n",
    "a[0,0,0]=5\n",
    "a"
   ]
  },
  {
   "cell_type": "code",
   "execution_count": null,
   "metadata": {},
   "outputs": [],
   "source": [
    "#insert list into array\n",
    "mylist=['cat','dog']\n",
    "np.array(mylist)"
   ]
  },
  {
   "cell_type": "code",
   "execution_count": null,
   "metadata": {},
   "outputs": [],
   "source": [
    "#DIFFRENCE nump.add\" vs \"+\""
   ]
  },
  {
   "cell_type": "code",
   "execution_count": null,
   "metadata": {},
   "outputs": [],
   "source": [
    "first=[1,2,3]\n",
    "second=[4,5,6]\n",
    "print(first+second) #joins two lists\n",
    "print (np.add(first,second))#addiert Element für Element"
   ]
  },
  {
   "cell_type": "code",
   "execution_count": null,
   "metadata": {},
   "outputs": [],
   "source": []
  },
  {
   "cell_type": "code",
   "execution_count": null,
   "metadata": {},
   "outputs": [],
   "source": []
  },
  {
   "cell_type": "code",
   "execution_count": null,
   "metadata": {},
   "outputs": [],
   "source": []
  },
  {
   "cell_type": "code",
   "execution_count": null,
   "metadata": {},
   "outputs": [],
   "source": []
  },
  {
   "cell_type": "code",
   "execution_count": null,
   "metadata": {},
   "outputs": [],
   "source": [
    "import numpy as np"
   ]
  },
  {
   "cell_type": "code",
   "execution_count": null,
   "metadata": {},
   "outputs": [],
   "source": [
    "atoms = np.array([[0., 0., 0.],\n",
    "                  [3., 3., 3.],\n",
    "                  [2., 8., 7.]]\n",
    "                 )"
   ]
  },
  {
   "cell_type": "code",
   "execution_count": null,
   "metadata": {},
   "outputs": [],
   "source": [
    "atoms"
   ]
  },
  {
   "cell_type": "code",
   "execution_count": null,
   "metadata": {},
   "outputs": [],
   "source": [
    "masses = np.array([1., 1., 5.])"
   ]
  },
  {
   "cell_type": "code",
   "execution_count": null,
   "metadata": {},
   "outputs": [],
   "source": [
    "atoms = atoms + [1.,2.,3.]\n",
    "atoms"
   ]
  },
  {
   "cell_type": "code",
   "execution_count": null,
   "metadata": {},
   "outputs": [],
   "source": [
    "riddle = np.array([[ 533.,  502.,  530.,  591.,  552.,  563.,  508.,  581.,  570.,  557.,  510.,  303.,  355.,  389.,  306.,  598.,  540.,  526.,  585.,  599.,  505.,  547.,  569.,  566.,  580.,  564.,  531.,  573.],\n",
    "       [ 512.,  522.,  540.,  510.,  541.,  544.,  521.,  567.,  324.,  388.,  384.,  495.,  457.,  469.,  485.,  300.,  426.,  410.,  584.,  545.,  518.,  591.,  518.,  536.,  508.,  556.,  595.,  560.],\n",
    "       [ 545.,  584.,  521.,  552.,  589.,  583.,  314.,  301.,  461.,  473.,  436.,  469.,  478.,  440.,  449.,  431.,  461.,  461.,  322.,  319.,  592.,  522.,  554.,  569.,  593.,  502.,  551.,  514.],\n",
    "       [ 576.,  517.,  538.,  588.,  550.,  331.,  529.,  532.,  470.,  469.,  471.,  461.,  426.,  400.,  450.,  462.,  422.,  430.,  454.,  487.,  398.,  529.,  584.,  567.,  594.,  522.,  530.,  506.],\n",
    "       [ 542.,  582.,  520.,  525.,  319.,  575.,  543.,  481.,  413.,  474.,  408.,  446.,  433.,  465.,  409.,  448.,  407.,  401.,  485.,  434.,  403.,  360.,  525.,  523.,  581.,  528.,  555.,  567.],\n",
    "       [ 533.,  588.,  569.,  383.,  581.,  541.,  558.,  448.,  411.,  425.,  403.,  463.,  423.,  457.,  493.,  472.,  460.,  470.,  444.,  418.,  498.,  426.,  340.,  577.,  556.,  544.,  560.,  589.],\n",
    "       [ 576.,  552.,  550.,  365.,  587.,  543.,  575.,  586.,  425.,  430.,  493.,  488.,  446.,  460.,  447.,  493.,  404.,  414.,  444.,  430.,  417.,  449.,  317.,  538.,  559.,  596.,  513.,  553.],\n",
    "       [ 567.,  574.,  374.,  513.,  578.,  593.,  539.,  555.,  512.,  407.,  435.,  483.,  458.,  456.,  462.,  433.,  497.,  465.,  459.,  400.,  445.,  436.,  456.,  356.,  547.,  526.,  508.,  573.],\n",
    "       [ 537.,  515.,  398.,  576.,  525.,  530.,  529.,  584.,  544.,  513.,  450.,  420.,  426.,  489.,  441.,  432.,  427.,  444.,  482.,  415.,  486.,  472.,  466.,  320.,  501.,  535.,  592.,  580.],\n",
    "       [ 539.,  542.,  304.,  522.,  565.,  500.,  559.,  530.,  554.,  520.,  526.,  594.,  423.,  472.,  477.,  468.,  428.,  374.,  343.,  332.,  379.,  419.,  477.,  354.,  557.,  554.,  554.,  550.],\n",
    "       [ 544.,  383.,  567.,  520.,  575.,  372.,  393.,  528.,  546.,  571.,  531.,  538.,  548.,  540.,  566.,  355.,  387.,  407.,  471.,  332.,  352.,  347.,  369.,  494.,  394.,  566.,  590.,  521.],\n",
    "       [ 590.,  326.,  524.,  327.,  357.,  501.,  559.,  348.,  566.,  516.,  522.,  505.,  502.,  501.,  363.,  445.,  442.,  398.,  329.,  548.,  591.,  512.,  595.,  358.,  344.,  571.,  519.,  543.],\n",
    "       [ 571.,  362.,  322.,  544.,  251.,  223.,  523.,  544.,  355.,  542.,  597.,  587.,  571.,  322.,  446.,  377.,  343.,  108.,  509.,  573.,  136.,  584.,  672.,  367.,  349.,  564.,  543.,  520.],\n",
    "       [ 585.,  312.,  225.,  228.,  435.,  484.,  215.,  536.,  336.,  522.,  529.,  557.,  375.,  455.,  350.,  371.,  108.,  523.,  507.,  218.,  298.,  221.,  292.,  244.,  242.,  294.,  556.,  573.],\n",
    "       [ 552.,  232.,  444.,  458.,  454.,  435.,  234.,  564.,  503.,  365.,  589.,  555.,  303.,  394.,  582.,  364.,  507.,  258.,  299.,  258.,  219.,  291.,  269.,  269.,  243.,  230.,  281.,  536.],\n",
    "       [ 279.,  522.,  453.,  406.,  419.,  487.,  444.,  514.,  283.,  398.,  521.,  352.,  487.,  309.,  347.,  108.,  214.,  236.,  602.,  261.,  221.,  200.,  292.,  235.,  261.,  236.,  292.,  540.],\n",
    "       [ 227.,  460.,  430.,  405.,  451.,  108.,  544.,  454.,  409.,  379.,  505.,  595.,  314.,  317.,  325.,  108.,  236.,  279.,  270.,  234.,  226.,  553.,  215.,  219.,  246.,  622.,  540.,  577.],\n",
    "       [ 595.,  218.,  209.,  456.,  108.,  584.,  549.,  576.,  450.,  401.,  491.,  515.,  321.,  654.,  697.,  267.,  276.,  249.,  531.,  651.,  606.,  558.,  604.,  693.,  594.,  570.,  560.,  523.],\n",
    "       [ 524.,  564.,  433.,  400.,  108.,  516.,  575.,  413.,  662.,  648.,  666.,  470.,  579.,  488.,  641.,  210.,  204.,  553.,  541.,  648.,  238.,  656.,  230.,  642.,  549.,  599.,  598.,  500.],\n",
    "       [ 524.,  596.,  549.,  439.,  108.,  108.,  437.,  691.,  693.,  671.,  659.,  628.,  420.,  494.,  581.,  282.,  246.,  506.,  611.,  612.,  227.,  670.,  275.,  691.,  634.,  461.,  597.,  553.],\n",
    "       [ 573.,  577.,  595.,  436.,  468.,  108.,  479.,  679.,  686.,  686.,  678.,  627.,  435.,  586.,  515.,  297.,  264.,  263.,  679.,  648.,  521.,  570.,  609.,  601.,  687.,  481.,  574.,  509.],\n",
    "       [ 501.,  544.,  508.,  539.,  430.,  499.,  108.,  474.,  656.,  669.,  601.,  462.,  108.,  108.,  108.,  502.,  232.,  685.,  687.,  201.,  437.,  569.,  549.,  576.,  558.,  409.,  516.,  584.],\n",
    "       [ 527.,  515.,  584.,  581.,  505.,  411.,  462.,  489.,  465.,  454.,  406.,  108.,  108.,  347.,  307.,  262.,  576.,  580.,  282.,  262.,  240.,  295.,  276.,  210.,  214.,  280.,  277.,  509.],\n",
    "       [ 537.,  562.,  565.,  573.,  559.,  500.,  466.,  464.,  410.,  404.,  108.,  108.,  108.,  108.,  108.,  287.,  543.,  521.,  686.,  659.,  261.,  278.,  266.,  276.,  293.,  288.,  554.,  541.],\n",
    "       [ 586.,  596.,  509.,  579.,  530.,  508.,  579.,  480.,  439.,  629.,  631.,  458.,  488.,  416.,  429.,  477.,  487.,  535.,  564.,  546.,  538.,  529.,  596.,  412.,  500.,  559.,  508.,  596.],\n",
    "       [ 536.,  578.,  502.,  522.,  531.,  525.,  587.,  580.,  501.,  487.,  439.,  432.,  478.,  443.,  405.,  548.,  533.,  439.,  486.,  415.,  476.,  417.,  472.,  541.,  528.,  595.,  531.,  549.],\n",
    "       [ 548.,  562.,  550.,  561.,  584.,  598.,  572.,  584.,  581.,  544.,  577.,  591.,  548.,  530.,  512.,  552.,  587.,  511.,  577.,  565.,  591.,  560.,  565.,  595.,  544.,  556.,  585.,  520.]])"
   ]
  },
  {
   "cell_type": "code",
   "execution_count": null,
   "metadata": {
    "scrolled": true
   },
   "outputs": [],
   "source": [
    "riddle"
   ]
  },
  {
   "cell_type": "code",
   "execution_count": null,
   "metadata": {},
   "outputs": [],
   "source": [
    "print(riddle.shape)\n",
    "print(riddle.size)"
   ]
  },
  {
   "cell_type": "code",
   "execution_count": null,
   "metadata": {},
   "outputs": [],
   "source": [
    "riddle[:,-1]"
   ]
  },
  {
   "cell_type": "code",
   "execution_count": null,
   "metadata": {},
   "outputs": [],
   "source": [
    "print(riddle)"
   ]
  },
  {
   "cell_type": "code",
   "execution_count": null,
   "metadata": {},
   "outputs": [],
   "source": [
    "\n",
    "for x in len(riddle): \n",
    "    if riddle[x] >=200 and  riddle[x]<= 300:\n",
    "        riddle [x]=0\n",
    "    elif riddle[x]>=300 and  riddle[x]<=400:\n",
    "        riddle [x]=40\n",
    "    elif riddle[x]>=400 and  riddle[x]<=500:\n",
    "        riddle [x]=156\n",
    "    elif riddle[x]>=500 and  riddle[x]<=600:\n",
    "        riddle [x]=220\n",
    "riddle"
   ]
  },
  {
   "cell_type": "code",
   "execution_count": null,
   "metadata": {},
   "outputs": [],
   "source": [
    "#PANDAS\n",
    "#Series vs Data Frame\n",
    "import pandas as pd\n",
    "import numpy as np"
   ]
  },
  {
   "cell_type": "code",
   "execution_count": null,
   "metadata": {},
   "outputs": [],
   "source": [
    "#SERIES\n",
    "a = pd.Series(np.random.random(10))\n",
    "a\n",
    "#generated an indexed array of random numbers\n"
   ]
  },
  {
   "cell_type": "code",
   "execution_count": null,
   "metadata": {},
   "outputs": [],
   "source": [
    "a = a*10\n",
    "a"
   ]
  },
  {
   "cell_type": "code",
   "execution_count": null,
   "metadata": {},
   "outputs": [],
   "source": [
    "a = pd.Series(np.random.random(10)),index=['a','b','c','d','e','f','g','h','i','j']"
   ]
  },
  {
   "cell_type": "code",
   "execution_count": null,
   "metadata": {},
   "outputs": [],
   "source": [
    "#DATAFRAME\n",
    "\n",
    "colnames = ['Column1','Column2','Column3','Column4','Column5']\n",
    "\n",
    "df = pd.DataFrame(np.random.random((10,5)), columns=colnames)\n",
    "\n",
    "df"
   ]
  },
  {
   "cell_type": "code",
   "execution_count": null,
   "metadata": {},
   "outputs": [],
   "source": [
    "np.random.random((10,10))"
   ]
  },
  {
   "cell_type": "code",
   "execution_count": null,
   "metadata": {},
   "outputs": [],
   "source": [
    "#TURN INTO DATAFRAME\n",
    "df=pd.DataFrame(np.random.random((10,10)))\n",
    "print(df)\n",
    "#bekommt row and colums index"
   ]
  },
  {
   "cell_type": "code",
   "execution_count": null,
   "metadata": {},
   "outputs": [],
   "source": [
    "colnames=[]\n",
    "for i in range (len(df)):\n",
    "              colnames.append('Columns' + str (i))\n"
   ]
  },
  {
   "cell_type": "code",
   "execution_count": null,
   "metadata": {},
   "outputs": [],
   "source": [
    "df_col=pd.DataFrame(np.random.random((10,10)), columns=colnames)\n",
    "print(df_col)"
   ]
  },
  {
   "cell_type": "code",
   "execution_count": null,
   "metadata": {},
   "outputs": [],
   "source": [
    "#After naming colums I can use thm to address the data\n",
    "df_col['Columns0']"
   ]
  },
  {
   "cell_type": "code",
   "execution_count": null,
   "metadata": {},
   "outputs": [],
   "source": [
    "#COMMAND HEAD TAIL\n",
    "df_col.head()\n",
    "#default is 5 first rows"
   ]
  },
  {
   "cell_type": "code",
   "execution_count": null,
   "metadata": {},
   "outputs": [],
   "source": [
    "df_col.head(2) #erste 2 Reihen\n"
   ]
  },
  {
   "cell_type": "code",
   "execution_count": null,
   "metadata": {},
   "outputs": [],
   "source": [
    "df_col.tail(2) #letzten 2 reihen"
   ]
  },
  {
   "cell_type": "code",
   "execution_count": null,
   "metadata": {},
   "outputs": [],
   "source": [
    "df_col['Columns1'].head(3)\n",
    "#erste 3 reihen der Column1"
   ]
  },
  {
   "cell_type": "code",
   "execution_count": null,
   "metadata": {},
   "outputs": [],
   "source": [
    "df_col['Columns2'][9]"
   ]
  },
  {
   "cell_type": "code",
   "execution_count": null,
   "metadata": {},
   "outputs": [],
   "source": [
    "# Converting Other Data Structures to DataFrames\n",
    "lst = [208500, 181500, 223500, 140000, 250000, 143000, 307000, 200000, 129900, 118000]\n",
    "\n",
    "price_df = pd.DataFrame(lst, columns=['SalePrice'])\n",
    "\n",
    "price_df"
   ]
  },
  {
   "cell_type": "code",
   "execution_count": null,
   "metadata": {},
   "outputs": [],
   "source": [
    "#TURN DICT IN TO DATAFRAME\n",
    "\n",
    "house_dict = {'Baker House': [7420, 'BrkSide', 1939, 5, 118000],\n",
    "              'Beazley House': [14115, 'Mitchel', 1993, 5, 143000],\n",
    "              'Dominguez House': [14260, 'NoRidge', 2000, 8, 250000],\n",
    "              'Hamilton House': [6120, 'OldTown', 1931, 7, 129900],\n",
    "              'James House': [11250, 'CollgCr', 2001, 7, 223500],\n",
    "              'Martinez House': [9600, 'Veenker', 1976, 6, 181500],\n",
    "              'Roberts House': [9550, 'Crawfor', 1915, 7, 140000],\n",
    "              'Smith House': [8450, 'CollgCr', 2003, 7, 208500],\n",
    "              'Snyder House': [10084, 'Somerst', 2004, 8, 307000],\n",
    "              'Zuckerman House': [10382, 'NWAmes', 1973, 7, 200000]}\n",
    "pd.DataFrame(house_dict)\n"
   ]
  },
  {
   "cell_type": "code",
   "execution_count": null,
   "metadata": {},
   "outputs": [],
   "source": [
    "pd.DataFrame.from_dict(house_dict, orient='index')"
   ]
  },
  {
   "cell_type": "code",
   "execution_count": null,
   "metadata": {},
   "outputs": [],
   "source": [
    "df_col.mean()"
   ]
  },
  {
   "cell_type": "code",
   "execution_count": null,
   "metadata": {},
   "outputs": [],
   "source": [
    "df_col.mean(axis=0)#spalte"
   ]
  },
  {
   "cell_type": "code",
   "execution_count": null,
   "metadata": {},
   "outputs": [],
   "source": [
    "df_col.mean(axis=1) #zeile"
   ]
  },
  {
   "cell_type": "code",
   "execution_count": null,
   "metadata": {},
   "outputs": [],
   "source": [
    "#Subsetting and Filtering in Pandas\n",
    "animals = pd.read_csv('/Users/spitzer/Desktop/IronHack/SleepInMammals.csv')\n",
    "animals"
   ]
  },
  {
   "cell_type": "code",
   "execution_count": null,
   "metadata": {},
   "outputs": [],
   "source": [
    "animals.index.values"
   ]
  },
  {
   "cell_type": "code",
   "execution_count": null,
   "metadata": {},
   "outputs": [],
   "source": [
    "#Selecting Columns\n",
    "animals['Body Weight (kg)']"
   ]
  },
  {
   "cell_type": "code",
   "execution_count": null,
   "metadata": {},
   "outputs": [],
   "source": [
    "#Selecting Rows\n",
    "animals[11:20]"
   ]
  },
  {
   "cell_type": "code",
   "execution_count": null,
   "metadata": {},
   "outputs": [],
   "source": [
    "#SUBSETTING USING FUNCTIONS\n",
    "#.loc is primarily label based. With .loc we perform subsetting using the name of the column\n",
    "#.iloc is primarily integer based. With .iloc we perform subsetting using the integer position of the column\n"
   ]
  },
  {
   "cell_type": "code",
   "execution_count": null,
   "metadata": {},
   "outputs": [],
   "source": [
    "animals.iloc[[0,2,4],[0,1]]#Zeilen mit Index 0,2,4 Spalten mit Index 0 und 1"
   ]
  },
  {
   "cell_type": "code",
   "execution_count": null,
   "metadata": {},
   "outputs": [],
   "source": [
    "#FILTERING\n",
    "animals[animals.Body Weight (kg) < 2]\n",
    "\n"
   ]
  },
  {
   "cell_type": "code",
   "execution_count": null,
   "metadata": {},
   "outputs": [],
   "source": [
    "df.mean()# dataframe mean of columns"
   ]
  },
  {
   "cell_type": "code",
   "execution_count": null,
   "metadata": {},
   "outputs": [],
   "source": [
    "df.mean(axis=1)# mean of each row of dataframe. axis=1 entspricht rows, axis=0 entspricht columns ist default"
   ]
  },
  {
   "cell_type": "code",
   "execution_count": null,
   "metadata": {},
   "outputs": [],
   "source": [
    "df['Columns0'].mean() #mean nur der 'Column0'"
   ]
  },
  {
   "cell_type": "code",
   "execution_count": null,
   "metadata": {},
   "outputs": [],
   "source": [
    "#ADD COLUMN TO DATAFRAM\n",
    "df['cat']='kittycat'\n",
    "df"
   ]
  },
  {
   "cell_type": "code",
   "execution_count": null,
   "metadata": {},
   "outputs": [],
   "source": [
    "df['2* Columns1']=df['Columns1']*2 #creates new column at the end with the values of column 1 multiplied by 2\n",
    "df"
   ]
  },
  {
   "cell_type": "code",
   "execution_count": null,
   "metadata": {},
   "outputs": [],
   "source": [
    "#'CREAT COLUMN WITH ALL MEANS OF THAT ROW OF ALL COLUMNS'\n",
    "df['MeanColumns']=df.mean(axis=1)\n",
    "df"
   ]
  },
  {
   "cell_type": "code",
   "execution_count": 23,
   "metadata": {},
   "outputs": [
    {
     "data": {
      "text/html": [
       "<div>\n",
       "<style scoped>\n",
       "    .dataframe tbody tr th:only-of-type {\n",
       "        vertical-align: middle;\n",
       "    }\n",
       "\n",
       "    .dataframe tbody tr th {\n",
       "        vertical-align: top;\n",
       "    }\n",
       "\n",
       "    .dataframe thead th {\n",
       "        text-align: right;\n",
       "    }\n",
       "</style>\n",
       "<table border=\"1\" class=\"dataframe\">\n",
       "  <thead>\n",
       "    <tr style=\"text-align: right;\">\n",
       "      <th></th>\n",
       "      <th>Species</th>\n",
       "      <th>BodyWt</th>\n",
       "      <th>BrainWt</th>\n",
       "      <th>NonDreaming</th>\n",
       "      <th>Dreaming</th>\n",
       "      <th>TotalSleep</th>\n",
       "      <th>LifeSpan</th>\n",
       "      <th>Gestation</th>\n",
       "    </tr>\n",
       "  </thead>\n",
       "  <tbody>\n",
       "    <tr>\n",
       "      <th>0</th>\n",
       "      <td>Africanelephant</td>\n",
       "      <td>6654.00</td>\n",
       "      <td>5712.0</td>\n",
       "      <td>NaN</td>\n",
       "      <td>NaN</td>\n",
       "      <td>3.3</td>\n",
       "      <td>38.6</td>\n",
       "      <td>645.0</td>\n",
       "    </tr>\n",
       "    <tr>\n",
       "      <th>1</th>\n",
       "      <td>Africangiantpouchedrat</td>\n",
       "      <td>1.00</td>\n",
       "      <td>6.6</td>\n",
       "      <td>6.3</td>\n",
       "      <td>2.0</td>\n",
       "      <td>8.3</td>\n",
       "      <td>4.5</td>\n",
       "      <td>42.0</td>\n",
       "    </tr>\n",
       "    <tr>\n",
       "      <th>2</th>\n",
       "      <td>ArcticFox</td>\n",
       "      <td>3385.00</td>\n",
       "      <td>44.5</td>\n",
       "      <td>NaN</td>\n",
       "      <td>NaN</td>\n",
       "      <td>12.5</td>\n",
       "      <td>14.0</td>\n",
       "      <td>60.0</td>\n",
       "    </tr>\n",
       "    <tr>\n",
       "      <th>3</th>\n",
       "      <td>Arcticgroundsquirrel</td>\n",
       "      <td>0.92</td>\n",
       "      <td>5.7</td>\n",
       "      <td>NaN</td>\n",
       "      <td>NaN</td>\n",
       "      <td>16.5</td>\n",
       "      <td>NaN</td>\n",
       "      <td>25.0</td>\n",
       "    </tr>\n",
       "    <tr>\n",
       "      <th>4</th>\n",
       "      <td>Asianelephant</td>\n",
       "      <td>2547.00</td>\n",
       "      <td>4603.0</td>\n",
       "      <td>2.1</td>\n",
       "      <td>1.8</td>\n",
       "      <td>3.9</td>\n",
       "      <td>69.0</td>\n",
       "      <td>624.0</td>\n",
       "    </tr>\n",
       "  </tbody>\n",
       "</table>\n",
       "</div>"
      ],
      "text/plain": [
       "                  Species   BodyWt  BrainWt  NonDreaming  Dreaming  \\\n",
       "0         Africanelephant  6654.00   5712.0          NaN       NaN   \n",
       "1  Africangiantpouchedrat     1.00      6.6          6.3       2.0   \n",
       "2               ArcticFox  3385.00     44.5          NaN       NaN   \n",
       "3    Arcticgroundsquirrel     0.92      5.7          NaN       NaN   \n",
       "4           Asianelephant  2547.00   4603.0          2.1       1.8   \n",
       "\n",
       "   TotalSleep  LifeSpan  Gestation  \n",
       "0         3.3      38.6      645.0  \n",
       "1         8.3       4.5       42.0  \n",
       "2        12.5      14.0       60.0  \n",
       "3        16.5       NaN       25.0  \n",
       "4         3.9      69.0      624.0  "
      ]
     },
     "execution_count": 23,
     "metadata": {},
     "output_type": "execute_result"
    }
   ],
   "source": [
    "#DATA ANALYSIS\n",
    "import pandas as pd\n",
    "animals = pd.read_csv('sleepinmammals.csv')\n",
    "animals.head()"
   ]
  },
  {
   "cell_type": "code",
   "execution_count": 24,
   "metadata": {},
   "outputs": [
    {
     "data": {
      "text/html": [
       "<div>\n",
       "<style scoped>\n",
       "    .dataframe tbody tr th:only-of-type {\n",
       "        vertical-align: middle;\n",
       "    }\n",
       "\n",
       "    .dataframe tbody tr th {\n",
       "        vertical-align: top;\n",
       "    }\n",
       "\n",
       "    .dataframe thead th {\n",
       "        text-align: right;\n",
       "    }\n",
       "</style>\n",
       "<table border=\"1\" class=\"dataframe\">\n",
       "  <thead>\n",
       "    <tr style=\"text-align: right;\">\n",
       "      <th></th>\n",
       "      <th>Species</th>\n",
       "      <th>BodyWt</th>\n",
       "      <th>BrainWt</th>\n",
       "      <th>NonDreaming</th>\n",
       "      <th>Dreaming</th>\n",
       "      <th>TotalSleep</th>\n",
       "      <th>LifeSpan</th>\n",
       "      <th>Gestation</th>\n",
       "    </tr>\n",
       "  </thead>\n",
       "  <tbody>\n",
       "    <tr>\n",
       "      <th>11</th>\n",
       "      <td>Cow</td>\n",
       "      <td>465.00</td>\n",
       "      <td>423.0</td>\n",
       "      <td>3.2</td>\n",
       "      <td>0.7</td>\n",
       "      <td>3.9</td>\n",
       "      <td>30.0</td>\n",
       "      <td>281.0</td>\n",
       "    </tr>\n",
       "    <tr>\n",
       "      <th>12</th>\n",
       "      <td>Deserthedgehog</td>\n",
       "      <td>0.55</td>\n",
       "      <td>2.4</td>\n",
       "      <td>7.6</td>\n",
       "      <td>2.7</td>\n",
       "      <td>10.3</td>\n",
       "      <td>NaN</td>\n",
       "      <td>NaN</td>\n",
       "    </tr>\n",
       "    <tr>\n",
       "      <th>13</th>\n",
       "      <td>Donkey</td>\n",
       "      <td>187.10</td>\n",
       "      <td>419.0</td>\n",
       "      <td>NaN</td>\n",
       "      <td>NaN</td>\n",
       "      <td>3.1</td>\n",
       "      <td>40.0</td>\n",
       "      <td>365.0</td>\n",
       "    </tr>\n",
       "    <tr>\n",
       "      <th>14</th>\n",
       "      <td>EasternAmericanmole</td>\n",
       "      <td>75.00</td>\n",
       "      <td>1.2</td>\n",
       "      <td>6.3</td>\n",
       "      <td>2.1</td>\n",
       "      <td>8.4</td>\n",
       "      <td>3.5</td>\n",
       "      <td>42.0</td>\n",
       "    </tr>\n",
       "    <tr>\n",
       "      <th>15</th>\n",
       "      <td>Echidna</td>\n",
       "      <td>3.00</td>\n",
       "      <td>25.0</td>\n",
       "      <td>8.6</td>\n",
       "      <td>0.0</td>\n",
       "      <td>8.6</td>\n",
       "      <td>50.0</td>\n",
       "      <td>28.0</td>\n",
       "    </tr>\n",
       "    <tr>\n",
       "      <th>16</th>\n",
       "      <td>Europeanhedgehog</td>\n",
       "      <td>785.00</td>\n",
       "      <td>3.5</td>\n",
       "      <td>6.6</td>\n",
       "      <td>4.1</td>\n",
       "      <td>10.7</td>\n",
       "      <td>6.0</td>\n",
       "      <td>42.0</td>\n",
       "    </tr>\n",
       "    <tr>\n",
       "      <th>17</th>\n",
       "      <td>Galago</td>\n",
       "      <td>0.20</td>\n",
       "      <td>5.0</td>\n",
       "      <td>9.5</td>\n",
       "      <td>1.2</td>\n",
       "      <td>10.7</td>\n",
       "      <td>10.4</td>\n",
       "      <td>120.0</td>\n",
       "    </tr>\n",
       "    <tr>\n",
       "      <th>18</th>\n",
       "      <td>Genet</td>\n",
       "      <td>1.41</td>\n",
       "      <td>17.5</td>\n",
       "      <td>4.8</td>\n",
       "      <td>1.3</td>\n",
       "      <td>6.1</td>\n",
       "      <td>34.0</td>\n",
       "      <td>NaN</td>\n",
       "    </tr>\n",
       "    <tr>\n",
       "      <th>19</th>\n",
       "      <td>Giantarmadillo</td>\n",
       "      <td>60.00</td>\n",
       "      <td>81.0</td>\n",
       "      <td>12.0</td>\n",
       "      <td>6.1</td>\n",
       "      <td>18.1</td>\n",
       "      <td>7.0</td>\n",
       "      <td>NaN</td>\n",
       "    </tr>\n",
       "    <tr>\n",
       "      <th>20</th>\n",
       "      <td>Giraffe</td>\n",
       "      <td>529.00</td>\n",
       "      <td>680.0</td>\n",
       "      <td>NaN</td>\n",
       "      <td>0.3</td>\n",
       "      <td>NaN</td>\n",
       "      <td>28.0</td>\n",
       "      <td>400.0</td>\n",
       "    </tr>\n",
       "  </tbody>\n",
       "</table>\n",
       "</div>"
      ],
      "text/plain": [
       "                Species  BodyWt  BrainWt  NonDreaming  Dreaming  TotalSleep  \\\n",
       "11                  Cow  465.00    423.0          3.2       0.7         3.9   \n",
       "12       Deserthedgehog    0.55      2.4          7.6       2.7        10.3   \n",
       "13               Donkey  187.10    419.0          NaN       NaN         3.1   \n",
       "14  EasternAmericanmole   75.00      1.2          6.3       2.1         8.4   \n",
       "15              Echidna    3.00     25.0          8.6       0.0         8.6   \n",
       "16     Europeanhedgehog  785.00      3.5          6.6       4.1        10.7   \n",
       "17               Galago    0.20      5.0          9.5       1.2        10.7   \n",
       "18                Genet    1.41     17.5          4.8       1.3         6.1   \n",
       "19       Giantarmadillo   60.00     81.0         12.0       6.1        18.1   \n",
       "20              Giraffe  529.00    680.0          NaN       0.3         NaN   \n",
       "\n",
       "    LifeSpan  Gestation  \n",
       "11      30.0      281.0  \n",
       "12       NaN        NaN  \n",
       "13      40.0      365.0  \n",
       "14       3.5       42.0  \n",
       "15      50.0       28.0  \n",
       "16       6.0       42.0  \n",
       "17      10.4      120.0  \n",
       "18      34.0        NaN  \n",
       "19       7.0        NaN  \n",
       "20      28.0      400.0  "
      ]
     },
     "execution_count": 24,
     "metadata": {},
     "output_type": "execute_result"
    }
   ],
   "source": [
    "animals[11:21] #rows 11 to 20"
   ]
  },
  {
   "cell_type": "code",
   "execution_count": 25,
   "metadata": {},
   "outputs": [],
   "source": [
    "#LOCATION: loc and iloc\n",
    "#loc for location iloc for index location, iloc uses location of column by index\n",
    "\n"
   ]
  },
  {
   "cell_type": "code",
   "execution_count": 28,
   "metadata": {},
   "outputs": [
    {
     "data": {
      "text/html": [
       "<div>\n",
       "<style scoped>\n",
       "    .dataframe tbody tr th:only-of-type {\n",
       "        vertical-align: middle;\n",
       "    }\n",
       "\n",
       "    .dataframe tbody tr th {\n",
       "        vertical-align: top;\n",
       "    }\n",
       "\n",
       "    .dataframe thead th {\n",
       "        text-align: right;\n",
       "    }\n",
       "</style>\n",
       "<table border=\"1\" class=\"dataframe\">\n",
       "  <thead>\n",
       "    <tr style=\"text-align: right;\">\n",
       "      <th></th>\n",
       "      <th>Species</th>\n",
       "      <th>BodyWt</th>\n",
       "      <th>BrainWt</th>\n",
       "    </tr>\n",
       "  </thead>\n",
       "  <tbody>\n",
       "    <tr>\n",
       "      <th>11</th>\n",
       "      <td>Cow</td>\n",
       "      <td>465.00</td>\n",
       "      <td>423.0</td>\n",
       "    </tr>\n",
       "    <tr>\n",
       "      <th>12</th>\n",
       "      <td>Deserthedgehog</td>\n",
       "      <td>0.55</td>\n",
       "      <td>2.4</td>\n",
       "    </tr>\n",
       "    <tr>\n",
       "      <th>13</th>\n",
       "      <td>Donkey</td>\n",
       "      <td>187.10</td>\n",
       "      <td>419.0</td>\n",
       "    </tr>\n",
       "    <tr>\n",
       "      <th>14</th>\n",
       "      <td>EasternAmericanmole</td>\n",
       "      <td>75.00</td>\n",
       "      <td>1.2</td>\n",
       "    </tr>\n",
       "    <tr>\n",
       "      <th>15</th>\n",
       "      <td>Echidna</td>\n",
       "      <td>3.00</td>\n",
       "      <td>25.0</td>\n",
       "    </tr>\n",
       "    <tr>\n",
       "      <th>16</th>\n",
       "      <td>Europeanhedgehog</td>\n",
       "      <td>785.00</td>\n",
       "      <td>3.5</td>\n",
       "    </tr>\n",
       "    <tr>\n",
       "      <th>17</th>\n",
       "      <td>Galago</td>\n",
       "      <td>0.20</td>\n",
       "      <td>5.0</td>\n",
       "    </tr>\n",
       "    <tr>\n",
       "      <th>18</th>\n",
       "      <td>Genet</td>\n",
       "      <td>1.41</td>\n",
       "      <td>17.5</td>\n",
       "    </tr>\n",
       "    <tr>\n",
       "      <th>19</th>\n",
       "      <td>Giantarmadillo</td>\n",
       "      <td>60.00</td>\n",
       "      <td>81.0</td>\n",
       "    </tr>\n",
       "    <tr>\n",
       "      <th>20</th>\n",
       "      <td>Giraffe</td>\n",
       "      <td>529.00</td>\n",
       "      <td>680.0</td>\n",
       "    </tr>\n",
       "  </tbody>\n",
       "</table>\n",
       "</div>"
      ],
      "text/plain": [
       "                Species  BodyWt  BrainWt\n",
       "11                  Cow  465.00    423.0\n",
       "12       Deserthedgehog    0.55      2.4\n",
       "13               Donkey  187.10    419.0\n",
       "14  EasternAmericanmole   75.00      1.2\n",
       "15              Echidna    3.00     25.0\n",
       "16     Europeanhedgehog  785.00      3.5\n",
       "17               Galago    0.20      5.0\n",
       "18                Genet    1.41     17.5\n",
       "19       Giantarmadillo   60.00     81.0\n",
       "20              Giraffe  529.00    680.0"
      ]
     },
     "execution_count": 28,
     "metadata": {},
     "output_type": "execute_result"
    }
   ],
   "source": [
    "#extraction rows 11-20 for the first 3 columns\n",
    "animals.iloc [11:21,0:3]"
   ]
  },
  {
   "cell_type": "code",
   "execution_count": 45,
   "metadata": {},
   "outputs": [
    {
     "data": {
      "text/html": [
       "<div>\n",
       "<style scoped>\n",
       "    .dataframe tbody tr th:only-of-type {\n",
       "        vertical-align: middle;\n",
       "    }\n",
       "\n",
       "    .dataframe tbody tr th {\n",
       "        vertical-align: top;\n",
       "    }\n",
       "\n",
       "    .dataframe thead th {\n",
       "        text-align: right;\n",
       "    }\n",
       "</style>\n",
       "<table border=\"1\" class=\"dataframe\">\n",
       "  <thead>\n",
       "    <tr style=\"text-align: right;\">\n",
       "      <th></th>\n",
       "      <th>Species</th>\n",
       "      <th>BrainWt</th>\n",
       "    </tr>\n",
       "  </thead>\n",
       "  <tbody>\n",
       "    <tr>\n",
       "      <th>11</th>\n",
       "      <td>Cow</td>\n",
       "      <td>423.0</td>\n",
       "    </tr>\n",
       "    <tr>\n",
       "      <th>12</th>\n",
       "      <td>Deserthedgehog</td>\n",
       "      <td>2.4</td>\n",
       "    </tr>\n",
       "    <tr>\n",
       "      <th>13</th>\n",
       "      <td>Donkey</td>\n",
       "      <td>419.0</td>\n",
       "    </tr>\n",
       "    <tr>\n",
       "      <th>14</th>\n",
       "      <td>EasternAmericanmole</td>\n",
       "      <td>1.2</td>\n",
       "    </tr>\n",
       "    <tr>\n",
       "      <th>15</th>\n",
       "      <td>Echidna</td>\n",
       "      <td>25.0</td>\n",
       "    </tr>\n",
       "    <tr>\n",
       "      <th>16</th>\n",
       "      <td>Europeanhedgehog</td>\n",
       "      <td>3.5</td>\n",
       "    </tr>\n",
       "    <tr>\n",
       "      <th>17</th>\n",
       "      <td>Galago</td>\n",
       "      <td>5.0</td>\n",
       "    </tr>\n",
       "    <tr>\n",
       "      <th>18</th>\n",
       "      <td>Genet</td>\n",
       "      <td>17.5</td>\n",
       "    </tr>\n",
       "    <tr>\n",
       "      <th>19</th>\n",
       "      <td>Giantarmadillo</td>\n",
       "      <td>81.0</td>\n",
       "    </tr>\n",
       "    <tr>\n",
       "      <th>20</th>\n",
       "      <td>Giraffe</td>\n",
       "      <td>680.0</td>\n",
       "    </tr>\n",
       "  </tbody>\n",
       "</table>\n",
       "</div>"
      ],
      "text/plain": [
       "                Species  BrainWt\n",
       "11                  Cow    423.0\n",
       "12       Deserthedgehog      2.4\n",
       "13               Donkey    419.0\n",
       "14  EasternAmericanmole      1.2\n",
       "15              Echidna     25.0\n",
       "16     Europeanhedgehog      3.5\n",
       "17               Galago      5.0\n",
       "18                Genet     17.5\n",
       "19       Giantarmadillo     81.0\n",
       "20              Giraffe    680.0"
      ]
     },
     "execution_count": 45,
     "metadata": {},
     "output_type": "execute_result"
    }
   ],
   "source": [
    "animals.loc[11:20,['Species','BrainWt']]"
   ]
  },
  {
   "cell_type": "code",
   "execution_count": 46,
   "metadata": {},
   "outputs": [
    {
     "data": {
      "text/html": [
       "<div>\n",
       "<style scoped>\n",
       "    .dataframe tbody tr th:only-of-type {\n",
       "        vertical-align: middle;\n",
       "    }\n",
       "\n",
       "    .dataframe tbody tr th {\n",
       "        vertical-align: top;\n",
       "    }\n",
       "\n",
       "    .dataframe thead th {\n",
       "        text-align: right;\n",
       "    }\n",
       "</style>\n",
       "<table border=\"1\" class=\"dataframe\">\n",
       "  <thead>\n",
       "    <tr style=\"text-align: right;\">\n",
       "      <th></th>\n",
       "      <th>Species</th>\n",
       "      <th>BodyWt</th>\n",
       "      <th>BrainWt</th>\n",
       "      <th>NonDreaming</th>\n",
       "      <th>Dreaming</th>\n",
       "    </tr>\n",
       "  </thead>\n",
       "  <tbody>\n",
       "    <tr>\n",
       "      <th>11</th>\n",
       "      <td>Cow</td>\n",
       "      <td>465.00</td>\n",
       "      <td>423.0</td>\n",
       "      <td>3.2</td>\n",
       "      <td>0.7</td>\n",
       "    </tr>\n",
       "    <tr>\n",
       "      <th>12</th>\n",
       "      <td>Deserthedgehog</td>\n",
       "      <td>0.55</td>\n",
       "      <td>2.4</td>\n",
       "      <td>7.6</td>\n",
       "      <td>2.7</td>\n",
       "    </tr>\n",
       "    <tr>\n",
       "      <th>13</th>\n",
       "      <td>Donkey</td>\n",
       "      <td>187.10</td>\n",
       "      <td>419.0</td>\n",
       "      <td>NaN</td>\n",
       "      <td>NaN</td>\n",
       "    </tr>\n",
       "    <tr>\n",
       "      <th>14</th>\n",
       "      <td>EasternAmericanmole</td>\n",
       "      <td>75.00</td>\n",
       "      <td>1.2</td>\n",
       "      <td>6.3</td>\n",
       "      <td>2.1</td>\n",
       "    </tr>\n",
       "    <tr>\n",
       "      <th>15</th>\n",
       "      <td>Echidna</td>\n",
       "      <td>3.00</td>\n",
       "      <td>25.0</td>\n",
       "      <td>8.6</td>\n",
       "      <td>0.0</td>\n",
       "    </tr>\n",
       "    <tr>\n",
       "      <th>16</th>\n",
       "      <td>Europeanhedgehog</td>\n",
       "      <td>785.00</td>\n",
       "      <td>3.5</td>\n",
       "      <td>6.6</td>\n",
       "      <td>4.1</td>\n",
       "    </tr>\n",
       "    <tr>\n",
       "      <th>17</th>\n",
       "      <td>Galago</td>\n",
       "      <td>0.20</td>\n",
       "      <td>5.0</td>\n",
       "      <td>9.5</td>\n",
       "      <td>1.2</td>\n",
       "    </tr>\n",
       "    <tr>\n",
       "      <th>18</th>\n",
       "      <td>Genet</td>\n",
       "      <td>1.41</td>\n",
       "      <td>17.5</td>\n",
       "      <td>4.8</td>\n",
       "      <td>1.3</td>\n",
       "    </tr>\n",
       "    <tr>\n",
       "      <th>19</th>\n",
       "      <td>Giantarmadillo</td>\n",
       "      <td>60.00</td>\n",
       "      <td>81.0</td>\n",
       "      <td>12.0</td>\n",
       "      <td>6.1</td>\n",
       "    </tr>\n",
       "    <tr>\n",
       "      <th>20</th>\n",
       "      <td>Giraffe</td>\n",
       "      <td>529.00</td>\n",
       "      <td>680.0</td>\n",
       "      <td>NaN</td>\n",
       "      <td>0.3</td>\n",
       "    </tr>\n",
       "    <tr>\n",
       "      <th>21</th>\n",
       "      <td>Goat</td>\n",
       "      <td>27.66</td>\n",
       "      <td>115.0</td>\n",
       "      <td>3.3</td>\n",
       "      <td>0.5</td>\n",
       "    </tr>\n",
       "  </tbody>\n",
       "</table>\n",
       "</div>"
      ],
      "text/plain": [
       "                Species  BodyWt  BrainWt  NonDreaming  Dreaming\n",
       "11                  Cow  465.00    423.0          3.2       0.7\n",
       "12       Deserthedgehog    0.55      2.4          7.6       2.7\n",
       "13               Donkey  187.10    419.0          NaN       NaN\n",
       "14  EasternAmericanmole   75.00      1.2          6.3       2.1\n",
       "15              Echidna    3.00     25.0          8.6       0.0\n",
       "16     Europeanhedgehog  785.00      3.5          6.6       4.1\n",
       "17               Galago    0.20      5.0          9.5       1.2\n",
       "18                Genet    1.41     17.5          4.8       1.3\n",
       "19       Giantarmadillo   60.00     81.0         12.0       6.1\n",
       "20              Giraffe  529.00    680.0          NaN       0.3\n",
       "21                 Goat   27.66    115.0          3.3       0.5"
      ]
     },
     "execution_count": 46,
     "metadata": {},
     "output_type": "execute_result"
    }
   ],
   "source": [
    "animals.loc[11:21,'Species':'Dreaming']"
   ]
  },
  {
   "cell_type": "code",
   "execution_count": 49,
   "metadata": {},
   "outputs": [
    {
     "data": {
      "text/html": [
       "<div>\n",
       "<style scoped>\n",
       "    .dataframe tbody tr th:only-of-type {\n",
       "        vertical-align: middle;\n",
       "    }\n",
       "\n",
       "    .dataframe tbody tr th {\n",
       "        vertical-align: top;\n",
       "    }\n",
       "\n",
       "    .dataframe thead th {\n",
       "        text-align: right;\n",
       "    }\n",
       "</style>\n",
       "<table border=\"1\" class=\"dataframe\">\n",
       "  <thead>\n",
       "    <tr style=\"text-align: right;\">\n",
       "      <th></th>\n",
       "      <th>Species</th>\n",
       "      <th>BodyWt</th>\n",
       "      <th>BrainWt</th>\n",
       "      <th>NonDreaming</th>\n",
       "      <th>Dreaming</th>\n",
       "      <th>TotalSleep</th>\n",
       "      <th>LifeSpan</th>\n",
       "      <th>Gestation</th>\n",
       "    </tr>\n",
       "  </thead>\n",
       "  <tbody>\n",
       "    <tr>\n",
       "      <th>6</th>\n",
       "      <td>Bigbrownbat</td>\n",
       "      <td>23.00</td>\n",
       "      <td>0.30</td>\n",
       "      <td>15.8</td>\n",
       "      <td>3.9</td>\n",
       "      <td>19.7</td>\n",
       "      <td>19.0</td>\n",
       "      <td>35.0</td>\n",
       "    </tr>\n",
       "    <tr>\n",
       "      <th>14</th>\n",
       "      <td>EasternAmericanmole</td>\n",
       "      <td>75.00</td>\n",
       "      <td>1.20</td>\n",
       "      <td>6.3</td>\n",
       "      <td>2.1</td>\n",
       "      <td>8.4</td>\n",
       "      <td>3.5</td>\n",
       "      <td>42.0</td>\n",
       "    </tr>\n",
       "    <tr>\n",
       "      <th>22</th>\n",
       "      <td>Goldenhamster</td>\n",
       "      <td>0.12</td>\n",
       "      <td>1.00</td>\n",
       "      <td>11.0</td>\n",
       "      <td>3.4</td>\n",
       "      <td>14.4</td>\n",
       "      <td>3.9</td>\n",
       "      <td>16.0</td>\n",
       "    </tr>\n",
       "    <tr>\n",
       "      <th>31</th>\n",
       "      <td>Lessershort-tailedshrew</td>\n",
       "      <td>5.00</td>\n",
       "      <td>0.14</td>\n",
       "      <td>7.7</td>\n",
       "      <td>1.4</td>\n",
       "      <td>9.1</td>\n",
       "      <td>2.6</td>\n",
       "      <td>21.5</td>\n",
       "    </tr>\n",
       "    <tr>\n",
       "      <th>32</th>\n",
       "      <td>Littlebrownbat</td>\n",
       "      <td>0.01</td>\n",
       "      <td>0.25</td>\n",
       "      <td>17.9</td>\n",
       "      <td>2.0</td>\n",
       "      <td>19.9</td>\n",
       "      <td>24.0</td>\n",
       "      <td>50.0</td>\n",
       "    </tr>\n",
       "    <tr>\n",
       "      <th>36</th>\n",
       "      <td>Mouse</td>\n",
       "      <td>23.00</td>\n",
       "      <td>0.40</td>\n",
       "      <td>11.9</td>\n",
       "      <td>1.3</td>\n",
       "      <td>13.2</td>\n",
       "      <td>3.2</td>\n",
       "      <td>19.0</td>\n",
       "    </tr>\n",
       "    <tr>\n",
       "      <th>37</th>\n",
       "      <td>Muskshrew</td>\n",
       "      <td>48.00</td>\n",
       "      <td>0.33</td>\n",
       "      <td>10.8</td>\n",
       "      <td>2.0</td>\n",
       "      <td>12.8</td>\n",
       "      <td>2.0</td>\n",
       "      <td>30.0</td>\n",
       "    </tr>\n",
       "    <tr>\n",
       "      <th>47</th>\n",
       "      <td>Rat</td>\n",
       "      <td>0.28</td>\n",
       "      <td>1.90</td>\n",
       "      <td>10.6</td>\n",
       "      <td>2.6</td>\n",
       "      <td>13.2</td>\n",
       "      <td>4.7</td>\n",
       "      <td>21.0</td>\n",
       "    </tr>\n",
       "    <tr>\n",
       "      <th>55</th>\n",
       "      <td>Starnosedmole</td>\n",
       "      <td>0.06</td>\n",
       "      <td>1.00</td>\n",
       "      <td>8.1</td>\n",
       "      <td>2.2</td>\n",
       "      <td>10.3</td>\n",
       "      <td>3.5</td>\n",
       "      <td>NaN</td>\n",
       "    </tr>\n",
       "  </tbody>\n",
       "</table>\n",
       "</div>"
      ],
      "text/plain": [
       "                    Species  BodyWt  BrainWt  NonDreaming  Dreaming  \\\n",
       "6               Bigbrownbat   23.00     0.30         15.8       3.9   \n",
       "14      EasternAmericanmole   75.00     1.20          6.3       2.1   \n",
       "22            Goldenhamster    0.12     1.00         11.0       3.4   \n",
       "31  Lessershort-tailedshrew    5.00     0.14          7.7       1.4   \n",
       "32           Littlebrownbat    0.01     0.25         17.9       2.0   \n",
       "36                    Mouse   23.00     0.40         11.9       1.3   \n",
       "37                Muskshrew   48.00     0.33         10.8       2.0   \n",
       "47                      Rat    0.28     1.90         10.6       2.6   \n",
       "55            Starnosedmole    0.06     1.00          8.1       2.2   \n",
       "\n",
       "    TotalSleep  LifeSpan  Gestation  \n",
       "6         19.7      19.0       35.0  \n",
       "14         8.4       3.5       42.0  \n",
       "22        14.4       3.9       16.0  \n",
       "31         9.1       2.6       21.5  \n",
       "32        19.9      24.0       50.0  \n",
       "36        13.2       3.2       19.0  \n",
       "37        12.8       2.0       30.0  \n",
       "47        13.2       4.7       21.0  \n",
       "55        10.3       3.5        NaN  "
      ]
     },
     "execution_count": 49,
     "metadata": {},
     "output_type": "execute_result"
    }
   ],
   "source": [
    "#subset datafram by condition\n",
    "#Getting all the rows where BrainWt <2\n",
    "animals[animals['BrainWt']<2] #give me all rows where condition is true\n"
   ]
  },
  {
   "cell_type": "code",
   "execution_count": 50,
   "metadata": {},
   "outputs": [
    {
     "data": {
      "text/html": [
       "<div>\n",
       "<style scoped>\n",
       "    .dataframe tbody tr th:only-of-type {\n",
       "        vertical-align: middle;\n",
       "    }\n",
       "\n",
       "    .dataframe tbody tr th {\n",
       "        vertical-align: top;\n",
       "    }\n",
       "\n",
       "    .dataframe thead th {\n",
       "        text-align: right;\n",
       "    }\n",
       "</style>\n",
       "<table border=\"1\" class=\"dataframe\">\n",
       "  <thead>\n",
       "    <tr style=\"text-align: right;\">\n",
       "      <th></th>\n",
       "      <th>BodyWt</th>\n",
       "      <th>BrainWt</th>\n",
       "      <th>NonDreaming</th>\n",
       "      <th>Dreaming</th>\n",
       "      <th>TotalSleep</th>\n",
       "      <th>LifeSpan</th>\n",
       "      <th>Gestation</th>\n",
       "    </tr>\n",
       "  </thead>\n",
       "  <tbody>\n",
       "    <tr>\n",
       "      <th>count</th>\n",
       "      <td>62.000000</td>\n",
       "      <td>62.000000</td>\n",
       "      <td>48.000000</td>\n",
       "      <td>50.000000</td>\n",
       "      <td>58.000000</td>\n",
       "      <td>58.000000</td>\n",
       "      <td>58.000000</td>\n",
       "    </tr>\n",
       "    <tr>\n",
       "      <th>mean</th>\n",
       "      <td>418.231613</td>\n",
       "      <td>283.134194</td>\n",
       "      <td>8.672917</td>\n",
       "      <td>1.972000</td>\n",
       "      <td>10.532759</td>\n",
       "      <td>19.877586</td>\n",
       "      <td>142.353448</td>\n",
       "    </tr>\n",
       "    <tr>\n",
       "      <th>std</th>\n",
       "      <td>1211.589440</td>\n",
       "      <td>930.278942</td>\n",
       "      <td>3.666452</td>\n",
       "      <td>1.442651</td>\n",
       "      <td>4.606760</td>\n",
       "      <td>18.206255</td>\n",
       "      <td>146.805039</td>\n",
       "    </tr>\n",
       "    <tr>\n",
       "      <th>min</th>\n",
       "      <td>0.010000</td>\n",
       "      <td>0.140000</td>\n",
       "      <td>2.100000</td>\n",
       "      <td>0.000000</td>\n",
       "      <td>2.600000</td>\n",
       "      <td>2.000000</td>\n",
       "      <td>12.000000</td>\n",
       "    </tr>\n",
       "    <tr>\n",
       "      <th>25%</th>\n",
       "      <td>1.640000</td>\n",
       "      <td>4.250000</td>\n",
       "      <td>6.250000</td>\n",
       "      <td>0.900000</td>\n",
       "      <td>8.050000</td>\n",
       "      <td>6.625000</td>\n",
       "      <td>35.750000</td>\n",
       "    </tr>\n",
       "    <tr>\n",
       "      <th>50%</th>\n",
       "      <td>18.915000</td>\n",
       "      <td>17.250000</td>\n",
       "      <td>8.350000</td>\n",
       "      <td>1.800000</td>\n",
       "      <td>10.450000</td>\n",
       "      <td>15.100000</td>\n",
       "      <td>79.000000</td>\n",
       "    </tr>\n",
       "    <tr>\n",
       "      <th>75%</th>\n",
       "      <td>117.500000</td>\n",
       "      <td>166.000000</td>\n",
       "      <td>11.000000</td>\n",
       "      <td>2.550000</td>\n",
       "      <td>13.200000</td>\n",
       "      <td>27.750000</td>\n",
       "      <td>207.500000</td>\n",
       "    </tr>\n",
       "    <tr>\n",
       "      <th>max</th>\n",
       "      <td>6654.000000</td>\n",
       "      <td>5712.000000</td>\n",
       "      <td>17.900000</td>\n",
       "      <td>6.600000</td>\n",
       "      <td>19.900000</td>\n",
       "      <td>100.000000</td>\n",
       "      <td>645.000000</td>\n",
       "    </tr>\n",
       "  </tbody>\n",
       "</table>\n",
       "</div>"
      ],
      "text/plain": [
       "            BodyWt      BrainWt  NonDreaming   Dreaming  TotalSleep  \\\n",
       "count    62.000000    62.000000    48.000000  50.000000   58.000000   \n",
       "mean    418.231613   283.134194     8.672917   1.972000   10.532759   \n",
       "std    1211.589440   930.278942     3.666452   1.442651    4.606760   \n",
       "min       0.010000     0.140000     2.100000   0.000000    2.600000   \n",
       "25%       1.640000     4.250000     6.250000   0.900000    8.050000   \n",
       "50%      18.915000    17.250000     8.350000   1.800000   10.450000   \n",
       "75%     117.500000   166.000000    11.000000   2.550000   13.200000   \n",
       "max    6654.000000  5712.000000    17.900000   6.600000   19.900000   \n",
       "\n",
       "         LifeSpan   Gestation  \n",
       "count   58.000000   58.000000  \n",
       "mean    19.877586  142.353448  \n",
       "std     18.206255  146.805039  \n",
       "min      2.000000   12.000000  \n",
       "25%      6.625000   35.750000  \n",
       "50%     15.100000   79.000000  \n",
       "75%     27.750000  207.500000  \n",
       "max    100.000000  645.000000  "
      ]
     },
     "execution_count": 50,
     "metadata": {},
     "output_type": "execute_result"
    }
   ],
   "source": [
    "#COOLE FUNKTION FÜR DATAFRAME\n",
    "animals.describe()"
   ]
  },
  {
   "cell_type": "code",
   "execution_count": 69,
   "metadata": {},
   "outputs": [
    {
     "data": {
      "text/plain": [
       "'Africanelephant'"
      ]
     },
     "execution_count": 69,
     "metadata": {},
     "output_type": "execute_result"
    }
   ],
   "source": [
    "#ADRESS spezifc field in datafram\n",
    "animals.iat[0,0]\n"
   ]
  },
  {
   "cell_type": "code",
   "execution_count": 56,
   "metadata": {},
   "outputs": [
    {
     "data": {
      "text/plain": [
       "[10, 11, 12, 13, 14, 15, 16, 17, 18, 19, 20]"
      ]
     },
     "execution_count": 56,
     "metadata": {},
     "output_type": "execute_result"
    }
   ],
   "source": [
    "#LIST COMPREHENSION\n",
    "#list 10 bis 20\n",
    "my_list=[x for x in range (10,21)]\n",
    "my_list"
   ]
  },
  {
   "cell_type": "code",
   "execution_count": 57,
   "metadata": {},
   "outputs": [
    {
     "data": {
      "text/plain": [
       "[20, 22, 24, 26, 28, 30, 32, 34, 36, 38, 40]"
      ]
     },
     "execution_count": 57,
     "metadata": {},
     "output_type": "execute_result"
    }
   ],
   "source": [
    "my_list=[x*2 for x in range (10,21)]\n",
    "my_list"
   ]
  },
  {
   "cell_type": "code",
   "execution_count": 65,
   "metadata": {},
   "outputs": [
    {
     "name": "stdout",
     "output_type": "stream",
     "text": [
      "[30, 31, 32, 33, 34, 35, 36, 37, 38, 39, 40, 41, 42, 43, 44, 45, 46, 47, 48, 49, 50, 51, 52, 53]\n"
     ]
    }
   ],
   "source": [
    "my_list=[x for x in range (30,54)]\n",
    "print(my_list)"
   ]
  },
  {
   "cell_type": "code",
   "execution_count": 63,
   "metadata": {},
   "outputs": [
    {
     "name": "stdout",
     "output_type": "stream",
     "text": [
      "[0, 5, 10, 15, 20, 25, 30, 35, 40, 45]\n"
     ]
    }
   ],
   "source": [
    "#'create a list which contains each number freim 0-9 muliplied by 5'\n",
    "my_list=[x*5 for x in range (10)]\n",
    "print(my_list)"
   ]
  },
  {
   "cell_type": "code",
   "execution_count": 67,
   "metadata": {},
   "outputs": [
    {
     "name": "stdout",
     "output_type": "stream",
     "text": [
      "[0, 2, 4, 6, 8, 10, 12, 14, 16, 18, 20, 22, 24, 26, 28, 30, 32, 34, 36, 38, 40, 42, 44, 46, 48]\n"
     ]
    }
   ],
   "source": [
    "#testing if number is odd or even\n",
    "my_list=[x for x in range (50) if x%2==0]\n",
    "print(my_list)"
   ]
  },
  {
   "cell_type": "code",
   "execution_count": 68,
   "metadata": {},
   "outputs": [
    {
     "data": {
      "text/plain": [
       "[1, 2, 3, 4, 5, 6, 7, 8, 9]"
      ]
     },
     "execution_count": 68,
     "metadata": {},
     "output_type": "execute_result"
    }
   ],
   "source": [
    "#FLATTEN THIS LIST USING A LIST COMPREHENSION\n",
    "a=[[1,2,3],[4,5,6],[7,8,9]]\n",
    "my_list=[x for y in a for x in y]\n",
    "my_list"
   ]
  },
  {
   "cell_type": "code",
   "execution_count": 70,
   "metadata": {},
   "outputs": [
    {
     "name": "stdout",
     "output_type": "stream",
     "text": [
      "25\n"
     ]
    }
   ],
   "source": [
    "#LAMBDA FUNCTION\n",
    "square = lambda x: x * x\n",
    "print(square(5))"
   ]
  },
  {
   "cell_type": "code",
   "execution_count": 3,
   "metadata": {},
   "outputs": [],
   "source": [
    "def double_function(x):\n",
    "    return x*2"
   ]
  },
  {
   "cell_type": "code",
   "execution_count": 4,
   "metadata": {},
   "outputs": [
    {
     "data": {
      "text/plain": [
       "20"
      ]
     },
     "execution_count": 4,
     "metadata": {},
     "output_type": "execute_result"
    }
   ],
   "source": [
    "double_function(10)\n"
   ]
  },
  {
   "cell_type": "code",
   "execution_count": 7,
   "metadata": {
    "scrolled": true
   },
   "outputs": [
    {
     "data": {
      "text/plain": [
       "10"
      ]
     },
     "execution_count": 7,
     "metadata": {},
     "output_type": "execute_result"
    }
   ],
   "source": [
    "double_lambda=(lambda x: x*2)\n",
    "double_lambda(5)"
   ]
  },
  {
   "cell_type": "code",
   "execution_count": 9,
   "metadata": {},
   "outputs": [
    {
     "data": {
      "text/plain": [
       "7"
      ]
     },
     "execution_count": 9,
     "metadata": {},
     "output_type": "execute_result"
    }
   ],
   "source": [
    "# takes number and adds 5\n",
    "plus_five=lambda x: x+5\n",
    "plus_five(2)"
   ]
  },
  {
   "cell_type": "code",
   "execution_count": 10,
   "metadata": {},
   "outputs": [
    {
     "data": {
      "text/plain": [
       "7"
      ]
     },
     "execution_count": 10,
     "metadata": {},
     "output_type": "execute_result"
    }
   ],
   "source": [
    "(lambda x: x+5)(2) #zweit klammer \"calls\" the function instantliy"
   ]
  },
  {
   "cell_type": "code",
   "execution_count": 11,
   "metadata": {},
   "outputs": [
    {
     "data": {
      "text/plain": [
       "13"
      ]
     },
     "execution_count": 11,
     "metadata": {},
     "output_type": "execute_result"
    }
   ],
   "source": [
    "(lambda x: x+10)(3)"
   ]
  },
  {
   "cell_type": "code",
   "execution_count": 20,
   "metadata": {},
   "outputs": [],
   "source": [
    "def add_function(x,y=0): #value 0 would be the fallback if no 2nd argument is given\n",
    "    return x+y"
   ]
  },
  {
   "cell_type": "code",
   "execution_count": 21,
   "metadata": {},
   "outputs": [
    {
     "data": {
      "text/plain": [
       "2"
      ]
     },
     "execution_count": 21,
     "metadata": {},
     "output_type": "execute_result"
    }
   ],
   "source": [
    "add_function(2,3)\n",
    "add_function(2,)#Takes default value from the function"
   ]
  },
  {
   "cell_type": "code",
   "execution_count": 22,
   "metadata": {},
   "outputs": [],
   "source": [
    "add_lambda=lambda x,y: x+y"
   ]
  },
  {
   "cell_type": "code",
   "execution_count": 23,
   "metadata": {},
   "outputs": [
    {
     "data": {
      "text/plain": [
       "6"
      ]
     },
     "execution_count": 23,
     "metadata": {},
     "output_type": "execute_result"
    }
   ],
   "source": [
    "add_lambda(4,2)"
   ]
  },
  {
   "cell_type": "code",
   "execution_count": 24,
   "metadata": {},
   "outputs": [
    {
     "data": {
      "text/plain": [
       "6"
      ]
     },
     "execution_count": 24,
     "metadata": {},
     "output_type": "execute_result"
    }
   ],
   "source": [
    "(lambda x,y: x+y)(4,2)"
   ]
  },
  {
   "cell_type": "code",
   "execution_count": 28,
   "metadata": {},
   "outputs": [
    {
     "data": {
      "text/plain": [
       "5"
      ]
     },
     "execution_count": 28,
     "metadata": {},
     "output_type": "execute_result"
    }
   ],
   "source": [
    "#lambda expression returning the max\n",
    "(lambda x,y: x if (x>y) else  y)(5,4)"
   ]
  },
  {
   "cell_type": "code",
   "execution_count": 30,
   "metadata": {},
   "outputs": [
    {
     "data": {
      "text/plain": [
       "4"
      ]
     },
     "execution_count": 30,
     "metadata": {},
     "output_type": "execute_result"
    }
   ],
   "source": [
    "#write a labda function that gives out the number itself if it is even, or zero otherwise\n",
    "(lambda x: x if x%2==0 else 0)(4)"
   ]
  },
  {
   "cell_type": "code",
   "execution_count": 31,
   "metadata": {},
   "outputs": [
    {
     "data": {
      "text/plain": [
       "11"
      ]
     },
     "execution_count": 31,
     "metadata": {},
     "output_type": "execute_result"
    }
   ],
   "source": [
    "#LAMBDA FUNCTION\n",
    "#with multiple arguments\n",
    "sum_1 = lambda a, b: a + b\n",
    "sum_1(5, 6)"
   ]
  },
  {
   "cell_type": "code",
   "execution_count": 77,
   "metadata": {},
   "outputs": [
    {
     "name": "stdout",
     "output_type": "stream",
     "text": [
      "0.6666666666666666\n"
     ]
    }
   ],
   "source": [
    "#If Statements in Lambda Functions\n",
    "div = lambda num_1, num_2: num_1 / num_2 if (num_2 != 0) else 0\n",
    "#we specify the if after we specify the action\n",
    "print (div(2,3))"
   ]
  },
  {
   "cell_type": "code",
   "execution_count": 82,
   "metadata": {},
   "outputs": [
    {
     "data": {
      "text/plain": [
       "[0, 1, 2, 3, 4, 5, 6, 7, 8, 9, 10, 11, 12, 13, 14, 15, 16, 17, 18]"
      ]
     },
     "execution_count": 82,
     "metadata": {},
     "output_type": "execute_result"
    }
   ],
   "source": [
    "#Lambdas in the Return Statement of a Function\n",
    "#We can use lambda expressions to return a function from a function.\n",
    "def generate_range(lower):\n",
    "    return lambda upper: range(lower, upper)\n",
    "\n",
    "custom_range = generate_range(0)\n",
    "\n",
    "custom_range(10)\n",
    "range(0, 10)\n",
    "\n",
    "[x for x in custom_range(19)]"
   ]
  },
  {
   "cell_type": "code",
   "execution_count": 88,
   "metadata": {},
   "outputs": [
    {
     "name": "stdout",
     "output_type": "stream",
     "text": [
      "['Calclulus', 'Philosophy', 'Art History', 'Computer Science']\n"
     ]
    }
   ],
   "source": [
    "#Lambdas in List Comprehensions\n",
    "#Here we replace a dash with a space in a list of school subjects.\n",
    "school_dash = ['Calclulus', 'Philosophy', 'Art-History', 'Computer-Science']\n",
    " \n",
    "school_space = [(lambda x: x.replace('-', ' ')) (x) for x in school_dash]\n",
    " \n",
    "print(school_space)\n",
    "\n"
   ]
  },
  {
   "cell_type": "code",
   "execution_count": 43,
   "metadata": {},
   "outputs": [
    {
     "data": {
      "text/plain": [
       "[0.5, 1.0, 1.5, 2.0, 2.5, 3.0, 3.5, 4.0, 4.5, 5.0]"
      ]
     },
     "execution_count": 43,
     "metadata": {},
     "output_type": "execute_result"
    }
   ],
   "source": [
    "#Lambda function\n",
    "mylist =[1,2,3,4,5,6,7,8,9,10]\n",
    "newlist = [(lambda x: x/2)(x) for x in mylist]\n",
    "newlist"
   ]
  },
  {
   "cell_type": "code",
   "execution_count": 54,
   "metadata": {},
   "outputs": [
    {
     "data": {
      "text/plain": [
       "[0, 2, 0, 4, 0, 6, 0, 8, 0, 10]"
      ]
     },
     "execution_count": 54,
     "metadata": {},
     "output_type": "execute_result"
    }
   ],
   "source": [
    "#TAKE LIST ONLY PUT EVEN ONES IN NEW LIST\n",
    "mylist =[1,2,3,4,5,6,7,8,9,10]\n",
    "newlist = [(lambda x: x if x%2==0 else 0)(x) for x in mylist]\n",
    "newlist"
   ]
  },
  {
   "cell_type": "code",
   "execution_count": 51,
   "metadata": {},
   "outputs": [
    {
     "data": {
      "text/plain": [
       "['MisterZ', 'MisterF', 'MisterD', 'MisterB']"
      ]
     },
     "execution_count": 51,
     "metadata": {},
     "output_type": "execute_result"
    }
   ],
   "source": [
    "misters =['MisterB', 'MisterD', 'MisterZ', 'MisterF']\n",
    "sorted(misters,reverse=True)"
   ]
  },
  {
   "cell_type": "code",
   "execution_count": 53,
   "metadata": {},
   "outputs": [
    {
     "data": {
      "text/plain": [
       "['MisterB', 'MisterD', 'MisterF', 'MisterZ']"
      ]
     },
     "execution_count": 53,
     "metadata": {},
     "output_type": "execute_result"
    }
   ],
   "source": [
    "#USE LAMBDA AS A KEY FOR SORTED\n",
    "last_lambda= lambda x:x[-1]\n",
    "sorted(misters,key=last_lambda)"
   ]
  },
  {
   "cell_type": "code",
   "execution_count": 59,
   "metadata": {},
   "outputs": [
    {
     "data": {
      "text/plain": [
       "[('carrot', 3), ('eggs', 1), ('apple', 2)]"
      ]
     },
     "execution_count": 59,
     "metadata": {},
     "output_type": "execute_result"
    }
   ],
   "source": [
    "second_letter = lambda x:x[0][1]\n",
    "second_letter(('hello',1))\n",
    "list_tuples =[('eggs',1),('apple',2),('carrot',3)]\n",
    "sorted(list_tuples, key = second_letter)"
   ]
  },
  {
   "cell_type": "code",
   "execution_count": 10,
   "metadata": {},
   "outputs": [],
   "source": [
    "#APPLYING ZIP\n",
    "list1=[21,35,72,11]\n",
    "list2=['a','b','c','d']\n",
    "#print(list(zip(list1,list2)))\n",
    "#print(dict(zip(list1,list2)))"
   ]
  },
  {
   "cell_type": "code",
   "execution_count": 12,
   "metadata": {},
   "outputs": [
    {
     "data": {
      "text/plain": [
       "[65, 72, 143, 25]"
      ]
     },
     "execution_count": 12,
     "metadata": {},
     "output_type": "execute_result"
    }
   ],
   "source": [
    "#ZIP TO SUM UP 2 Lists\n",
    "list1=[21,35,72,11]\n",
    "list3=[44,37,71,14]\n",
    "[a+b for (a,b) in zip (list1,list3)]"
   ]
  },
  {
   "cell_type": "code",
   "execution_count": 16,
   "metadata": {},
   "outputs": [
    {
     "data": {
      "text/plain": [
       "[65, 72, 143, 25]"
      ]
     },
     "execution_count": 16,
     "metadata": {},
     "output_type": "execute_result"
    }
   ],
   "source": [
    "#ZIP + LAMBDA TO DO THE SAME THING\n",
    "[(lambda x,y: x+y)(x,y) for (x,y) in zip (list1,list3)]"
   ]
  },
  {
   "cell_type": "code",
   "execution_count": 1,
   "metadata": {},
   "outputs": [],
   "source": [
    "#MAP REDUCE FILTE\n",
    "#MAP : takes each element in a list and applis a function to it\n",
    "#syntax: map(function, iterable) >> applies the function we name in brackets on every element of the list we fed it. the func\n",
    "# map does not return a list. it return a function handle.\n"
   ]
  },
  {
   "cell_type": "code",
   "execution_count": 2,
   "metadata": {},
   "outputs": [
    {
     "data": {
      "text/plain": [
       "[3.5, 2.5, 12.0, 40.0, 11.5]"
      ]
     },
     "execution_count": 2,
     "metadata": {},
     "output_type": "execute_result"
    }
   ],
   "source": [
    "def half(x):\n",
    "    return x/2\n",
    "\n",
    "mylist=[7,5,24,80,23]\n",
    "list(map(half,mylist)) # returns function handle"
   ]
  },
  {
   "cell_type": "code",
   "execution_count": 5,
   "metadata": {},
   "outputs": [
    {
     "data": {
      "text/plain": [
       "[3.5, 2.5, 12.0, 40.0, 11.5]"
      ]
     },
     "execution_count": 5,
     "metadata": {},
     "output_type": "execute_result"
    }
   ],
   "source": [
    "#MAP WITH LAMBDA FUNCTION\n",
    "#half_lambda=lambda x: x/2\n",
    "list(map(lambda x: x/2, mylist))"
   ]
  },
  {
   "cell_type": "code",
   "execution_count": 11,
   "metadata": {},
   "outputs": [
    {
     "data": {
      "text/plain": [
       "4"
      ]
     },
     "execution_count": 11,
     "metadata": {},
     "output_type": "execute_result"
    }
   ],
   "source": [
    "#FILTER\n",
    "def even_num(x):\n",
    "    if x%2==0:\n",
    "        return x\n",
    "even_num(4)"
   ]
  },
  {
   "cell_type": "code",
   "execution_count": 14,
   "metadata": {},
   "outputs": [
    {
     "data": {
      "text/plain": [
       "[24, 80]"
      ]
     },
     "execution_count": 14,
     "metadata": {},
     "output_type": "execute_result"
    }
   ],
   "source": [
    "list(filter(even_num,mylist))#calls function above"
   ]
  },
  {
   "cell_type": "code",
   "execution_count": 19,
   "metadata": {},
   "outputs": [
    {
     "data": {
      "text/plain": [
       "[24, 80]"
      ]
     },
     "execution_count": 19,
     "metadata": {},
     "output_type": "execute_result"
    }
   ],
   "source": [
    "list(filter(lambda x: x%2==0,mylist))#instead of calling function above, function is done within a lambda functiom"
   ]
  },
  {
   "cell_type": "code",
   "execution_count": null,
   "metadata": {},
   "outputs": [],
   "source": [
    "#REDUCE\n",
    "#mashes all values in the list together > we end up with a single item\n",
    "#Reduce applies a function of two arguments cumulatively to the elements of an iterable\n",
    "#Optionally starting with an initial argument\n",
    "#Reduce returns a single item, not a list\n"
   ]
  },
  {
   "cell_type": "code",
   "execution_count": 22,
   "metadata": {},
   "outputs": [
    {
     "data": {
      "text/plain": [
       "139"
      ]
     },
     "execution_count": 22,
     "metadata": {},
     "output_type": "execute_result"
    }
   ],
   "source": [
    "mylist=[7,5,24,80,23]\n",
    "\n",
    "\n",
    "from functools import reduce\n",
    "\n",
    "def add (x,y):\n",
    "    return x+y\n",
    "\n",
    "reduce(add,mylist)"
   ]
  },
  {
   "cell_type": "code",
   "execution_count": 25,
   "metadata": {},
   "outputs": [
    {
     "data": {
      "text/plain": [
       "139"
      ]
     },
     "execution_count": 25,
     "metadata": {},
     "output_type": "execute_result"
    }
   ],
   "source": [
    "reduce(lambda x,y: x+y,mylist)"
   ]
  },
  {
   "cell_type": "code",
   "execution_count": 26,
   "metadata": {},
   "outputs": [
    {
     "data": {
      "text/plain": [
       "239"
      ]
     },
     "execution_count": 26,
     "metadata": {},
     "output_type": "execute_result"
    }
   ],
   "source": [
    "#REDUCE ALLOWS YOU TO HAVE AN INITAL VALUE OPTIONALLY\n",
    "mylist=[7,5,24,80,23]\n",
    "\n",
    "reduce(lambda x,y: x+y,mylist,100)"
   ]
  },
  {
   "cell_type": "code",
   "execution_count": 29,
   "metadata": {},
   "outputs": [
    {
     "data": {
      "text/plain": [
       "15456000"
      ]
     },
     "execution_count": 29,
     "metadata": {},
     "output_type": "execute_result"
    }
   ],
   "source": [
    "reduce(lambda x,y: x*y,mylist,10)"
   ]
  },
  {
   "cell_type": "code",
   "execution_count": null,
   "metadata": {},
   "outputs": [],
   "source": []
  },
  {
   "cell_type": "code",
   "execution_count": null,
   "metadata": {},
   "outputs": [],
   "source": []
  },
  {
   "cell_type": "code",
   "execution_count": 1,
   "metadata": {},
   "outputs": [],
   "source": [
    "# MANIPULATION DATAFRAMES WITH PANDAS DATA CLEANING"
   ]
  },
  {
   "cell_type": "code",
   "execution_count": 1,
   "metadata": {},
   "outputs": [],
   "source": [
    "import pandas as pd\n",
    "import numpy as np"
   ]
  },
  {
   "cell_type": "code",
   "execution_count": 2,
   "metadata": {},
   "outputs": [
    {
     "data": {
      "text/plain": [
       "Index(['Make', 'Model', 'Year', 'Engine Displacement', 'Cylinders',\n",
       "       'Transmission', 'Drivetrain', 'Vehicle Class', 'Fuel Type',\n",
       "       'Fuel Barrels/Year', 'City MPG', 'Highway MPG', 'Combined MPG',\n",
       "       'CO2 Emission Grams/Mile', 'Fuel Cost/Year'],\n",
       "      dtype='object')"
      ]
     },
     "execution_count": 2,
     "metadata": {},
     "output_type": "execute_result"
    }
   ],
   "source": [
    "df = pd.read_csv('../Labs/module-1_labs/04_pandas/04_lab-data_cleaning/vehicles.csv')\n",
    "df.head()\n",
    "df.columns"
   ]
  },
  {
   "cell_type": "code",
   "execution_count": 3,
   "metadata": {},
   "outputs": [],
   "source": [
    "#RENAMING COLUMNS\n",
    "#Rename column 'make' into 'manufactur'\n",
    "\n",
    "# not permanent change . just display\n",
    "df.rename(columns={'Make':'Manufacturer'})\n",
    "\n",
    "#permanent#1\n",
    "df.rename(columns={'Make':'Manufacturer'}, inplace = True )\n",
    "df.head()\n",
    "\n",
    "#permanent2\n",
    "df=df.rename(columns={'Make':'Manufacturer'})"
   ]
  },
  {
   "cell_type": "code",
   "execution_count": 27,
   "metadata": {},
   "outputs": [
    {
     "data": {
      "text/html": [
       "<div>\n",
       "<style scoped>\n",
       "    .dataframe tbody tr th:only-of-type {\n",
       "        vertical-align: middle;\n",
       "    }\n",
       "\n",
       "    .dataframe tbody tr th {\n",
       "        vertical-align: top;\n",
       "    }\n",
       "\n",
       "    .dataframe thead th {\n",
       "        text-align: right;\n",
       "    }\n",
       "</style>\n",
       "<table border=\"1\" class=\"dataframe\">\n",
       "  <thead>\n",
       "    <tr style=\"text-align: right;\">\n",
       "      <th></th>\n",
       "      <th>Manufacturer</th>\n",
       "      <th>Model</th>\n",
       "      <th>Year</th>\n",
       "      <th>Displacement</th>\n",
       "      <th>Cylinders</th>\n",
       "      <th>Transmission</th>\n",
       "      <th>Drivetrain</th>\n",
       "      <th>Vehicle Class</th>\n",
       "      <th>Fuel Type</th>\n",
       "      <th>Fuel Barrels/Year</th>\n",
       "      <th>City MPG</th>\n",
       "      <th>Highway MPG</th>\n",
       "      <th>Combined MPG</th>\n",
       "      <th>CO2 Emission Grams/Mile</th>\n",
       "      <th>Fuel Cost/Year</th>\n",
       "    </tr>\n",
       "  </thead>\n",
       "  <tbody>\n",
       "    <tr>\n",
       "      <th>0</th>\n",
       "      <td>AM General</td>\n",
       "      <td>DJ Po Vehicle 2WD</td>\n",
       "      <td>1984</td>\n",
       "      <td>2.5</td>\n",
       "      <td>4.0</td>\n",
       "      <td>Automatic 3-spd</td>\n",
       "      <td>2-Wheel Drive</td>\n",
       "      <td>Special Purpose Vehicle 2WD</td>\n",
       "      <td>Regular</td>\n",
       "      <td>19.388824</td>\n",
       "      <td>18</td>\n",
       "      <td>17</td>\n",
       "      <td>17</td>\n",
       "      <td>522.764706</td>\n",
       "      <td>1950</td>\n",
       "    </tr>\n",
       "    <tr>\n",
       "      <th>1</th>\n",
       "      <td>AM General</td>\n",
       "      <td>FJ8c Post Office</td>\n",
       "      <td>1984</td>\n",
       "      <td>4.2</td>\n",
       "      <td>6.0</td>\n",
       "      <td>Automatic 3-spd</td>\n",
       "      <td>2-Wheel Drive</td>\n",
       "      <td>Special Purpose Vehicle 2WD</td>\n",
       "      <td>Regular</td>\n",
       "      <td>25.354615</td>\n",
       "      <td>13</td>\n",
       "      <td>13</td>\n",
       "      <td>13</td>\n",
       "      <td>683.615385</td>\n",
       "      <td>2550</td>\n",
       "    </tr>\n",
       "    <tr>\n",
       "      <th>2</th>\n",
       "      <td>AM General</td>\n",
       "      <td>Post Office DJ5 2WD</td>\n",
       "      <td>1985</td>\n",
       "      <td>2.5</td>\n",
       "      <td>4.0</td>\n",
       "      <td>Automatic 3-spd</td>\n",
       "      <td>Rear-Wheel Drive</td>\n",
       "      <td>Special Purpose Vehicle 2WD</td>\n",
       "      <td>Regular</td>\n",
       "      <td>20.600625</td>\n",
       "      <td>16</td>\n",
       "      <td>17</td>\n",
       "      <td>16</td>\n",
       "      <td>555.437500</td>\n",
       "      <td>2100</td>\n",
       "    </tr>\n",
       "    <tr>\n",
       "      <th>3</th>\n",
       "      <td>AM General</td>\n",
       "      <td>Post Office DJ8 2WD</td>\n",
       "      <td>1985</td>\n",
       "      <td>4.2</td>\n",
       "      <td>6.0</td>\n",
       "      <td>Automatic 3-spd</td>\n",
       "      <td>Rear-Wheel Drive</td>\n",
       "      <td>Special Purpose Vehicle 2WD</td>\n",
       "      <td>Regular</td>\n",
       "      <td>25.354615</td>\n",
       "      <td>13</td>\n",
       "      <td>13</td>\n",
       "      <td>13</td>\n",
       "      <td>683.615385</td>\n",
       "      <td>2550</td>\n",
       "    </tr>\n",
       "    <tr>\n",
       "      <th>4</th>\n",
       "      <td>ASC Incorporated</td>\n",
       "      <td>GNX</td>\n",
       "      <td>1987</td>\n",
       "      <td>3.8</td>\n",
       "      <td>6.0</td>\n",
       "      <td>Automatic 4-spd</td>\n",
       "      <td>Rear-Wheel Drive</td>\n",
       "      <td>Midsize Cars</td>\n",
       "      <td>Premium</td>\n",
       "      <td>20.600625</td>\n",
       "      <td>14</td>\n",
       "      <td>21</td>\n",
       "      <td>16</td>\n",
       "      <td>555.437500</td>\n",
       "      <td>2550</td>\n",
       "    </tr>\n",
       "  </tbody>\n",
       "</table>\n",
       "</div>"
      ],
      "text/plain": [
       "       Manufacturer                Model  Year  Displacement  Cylinders  \\\n",
       "0        AM General    DJ Po Vehicle 2WD  1984           2.5        4.0   \n",
       "1        AM General     FJ8c Post Office  1984           4.2        6.0   \n",
       "2        AM General  Post Office DJ5 2WD  1985           2.5        4.0   \n",
       "3        AM General  Post Office DJ8 2WD  1985           4.2        6.0   \n",
       "4  ASC Incorporated                  GNX  1987           3.8        6.0   \n",
       "\n",
       "      Transmission        Drivetrain                Vehicle Class Fuel Type  \\\n",
       "0  Automatic 3-spd     2-Wheel Drive  Special Purpose Vehicle 2WD   Regular   \n",
       "1  Automatic 3-spd     2-Wheel Drive  Special Purpose Vehicle 2WD   Regular   \n",
       "2  Automatic 3-spd  Rear-Wheel Drive  Special Purpose Vehicle 2WD   Regular   \n",
       "3  Automatic 3-spd  Rear-Wheel Drive  Special Purpose Vehicle 2WD   Regular   \n",
       "4  Automatic 4-spd  Rear-Wheel Drive                 Midsize Cars   Premium   \n",
       "\n",
       "   Fuel Barrels/Year  City MPG  Highway MPG  Combined MPG  \\\n",
       "0          19.388824        18           17            17   \n",
       "1          25.354615        13           13            13   \n",
       "2          20.600625        16           17            16   \n",
       "3          25.354615        13           13            13   \n",
       "4          20.600625        14           21            16   \n",
       "\n",
       "   CO2 Emission Grams/Mile  Fuel Cost/Year  \n",
       "0               522.764706            1950  \n",
       "1               683.615385            2550  \n",
       "2               555.437500            2100  \n",
       "3               683.615385            2550  \n",
       "4               555.437500            2550  "
      ]
     },
     "execution_count": 27,
     "metadata": {},
     "output_type": "execute_result"
    }
   ],
   "source": [
    "#RENAME SEVERAL COLUMNS AT A TIME\n",
    "#inplace = true makes renaming it permanent\n",
    "#also asigning the dataframe will make it permanently df=\n",
    "df.rename(columns={'Make':'Manufacturer','Engine Displacement':'Displacement'}, inplace = True)\n",
    "df.head()"
   ]
  },
  {
   "cell_type": "code",
   "execution_count": null,
   "metadata": {},
   "outputs": [],
   "source": [
    "#RENAME permanent\n"
   ]
  },
  {
   "cell_type": "code",
   "execution_count": 34,
   "metadata": {},
   "outputs": [
    {
     "data": {
      "text/html": [
       "<div>\n",
       "<style scoped>\n",
       "    .dataframe tbody tr th:only-of-type {\n",
       "        vertical-align: middle;\n",
       "    }\n",
       "\n",
       "    .dataframe tbody tr th {\n",
       "        vertical-align: top;\n",
       "    }\n",
       "\n",
       "    .dataframe thead th {\n",
       "        text-align: right;\n",
       "    }\n",
       "</style>\n",
       "<table border=\"1\" class=\"dataframe\">\n",
       "  <thead>\n",
       "    <tr style=\"text-align: right;\">\n",
       "      <th></th>\n",
       "      <th>Manufacturer</th>\n",
       "      <th>Model</th>\n",
       "      <th>Year</th>\n",
       "      <th>Displacement</th>\n",
       "      <th>Cylinders</th>\n",
       "      <th>Transmission</th>\n",
       "      <th>Drivetrain</th>\n",
       "      <th>Vehicle Class</th>\n",
       "      <th>Fuel Type</th>\n",
       "      <th>Fuel Barrels/Year</th>\n",
       "      <th>City MPG</th>\n",
       "      <th>Highway MPG</th>\n",
       "      <th>Combined MPG</th>\n",
       "      <th>CO2 Emission Grams/Mile</th>\n",
       "      <th>Fuel Cost/Year</th>\n",
       "    </tr>\n",
       "  </thead>\n",
       "  <tbody>\n",
       "    <tr>\n",
       "      <th>11440</th>\n",
       "      <td>Ford</td>\n",
       "      <td>Aerostar Van</td>\n",
       "      <td>1986</td>\n",
       "      <td>2.3</td>\n",
       "      <td>4.0</td>\n",
       "      <td>Automatic 4-spd</td>\n",
       "      <td>Rear-Wheel Drive</td>\n",
       "      <td>Vans</td>\n",
       "      <td>Regular</td>\n",
       "      <td>17.347895</td>\n",
       "      <td>18</td>\n",
       "      <td>22</td>\n",
       "      <td>19</td>\n",
       "      <td>467.736842</td>\n",
       "      <td>1750</td>\n",
       "    </tr>\n",
       "    <tr>\n",
       "      <th>11441</th>\n",
       "      <td>Ford</td>\n",
       "      <td>Aerostar Van</td>\n",
       "      <td>1986</td>\n",
       "      <td>2.3</td>\n",
       "      <td>4.0</td>\n",
       "      <td>Manual 5-spd</td>\n",
       "      <td>Rear-Wheel Drive</td>\n",
       "      <td>Vans</td>\n",
       "      <td>Regular</td>\n",
       "      <td>13.733750</td>\n",
       "      <td>23</td>\n",
       "      <td>26</td>\n",
       "      <td>24</td>\n",
       "      <td>370.291667</td>\n",
       "      <td>1400</td>\n",
       "    </tr>\n",
       "    <tr>\n",
       "      <th>11442</th>\n",
       "      <td>Ford</td>\n",
       "      <td>Aerostar Van</td>\n",
       "      <td>1986</td>\n",
       "      <td>2.8</td>\n",
       "      <td>6.0</td>\n",
       "      <td>Automatic 4-spd</td>\n",
       "      <td>Rear-Wheel Drive</td>\n",
       "      <td>Vans</td>\n",
       "      <td>Regular</td>\n",
       "      <td>19.388824</td>\n",
       "      <td>15</td>\n",
       "      <td>21</td>\n",
       "      <td>17</td>\n",
       "      <td>522.764706</td>\n",
       "      <td>1950</td>\n",
       "    </tr>\n",
       "    <tr>\n",
       "      <th>11443</th>\n",
       "      <td>Ford</td>\n",
       "      <td>Aerostar Van</td>\n",
       "      <td>1986</td>\n",
       "      <td>2.8</td>\n",
       "      <td>6.0</td>\n",
       "      <td>Manual 5-spd</td>\n",
       "      <td>Rear-Wheel Drive</td>\n",
       "      <td>Vans</td>\n",
       "      <td>Regular</td>\n",
       "      <td>18.311667</td>\n",
       "      <td>16</td>\n",
       "      <td>22</td>\n",
       "      <td>18</td>\n",
       "      <td>493.722222</td>\n",
       "      <td>1850</td>\n",
       "    </tr>\n",
       "    <tr>\n",
       "      <th>11444</th>\n",
       "      <td>Ford</td>\n",
       "      <td>Aerostar Van</td>\n",
       "      <td>1986</td>\n",
       "      <td>3.0</td>\n",
       "      <td>6.0</td>\n",
       "      <td>Manual 5-spd</td>\n",
       "      <td>Rear-Wheel Drive</td>\n",
       "      <td>Vans</td>\n",
       "      <td>Regular</td>\n",
       "      <td>17.347895</td>\n",
       "      <td>17</td>\n",
       "      <td>22</td>\n",
       "      <td>19</td>\n",
       "      <td>467.736842</td>\n",
       "      <td>1750</td>\n",
       "    </tr>\n",
       "    <tr>\n",
       "      <th>...</th>\n",
       "      <td>...</td>\n",
       "      <td>...</td>\n",
       "      <td>...</td>\n",
       "      <td>...</td>\n",
       "      <td>...</td>\n",
       "      <td>...</td>\n",
       "      <td>...</td>\n",
       "      <td>...</td>\n",
       "      <td>...</td>\n",
       "      <td>...</td>\n",
       "      <td>...</td>\n",
       "      <td>...</td>\n",
       "      <td>...</td>\n",
       "      <td>...</td>\n",
       "      <td>...</td>\n",
       "    </tr>\n",
       "    <tr>\n",
       "      <th>14381</th>\n",
       "      <td>Ford</td>\n",
       "      <td>Windstar FWD Wagon</td>\n",
       "      <td>2000</td>\n",
       "      <td>3.0</td>\n",
       "      <td>6.0</td>\n",
       "      <td>Automatic 4-spd</td>\n",
       "      <td>Front-Wheel Drive</td>\n",
       "      <td>Minivan - 2WD</td>\n",
       "      <td>Regular</td>\n",
       "      <td>19.388824</td>\n",
       "      <td>15</td>\n",
       "      <td>21</td>\n",
       "      <td>17</td>\n",
       "      <td>522.764706</td>\n",
       "      <td>1950</td>\n",
       "    </tr>\n",
       "    <tr>\n",
       "      <th>14382</th>\n",
       "      <td>Ford</td>\n",
       "      <td>Windstar FWD Wagon</td>\n",
       "      <td>2000</td>\n",
       "      <td>3.8</td>\n",
       "      <td>6.0</td>\n",
       "      <td>Automatic 4-spd</td>\n",
       "      <td>Front-Wheel Drive</td>\n",
       "      <td>Minivan - 2WD</td>\n",
       "      <td>Regular</td>\n",
       "      <td>19.388824</td>\n",
       "      <td>15</td>\n",
       "      <td>21</td>\n",
       "      <td>17</td>\n",
       "      <td>522.764706</td>\n",
       "      <td>1950</td>\n",
       "    </tr>\n",
       "    <tr>\n",
       "      <th>14383</th>\n",
       "      <td>Ford</td>\n",
       "      <td>Windstar FWD Wagon</td>\n",
       "      <td>2001</td>\n",
       "      <td>3.8</td>\n",
       "      <td>6.0</td>\n",
       "      <td>Automatic 4-spd</td>\n",
       "      <td>Front-Wheel Drive</td>\n",
       "      <td>Minivan - 2WD</td>\n",
       "      <td>Regular</td>\n",
       "      <td>18.311667</td>\n",
       "      <td>16</td>\n",
       "      <td>22</td>\n",
       "      <td>18</td>\n",
       "      <td>493.722222</td>\n",
       "      <td>1850</td>\n",
       "    </tr>\n",
       "    <tr>\n",
       "      <th>14384</th>\n",
       "      <td>Ford</td>\n",
       "      <td>Windstar FWD Wagon</td>\n",
       "      <td>2002</td>\n",
       "      <td>3.8</td>\n",
       "      <td>6.0</td>\n",
       "      <td>Automatic 4-spd</td>\n",
       "      <td>Front-Wheel Drive</td>\n",
       "      <td>Minivan - 2WD</td>\n",
       "      <td>Regular</td>\n",
       "      <td>18.311667</td>\n",
       "      <td>16</td>\n",
       "      <td>21</td>\n",
       "      <td>18</td>\n",
       "      <td>493.722222</td>\n",
       "      <td>1850</td>\n",
       "    </tr>\n",
       "    <tr>\n",
       "      <th>14385</th>\n",
       "      <td>Ford</td>\n",
       "      <td>Windstar FWD Wagon</td>\n",
       "      <td>2003</td>\n",
       "      <td>3.8</td>\n",
       "      <td>6.0</td>\n",
       "      <td>Automatic 4-spd</td>\n",
       "      <td>Front-Wheel Drive</td>\n",
       "      <td>Minivan - 2WD</td>\n",
       "      <td>Regular</td>\n",
       "      <td>18.311667</td>\n",
       "      <td>16</td>\n",
       "      <td>22</td>\n",
       "      <td>18</td>\n",
       "      <td>493.722222</td>\n",
       "      <td>1850</td>\n",
       "    </tr>\n",
       "  </tbody>\n",
       "</table>\n",
       "<p>2946 rows × 15 columns</p>\n",
       "</div>"
      ],
      "text/plain": [
       "      Manufacturer               Model  Year  Displacement  Cylinders  \\\n",
       "11440         Ford        Aerostar Van  1986           2.3        4.0   \n",
       "11441         Ford        Aerostar Van  1986           2.3        4.0   \n",
       "11442         Ford        Aerostar Van  1986           2.8        6.0   \n",
       "11443         Ford        Aerostar Van  1986           2.8        6.0   \n",
       "11444         Ford        Aerostar Van  1986           3.0        6.0   \n",
       "...            ...                 ...   ...           ...        ...   \n",
       "14381         Ford  Windstar FWD Wagon  2000           3.0        6.0   \n",
       "14382         Ford  Windstar FWD Wagon  2000           3.8        6.0   \n",
       "14383         Ford  Windstar FWD Wagon  2001           3.8        6.0   \n",
       "14384         Ford  Windstar FWD Wagon  2002           3.8        6.0   \n",
       "14385         Ford  Windstar FWD Wagon  2003           3.8        6.0   \n",
       "\n",
       "          Transmission         Drivetrain  Vehicle Class Fuel Type  \\\n",
       "11440  Automatic 4-spd   Rear-Wheel Drive           Vans   Regular   \n",
       "11441     Manual 5-spd   Rear-Wheel Drive           Vans   Regular   \n",
       "11442  Automatic 4-spd   Rear-Wheel Drive           Vans   Regular   \n",
       "11443     Manual 5-spd   Rear-Wheel Drive           Vans   Regular   \n",
       "11444     Manual 5-spd   Rear-Wheel Drive           Vans   Regular   \n",
       "...                ...                ...            ...       ...   \n",
       "14381  Automatic 4-spd  Front-Wheel Drive  Minivan - 2WD   Regular   \n",
       "14382  Automatic 4-spd  Front-Wheel Drive  Minivan - 2WD   Regular   \n",
       "14383  Automatic 4-spd  Front-Wheel Drive  Minivan - 2WD   Regular   \n",
       "14384  Automatic 4-spd  Front-Wheel Drive  Minivan - 2WD   Regular   \n",
       "14385  Automatic 4-spd  Front-Wheel Drive  Minivan - 2WD   Regular   \n",
       "\n",
       "       Fuel Barrels/Year  City MPG  Highway MPG  Combined MPG  \\\n",
       "11440          17.347895        18           22            19   \n",
       "11441          13.733750        23           26            24   \n",
       "11442          19.388824        15           21            17   \n",
       "11443          18.311667        16           22            18   \n",
       "11444          17.347895        17           22            19   \n",
       "...                  ...       ...          ...           ...   \n",
       "14381          19.388824        15           21            17   \n",
       "14382          19.388824        15           21            17   \n",
       "14383          18.311667        16           22            18   \n",
       "14384          18.311667        16           21            18   \n",
       "14385          18.311667        16           22            18   \n",
       "\n",
       "       CO2 Emission Grams/Mile  Fuel Cost/Year  \n",
       "11440               467.736842            1750  \n",
       "11441               370.291667            1400  \n",
       "11442               522.764706            1950  \n",
       "11443               493.722222            1850  \n",
       "11444               467.736842            1750  \n",
       "...                        ...             ...  \n",
       "14381               522.764706            1950  \n",
       "14382               522.764706            1950  \n",
       "14383               493.722222            1850  \n",
       "14384               493.722222            1850  \n",
       "14385               493.722222            1850  \n",
       "\n",
       "[2946 rows x 15 columns]"
      ]
     },
     "execution_count": 34,
     "metadata": {},
     "output_type": "execute_result"
    }
   ],
   "source": [
    "#FILTERING DATE: SUBSETTING\n",
    "df['Manufacturer']=='Ford' # resultat boolean\n",
    "df[df['Manufacturer']=='Ford'] #gibt mir df wo condition zutrifft\n"
   ]
  },
  {
   "cell_type": "code",
   "execution_count": 35,
   "metadata": {},
   "outputs": [
    {
     "data": {
      "text/html": [
       "<div>\n",
       "<style scoped>\n",
       "    .dataframe tbody tr th:only-of-type {\n",
       "        vertical-align: middle;\n",
       "    }\n",
       "\n",
       "    .dataframe tbody tr th {\n",
       "        vertical-align: top;\n",
       "    }\n",
       "\n",
       "    .dataframe thead th {\n",
       "        text-align: right;\n",
       "    }\n",
       "</style>\n",
       "<table border=\"1\" class=\"dataframe\">\n",
       "  <thead>\n",
       "    <tr style=\"text-align: right;\">\n",
       "      <th></th>\n",
       "      <th>Manufacturer</th>\n",
       "      <th>Model</th>\n",
       "      <th>Year</th>\n",
       "      <th>Displacement</th>\n",
       "      <th>Cylinders</th>\n",
       "      <th>Transmission</th>\n",
       "      <th>Drivetrain</th>\n",
       "      <th>Vehicle Class</th>\n",
       "      <th>Fuel Type</th>\n",
       "      <th>Fuel Barrels/Year</th>\n",
       "      <th>City MPG</th>\n",
       "      <th>Highway MPG</th>\n",
       "      <th>Combined MPG</th>\n",
       "      <th>CO2 Emission Grams/Mile</th>\n",
       "      <th>Fuel Cost/Year</th>\n",
       "    </tr>\n",
       "  </thead>\n",
       "  <tbody>\n",
       "    <tr>\n",
       "      <th>11440</th>\n",
       "      <td>Ford</td>\n",
       "      <td>Aerostar Van</td>\n",
       "      <td>1986</td>\n",
       "      <td>2.3</td>\n",
       "      <td>4.0</td>\n",
       "      <td>Automatic 4-spd</td>\n",
       "      <td>Rear-Wheel Drive</td>\n",
       "      <td>Vans</td>\n",
       "      <td>Regular</td>\n",
       "      <td>17.347895</td>\n",
       "      <td>18</td>\n",
       "      <td>22</td>\n",
       "      <td>19</td>\n",
       "      <td>467.736842</td>\n",
       "      <td>1750</td>\n",
       "    </tr>\n",
       "    <tr>\n",
       "      <th>11441</th>\n",
       "      <td>Ford</td>\n",
       "      <td>Aerostar Van</td>\n",
       "      <td>1986</td>\n",
       "      <td>2.3</td>\n",
       "      <td>4.0</td>\n",
       "      <td>Manual 5-spd</td>\n",
       "      <td>Rear-Wheel Drive</td>\n",
       "      <td>Vans</td>\n",
       "      <td>Regular</td>\n",
       "      <td>13.733750</td>\n",
       "      <td>23</td>\n",
       "      <td>26</td>\n",
       "      <td>24</td>\n",
       "      <td>370.291667</td>\n",
       "      <td>1400</td>\n",
       "    </tr>\n",
       "    <tr>\n",
       "      <th>11442</th>\n",
       "      <td>Ford</td>\n",
       "      <td>Aerostar Van</td>\n",
       "      <td>1986</td>\n",
       "      <td>2.8</td>\n",
       "      <td>6.0</td>\n",
       "      <td>Automatic 4-spd</td>\n",
       "      <td>Rear-Wheel Drive</td>\n",
       "      <td>Vans</td>\n",
       "      <td>Regular</td>\n",
       "      <td>19.388824</td>\n",
       "      <td>15</td>\n",
       "      <td>21</td>\n",
       "      <td>17</td>\n",
       "      <td>522.764706</td>\n",
       "      <td>1950</td>\n",
       "    </tr>\n",
       "    <tr>\n",
       "      <th>11443</th>\n",
       "      <td>Ford</td>\n",
       "      <td>Aerostar Van</td>\n",
       "      <td>1986</td>\n",
       "      <td>2.8</td>\n",
       "      <td>6.0</td>\n",
       "      <td>Manual 5-spd</td>\n",
       "      <td>Rear-Wheel Drive</td>\n",
       "      <td>Vans</td>\n",
       "      <td>Regular</td>\n",
       "      <td>18.311667</td>\n",
       "      <td>16</td>\n",
       "      <td>22</td>\n",
       "      <td>18</td>\n",
       "      <td>493.722222</td>\n",
       "      <td>1850</td>\n",
       "    </tr>\n",
       "    <tr>\n",
       "      <th>11444</th>\n",
       "      <td>Ford</td>\n",
       "      <td>Aerostar Van</td>\n",
       "      <td>1986</td>\n",
       "      <td>3.0</td>\n",
       "      <td>6.0</td>\n",
       "      <td>Manual 5-spd</td>\n",
       "      <td>Rear-Wheel Drive</td>\n",
       "      <td>Vans</td>\n",
       "      <td>Regular</td>\n",
       "      <td>17.347895</td>\n",
       "      <td>17</td>\n",
       "      <td>22</td>\n",
       "      <td>19</td>\n",
       "      <td>467.736842</td>\n",
       "      <td>1750</td>\n",
       "    </tr>\n",
       "  </tbody>\n",
       "</table>\n",
       "</div>"
      ],
      "text/plain": [
       "      Manufacturer         Model  Year  Displacement  Cylinders  \\\n",
       "11440         Ford  Aerostar Van  1986           2.3        4.0   \n",
       "11441         Ford  Aerostar Van  1986           2.3        4.0   \n",
       "11442         Ford  Aerostar Van  1986           2.8        6.0   \n",
       "11443         Ford  Aerostar Van  1986           2.8        6.0   \n",
       "11444         Ford  Aerostar Van  1986           3.0        6.0   \n",
       "\n",
       "          Transmission        Drivetrain Vehicle Class Fuel Type  \\\n",
       "11440  Automatic 4-spd  Rear-Wheel Drive          Vans   Regular   \n",
       "11441     Manual 5-spd  Rear-Wheel Drive          Vans   Regular   \n",
       "11442  Automatic 4-spd  Rear-Wheel Drive          Vans   Regular   \n",
       "11443     Manual 5-spd  Rear-Wheel Drive          Vans   Regular   \n",
       "11444     Manual 5-spd  Rear-Wheel Drive          Vans   Regular   \n",
       "\n",
       "       Fuel Barrels/Year  City MPG  Highway MPG  Combined MPG  \\\n",
       "11440          17.347895        18           22            19   \n",
       "11441          13.733750        23           26            24   \n",
       "11442          19.388824        15           21            17   \n",
       "11443          18.311667        16           22            18   \n",
       "11444          17.347895        17           22            19   \n",
       "\n",
       "       CO2 Emission Grams/Mile  Fuel Cost/Year  \n",
       "11440               467.736842            1750  \n",
       "11441               370.291667            1400  \n",
       "11442               522.764706            1950  \n",
       "11443               493.722222            1850  \n",
       "11444               467.736842            1750  "
      ]
     },
     "execution_count": 35,
     "metadata": {},
     "output_type": "execute_result"
    }
   ],
   "source": [
    "\n",
    "df_ford=df[df['Manufacturer']=='Ford']\n",
    "df_ford.head()"
   ]
  },
  {
   "cell_type": "code",
   "execution_count": 42,
   "metadata": {},
   "outputs": [
    {
     "data": {
      "text/html": [
       "<div>\n",
       "<style scoped>\n",
       "    .dataframe tbody tr th:only-of-type {\n",
       "        vertical-align: middle;\n",
       "    }\n",
       "\n",
       "    .dataframe tbody tr th {\n",
       "        vertical-align: top;\n",
       "    }\n",
       "\n",
       "    .dataframe thead th {\n",
       "        text-align: right;\n",
       "    }\n",
       "</style>\n",
       "<table border=\"1\" class=\"dataframe\">\n",
       "  <thead>\n",
       "    <tr style=\"text-align: right;\">\n",
       "      <th></th>\n",
       "      <th>Manufacturer</th>\n",
       "      <th>Model</th>\n",
       "      <th>Year</th>\n",
       "      <th>Displacement</th>\n",
       "      <th>Cylinders</th>\n",
       "      <th>Transmission</th>\n",
       "      <th>Drivetrain</th>\n",
       "      <th>Vehicle Class</th>\n",
       "      <th>Fuel Type</th>\n",
       "      <th>Fuel Barrels/Year</th>\n",
       "      <th>City MPG</th>\n",
       "      <th>Highway MPG</th>\n",
       "      <th>Combined MPG</th>\n",
       "      <th>CO2 Emission Grams/Mile</th>\n",
       "      <th>Fuel Cost/Year</th>\n",
       "    </tr>\n",
       "  </thead>\n",
       "  <tbody>\n",
       "    <tr>\n",
       "      <th>11440</th>\n",
       "      <td>Ford</td>\n",
       "      <td>Aerostar Van</td>\n",
       "      <td>1986</td>\n",
       "      <td>2.3</td>\n",
       "      <td>4.0</td>\n",
       "      <td>Automatic 4-spd</td>\n",
       "      <td>Rear-Wheel Drive</td>\n",
       "      <td>Vans</td>\n",
       "      <td>Regular</td>\n",
       "      <td>17.347895</td>\n",
       "      <td>18</td>\n",
       "      <td>22</td>\n",
       "      <td>19</td>\n",
       "      <td>467.736842</td>\n",
       "      <td>1750</td>\n",
       "    </tr>\n",
       "    <tr>\n",
       "      <th>11441</th>\n",
       "      <td>Ford</td>\n",
       "      <td>Aerostar Van</td>\n",
       "      <td>1986</td>\n",
       "      <td>2.3</td>\n",
       "      <td>4.0</td>\n",
       "      <td>Manual 5-spd</td>\n",
       "      <td>Rear-Wheel Drive</td>\n",
       "      <td>Vans</td>\n",
       "      <td>Regular</td>\n",
       "      <td>13.733750</td>\n",
       "      <td>23</td>\n",
       "      <td>26</td>\n",
       "      <td>24</td>\n",
       "      <td>370.291667</td>\n",
       "      <td>1400</td>\n",
       "    </tr>\n",
       "    <tr>\n",
       "      <th>11442</th>\n",
       "      <td>Ford</td>\n",
       "      <td>Aerostar Van</td>\n",
       "      <td>1986</td>\n",
       "      <td>2.8</td>\n",
       "      <td>6.0</td>\n",
       "      <td>Automatic 4-spd</td>\n",
       "      <td>Rear-Wheel Drive</td>\n",
       "      <td>Vans</td>\n",
       "      <td>Regular</td>\n",
       "      <td>19.388824</td>\n",
       "      <td>15</td>\n",
       "      <td>21</td>\n",
       "      <td>17</td>\n",
       "      <td>522.764706</td>\n",
       "      <td>1950</td>\n",
       "    </tr>\n",
       "    <tr>\n",
       "      <th>11443</th>\n",
       "      <td>Ford</td>\n",
       "      <td>Aerostar Van</td>\n",
       "      <td>1986</td>\n",
       "      <td>2.8</td>\n",
       "      <td>6.0</td>\n",
       "      <td>Manual 5-spd</td>\n",
       "      <td>Rear-Wheel Drive</td>\n",
       "      <td>Vans</td>\n",
       "      <td>Regular</td>\n",
       "      <td>18.311667</td>\n",
       "      <td>16</td>\n",
       "      <td>22</td>\n",
       "      <td>18</td>\n",
       "      <td>493.722222</td>\n",
       "      <td>1850</td>\n",
       "    </tr>\n",
       "    <tr>\n",
       "      <th>11444</th>\n",
       "      <td>Ford</td>\n",
       "      <td>Aerostar Van</td>\n",
       "      <td>1986</td>\n",
       "      <td>3.0</td>\n",
       "      <td>6.0</td>\n",
       "      <td>Manual 5-spd</td>\n",
       "      <td>Rear-Wheel Drive</td>\n",
       "      <td>Vans</td>\n",
       "      <td>Regular</td>\n",
       "      <td>17.347895</td>\n",
       "      <td>17</td>\n",
       "      <td>22</td>\n",
       "      <td>19</td>\n",
       "      <td>467.736842</td>\n",
       "      <td>1750</td>\n",
       "    </tr>\n",
       "  </tbody>\n",
       "</table>\n",
       "</div>"
      ],
      "text/plain": [
       "      Manufacturer         Model  Year  Displacement  Cylinders  \\\n",
       "11440         Ford  Aerostar Van  1986           2.3        4.0   \n",
       "11441         Ford  Aerostar Van  1986           2.3        4.0   \n",
       "11442         Ford  Aerostar Van  1986           2.8        6.0   \n",
       "11443         Ford  Aerostar Van  1986           2.8        6.0   \n",
       "11444         Ford  Aerostar Van  1986           3.0        6.0   \n",
       "\n",
       "          Transmission        Drivetrain Vehicle Class Fuel Type  \\\n",
       "11440  Automatic 4-spd  Rear-Wheel Drive          Vans   Regular   \n",
       "11441     Manual 5-spd  Rear-Wheel Drive          Vans   Regular   \n",
       "11442  Automatic 4-spd  Rear-Wheel Drive          Vans   Regular   \n",
       "11443     Manual 5-spd  Rear-Wheel Drive          Vans   Regular   \n",
       "11444     Manual 5-spd  Rear-Wheel Drive          Vans   Regular   \n",
       "\n",
       "       Fuel Barrels/Year  City MPG  Highway MPG  Combined MPG  \\\n",
       "11440          17.347895        18           22            19   \n",
       "11441          13.733750        23           26            24   \n",
       "11442          19.388824        15           21            17   \n",
       "11443          18.311667        16           22            18   \n",
       "11444          17.347895        17           22            19   \n",
       "\n",
       "       CO2 Emission Grams/Mile  Fuel Cost/Year  \n",
       "11440               467.736842            1750  \n",
       "11441               370.291667            1400  \n",
       "11442               522.764706            1950  \n",
       "11443               493.722222            1850  \n",
       "11444               467.736842            1750  "
      ]
     },
     "execution_count": 42,
     "metadata": {},
     "output_type": "execute_result"
    }
   ],
   "source": [
    "#APPLY VARIOUS FILTERS, EVERY CONDITION needs seperate ()\n",
    "df_ford_1986 = df[(df['Manufacturer']=='Ford') & (df['Year'] == 1986)] \n",
    "df_ford_1986.head()"
   ]
  },
  {
   "cell_type": "code",
   "execution_count": null,
   "metadata": {},
   "outputs": [],
   "source": [
    "#create new columns with hello in all rows\n",
    "df['hello'] ='hello' "
   ]
  },
  {
   "cell_type": "code",
   "execution_count": 58,
   "metadata": {},
   "outputs": [
    {
     "data": {
      "text/html": [
       "<div>\n",
       "<style scoped>\n",
       "    .dataframe tbody tr th:only-of-type {\n",
       "        vertical-align: middle;\n",
       "    }\n",
       "\n",
       "    .dataframe tbody tr th {\n",
       "        vertical-align: top;\n",
       "    }\n",
       "\n",
       "    .dataframe thead th {\n",
       "        text-align: right;\n",
       "    }\n",
       "</style>\n",
       "<table border=\"1\" class=\"dataframe\">\n",
       "  <thead>\n",
       "    <tr style=\"text-align: right;\">\n",
       "      <th></th>\n",
       "      <th>Manufacturer</th>\n",
       "      <th>Model</th>\n",
       "      <th>Year</th>\n",
       "      <th>Displacement</th>\n",
       "      <th>Cylinders</th>\n",
       "      <th>Transmission</th>\n",
       "      <th>Drivetrain</th>\n",
       "      <th>Vehicle Class</th>\n",
       "      <th>Fuel Type</th>\n",
       "      <th>Fuel Barrels/Year</th>\n",
       "      <th>City MPG</th>\n",
       "      <th>Highway MPG</th>\n",
       "      <th>Combined MPG</th>\n",
       "      <th>CO2 Emission Grams/Mile</th>\n",
       "      <th>Fuel Cost/Year</th>\n",
       "      <th>age_of_care</th>\n",
       "    </tr>\n",
       "  </thead>\n",
       "  <tbody>\n",
       "    <tr>\n",
       "      <th>0</th>\n",
       "      <td>AM General</td>\n",
       "      <td>DJ Po Vehicle 2WD</td>\n",
       "      <td>1984</td>\n",
       "      <td>2.5</td>\n",
       "      <td>4.0</td>\n",
       "      <td>Automatic 3-spd</td>\n",
       "      <td>2-Wheel Drive</td>\n",
       "      <td>Special Purpose Vehicle 2WD</td>\n",
       "      <td>Regular</td>\n",
       "      <td>19.388824</td>\n",
       "      <td>18</td>\n",
       "      <td>17</td>\n",
       "      <td>17</td>\n",
       "      <td>522.764706</td>\n",
       "      <td>1950</td>\n",
       "      <td>36</td>\n",
       "    </tr>\n",
       "    <tr>\n",
       "      <th>1</th>\n",
       "      <td>AM General</td>\n",
       "      <td>FJ8c Post Office</td>\n",
       "      <td>1984</td>\n",
       "      <td>4.2</td>\n",
       "      <td>6.0</td>\n",
       "      <td>Automatic 3-spd</td>\n",
       "      <td>2-Wheel Drive</td>\n",
       "      <td>Special Purpose Vehicle 2WD</td>\n",
       "      <td>Regular</td>\n",
       "      <td>25.354615</td>\n",
       "      <td>13</td>\n",
       "      <td>13</td>\n",
       "      <td>13</td>\n",
       "      <td>683.615385</td>\n",
       "      <td>2550</td>\n",
       "      <td>36</td>\n",
       "    </tr>\n",
       "    <tr>\n",
       "      <th>2</th>\n",
       "      <td>AM General</td>\n",
       "      <td>Post Office DJ5 2WD</td>\n",
       "      <td>1985</td>\n",
       "      <td>2.5</td>\n",
       "      <td>4.0</td>\n",
       "      <td>Automatic 3-spd</td>\n",
       "      <td>Rear-Wheel Drive</td>\n",
       "      <td>Special Purpose Vehicle 2WD</td>\n",
       "      <td>Regular</td>\n",
       "      <td>20.600625</td>\n",
       "      <td>16</td>\n",
       "      <td>17</td>\n",
       "      <td>16</td>\n",
       "      <td>555.437500</td>\n",
       "      <td>2100</td>\n",
       "      <td>35</td>\n",
       "    </tr>\n",
       "    <tr>\n",
       "      <th>3</th>\n",
       "      <td>AM General</td>\n",
       "      <td>Post Office DJ8 2WD</td>\n",
       "      <td>1985</td>\n",
       "      <td>4.2</td>\n",
       "      <td>6.0</td>\n",
       "      <td>Automatic 3-spd</td>\n",
       "      <td>Rear-Wheel Drive</td>\n",
       "      <td>Special Purpose Vehicle 2WD</td>\n",
       "      <td>Regular</td>\n",
       "      <td>25.354615</td>\n",
       "      <td>13</td>\n",
       "      <td>13</td>\n",
       "      <td>13</td>\n",
       "      <td>683.615385</td>\n",
       "      <td>2550</td>\n",
       "      <td>35</td>\n",
       "    </tr>\n",
       "    <tr>\n",
       "      <th>4</th>\n",
       "      <td>ASC Incorporated</td>\n",
       "      <td>GNX</td>\n",
       "      <td>1987</td>\n",
       "      <td>3.8</td>\n",
       "      <td>6.0</td>\n",
       "      <td>Automatic 4-spd</td>\n",
       "      <td>Rear-Wheel Drive</td>\n",
       "      <td>Midsize Cars</td>\n",
       "      <td>Premium</td>\n",
       "      <td>20.600625</td>\n",
       "      <td>14</td>\n",
       "      <td>21</td>\n",
       "      <td>16</td>\n",
       "      <td>555.437500</td>\n",
       "      <td>2550</td>\n",
       "      <td>33</td>\n",
       "    </tr>\n",
       "  </tbody>\n",
       "</table>\n",
       "</div>"
      ],
      "text/plain": [
       "       Manufacturer                Model  Year  Displacement  Cylinders  \\\n",
       "0        AM General    DJ Po Vehicle 2WD  1984           2.5        4.0   \n",
       "1        AM General     FJ8c Post Office  1984           4.2        6.0   \n",
       "2        AM General  Post Office DJ5 2WD  1985           2.5        4.0   \n",
       "3        AM General  Post Office DJ8 2WD  1985           4.2        6.0   \n",
       "4  ASC Incorporated                  GNX  1987           3.8        6.0   \n",
       "\n",
       "      Transmission        Drivetrain                Vehicle Class Fuel Type  \\\n",
       "0  Automatic 3-spd     2-Wheel Drive  Special Purpose Vehicle 2WD   Regular   \n",
       "1  Automatic 3-spd     2-Wheel Drive  Special Purpose Vehicle 2WD   Regular   \n",
       "2  Automatic 3-spd  Rear-Wheel Drive  Special Purpose Vehicle 2WD   Regular   \n",
       "3  Automatic 3-spd  Rear-Wheel Drive  Special Purpose Vehicle 2WD   Regular   \n",
       "4  Automatic 4-spd  Rear-Wheel Drive                 Midsize Cars   Premium   \n",
       "\n",
       "   Fuel Barrels/Year  City MPG  Highway MPG  Combined MPG  \\\n",
       "0          19.388824        18           17            17   \n",
       "1          25.354615        13           13            13   \n",
       "2          20.600625        16           17            16   \n",
       "3          25.354615        13           13            13   \n",
       "4          20.600625        14           21            16   \n",
       "\n",
       "   CO2 Emission Grams/Mile  Fuel Cost/Year  age_of_care  \n",
       "0               522.764706            1950           36  \n",
       "1               683.615385            2550           36  \n",
       "2               555.437500            2100           35  \n",
       "3               683.615385            2550           35  \n",
       "4               555.437500            2550           33  "
      ]
     },
     "execution_count": 58,
     "metadata": {},
     "output_type": "execute_result"
    }
   ],
   "source": [
    "#create new column and calculate\n",
    "df['age_of_care'] = 2020-df['Year'] #\n",
    "df.head()"
   ]
  },
  {
   "cell_type": "code",
   "execution_count": null,
   "metadata": {},
   "outputs": [],
   "source": [
    "#Delete column permantly with drop\n",
    "#Deleting column fule cost per year\n",
    "df.drop('Fuel Cost/Year', axis=1)#not permanet\n",
    "\n",
    "df=df.drop('Fuel Cost/Year', axis=1) #permanent\n",
    "df.drop('Fuel Cost/Year', axis=1, inplace=True) #permanent\n",
    "del df ['Fuel Cost/Year'] #permanent\n",
    "df.drop(['City MPG', 'Highway MPG'], axis=1, inplace=True) #delete several columns"
   ]
  },
  {
   "cell_type": "code",
   "execution_count": 63,
   "metadata": {},
   "outputs": [],
   "source": [
    "#APPLYING FUNCTION TO COLUMNS\n",
    "df.sum() #sum of all of my coumns\n",
    "df.sum(axis =1) # sum of all my rows\n",
    "df['Year'].sum() #sum single volume\n",
    "df[['Year','Fuel Cost/Year']].sum() #sum 2 columns: have to make it a list\n"
   ]
  },
  {
   "cell_type": "code",
   "execution_count": null,
   "metadata": {},
   "outputs": [],
   "source": [
    "#Warum double brackets needed? sieht man daran: Wenn man eine Liste vorher erstellt wird braucht man keine duble brackets. aber wenn man liste direkt hinen schreibt werden es double brackets\n",
    "columns_to_compute=['Year','Fuel Cost/Year']\n",
    "df[columns_to_compute].sum()\n",
    "#selbes Ergebenis\n",
    "df[['Year','Fuel Cost/Year']].sum()"
   ]
  },
  {
   "cell_type": "code",
   "execution_count": 5,
   "metadata": {},
   "outputs": [
    {
     "data": {
      "text/plain": [
       "Year              71929756\n",
       "Fuel Cost/Year    68042700\n",
       "dtype: int64"
      ]
     },
     "execution_count": 5,
     "metadata": {},
     "output_type": "execute_result"
    }
   ],
   "source": [
    "df[['Year','Fuel Cost/Year']].sum()"
   ]
  },
  {
   "cell_type": "code",
   "execution_count": null,
   "metadata": {},
   "outputs": [],
   "source": [
    "#SORT TEMPROARLY BY YEAR\n",
    "df.sort_values(by = 'Year')"
   ]
  },
  {
   "cell_type": "code",
   "execution_count": null,
   "metadata": {},
   "outputs": [],
   "source": [
    "#SORT PERMANTLY BY YEAR\n",
    "df.sort_values(by = 'Year', inplace = True)"
   ]
  },
  {
   "cell_type": "code",
   "execution_count": null,
   "metadata": {},
   "outputs": [],
   "source": [
    "df.sort_values(by=['Year'], inplace=True, ascending=False)"
   ]
  },
  {
   "cell_type": "code",
   "execution_count": 28,
   "metadata": {},
   "outputs": [
    {
     "data": {
      "text/html": [
       "<div>\n",
       "<style scoped>\n",
       "    .dataframe tbody tr th:only-of-type {\n",
       "        vertical-align: middle;\n",
       "    }\n",
       "\n",
       "    .dataframe tbody tr th {\n",
       "        vertical-align: top;\n",
       "    }\n",
       "\n",
       "    .dataframe thead th {\n",
       "        text-align: right;\n",
       "    }\n",
       "</style>\n",
       "<table border=\"1\" class=\"dataframe\">\n",
       "  <thead>\n",
       "    <tr style=\"text-align: right;\">\n",
       "      <th></th>\n",
       "      <th>Manufacturer</th>\n",
       "      <th>Model</th>\n",
       "      <th>Year</th>\n",
       "      <th>Engine Displacement</th>\n",
       "      <th>Cylinders</th>\n",
       "      <th>Transmission</th>\n",
       "      <th>Drivetrain</th>\n",
       "      <th>Vehicle Class</th>\n",
       "      <th>Fuel Type</th>\n",
       "      <th>Fuel Barrels/Year</th>\n",
       "      <th>City MPG</th>\n",
       "      <th>Highway MPG</th>\n",
       "      <th>Combined MPG</th>\n",
       "      <th>CO2 Emission Grams/Mile</th>\n",
       "      <th>Fuel Cost/Year</th>\n",
       "    </tr>\n",
       "  </thead>\n",
       "  <tbody>\n",
       "    <tr>\n",
       "      <th>0</th>\n",
       "      <td>AM General</td>\n",
       "      <td>DJ Po Vehicle 2WD</td>\n",
       "      <td>1984</td>\n",
       "      <td>2.5</td>\n",
       "      <td>4.0</td>\n",
       "      <td>Automatic 3-spd</td>\n",
       "      <td>2-Wheel Drive</td>\n",
       "      <td>Special Purpose Vehicle 2WD</td>\n",
       "      <td>Regular</td>\n",
       "      <td>19.388824</td>\n",
       "      <td>18</td>\n",
       "      <td>17</td>\n",
       "      <td>17</td>\n",
       "      <td>522.764706</td>\n",
       "      <td>1950</td>\n",
       "    </tr>\n",
       "    <tr>\n",
       "      <th>16337</th>\n",
       "      <td>GMC</td>\n",
       "      <td>T15 (S15) Pickup 4WD</td>\n",
       "      <td>1984</td>\n",
       "      <td>2.8</td>\n",
       "      <td>6.0</td>\n",
       "      <td>Manual 4-spd</td>\n",
       "      <td>4-Wheel or All-Wheel Drive</td>\n",
       "      <td>Standard Pickup Trucks 4WD</td>\n",
       "      <td>Regular</td>\n",
       "      <td>19.388824</td>\n",
       "      <td>15</td>\n",
       "      <td>21</td>\n",
       "      <td>17</td>\n",
       "      <td>522.764706</td>\n",
       "      <td>1950</td>\n",
       "    </tr>\n",
       "    <tr>\n",
       "      <th>16336</th>\n",
       "      <td>GMC</td>\n",
       "      <td>T15 (S15) Pickup 4WD</td>\n",
       "      <td>1984</td>\n",
       "      <td>2.8</td>\n",
       "      <td>6.0</td>\n",
       "      <td>Manual 5-spd</td>\n",
       "      <td>4-Wheel or All-Wheel Drive</td>\n",
       "      <td>Standard Pickup Trucks 4WD</td>\n",
       "      <td>Regular</td>\n",
       "      <td>18.311667</td>\n",
       "      <td>15</td>\n",
       "      <td>22</td>\n",
       "      <td>18</td>\n",
       "      <td>493.722222</td>\n",
       "      <td>1850</td>\n",
       "    </tr>\n",
       "    <tr>\n",
       "      <th>5636</th>\n",
       "      <td>Chevrolet</td>\n",
       "      <td>El Camino Pickup 2WD</td>\n",
       "      <td>1984</td>\n",
       "      <td>3.8</td>\n",
       "      <td>6.0</td>\n",
       "      <td>Automatic 3-spd</td>\n",
       "      <td>2-Wheel Drive</td>\n",
       "      <td>Standard Pickup Trucks 2WD</td>\n",
       "      <td>Regular</td>\n",
       "      <td>19.388824</td>\n",
       "      <td>15</td>\n",
       "      <td>19</td>\n",
       "      <td>17</td>\n",
       "      <td>522.764706</td>\n",
       "      <td>1950</td>\n",
       "    </tr>\n",
       "    <tr>\n",
       "      <th>5637</th>\n",
       "      <td>Chevrolet</td>\n",
       "      <td>El Camino Pickup 2WD</td>\n",
       "      <td>1984</td>\n",
       "      <td>3.8</td>\n",
       "      <td>6.0</td>\n",
       "      <td>Automatic 4-spd</td>\n",
       "      <td>2-Wheel Drive</td>\n",
       "      <td>Standard Pickup Trucks 2WD</td>\n",
       "      <td>Regular</td>\n",
       "      <td>18.311667</td>\n",
       "      <td>15</td>\n",
       "      <td>22</td>\n",
       "      <td>18</td>\n",
       "      <td>493.722222</td>\n",
       "      <td>1850</td>\n",
       "    </tr>\n",
       "    <tr>\n",
       "      <th>...</th>\n",
       "      <td>...</td>\n",
       "      <td>...</td>\n",
       "      <td>...</td>\n",
       "      <td>...</td>\n",
       "      <td>...</td>\n",
       "      <td>...</td>\n",
       "      <td>...</td>\n",
       "      <td>...</td>\n",
       "      <td>...</td>\n",
       "      <td>...</td>\n",
       "      <td>...</td>\n",
       "      <td>...</td>\n",
       "      <td>...</td>\n",
       "      <td>...</td>\n",
       "      <td>...</td>\n",
       "    </tr>\n",
       "    <tr>\n",
       "      <th>1968</th>\n",
       "      <td>BMW</td>\n",
       "      <td>340i xDrive</td>\n",
       "      <td>2017</td>\n",
       "      <td>3.0</td>\n",
       "      <td>6.0</td>\n",
       "      <td>Automatic (S8)</td>\n",
       "      <td>All-Wheel Drive</td>\n",
       "      <td>Compact Cars</td>\n",
       "      <td>Premium</td>\n",
       "      <td>13.184400</td>\n",
       "      <td>21</td>\n",
       "      <td>31</td>\n",
       "      <td>25</td>\n",
       "      <td>357.000000</td>\n",
       "      <td>1600</td>\n",
       "    </tr>\n",
       "    <tr>\n",
       "      <th>3137</th>\n",
       "      <td>Bentley</td>\n",
       "      <td>Continental GT</td>\n",
       "      <td>2017</td>\n",
       "      <td>4.0</td>\n",
       "      <td>8.0</td>\n",
       "      <td>Automatic (S8)</td>\n",
       "      <td>All-Wheel Drive</td>\n",
       "      <td>Compact Cars</td>\n",
       "      <td>Premium</td>\n",
       "      <td>17.347895</td>\n",
       "      <td>15</td>\n",
       "      <td>25</td>\n",
       "      <td>19</td>\n",
       "      <td>475.000000</td>\n",
       "      <td>2150</td>\n",
       "    </tr>\n",
       "    <tr>\n",
       "      <th>1965</th>\n",
       "      <td>BMW</td>\n",
       "      <td>340i</td>\n",
       "      <td>2017</td>\n",
       "      <td>3.0</td>\n",
       "      <td>6.0</td>\n",
       "      <td>Manual 6-spd</td>\n",
       "      <td>Rear-Wheel Drive</td>\n",
       "      <td>Compact Cars</td>\n",
       "      <td>Premium</td>\n",
       "      <td>14.330870</td>\n",
       "      <td>19</td>\n",
       "      <td>29</td>\n",
       "      <td>23</td>\n",
       "      <td>395.000000</td>\n",
       "      <td>1750</td>\n",
       "    </tr>\n",
       "    <tr>\n",
       "      <th>21091</th>\n",
       "      <td>Land Rover</td>\n",
       "      <td>Range Rover Evoque Convertible</td>\n",
       "      <td>2017</td>\n",
       "      <td>2.0</td>\n",
       "      <td>4.0</td>\n",
       "      <td>Automatic (S9)</td>\n",
       "      <td>4-Wheel Drive</td>\n",
       "      <td>Small Sport Utility Vehicle 4WD</td>\n",
       "      <td>Premium</td>\n",
       "      <td>14.330870</td>\n",
       "      <td>20</td>\n",
       "      <td>28</td>\n",
       "      <td>23</td>\n",
       "      <td>391.000000</td>\n",
       "      <td>1750</td>\n",
       "    </tr>\n",
       "    <tr>\n",
       "      <th>20450</th>\n",
       "      <td>Kia</td>\n",
       "      <td>Forte 5</td>\n",
       "      <td>2017</td>\n",
       "      <td>1.6</td>\n",
       "      <td>4.0</td>\n",
       "      <td>Manual 6-spd</td>\n",
       "      <td>Front-Wheel Drive</td>\n",
       "      <td>Large Cars</td>\n",
       "      <td>Regular</td>\n",
       "      <td>13.184400</td>\n",
       "      <td>23</td>\n",
       "      <td>29</td>\n",
       "      <td>25</td>\n",
       "      <td>353.000000</td>\n",
       "      <td>1350</td>\n",
       "    </tr>\n",
       "  </tbody>\n",
       "</table>\n",
       "<p>35952 rows × 15 columns</p>\n",
       "</div>"
      ],
      "text/plain": [
       "      Manufacturer                           Model  Year  Engine Displacement  \\\n",
       "0       AM General               DJ Po Vehicle 2WD  1984                  2.5   \n",
       "16337          GMC            T15 (S15) Pickup 4WD  1984                  2.8   \n",
       "16336          GMC            T15 (S15) Pickup 4WD  1984                  2.8   \n",
       "5636     Chevrolet            El Camino Pickup 2WD  1984                  3.8   \n",
       "5637     Chevrolet            El Camino Pickup 2WD  1984                  3.8   \n",
       "...            ...                             ...   ...                  ...   \n",
       "1968           BMW                     340i xDrive  2017                  3.0   \n",
       "3137       Bentley                  Continental GT  2017                  4.0   \n",
       "1965           BMW                            340i  2017                  3.0   \n",
       "21091   Land Rover  Range Rover Evoque Convertible  2017                  2.0   \n",
       "20450          Kia                         Forte 5  2017                  1.6   \n",
       "\n",
       "       Cylinders     Transmission                  Drivetrain  \\\n",
       "0            4.0  Automatic 3-spd               2-Wheel Drive   \n",
       "16337        6.0     Manual 4-spd  4-Wheel or All-Wheel Drive   \n",
       "16336        6.0     Manual 5-spd  4-Wheel or All-Wheel Drive   \n",
       "5636         6.0  Automatic 3-spd               2-Wheel Drive   \n",
       "5637         6.0  Automatic 4-spd               2-Wheel Drive   \n",
       "...          ...              ...                         ...   \n",
       "1968         6.0   Automatic (S8)             All-Wheel Drive   \n",
       "3137         8.0   Automatic (S8)             All-Wheel Drive   \n",
       "1965         6.0     Manual 6-spd            Rear-Wheel Drive   \n",
       "21091        4.0   Automatic (S9)               4-Wheel Drive   \n",
       "20450        4.0     Manual 6-spd           Front-Wheel Drive   \n",
       "\n",
       "                         Vehicle Class Fuel Type  Fuel Barrels/Year  City MPG  \\\n",
       "0          Special Purpose Vehicle 2WD   Regular          19.388824        18   \n",
       "16337       Standard Pickup Trucks 4WD   Regular          19.388824        15   \n",
       "16336       Standard Pickup Trucks 4WD   Regular          18.311667        15   \n",
       "5636        Standard Pickup Trucks 2WD   Regular          19.388824        15   \n",
       "5637        Standard Pickup Trucks 2WD   Regular          18.311667        15   \n",
       "...                                ...       ...                ...       ...   \n",
       "1968                      Compact Cars   Premium          13.184400        21   \n",
       "3137                      Compact Cars   Premium          17.347895        15   \n",
       "1965                      Compact Cars   Premium          14.330870        19   \n",
       "21091  Small Sport Utility Vehicle 4WD   Premium          14.330870        20   \n",
       "20450                       Large Cars   Regular          13.184400        23   \n",
       "\n",
       "       Highway MPG  Combined MPG  CO2 Emission Grams/Mile  Fuel Cost/Year  \n",
       "0               17            17               522.764706            1950  \n",
       "16337           21            17               522.764706            1950  \n",
       "16336           22            18               493.722222            1850  \n",
       "5636            19            17               522.764706            1950  \n",
       "5637            22            18               493.722222            1850  \n",
       "...            ...           ...                      ...             ...  \n",
       "1968            31            25               357.000000            1600  \n",
       "3137            25            19               475.000000            2150  \n",
       "1965            29            23               395.000000            1750  \n",
       "21091           28            23               391.000000            1750  \n",
       "20450           29            25               353.000000            1350  \n",
       "\n",
       "[35952 rows x 15 columns]"
      ]
     },
     "execution_count": 28,
     "metadata": {},
     "output_type": "execute_result"
    }
   ],
   "source": [
    "df.sort_values(by ='Year', ascending=True)"
   ]
  },
  {
   "cell_type": "raw",
   "metadata": {},
   "source": []
  },
  {
   "cell_type": "code",
   "execution_count": null,
   "metadata": {},
   "outputs": [],
   "source": [
    "#largest 3 Years\n",
    "df.nlargest(3,'Year')\n",
    "df.nsmallest(3,'Year')\n",
    "df.nlargest(3,['Year','City MPG'])"
   ]
  },
  {
   "cell_type": "code",
   "execution_count": 11,
   "metadata": {},
   "outputs": [
    {
     "data": {
      "text/plain": [
       "0              AM GENERAL\n",
       "1              AM GENERAL\n",
       "2              AM GENERAL\n",
       "3              AM GENERAL\n",
       "4        ASC INCORPORATED\n",
       "               ...       \n",
       "35947               SMART\n",
       "35948               SMART\n",
       "35949               SMART\n",
       "35950               SMART\n",
       "35951               SMART\n",
       "Name: Manufacturer, Length: 35952, dtype: object"
      ]
     },
     "execution_count": 11,
     "metadata": {},
     "output_type": "execute_result"
    }
   ],
   "source": [
    "# METHODS THAT ONLY APPLY TO ONE ELEMENT\n",
    "#ex .upper() cant run on a series. Upper is a method not a function. A method is tied to a datatype. upper can only work with string\n",
    "df['Manufacturer'].str.upper() # only str. makes upper understand its looking at element as a string\n",
    "df['Manufacturer'].apply(lambda x: x.upper()) # same thing with lambda"
   ]
  },
  {
   "cell_type": "code",
   "execution_count": 13,
   "metadata": {},
   "outputs": [
    {
     "data": {
      "text/plain": [
       "0              AM Generbl\n",
       "1              AM Generbl\n",
       "2              AM Generbl\n",
       "3              AM Generbl\n",
       "4        ASC Incorporbted\n",
       "               ...       \n",
       "35947               smbrt\n",
       "35948               smbrt\n",
       "35949               smbrt\n",
       "35950               smbrt\n",
       "35951               smbrt\n",
       "Name: Manufacturer, Length: 35952, dtype: object"
      ]
     },
     "execution_count": 13,
     "metadata": {},
     "output_type": "execute_result"
    }
   ],
   "source": [
    "#replace 'a' by 'b' Good for data cleaning\n",
    "df['Manufacturer'].apply(lambda x: x.replace('a','b'))"
   ]
  },
  {
   "cell_type": "code",
   "execution_count": null,
   "metadata": {},
   "outputs": [],
   "source": []
  },
  {
   "cell_type": "code",
   "execution_count": null,
   "metadata": {},
   "outputs": [],
   "source": []
  },
  {
   "cell_type": "code",
   "execution_count": 30,
   "metadata": {},
   "outputs": [
    {
     "data": {
      "text/html": [
       "<div>\n",
       "<style scoped>\n",
       "    .dataframe tbody tr th:only-of-type {\n",
       "        vertical-align: middle;\n",
       "    }\n",
       "\n",
       "    .dataframe tbody tr th {\n",
       "        vertical-align: top;\n",
       "    }\n",
       "\n",
       "    .dataframe thead th {\n",
       "        text-align: right;\n",
       "    }\n",
       "</style>\n",
       "<table border=\"1\" class=\"dataframe\">\n",
       "  <thead>\n",
       "    <tr style=\"text-align: right;\">\n",
       "      <th></th>\n",
       "      <th>Year</th>\n",
       "      <th>Engine Displacement</th>\n",
       "      <th>Cylinders</th>\n",
       "      <th>Fuel Barrels/Year</th>\n",
       "      <th>City MPG</th>\n",
       "      <th>Highway MPG</th>\n",
       "      <th>Combined MPG</th>\n",
       "      <th>CO2 Emission Grams/Mile</th>\n",
       "      <th>Fuel Cost/Year</th>\n",
       "    </tr>\n",
       "    <tr>\n",
       "      <th>Fuel Type</th>\n",
       "      <th></th>\n",
       "      <th></th>\n",
       "      <th></th>\n",
       "      <th></th>\n",
       "      <th></th>\n",
       "      <th></th>\n",
       "      <th></th>\n",
       "      <th></th>\n",
       "      <th></th>\n",
       "    </tr>\n",
       "  </thead>\n",
       "  <tbody>\n",
       "    <tr>\n",
       "      <th>CNG</th>\n",
       "      <td>2003.200000</td>\n",
       "      <td>3.963333</td>\n",
       "      <td>6.500000</td>\n",
       "      <td>0.119789</td>\n",
       "      <td>15.966667</td>\n",
       "      <td>22.016667</td>\n",
       "      <td>18.133333</td>\n",
       "      <td>454.976354</td>\n",
       "      <td>1954.166667</td>\n",
       "    </tr>\n",
       "    <tr>\n",
       "      <th>Diesel</th>\n",
       "      <td>1994.929748</td>\n",
       "      <td>4.188913</td>\n",
       "      <td>6.225027</td>\n",
       "      <td>17.680877</td>\n",
       "      <td>21.173436</td>\n",
       "      <td>27.466520</td>\n",
       "      <td>23.488474</td>\n",
       "      <td>470.905819</td>\n",
       "      <td>1673.326015</td>\n",
       "    </tr>\n",
       "    <tr>\n",
       "      <th>Gasoline or E85</th>\n",
       "      <td>2010.501255</td>\n",
       "      <td>4.465188</td>\n",
       "      <td>6.974059</td>\n",
       "      <td>19.560309</td>\n",
       "      <td>15.347280</td>\n",
       "      <td>21.613389</td>\n",
       "      <td>17.572385</td>\n",
       "      <td>527.444383</td>\n",
       "      <td>1978.870293</td>\n",
       "    </tr>\n",
       "    <tr>\n",
       "      <th>Gasoline or natural gas</th>\n",
       "      <td>2004.000000</td>\n",
       "      <td>4.570000</td>\n",
       "      <td>6.800000</td>\n",
       "      <td>23.725940</td>\n",
       "      <td>13.700000</td>\n",
       "      <td>18.700000</td>\n",
       "      <td>15.350000</td>\n",
       "      <td>638.967778</td>\n",
       "      <td>2410.000000</td>\n",
       "    </tr>\n",
       "    <tr>\n",
       "      <th>Gasoline or propane</th>\n",
       "      <td>2002.500000</td>\n",
       "      <td>5.400000</td>\n",
       "      <td>8.000000</td>\n",
       "      <td>24.720750</td>\n",
       "      <td>12.000000</td>\n",
       "      <td>16.500000</td>\n",
       "      <td>13.500000</td>\n",
       "      <td>666.525000</td>\n",
       "      <td>2500.000000</td>\n",
       "    </tr>\n",
       "    <tr>\n",
       "      <th>Midgrade</th>\n",
       "      <td>2014.148649</td>\n",
       "      <td>5.536486</td>\n",
       "      <td>7.864865</td>\n",
       "      <td>19.163168</td>\n",
       "      <td>14.851351</td>\n",
       "      <td>22.364865</td>\n",
       "      <td>17.378378</td>\n",
       "      <td>516.911921</td>\n",
       "      <td>2152.027027</td>\n",
       "    </tr>\n",
       "    <tr>\n",
       "      <th>Premium</th>\n",
       "      <td>2005.575345</td>\n",
       "      <td>3.517075</td>\n",
       "      <td>6.365286</td>\n",
       "      <td>17.852563</td>\n",
       "      <td>16.793166</td>\n",
       "      <td>23.855861</td>\n",
       "      <td>19.343816</td>\n",
       "      <td>481.159270</td>\n",
       "      <td>2198.094950</td>\n",
       "    </tr>\n",
       "    <tr>\n",
       "      <th>Premium Gas or Electricity</th>\n",
       "      <td>2014.470588</td>\n",
       "      <td>1.764706</td>\n",
       "      <td>4.235294</td>\n",
       "      <td>4.755412</td>\n",
       "      <td>30.705882</td>\n",
       "      <td>33.176471</td>\n",
       "      <td>31.647059</td>\n",
       "      <td>125.411765</td>\n",
       "      <td>1361.764706</td>\n",
       "    </tr>\n",
       "    <tr>\n",
       "      <th>Premium and Electricity</th>\n",
       "      <td>2015.700000</td>\n",
       "      <td>2.345000</td>\n",
       "      <td>4.850000</td>\n",
       "      <td>8.135294</td>\n",
       "      <td>24.900000</td>\n",
       "      <td>28.900000</td>\n",
       "      <td>26.300000</td>\n",
       "      <td>239.450000</td>\n",
       "      <td>1597.500000</td>\n",
       "    </tr>\n",
       "    <tr>\n",
       "      <th>Premium or E85</th>\n",
       "      <td>2012.917355</td>\n",
       "      <td>3.680992</td>\n",
       "      <td>6.892562</td>\n",
       "      <td>17.021126</td>\n",
       "      <td>17.305785</td>\n",
       "      <td>24.909091</td>\n",
       "      <td>20.090909</td>\n",
       "      <td>460.462355</td>\n",
       "      <td>2091.322314</td>\n",
       "    </tr>\n",
       "    <tr>\n",
       "      <th>Regular</th>\n",
       "      <td>1998.252597</td>\n",
       "      <td>3.164540</td>\n",
       "      <td>5.420952</td>\n",
       "      <td>17.467430</td>\n",
       "      <td>17.970195</td>\n",
       "      <td>23.854623</td>\n",
       "      <td>20.144698</td>\n",
       "      <td>470.907242</td>\n",
       "      <td>1767.024208</td>\n",
       "    </tr>\n",
       "    <tr>\n",
       "      <th>Regular Gas and Electricity</th>\n",
       "      <td>2014.625000</td>\n",
       "      <td>1.950000</td>\n",
       "      <td>4.000000</td>\n",
       "      <td>4.669536</td>\n",
       "      <td>43.125000</td>\n",
       "      <td>40.750000</td>\n",
       "      <td>41.937500</td>\n",
       "      <td>125.687500</td>\n",
       "      <td>812.500000</td>\n",
       "    </tr>\n",
       "    <tr>\n",
       "      <th>Regular Gas or Electricity</th>\n",
       "      <td>2016.500000</td>\n",
       "      <td>1.500000</td>\n",
       "      <td>4.000000</td>\n",
       "      <td>2.006844</td>\n",
       "      <td>43.000000</td>\n",
       "      <td>42.000000</td>\n",
       "      <td>42.000000</td>\n",
       "      <td>51.000000</td>\n",
       "      <td>800.000000</td>\n",
       "    </tr>\n",
       "  </tbody>\n",
       "</table>\n",
       "</div>"
      ],
      "text/plain": [
       "                                    Year  Engine Displacement  Cylinders  \\\n",
       "Fuel Type                                                                  \n",
       "CNG                          2003.200000             3.963333   6.500000   \n",
       "Diesel                       1994.929748             4.188913   6.225027   \n",
       "Gasoline or E85              2010.501255             4.465188   6.974059   \n",
       "Gasoline or natural gas      2004.000000             4.570000   6.800000   \n",
       "Gasoline or propane          2002.500000             5.400000   8.000000   \n",
       "Midgrade                     2014.148649             5.536486   7.864865   \n",
       "Premium                      2005.575345             3.517075   6.365286   \n",
       "Premium Gas or Electricity   2014.470588             1.764706   4.235294   \n",
       "Premium and Electricity      2015.700000             2.345000   4.850000   \n",
       "Premium or E85               2012.917355             3.680992   6.892562   \n",
       "Regular                      1998.252597             3.164540   5.420952   \n",
       "Regular Gas and Electricity  2014.625000             1.950000   4.000000   \n",
       "Regular Gas or Electricity   2016.500000             1.500000   4.000000   \n",
       "\n",
       "                             Fuel Barrels/Year   City MPG  Highway MPG  \\\n",
       "Fuel Type                                                                \n",
       "CNG                                   0.119789  15.966667    22.016667   \n",
       "Diesel                               17.680877  21.173436    27.466520   \n",
       "Gasoline or E85                      19.560309  15.347280    21.613389   \n",
       "Gasoline or natural gas              23.725940  13.700000    18.700000   \n",
       "Gasoline or propane                  24.720750  12.000000    16.500000   \n",
       "Midgrade                             19.163168  14.851351    22.364865   \n",
       "Premium                              17.852563  16.793166    23.855861   \n",
       "Premium Gas or Electricity            4.755412  30.705882    33.176471   \n",
       "Premium and Electricity               8.135294  24.900000    28.900000   \n",
       "Premium or E85                       17.021126  17.305785    24.909091   \n",
       "Regular                              17.467430  17.970195    23.854623   \n",
       "Regular Gas and Electricity           4.669536  43.125000    40.750000   \n",
       "Regular Gas or Electricity            2.006844  43.000000    42.000000   \n",
       "\n",
       "                             Combined MPG  CO2 Emission Grams/Mile  \\\n",
       "Fuel Type                                                            \n",
       "CNG                             18.133333               454.976354   \n",
       "Diesel                          23.488474               470.905819   \n",
       "Gasoline or E85                 17.572385               527.444383   \n",
       "Gasoline or natural gas         15.350000               638.967778   \n",
       "Gasoline or propane             13.500000               666.525000   \n",
       "Midgrade                        17.378378               516.911921   \n",
       "Premium                         19.343816               481.159270   \n",
       "Premium Gas or Electricity      31.647059               125.411765   \n",
       "Premium and Electricity         26.300000               239.450000   \n",
       "Premium or E85                  20.090909               460.462355   \n",
       "Regular                         20.144698               470.907242   \n",
       "Regular Gas and Electricity     41.937500               125.687500   \n",
       "Regular Gas or Electricity      42.000000                51.000000   \n",
       "\n",
       "                             Fuel Cost/Year  \n",
       "Fuel Type                                    \n",
       "CNG                             1954.166667  \n",
       "Diesel                          1673.326015  \n",
       "Gasoline or E85                 1978.870293  \n",
       "Gasoline or natural gas         2410.000000  \n",
       "Gasoline or propane             2500.000000  \n",
       "Midgrade                        2152.027027  \n",
       "Premium                         2198.094950  \n",
       "Premium Gas or Electricity      1361.764706  \n",
       "Premium and Electricity         1597.500000  \n",
       "Premium or E85                  2091.322314  \n",
       "Regular                         1767.024208  \n",
       "Regular Gas and Electricity      812.500000  \n",
       "Regular Gas or Electricity       800.000000  "
      ]
     },
     "execution_count": 30,
     "metadata": {},
     "output_type": "execute_result"
    }
   ],
   "source": [
    "#DATAFRAME AGGREGATIONS USING GROUPBY\n",
    "#aplly something to various groups\n",
    "df.groupby('Fuel Type').mean()# Group by Fuel Type.\n"
   ]
  },
  {
   "cell_type": "code",
   "execution_count": 21,
   "metadata": {
    "scrolled": false
   },
   "outputs": [
    {
     "data": {
      "text/html": [
       "<div>\n",
       "<style scoped>\n",
       "    .dataframe tbody tr th:only-of-type {\n",
       "        vertical-align: middle;\n",
       "    }\n",
       "\n",
       "    .dataframe tbody tr th {\n",
       "        vertical-align: top;\n",
       "    }\n",
       "\n",
       "    .dataframe thead th {\n",
       "        text-align: right;\n",
       "    }\n",
       "</style>\n",
       "<table border=\"1\" class=\"dataframe\">\n",
       "  <thead>\n",
       "    <tr style=\"text-align: right;\">\n",
       "      <th></th>\n",
       "      <th></th>\n",
       "      <th>Year</th>\n",
       "      <th>Engine Displacement</th>\n",
       "      <th>Cylinders</th>\n",
       "      <th>Fuel Barrels/Year</th>\n",
       "      <th>City MPG</th>\n",
       "      <th>Highway MPG</th>\n",
       "      <th>Combined MPG</th>\n",
       "      <th>CO2 Emission Grams/Mile</th>\n",
       "      <th>Fuel Cost/Year</th>\n",
       "    </tr>\n",
       "    <tr>\n",
       "      <th>Fuel Type</th>\n",
       "      <th>Manufacturer</th>\n",
       "      <th></th>\n",
       "      <th></th>\n",
       "      <th></th>\n",
       "      <th></th>\n",
       "      <th></th>\n",
       "      <th></th>\n",
       "      <th></th>\n",
       "      <th></th>\n",
       "      <th></th>\n",
       "    </tr>\n",
       "  </thead>\n",
       "  <tbody>\n",
       "    <tr>\n",
       "      <th rowspan=\"5\" valign=\"top\">CNG</th>\n",
       "      <th>Chevrolet</th>\n",
       "      <td>2004.400000</td>\n",
       "      <td>6.000000</td>\n",
       "      <td>8.00</td>\n",
       "      <td>0.181867</td>\n",
       "      <td>9.400000</td>\n",
       "      <td>12.600000</td>\n",
       "      <td>10.400000</td>\n",
       "      <td>693.198000</td>\n",
       "      <td>2950.000000</td>\n",
       "    </tr>\n",
       "    <tr>\n",
       "      <th>Dodge</th>\n",
       "      <td>1998.875000</td>\n",
       "      <td>4.487500</td>\n",
       "      <td>7.25</td>\n",
       "      <td>0.133433</td>\n",
       "      <td>12.625000</td>\n",
       "      <td>17.250000</td>\n",
       "      <td>14.250000</td>\n",
       "      <td>508.590547</td>\n",
       "      <td>2181.250000</td>\n",
       "    </tr>\n",
       "    <tr>\n",
       "      <th>Ford</th>\n",
       "      <td>2000.368421</td>\n",
       "      <td>5.063158</td>\n",
       "      <td>8.00</td>\n",
       "      <td>0.138454</td>\n",
       "      <td>11.894737</td>\n",
       "      <td>16.842105</td>\n",
       "      <td>13.736842</td>\n",
       "      <td>527.726359</td>\n",
       "      <td>2252.631579</td>\n",
       "    </tr>\n",
       "    <tr>\n",
       "      <th>GMC</th>\n",
       "      <td>2004.500000</td>\n",
       "      <td>6.000000</td>\n",
       "      <td>8.00</td>\n",
       "      <td>0.180833</td>\n",
       "      <td>9.500000</td>\n",
       "      <td>13.000000</td>\n",
       "      <td>10.500000</td>\n",
       "      <td>689.259375</td>\n",
       "      <td>2925.000000</td>\n",
       "    </tr>\n",
       "    <tr>\n",
       "      <th>Honda</th>\n",
       "      <td>2006.500000</td>\n",
       "      <td>1.738889</td>\n",
       "      <td>4.00</td>\n",
       "      <td>0.065410</td>\n",
       "      <td>25.222222</td>\n",
       "      <td>34.222222</td>\n",
       "      <td>28.500000</td>\n",
       "      <td>247.532772</td>\n",
       "      <td>1077.777778</td>\n",
       "    </tr>\n",
       "    <tr>\n",
       "      <th>...</th>\n",
       "      <th>...</th>\n",
       "      <td>...</td>\n",
       "      <td>...</td>\n",
       "      <td>...</td>\n",
       "      <td>...</td>\n",
       "      <td>...</td>\n",
       "      <td>...</td>\n",
       "      <td>...</td>\n",
       "      <td>...</td>\n",
       "      <td>...</td>\n",
       "    </tr>\n",
       "    <tr>\n",
       "      <th rowspan=\"4\" valign=\"top\">Regular Gas and Electricity</th>\n",
       "      <th>Ford</th>\n",
       "      <td>2014.777778</td>\n",
       "      <td>2.000000</td>\n",
       "      <td>4.00</td>\n",
       "      <td>4.801412</td>\n",
       "      <td>40.333333</td>\n",
       "      <td>36.555556</td>\n",
       "      <td>38.444444</td>\n",
       "      <td>127.111111</td>\n",
       "      <td>888.888889</td>\n",
       "    </tr>\n",
       "    <tr>\n",
       "      <th>Honda</th>\n",
       "      <td>2014.000000</td>\n",
       "      <td>2.000000</td>\n",
       "      <td>4.00</td>\n",
       "      <td>4.827657</td>\n",
       "      <td>47.000000</td>\n",
       "      <td>46.000000</td>\n",
       "      <td>46.000000</td>\n",
       "      <td>130.000000</td>\n",
       "      <td>700.000000</td>\n",
       "    </tr>\n",
       "    <tr>\n",
       "      <th>Hyundai</th>\n",
       "      <td>2016.500000</td>\n",
       "      <td>2.000000</td>\n",
       "      <td>4.00</td>\n",
       "      <td>3.858080</td>\n",
       "      <td>38.000000</td>\n",
       "      <td>40.500000</td>\n",
       "      <td>39.500000</td>\n",
       "      <td>102.500000</td>\n",
       "      <td>850.000000</td>\n",
       "    </tr>\n",
       "    <tr>\n",
       "      <th>Toyota</th>\n",
       "      <td>2013.500000</td>\n",
       "      <td>1.800000</td>\n",
       "      <td>4.00</td>\n",
       "      <td>4.739011</td>\n",
       "      <td>51.000000</td>\n",
       "      <td>49.000000</td>\n",
       "      <td>50.000000</td>\n",
       "      <td>133.000000</td>\n",
       "      <td>650.000000</td>\n",
       "    </tr>\n",
       "    <tr>\n",
       "      <th>Regular Gas or Electricity</th>\n",
       "      <th>Chevrolet</th>\n",
       "      <td>2016.500000</td>\n",
       "      <td>1.500000</td>\n",
       "      <td>4.00</td>\n",
       "      <td>2.006844</td>\n",
       "      <td>43.000000</td>\n",
       "      <td>42.000000</td>\n",
       "      <td>42.000000</td>\n",
       "      <td>51.000000</td>\n",
       "      <td>800.000000</td>\n",
       "    </tr>\n",
       "  </tbody>\n",
       "</table>\n",
       "<p>265 rows × 9 columns</p>\n",
       "</div>"
      ],
      "text/plain": [
       "                                                 Year  Engine Displacement  \\\n",
       "Fuel Type                   Manufacturer                                     \n",
       "CNG                         Chevrolet     2004.400000             6.000000   \n",
       "                            Dodge         1998.875000             4.487500   \n",
       "                            Ford          2000.368421             5.063158   \n",
       "                            GMC           2004.500000             6.000000   \n",
       "                            Honda         2006.500000             1.738889   \n",
       "...                                               ...                  ...   \n",
       "Regular Gas and Electricity Ford          2014.777778             2.000000   \n",
       "                            Honda         2014.000000             2.000000   \n",
       "                            Hyundai       2016.500000             2.000000   \n",
       "                            Toyota        2013.500000             1.800000   \n",
       "Regular Gas or Electricity  Chevrolet     2016.500000             1.500000   \n",
       "\n",
       "                                          Cylinders  Fuel Barrels/Year  \\\n",
       "Fuel Type                   Manufacturer                                 \n",
       "CNG                         Chevrolet          8.00           0.181867   \n",
       "                            Dodge              7.25           0.133433   \n",
       "                            Ford               8.00           0.138454   \n",
       "                            GMC                8.00           0.180833   \n",
       "                            Honda              4.00           0.065410   \n",
       "...                                             ...                ...   \n",
       "Regular Gas and Electricity Ford               4.00           4.801412   \n",
       "                            Honda              4.00           4.827657   \n",
       "                            Hyundai            4.00           3.858080   \n",
       "                            Toyota             4.00           4.739011   \n",
       "Regular Gas or Electricity  Chevrolet          4.00           2.006844   \n",
       "\n",
       "                                           City MPG  Highway MPG  \\\n",
       "Fuel Type                   Manufacturer                           \n",
       "CNG                         Chevrolet      9.400000    12.600000   \n",
       "                            Dodge         12.625000    17.250000   \n",
       "                            Ford          11.894737    16.842105   \n",
       "                            GMC            9.500000    13.000000   \n",
       "                            Honda         25.222222    34.222222   \n",
       "...                                             ...          ...   \n",
       "Regular Gas and Electricity Ford          40.333333    36.555556   \n",
       "                            Honda         47.000000    46.000000   \n",
       "                            Hyundai       38.000000    40.500000   \n",
       "                            Toyota        51.000000    49.000000   \n",
       "Regular Gas or Electricity  Chevrolet     43.000000    42.000000   \n",
       "\n",
       "                                          Combined MPG  \\\n",
       "Fuel Type                   Manufacturer                 \n",
       "CNG                         Chevrolet        10.400000   \n",
       "                            Dodge            14.250000   \n",
       "                            Ford             13.736842   \n",
       "                            GMC              10.500000   \n",
       "                            Honda            28.500000   \n",
       "...                                                ...   \n",
       "Regular Gas and Electricity Ford             38.444444   \n",
       "                            Honda            46.000000   \n",
       "                            Hyundai          39.500000   \n",
       "                            Toyota           50.000000   \n",
       "Regular Gas or Electricity  Chevrolet        42.000000   \n",
       "\n",
       "                                          CO2 Emission Grams/Mile  \\\n",
       "Fuel Type                   Manufacturer                            \n",
       "CNG                         Chevrolet                  693.198000   \n",
       "                            Dodge                      508.590547   \n",
       "                            Ford                       527.726359   \n",
       "                            GMC                        689.259375   \n",
       "                            Honda                      247.532772   \n",
       "...                                                           ...   \n",
       "Regular Gas and Electricity Ford                       127.111111   \n",
       "                            Honda                      130.000000   \n",
       "                            Hyundai                    102.500000   \n",
       "                            Toyota                     133.000000   \n",
       "Regular Gas or Electricity  Chevrolet                   51.000000   \n",
       "\n",
       "                                          Fuel Cost/Year  \n",
       "Fuel Type                   Manufacturer                  \n",
       "CNG                         Chevrolet        2950.000000  \n",
       "                            Dodge            2181.250000  \n",
       "                            Ford             2252.631579  \n",
       "                            GMC              2925.000000  \n",
       "                            Honda            1077.777778  \n",
       "...                                                  ...  \n",
       "Regular Gas and Electricity Ford              888.888889  \n",
       "                            Honda             700.000000  \n",
       "                            Hyundai           850.000000  \n",
       "                            Toyota            650.000000  \n",
       "Regular Gas or Electricity  Chevrolet         800.000000  \n",
       "\n",
       "[265 rows x 9 columns]"
      ]
     },
     "execution_count": 21,
     "metadata": {},
     "output_type": "execute_result"
    }
   ],
   "source": [
    "#GROUPBY SEVERAL COLUMSN\n",
    "df.groupby(['Fuel Type','Manufacturer']).mean()"
   ]
  },
  {
   "cell_type": "code",
   "execution_count": 22,
   "metadata": {},
   "outputs": [
    {
     "data": {
      "text/plain": [
       "Fuel Type\n",
       "CNG                            6.500000\n",
       "Diesel                         6.225027\n",
       "Gasoline or E85                6.974059\n",
       "Gasoline or natural gas        6.800000\n",
       "Gasoline or propane            8.000000\n",
       "Midgrade                       7.864865\n",
       "Premium                        6.365286\n",
       "Premium Gas or Electricity     4.235294\n",
       "Premium and Electricity        4.850000\n",
       "Premium or E85                 6.892562\n",
       "Regular                        5.420952\n",
       "Regular Gas and Electricity    4.000000\n",
       "Regular Gas or Electricity     4.000000\n",
       "Name: Cylinders, dtype: float64"
      ]
     },
     "execution_count": 22,
     "metadata": {},
     "output_type": "execute_result"
    }
   ],
   "source": [
    "#GROUPBY SEVERAL \n",
    "df.groupby(['Fuel Type'])['Cylinders'].mean() #Mean for Cylinders grouped by Fuel Type"
   ]
  },
  {
   "cell_type": "code",
   "execution_count": 23,
   "metadata": {},
   "outputs": [
    {
     "name": "stderr",
     "output_type": "stream",
     "text": [
      "<ipython-input-23-3d01ab60d1e2>:1: FutureWarning: Indexing with multiple keys (implicitly converted to a tuple of keys) will be deprecated, use a list instead.\n",
      "  df.groupby(['Fuel Type'])['Cylinders','City MPG'].mean()\n"
     ]
    },
    {
     "data": {
      "text/html": [
       "<div>\n",
       "<style scoped>\n",
       "    .dataframe tbody tr th:only-of-type {\n",
       "        vertical-align: middle;\n",
       "    }\n",
       "\n",
       "    .dataframe tbody tr th {\n",
       "        vertical-align: top;\n",
       "    }\n",
       "\n",
       "    .dataframe thead th {\n",
       "        text-align: right;\n",
       "    }\n",
       "</style>\n",
       "<table border=\"1\" class=\"dataframe\">\n",
       "  <thead>\n",
       "    <tr style=\"text-align: right;\">\n",
       "      <th></th>\n",
       "      <th>Cylinders</th>\n",
       "      <th>City MPG</th>\n",
       "    </tr>\n",
       "    <tr>\n",
       "      <th>Fuel Type</th>\n",
       "      <th></th>\n",
       "      <th></th>\n",
       "    </tr>\n",
       "  </thead>\n",
       "  <tbody>\n",
       "    <tr>\n",
       "      <th>CNG</th>\n",
       "      <td>6.500000</td>\n",
       "      <td>15.966667</td>\n",
       "    </tr>\n",
       "    <tr>\n",
       "      <th>Diesel</th>\n",
       "      <td>6.225027</td>\n",
       "      <td>21.173436</td>\n",
       "    </tr>\n",
       "    <tr>\n",
       "      <th>Gasoline or E85</th>\n",
       "      <td>6.974059</td>\n",
       "      <td>15.347280</td>\n",
       "    </tr>\n",
       "    <tr>\n",
       "      <th>Gasoline or natural gas</th>\n",
       "      <td>6.800000</td>\n",
       "      <td>13.700000</td>\n",
       "    </tr>\n",
       "    <tr>\n",
       "      <th>Gasoline or propane</th>\n",
       "      <td>8.000000</td>\n",
       "      <td>12.000000</td>\n",
       "    </tr>\n",
       "    <tr>\n",
       "      <th>Midgrade</th>\n",
       "      <td>7.864865</td>\n",
       "      <td>14.851351</td>\n",
       "    </tr>\n",
       "    <tr>\n",
       "      <th>Premium</th>\n",
       "      <td>6.365286</td>\n",
       "      <td>16.793166</td>\n",
       "    </tr>\n",
       "    <tr>\n",
       "      <th>Premium Gas or Electricity</th>\n",
       "      <td>4.235294</td>\n",
       "      <td>30.705882</td>\n",
       "    </tr>\n",
       "    <tr>\n",
       "      <th>Premium and Electricity</th>\n",
       "      <td>4.850000</td>\n",
       "      <td>24.900000</td>\n",
       "    </tr>\n",
       "    <tr>\n",
       "      <th>Premium or E85</th>\n",
       "      <td>6.892562</td>\n",
       "      <td>17.305785</td>\n",
       "    </tr>\n",
       "    <tr>\n",
       "      <th>Regular</th>\n",
       "      <td>5.420952</td>\n",
       "      <td>17.970195</td>\n",
       "    </tr>\n",
       "    <tr>\n",
       "      <th>Regular Gas and Electricity</th>\n",
       "      <td>4.000000</td>\n",
       "      <td>43.125000</td>\n",
       "    </tr>\n",
       "    <tr>\n",
       "      <th>Regular Gas or Electricity</th>\n",
       "      <td>4.000000</td>\n",
       "      <td>43.000000</td>\n",
       "    </tr>\n",
       "  </tbody>\n",
       "</table>\n",
       "</div>"
      ],
      "text/plain": [
       "                             Cylinders   City MPG\n",
       "Fuel Type                                        \n",
       "CNG                           6.500000  15.966667\n",
       "Diesel                        6.225027  21.173436\n",
       "Gasoline or E85               6.974059  15.347280\n",
       "Gasoline or natural gas       6.800000  13.700000\n",
       "Gasoline or propane           8.000000  12.000000\n",
       "Midgrade                      7.864865  14.851351\n",
       "Premium                       6.365286  16.793166\n",
       "Premium Gas or Electricity    4.235294  30.705882\n",
       "Premium and Electricity       4.850000  24.900000\n",
       "Premium or E85                6.892562  17.305785\n",
       "Regular                       5.420952  17.970195\n",
       "Regular Gas and Electricity   4.000000  43.125000\n",
       "Regular Gas or Electricity    4.000000  43.000000"
      ]
     },
     "execution_count": 23,
     "metadata": {},
     "output_type": "execute_result"
    }
   ],
   "source": [
    "df.groupby(['Fuel Type'])['Cylinders','City MPG'].mean() # MEAN of Cylinders and city mpg grouped by Fuel Type"
   ]
  },
  {
   "cell_type": "code",
   "execution_count": 24,
   "metadata": {},
   "outputs": [
    {
     "name": "stderr",
     "output_type": "stream",
     "text": [
      "<ipython-input-24-4e61ceb39509>:1: FutureWarning: Indexing with multiple keys (implicitly converted to a tuple of keys) will be deprecated, use a list instead.\n",
      "  df.groupby(['Fuel Type'])['Cylinders','City MPG'].agg(['mean', 'max','min']) # listing aggeration methods if want mean max and min\n"
     ]
    },
    {
     "data": {
      "text/html": [
       "<div>\n",
       "<style scoped>\n",
       "    .dataframe tbody tr th:only-of-type {\n",
       "        vertical-align: middle;\n",
       "    }\n",
       "\n",
       "    .dataframe tbody tr th {\n",
       "        vertical-align: top;\n",
       "    }\n",
       "\n",
       "    .dataframe thead tr th {\n",
       "        text-align: left;\n",
       "    }\n",
       "\n",
       "    .dataframe thead tr:last-of-type th {\n",
       "        text-align: right;\n",
       "    }\n",
       "</style>\n",
       "<table border=\"1\" class=\"dataframe\">\n",
       "  <thead>\n",
       "    <tr>\n",
       "      <th></th>\n",
       "      <th colspan=\"3\" halign=\"left\">Cylinders</th>\n",
       "      <th colspan=\"3\" halign=\"left\">City MPG</th>\n",
       "    </tr>\n",
       "    <tr>\n",
       "      <th></th>\n",
       "      <th>mean</th>\n",
       "      <th>max</th>\n",
       "      <th>min</th>\n",
       "      <th>mean</th>\n",
       "      <th>max</th>\n",
       "      <th>min</th>\n",
       "    </tr>\n",
       "    <tr>\n",
       "      <th>Fuel Type</th>\n",
       "      <th></th>\n",
       "      <th></th>\n",
       "      <th></th>\n",
       "      <th></th>\n",
       "      <th></th>\n",
       "      <th></th>\n",
       "    </tr>\n",
       "  </thead>\n",
       "  <tbody>\n",
       "    <tr>\n",
       "      <th>CNG</th>\n",
       "      <td>6.500000</td>\n",
       "      <td>8.0</td>\n",
       "      <td>4.0</td>\n",
       "      <td>15.966667</td>\n",
       "      <td>27</td>\n",
       "      <td>8</td>\n",
       "    </tr>\n",
       "    <tr>\n",
       "      <th>Diesel</th>\n",
       "      <td>6.225027</td>\n",
       "      <td>10.0</td>\n",
       "      <td>4.0</td>\n",
       "      <td>21.173436</td>\n",
       "      <td>38</td>\n",
       "      <td>13</td>\n",
       "    </tr>\n",
       "    <tr>\n",
       "      <th>Gasoline or E85</th>\n",
       "      <td>6.974059</td>\n",
       "      <td>8.0</td>\n",
       "      <td>4.0</td>\n",
       "      <td>15.347280</td>\n",
       "      <td>28</td>\n",
       "      <td>10</td>\n",
       "    </tr>\n",
       "    <tr>\n",
       "      <th>Gasoline or natural gas</th>\n",
       "      <td>6.800000</td>\n",
       "      <td>8.0</td>\n",
       "      <td>4.0</td>\n",
       "      <td>13.700000</td>\n",
       "      <td>21</td>\n",
       "      <td>10</td>\n",
       "    </tr>\n",
       "    <tr>\n",
       "      <th>Gasoline or propane</th>\n",
       "      <td>8.000000</td>\n",
       "      <td>8.0</td>\n",
       "      <td>8.0</td>\n",
       "      <td>12.000000</td>\n",
       "      <td>13</td>\n",
       "      <td>11</td>\n",
       "    </tr>\n",
       "    <tr>\n",
       "      <th>Midgrade</th>\n",
       "      <td>7.864865</td>\n",
       "      <td>8.0</td>\n",
       "      <td>6.0</td>\n",
       "      <td>14.851351</td>\n",
       "      <td>21</td>\n",
       "      <td>13</td>\n",
       "    </tr>\n",
       "    <tr>\n",
       "      <th>Premium</th>\n",
       "      <td>6.365286</td>\n",
       "      <td>16.0</td>\n",
       "      <td>2.0</td>\n",
       "      <td>16.793166</td>\n",
       "      <td>42</td>\n",
       "      <td>6</td>\n",
       "    </tr>\n",
       "    <tr>\n",
       "      <th>Premium Gas or Electricity</th>\n",
       "      <td>4.235294</td>\n",
       "      <td>8.0</td>\n",
       "      <td>2.0</td>\n",
       "      <td>30.705882</td>\n",
       "      <td>41</td>\n",
       "      <td>20</td>\n",
       "    </tr>\n",
       "    <tr>\n",
       "      <th>Premium and Electricity</th>\n",
       "      <td>4.850000</td>\n",
       "      <td>8.0</td>\n",
       "      <td>3.0</td>\n",
       "      <td>24.900000</td>\n",
       "      <td>37</td>\n",
       "      <td>16</td>\n",
       "    </tr>\n",
       "    <tr>\n",
       "      <th>Premium or E85</th>\n",
       "      <td>6.892562</td>\n",
       "      <td>12.0</td>\n",
       "      <td>4.0</td>\n",
       "      <td>17.305785</td>\n",
       "      <td>24</td>\n",
       "      <td>11</td>\n",
       "    </tr>\n",
       "    <tr>\n",
       "      <th>Regular</th>\n",
       "      <td>5.420952</td>\n",
       "      <td>12.0</td>\n",
       "      <td>2.0</td>\n",
       "      <td>17.970195</td>\n",
       "      <td>58</td>\n",
       "      <td>7</td>\n",
       "    </tr>\n",
       "    <tr>\n",
       "      <th>Regular Gas and Electricity</th>\n",
       "      <td>4.000000</td>\n",
       "      <td>4.0</td>\n",
       "      <td>4.0</td>\n",
       "      <td>43.125000</td>\n",
       "      <td>51</td>\n",
       "      <td>38</td>\n",
       "    </tr>\n",
       "    <tr>\n",
       "      <th>Regular Gas or Electricity</th>\n",
       "      <td>4.000000</td>\n",
       "      <td>4.0</td>\n",
       "      <td>4.0</td>\n",
       "      <td>43.000000</td>\n",
       "      <td>43</td>\n",
       "      <td>43</td>\n",
       "    </tr>\n",
       "  </tbody>\n",
       "</table>\n",
       "</div>"
      ],
      "text/plain": [
       "                            Cylinders              City MPG        \n",
       "                                 mean   max  min       mean max min\n",
       "Fuel Type                                                          \n",
       "CNG                          6.500000   8.0  4.0  15.966667  27   8\n",
       "Diesel                       6.225027  10.0  4.0  21.173436  38  13\n",
       "Gasoline or E85              6.974059   8.0  4.0  15.347280  28  10\n",
       "Gasoline or natural gas      6.800000   8.0  4.0  13.700000  21  10\n",
       "Gasoline or propane          8.000000   8.0  8.0  12.000000  13  11\n",
       "Midgrade                     7.864865   8.0  6.0  14.851351  21  13\n",
       "Premium                      6.365286  16.0  2.0  16.793166  42   6\n",
       "Premium Gas or Electricity   4.235294   8.0  2.0  30.705882  41  20\n",
       "Premium and Electricity      4.850000   8.0  3.0  24.900000  37  16\n",
       "Premium or E85               6.892562  12.0  4.0  17.305785  24  11\n",
       "Regular                      5.420952  12.0  2.0  17.970195  58   7\n",
       "Regular Gas and Electricity  4.000000   4.0  4.0  43.125000  51  38\n",
       "Regular Gas or Electricity   4.000000   4.0  4.0  43.000000  43  43"
      ]
     },
     "execution_count": 24,
     "metadata": {},
     "output_type": "execute_result"
    }
   ],
   "source": [
    "df.groupby(['Fuel Type'])['Cylinders','City MPG'].agg(['mean', 'max','min']) # listing aggeration methods if want mean max and min"
   ]
  },
  {
   "cell_type": "code",
   "execution_count": 25,
   "metadata": {},
   "outputs": [
    {
     "name": "stderr",
     "output_type": "stream",
     "text": [
      "<ipython-input-25-9e70b6917957>:1: FutureWarning: Indexing with multiple keys (implicitly converted to a tuple of keys) will be deprecated, use a list instead.\n",
      "  df.groupby(['Fuel Type'])['Cylinders','City MPG'].agg(['mean', 'max','min']).reset_index()\n"
     ]
    },
    {
     "data": {
      "text/html": [
       "<div>\n",
       "<style scoped>\n",
       "    .dataframe tbody tr th:only-of-type {\n",
       "        vertical-align: middle;\n",
       "    }\n",
       "\n",
       "    .dataframe tbody tr th {\n",
       "        vertical-align: top;\n",
       "    }\n",
       "\n",
       "    .dataframe thead tr th {\n",
       "        text-align: left;\n",
       "    }\n",
       "</style>\n",
       "<table border=\"1\" class=\"dataframe\">\n",
       "  <thead>\n",
       "    <tr>\n",
       "      <th></th>\n",
       "      <th>Fuel Type</th>\n",
       "      <th colspan=\"3\" halign=\"left\">Cylinders</th>\n",
       "      <th colspan=\"3\" halign=\"left\">City MPG</th>\n",
       "    </tr>\n",
       "    <tr>\n",
       "      <th></th>\n",
       "      <th></th>\n",
       "      <th>mean</th>\n",
       "      <th>max</th>\n",
       "      <th>min</th>\n",
       "      <th>mean</th>\n",
       "      <th>max</th>\n",
       "      <th>min</th>\n",
       "    </tr>\n",
       "  </thead>\n",
       "  <tbody>\n",
       "    <tr>\n",
       "      <th>0</th>\n",
       "      <td>CNG</td>\n",
       "      <td>6.500000</td>\n",
       "      <td>8.0</td>\n",
       "      <td>4.0</td>\n",
       "      <td>15.966667</td>\n",
       "      <td>27</td>\n",
       "      <td>8</td>\n",
       "    </tr>\n",
       "    <tr>\n",
       "      <th>1</th>\n",
       "      <td>Diesel</td>\n",
       "      <td>6.225027</td>\n",
       "      <td>10.0</td>\n",
       "      <td>4.0</td>\n",
       "      <td>21.173436</td>\n",
       "      <td>38</td>\n",
       "      <td>13</td>\n",
       "    </tr>\n",
       "    <tr>\n",
       "      <th>2</th>\n",
       "      <td>Gasoline or E85</td>\n",
       "      <td>6.974059</td>\n",
       "      <td>8.0</td>\n",
       "      <td>4.0</td>\n",
       "      <td>15.347280</td>\n",
       "      <td>28</td>\n",
       "      <td>10</td>\n",
       "    </tr>\n",
       "    <tr>\n",
       "      <th>3</th>\n",
       "      <td>Gasoline or natural gas</td>\n",
       "      <td>6.800000</td>\n",
       "      <td>8.0</td>\n",
       "      <td>4.0</td>\n",
       "      <td>13.700000</td>\n",
       "      <td>21</td>\n",
       "      <td>10</td>\n",
       "    </tr>\n",
       "    <tr>\n",
       "      <th>4</th>\n",
       "      <td>Gasoline or propane</td>\n",
       "      <td>8.000000</td>\n",
       "      <td>8.0</td>\n",
       "      <td>8.0</td>\n",
       "      <td>12.000000</td>\n",
       "      <td>13</td>\n",
       "      <td>11</td>\n",
       "    </tr>\n",
       "    <tr>\n",
       "      <th>5</th>\n",
       "      <td>Midgrade</td>\n",
       "      <td>7.864865</td>\n",
       "      <td>8.0</td>\n",
       "      <td>6.0</td>\n",
       "      <td>14.851351</td>\n",
       "      <td>21</td>\n",
       "      <td>13</td>\n",
       "    </tr>\n",
       "    <tr>\n",
       "      <th>6</th>\n",
       "      <td>Premium</td>\n",
       "      <td>6.365286</td>\n",
       "      <td>16.0</td>\n",
       "      <td>2.0</td>\n",
       "      <td>16.793166</td>\n",
       "      <td>42</td>\n",
       "      <td>6</td>\n",
       "    </tr>\n",
       "    <tr>\n",
       "      <th>7</th>\n",
       "      <td>Premium Gas or Electricity</td>\n",
       "      <td>4.235294</td>\n",
       "      <td>8.0</td>\n",
       "      <td>2.0</td>\n",
       "      <td>30.705882</td>\n",
       "      <td>41</td>\n",
       "      <td>20</td>\n",
       "    </tr>\n",
       "    <tr>\n",
       "      <th>8</th>\n",
       "      <td>Premium and Electricity</td>\n",
       "      <td>4.850000</td>\n",
       "      <td>8.0</td>\n",
       "      <td>3.0</td>\n",
       "      <td>24.900000</td>\n",
       "      <td>37</td>\n",
       "      <td>16</td>\n",
       "    </tr>\n",
       "    <tr>\n",
       "      <th>9</th>\n",
       "      <td>Premium or E85</td>\n",
       "      <td>6.892562</td>\n",
       "      <td>12.0</td>\n",
       "      <td>4.0</td>\n",
       "      <td>17.305785</td>\n",
       "      <td>24</td>\n",
       "      <td>11</td>\n",
       "    </tr>\n",
       "    <tr>\n",
       "      <th>10</th>\n",
       "      <td>Regular</td>\n",
       "      <td>5.420952</td>\n",
       "      <td>12.0</td>\n",
       "      <td>2.0</td>\n",
       "      <td>17.970195</td>\n",
       "      <td>58</td>\n",
       "      <td>7</td>\n",
       "    </tr>\n",
       "    <tr>\n",
       "      <th>11</th>\n",
       "      <td>Regular Gas and Electricity</td>\n",
       "      <td>4.000000</td>\n",
       "      <td>4.0</td>\n",
       "      <td>4.0</td>\n",
       "      <td>43.125000</td>\n",
       "      <td>51</td>\n",
       "      <td>38</td>\n",
       "    </tr>\n",
       "    <tr>\n",
       "      <th>12</th>\n",
       "      <td>Regular Gas or Electricity</td>\n",
       "      <td>4.000000</td>\n",
       "      <td>4.0</td>\n",
       "      <td>4.0</td>\n",
       "      <td>43.000000</td>\n",
       "      <td>43</td>\n",
       "      <td>43</td>\n",
       "    </tr>\n",
       "  </tbody>\n",
       "</table>\n",
       "</div>"
      ],
      "text/plain": [
       "                      Fuel Type Cylinders              City MPG        \n",
       "                                     mean   max  min       mean max min\n",
       "0                           CNG  6.500000   8.0  4.0  15.966667  27   8\n",
       "1                        Diesel  6.225027  10.0  4.0  21.173436  38  13\n",
       "2               Gasoline or E85  6.974059   8.0  4.0  15.347280  28  10\n",
       "3       Gasoline or natural gas  6.800000   8.0  4.0  13.700000  21  10\n",
       "4           Gasoline or propane  8.000000   8.0  8.0  12.000000  13  11\n",
       "5                      Midgrade  7.864865   8.0  6.0  14.851351  21  13\n",
       "6                       Premium  6.365286  16.0  2.0  16.793166  42   6\n",
       "7    Premium Gas or Electricity  4.235294   8.0  2.0  30.705882  41  20\n",
       "8       Premium and Electricity  4.850000   8.0  3.0  24.900000  37  16\n",
       "9                Premium or E85  6.892562  12.0  4.0  17.305785  24  11\n",
       "10                      Regular  5.420952  12.0  2.0  17.970195  58   7\n",
       "11  Regular Gas and Electricity  4.000000   4.0  4.0  43.125000  51  38\n",
       "12   Regular Gas or Electricity  4.000000   4.0  4.0  43.000000  43  43"
      ]
     },
     "execution_count": 25,
     "metadata": {},
     "output_type": "execute_result"
    }
   ],
   "source": [
    "df.groupby(['Fuel Type'])['Cylinders','City MPG'].agg(['mean', 'max','min']).reset_index()"
   ]
  },
  {
   "cell_type": "code",
   "execution_count": null,
   "metadata": {},
   "outputs": [],
   "source": [
    "#MERGING DATAFRAMES"
   ]
  },
  {
   "cell_type": "code",
   "execution_count": null,
   "metadata": {},
   "outputs": [],
   "source": [
    "#CREATING"
   ]
  }
 ],
 "metadata": {
  "kernelspec": {
   "display_name": "Python 3",
   "language": "python",
   "name": "python3"
  },
  "language_info": {
   "codemirror_mode": {
    "name": "ipython",
    "version": 3
   },
   "file_extension": ".py",
   "mimetype": "text/x-python",
   "name": "python",
   "nbconvert_exporter": "python",
   "pygments_lexer": "ipython3",
   "version": "3.8.5"
  }
 },
 "nbformat": 4,
 "nbformat_minor": 4
}
