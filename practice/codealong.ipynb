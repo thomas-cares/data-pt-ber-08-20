{
 "cells": [
  {
   "cell_type": "code",
   "execution_count": 6,
   "metadata": {},
   "outputs": [],
   "source": [
    "names = [\"john\",\"paul\",\"ringo\",\"george\"]"
   ]
  },
  {
   "cell_type": "code",
   "execution_count": 7,
   "metadata": {},
   "outputs": [
    {
     "name": "stdout",
     "output_type": "stream",
     "text": [
      "john\n",
      "paul\n",
      "ringo\n"
     ]
    }
   ],
   "source": [
    "for i in names:\n",
    "    print (i)\n",
    "    if i == \"ringo\":\n",
    "        break"
   ]
  },
  {
   "cell_type": "code",
   "execution_count": 11,
   "metadata": {},
   "outputs": [
    {
     "name": "stdout",
     "output_type": "stream",
     "text": [
      "1\n",
      "4\n",
      "7\n",
      "10\n",
      "13\n",
      "16\n",
      "19\n"
     ]
    }
   ],
   "source": [
    "#loop macht 3er Schritte\n",
    "for x in range (1,21,3):\n",
    "    print (x)"
   ]
  },
  {
   "cell_type": "code",
   "execution_count": 12,
   "metadata": {},
   "outputs": [
    {
     "name": "stdout",
     "output_type": "stream",
     "text": [
      "apple\n"
     ]
    }
   ],
   "source": [
    "#break befehl unterbricht loop\n",
    "fruits = [\"apple\", \"banana\", \"cherry\"]\n",
    "for x in fruits:\n",
    "  if x == \"banana\":\n",
    "    break\n",
    "  print(x)"
   ]
  },
  {
   "cell_type": "code",
   "execution_count": 13,
   "metadata": {},
   "outputs": [
    {
     "name": "stdout",
     "output_type": "stream",
     "text": [
      "red apple\n",
      "red banana\n",
      "red cherry\n",
      "big apple\n",
      "big banana\n",
      "big cherry\n",
      "tasty apple\n",
      "tasty banana\n",
      "tasty cherry\n"
     ]
    }
   ],
   "source": [
    "#A nested loop is a loop inside a loop.\n",
    "adj = [\"red\", \"big\", \"tasty\"]\n",
    "fruits = [\"apple\", \"banana\", \"cherry\"]\n",
    "\n",
    "for x in adj:\n",
    "  for y in fruits:\n",
    "    print(x, y) "
   ]
  },
  {
   "cell_type": "code",
   "execution_count": 16,
   "metadata": {},
   "outputs": [
    {
     "name": "stdout",
     "output_type": "stream",
     "text": [
      "apple\n",
      "cherry\n"
     ]
    }
   ],
   "source": [
    "#continue überspringt wert\n",
    "fruits = [\"apple\", \"banana\", \"cherry\"]\n",
    "for x in fruits:\n",
    "  if x == \"banana\":\n",
    "    continue\n",
    "  print(x)\n"
   ]
  },
  {
   "cell_type": "code",
   "execution_count": 5,
   "metadata": {},
   "outputs": [
    {
     "name": "stdout",
     "output_type": "stream",
     "text": [
      "[26, 20, 69, 33, 38, 0, 87, 89, 75, 40, 59, 23, 48, 53, 51, 96, 18, 52, 44, 41, 88, 99, 19, 73, 65, 95, 86, 77, 58, 8, 27, 32, 54, 3, 11, 4, 31, 78, 61, 5, 16, 12, 82, 13, 83, 17, 100, 7, 2, 10, 14, 42, 66, 98, 9, 35, 81, 21, 71, 29, 50, 85, 70, 72, 25, 63, 1, 37, 6, 39, 90, 45, 80, 47, 68, 36, 74, 91, 60, 57]\n"
     ]
    }
   ],
   "source": [
    "#create list of 80 random elements with values 0-100\n",
    "import random\n",
    "sample_list_1=(random.sample(range(101), k=80))\n",
    "print (sample_list_1)"
   ]
  },
  {
   "cell_type": "code",
   "execution_count": 10,
   "metadata": {},
   "outputs": [
    {
     "data": {
      "text/plain": [
       "11"
      ]
     },
     "execution_count": 10,
     "metadata": {},
     "output_type": "execute_result"
    }
   ],
   "source": [
    "import random\n",
    "random.randint(10, 11)"
   ]
  },
  {
   "cell_type": "code",
   "execution_count": 16,
   "metadata": {},
   "outputs": [
    {
     "name": "stdout",
     "output_type": "stream",
     "text": [
      "hello Function\n",
      "hello Function\n",
      "hello Function\n",
      "hello Function\n"
     ]
    }
   ],
   "source": [
    "def hello_func():\n",
    "    print(\"hello Function\")\n",
    "\n",
    "hello_func()\n",
    "hello_func()\n",
    "hello_func()\n",
    "hello_func()"
   ]
  },
  {
   "cell_type": "code",
   "execution_count": 60,
   "metadata": {},
   "outputs": [
    {
     "name": "stdout",
     "output_type": "stream",
     "text": [
      "HI, YOU\n"
     ]
    }
   ],
   "source": [
    "import random\n",
    "\n",
    "def hello_func(greeting = \"hi\", name = \"you\") :\n",
    "    return \"{}, {}\".format(greeting, name).upper()\n",
    "    \n",
    "print(hello_func())\n"
   ]
  },
  {
   "cell_type": "code",
   "execution_count": 62,
   "metadata": {},
   "outputs": [],
   "source": [
    "def student_info(*args, **kwargs):\n",
    "    print(args)\n",
    "    print(kwarg)"
   ]
  },
  {
   "cell_type": "code",
   "execution_count": 12,
   "metadata": {},
   "outputs": [
    {
     "name": "stdout",
     "output_type": "stream",
     "text": [
      "meow\n",
      "{'cat': 'meow', 'cow': 'mooh', 'dog': 'bark', 'bird': 'zirp'}\n",
      "cat: meow\n",
      "cow: mooh\n",
      "dog: bark\n",
      "bird: zirp\n"
     ]
    }
   ],
   "source": [
    "#dictonary key value pair\n",
    "dict = {\"cat\": \"meow\", \"cow\":\"mooh\", \"dog\":\"bark\"}\n",
    "x = dict[\"cat\"]\n",
    "print(x)\n",
    "\n",
    "dict[\"bird\"] =\"zirp\"\n",
    "print(dict)\n",
    "\n",
    "for k,v in dict.items():\n",
    "    print(k+\": \"+v)"
   ]
  },
  {
   "cell_type": "code",
   "execution_count": 6,
   "metadata": {},
   "outputs": [
    {
     "name": "stdout",
     "output_type": "stream",
     "text": [
      "John, Norway\n"
     ]
    }
   ],
   "source": [
    "myDict = {\"name\": \"John\", \"country\": \"Norway\"}\n",
    "mySeparator = \"TEST\"\n",
    "\n",
    "x = \", \".join(myDict.values())\n",
    "\n",
    "print(x)\n"
   ]
  },
  {
   "cell_type": "code",
   "execution_count": 1,
   "metadata": {},
   "outputs": [],
   "source": [
    "import numpy as np"
   ]
  },
  {
   "cell_type": "code",
   "execution_count": 5,
   "metadata": {},
   "outputs": [
    {
     "name": "stdout",
     "output_type": "stream",
     "text": [
      "0\n",
      "1\n",
      "2\n",
      "3\n"
     ]
    }
   ],
   "source": [
    "a = np.array(42)\n",
    "b = np.array([1, 2, 3, 4, 5])\n",
    "c = np.array([[1, 2, 3], [4, 5, 6]])\n",
    "d = np.array([[[1, 2, 3], [4, 5, 6]], [[1, 2, 3], [4, 5, 6]]])\n",
    "\n",
    "print(a.ndim)\n",
    "print(b.ndim)\n",
    "print(c.ndim)\n",
    "print(d.ndim) "
   ]
  },
  {
   "cell_type": "code",
   "execution_count": 8,
   "metadata": {},
   "outputs": [
    {
     "name": "stdout",
     "output_type": "stream",
     "text": [
      "[[1 2 3]\n",
      " [4 5 6]\n",
      " [7 8 9]]\n"
     ]
    }
   ],
   "source": [
    "lst_lst = [[1,2,3],[4,5,6],[7,8,9]]\n",
    "d = np.array(lst_lst)\n",
    "print(d)"
   ]
  },
  {
   "cell_type": "code",
   "execution_count": 11,
   "metadata": {},
   "outputs": [
    {
     "data": {
      "text/plain": [
       "array([0., 0., 0.])"
      ]
     },
     "execution_count": 11,
     "metadata": {},
     "output_type": "execute_result"
    }
   ],
   "source": [
    "a=np.zeros(3)\n",
    "a"
   ]
  },
  {
   "cell_type": "code",
   "execution_count": 17,
   "metadata": {},
   "outputs": [
    {
     "name": "stdout",
     "output_type": "stream",
     "text": [
      "The cipher text is :  ?krow siht seod woH\n"
     ]
    }
   ],
   "source": [
    "message = 'How does this work?'\n",
    "translated = '' #cipher text is stored in this variable\n",
    "i = len(message) - 1\n",
    "\n",
    "while i >= 0:\n",
    "   translated = translated + message[i]\n",
    "   i = i - 1\n",
    "print('The cipher text is : ', translated)"
   ]
  },
  {
   "cell_type": "code",
   "execution_count": 23,
   "metadata": {},
   "outputs": [
    {
     "ename": "IndentationError",
     "evalue": "expected an indented block (<ipython-input-23-77fc53ce950e>, line 2)",
     "output_type": "error",
     "traceback": [
      "\u001b[0;36m  File \u001b[0;32m\"<ipython-input-23-77fc53ce950e>\"\u001b[0;36m, line \u001b[0;32m2\u001b[0m\n\u001b[0;31m    result = \"\"\u001b[0m\n\u001b[0m    ^\u001b[0m\n\u001b[0;31mIndentationError\u001b[0m\u001b[0;31m:\u001b[0m expected an indented block\n"
     ]
    }
   ],
   "source": [
    "def encrypt(text,s):\n",
    "result = \"\"\n",
    "   # transverse the plain text\n",
    "   for i in range(len(text)):\n",
    "      char = text[i]\n",
    "      # Encrypt uppercase characters in plain text\n",
    "      \n",
    "      if (char.isupper()):\n",
    "         result += chr((ord(char) + s-65) % 26 + 65)\n",
    "      # Encrypt lowercase characters in plain text\n",
    "      else:\n",
    "            result += chr((ord(char) + s - 97) % 26 + 97)\n",
    "      return result\n",
    "#check the above function\n",
    "text = \"CEASER CIPHER DEMO\"\n",
    "s = 4\n",
    "\n",
    "print \"Plain Text : \" + text\n",
    "print \"Shift pattern : \" + str(s)\n",
    "print \"Cipher: \" + encrypt(text,s)"
   ]
  },
  {
   "cell_type": "code",
   "execution_count": 2,
   "metadata": {},
   "outputs": [
    {
     "name": "stdout",
     "output_type": "stream",
     "text": [
      "[0, 1, 4, 9, 16, 25, 36, 49, 64, 81]\n"
     ]
    }
   ],
   "source": [
    "#list comprehnsion\n",
    "square=[x*x for x in range(10)]\n",
    "print(square)"
   ]
  },
  {
   "cell_type": "code",
   "execution_count": null,
   "metadata": {},
   "outputs": [],
   "source": []
  }
 ],
 "metadata": {
  "kernelspec": {
   "display_name": "Python 3",
   "language": "python",
   "name": "python3"
  },
  "language_info": {
   "codemirror_mode": {
    "name": "ipython",
    "version": 3
   },
   "file_extension": ".py",
   "mimetype": "text/x-python",
   "name": "python",
   "nbconvert_exporter": "python",
   "pygments_lexer": "ipython3",
   "version": "3.8.5"
  }
 },
 "nbformat": 4,
 "nbformat_minor": 4
}
