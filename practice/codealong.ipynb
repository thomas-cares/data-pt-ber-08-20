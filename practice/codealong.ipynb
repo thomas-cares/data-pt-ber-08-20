{
 "cells": [
  {
   "cell_type": "code",
   "execution_count": 1,
   "metadata": {},
   "outputs": [],
   "source": [
    "names = [\"john\",\"paul\",\"ringo\",\"george\"]"
   ]
  },
  {
   "cell_type": "code",
   "execution_count": 2,
   "metadata": {},
   "outputs": [
    {
     "name": "stdout",
     "output_type": "stream",
     "text": [
      "john\n",
      "paul\n",
      "ringo\n"
     ]
    }
   ],
   "source": [
    "for i in names:\n",
    "    print (i)\n",
    "    if i == \"ringo\":\n",
    "        break"
   ]
  },
  {
   "cell_type": "code",
   "execution_count": 3,
   "metadata": {},
   "outputs": [
    {
     "name": "stdout",
     "output_type": "stream",
     "text": [
      "1\n",
      "4\n",
      "7\n",
      "10\n",
      "13\n",
      "16\n",
      "19\n"
     ]
    }
   ],
   "source": [
    "#loop macht 3er Schritte\n",
    "for x in range (1,21,3):\n",
    "    print (x)"
   ]
  },
  {
   "cell_type": "code",
   "execution_count": 4,
   "metadata": {},
   "outputs": [
    {
     "name": "stdout",
     "output_type": "stream",
     "text": [
      "apple\n"
     ]
    }
   ],
   "source": [
    "#break befehl unterbricht loop\n",
    "fruits = [\"apple\", \"banana\", \"cherry\"]\n",
    "for x in fruits:\n",
    "  if x == \"banana\":\n",
    "    break\n",
    "  print(x)"
   ]
  },
  {
   "cell_type": "code",
   "execution_count": 5,
   "metadata": {},
   "outputs": [
    {
     "name": "stdout",
     "output_type": "stream",
     "text": [
      "red apple\n",
      "red banana\n",
      "red cherry\n",
      "big apple\n",
      "big banana\n",
      "big cherry\n",
      "tasty apple\n",
      "tasty banana\n",
      "tasty cherry\n"
     ]
    }
   ],
   "source": [
    "#A nested loop is a loop inside a loop.\n",
    "adj = [\"red\", \"big\", \"tasty\"]\n",
    "fruits = [\"apple\", \"banana\", \"cherry\"]\n",
    "\n",
    "for x in adj:\n",
    "  for y in fruits:\n",
    "    print(x, y) "
   ]
  },
  {
   "cell_type": "code",
   "execution_count": 6,
   "metadata": {},
   "outputs": [
    {
     "name": "stdout",
     "output_type": "stream",
     "text": [
      "apple\n",
      "cherry\n"
     ]
    }
   ],
   "source": [
    "#continue überspringt wert\n",
    "fruits = [\"apple\", \"banana\", \"cherry\"]\n",
    "for x in fruits:\n",
    "  if x == \"banana\":\n",
    "    continue\n",
    "  print(x)\n"
   ]
  },
  {
   "cell_type": "code",
   "execution_count": 7,
   "metadata": {},
   "outputs": [
    {
     "name": "stdout",
     "output_type": "stream",
     "text": [
      "[71, 50, 33, 38, 75, 87, 12, 97, 51, 64, 54, 93, 90, 48, 43, 34, 22, 92, 39, 30, 9, 80, 96, 15, 40, 95, 28, 24, 63, 26, 70, 6, 68, 58, 77, 36, 73, 7, 57, 10, 0, 14, 1, 4, 89, 52, 5, 19, 23, 31, 11, 44, 65, 16, 76, 49, 46, 29, 69, 83, 94, 45, 91, 59, 86, 100, 41, 88, 27, 85, 98, 8, 84, 99, 74, 20, 56, 21, 81, 61]\n"
     ]
    }
   ],
   "source": [
    "#create list of 80 random elements with values 0-100\n",
    "import random\n",
    "sample_list_1=(random.sample(range(101), k=80))\n",
    "print (sample_list_1)"
   ]
  },
  {
   "cell_type": "code",
   "execution_count": 8,
   "metadata": {},
   "outputs": [
    {
     "data": {
      "text/plain": [
       "11"
      ]
     },
     "execution_count": 8,
     "metadata": {},
     "output_type": "execute_result"
    }
   ],
   "source": [
    "import random\n",
    "random.randint(10, 11)"
   ]
  },
  {
   "cell_type": "code",
   "execution_count": 9,
   "metadata": {},
   "outputs": [
    {
     "name": "stdout",
     "output_type": "stream",
     "text": [
      "hello Function\n",
      "hello Function\n",
      "hello Function\n",
      "hello Function\n"
     ]
    }
   ],
   "source": [
    "def hello_func():\n",
    "    print(\"hello Function\")\n",
    "\n",
    "hello_func()\n",
    "hello_func()\n",
    "hello_func()\n",
    "hello_func()"
   ]
  },
  {
   "cell_type": "code",
   "execution_count": 10,
   "metadata": {},
   "outputs": [
    {
     "name": "stdout",
     "output_type": "stream",
     "text": [
      "HI, YOU\n"
     ]
    }
   ],
   "source": [
    "import random\n",
    "\n",
    "def hello_func(greeting = \"hi\", name = \"you\") :\n",
    "    return \"{}, {}\".format(greeting, name).upper()\n",
    "    \n",
    "print(hello_func())\n"
   ]
  },
  {
   "cell_type": "code",
   "execution_count": 11,
   "metadata": {},
   "outputs": [],
   "source": [
    "def student_info(*args, **kwargs):\n",
    "    print(args)\n",
    "    print(kwarg)"
   ]
  },
  {
   "cell_type": "code",
   "execution_count": 12,
   "metadata": {},
   "outputs": [
    {
     "name": "stdout",
     "output_type": "stream",
     "text": [
      "meow\n",
      "{'cat': 'meow', 'cow': 'mooh', 'dog': 'bark', 'bird': 'zirp'}\n",
      "cat: meow\n",
      "cow: mooh\n",
      "dog: bark\n",
      "bird: zirp\n"
     ]
    }
   ],
   "source": [
    "#dictonary key value pair\n",
    "dict = {\"cat\": \"meow\", \"cow\":\"mooh\", \"dog\":\"bark\"}\n",
    "x = dict[\"cat\"]\n",
    "print(x)\n",
    "\n",
    "dict[\"bird\"] =\"zirp\"\n",
    "print(dict)\n",
    "\n",
    "for k,v in dict.items():\n",
    "    print(k+\": \"+v)"
   ]
  },
  {
   "cell_type": "code",
   "execution_count": 13,
   "metadata": {},
   "outputs": [
    {
     "name": "stdout",
     "output_type": "stream",
     "text": [
      "John, Norway\n"
     ]
    }
   ],
   "source": [
    "myDict = {\"name\": \"John\", \"country\": \"Norway\"}\n",
    "mySeparator = \"TEST\"\n",
    "\n",
    "x = \", \".join(myDict.values())\n",
    "\n",
    "print(x)\n"
   ]
  },
  {
   "cell_type": "code",
   "execution_count": 14,
   "metadata": {},
   "outputs": [],
   "source": [
    "import numpy as np"
   ]
  },
  {
   "cell_type": "code",
   "execution_count": 15,
   "metadata": {},
   "outputs": [
    {
     "name": "stdout",
     "output_type": "stream",
     "text": [
      "0\n",
      "1\n",
      "2\n",
      "3\n"
     ]
    }
   ],
   "source": [
    "a = np.array(42)\n",
    "b = np.array([1, 2, 3, 4, 5])\n",
    "c = np.array([[1, 2, 3], [4, 5, 6]])\n",
    "d = np.array([[[1, 2, 3], [4, 5, 6]], [[1, 2, 3], [4, 5, 6]]])\n",
    "\n",
    "print(a.ndim)\n",
    "print(b.ndim)\n",
    "print(c.ndim)\n",
    "print(d.ndim) "
   ]
  },
  {
   "cell_type": "code",
   "execution_count": 16,
   "metadata": {},
   "outputs": [
    {
     "name": "stdout",
     "output_type": "stream",
     "text": [
      "[[1 2 3]\n",
      " [4 5 6]\n",
      " [7 8 9]]\n"
     ]
    }
   ],
   "source": [
    "lst_lst = [[1,2,3],[4,5,6],[7,8,9]]\n",
    "d = np.array(lst_lst)\n",
    "print(d)"
   ]
  },
  {
   "cell_type": "code",
   "execution_count": 17,
   "metadata": {},
   "outputs": [
    {
     "data": {
      "text/plain": [
       "array([0., 0., 0.])"
      ]
     },
     "execution_count": 17,
     "metadata": {},
     "output_type": "execute_result"
    }
   ],
   "source": [
    "a=np.zeros(3)\n",
    "a"
   ]
  },
  {
   "cell_type": "code",
   "execution_count": 18,
   "metadata": {},
   "outputs": [
    {
     "name": "stdout",
     "output_type": "stream",
     "text": [
      "The cipher text is :  ?krow siht seod woH\n"
     ]
    }
   ],
   "source": [
    "message = 'How does this work?'\n",
    "translated = '' #cipher text is stored in this variable\n",
    "i = len(message) - 1\n",
    "\n",
    "while i >= 0:\n",
    "   translated = translated + message[i]\n",
    "   i = i - 1\n",
    "print('The cipher text is : ', translated)"
   ]
  },
  {
   "cell_type": "code",
   "execution_count": 19,
   "metadata": {},
   "outputs": [
    {
     "ename": "IndentationError",
     "evalue": "expected an indented block (<ipython-input-19-77fc53ce950e>, line 2)",
     "output_type": "error",
     "traceback": [
      "\u001b[0;36m  File \u001b[0;32m\"<ipython-input-19-77fc53ce950e>\"\u001b[0;36m, line \u001b[0;32m2\u001b[0m\n\u001b[0;31m    result = \"\"\u001b[0m\n\u001b[0m    ^\u001b[0m\n\u001b[0;31mIndentationError\u001b[0m\u001b[0;31m:\u001b[0m expected an indented block\n"
     ]
    }
   ],
   "source": [
    "def encrypt(text,s):\n",
    "result = \"\"\n",
    "   # transverse the plain text\n",
    "   for i in range(len(text)):\n",
    "      char = text[i]\n",
    "      # Encrypt uppercase characters in plain text\n",
    "      \n",
    "      if (char.isupper()):\n",
    "         result += chr((ord(char) + s-65) % 26 + 65)\n",
    "      # Encrypt lowercase characters in plain text\n",
    "      else:\n",
    "            result += chr((ord(char) + s - 97) % 26 + 97)\n",
    "      return result\n",
    "#check the above function\n",
    "text = \"CEASER CIPHER DEMO\"\n",
    "s = 4\n",
    "\n",
    "print \"Plain Text : \" + text\n",
    "print \"Shift pattern : \" + str(s)\n",
    "print \"Cipher: \" + encrypt(text,s)"
   ]
  },
  {
   "cell_type": "code",
   "execution_count": null,
   "metadata": {},
   "outputs": [],
   "source": [
    "#list comprehnsion\n",
    "square=\n",
    "print(square)"
   ]
  },
  {
   "cell_type": "code",
   "execution_count": null,
   "metadata": {},
   "outputs": [],
   "source": [
    "import numpy as np"
   ]
  },
  {
   "cell_type": "code",
   "execution_count": null,
   "metadata": {},
   "outputs": [],
   "source": [
    "a=np.random.random((2,3))"
   ]
  },
  {
   "cell_type": "code",
   "execution_count": null,
   "metadata": {},
   "outputs": [],
   "source": [
    "a"
   ]
  },
  {
   "cell_type": "code",
   "execution_count": null,
   "metadata": {},
   "outputs": [],
   "source": [
    "a.shape"
   ]
  },
  {
   "cell_type": "code",
   "execution_count": null,
   "metadata": {},
   "outputs": [],
   "source": [
    "a.size #two by three items is 6"
   ]
  },
  {
   "cell_type": "code",
   "execution_count": null,
   "metadata": {},
   "outputs": [],
   "source": [
    "a[0, 0] # element links oben"
   ]
  },
  {
   "cell_type": "code",
   "execution_count": null,
   "metadata": {},
   "outputs": [],
   "source": [
    "a [:,0] #hole first column"
   ]
  },
  {
   "cell_type": "code",
   "execution_count": null,
   "metadata": {},
   "outputs": [],
   "source": [
    "a[0,:] #hole first row"
   ]
  },
  {
   "cell_type": "code",
   "execution_count": null,
   "metadata": {},
   "outputs": [],
   "source": [
    "np.random.random((2,3,5)) #3 dimensons: 2 depth / 3 columns / 5 rows"
   ]
  },
  {
   "cell_type": "code",
   "execution_count": null,
   "metadata": {},
   "outputs": [],
   "source": [
    "b=np.random.random((2,3,5))\n",
    "b"
   ]
  },
  {
   "cell_type": "code",
   "execution_count": null,
   "metadata": {},
   "outputs": [],
   "source": [
    "b*10 #smart way to have random numbers between 0 and 10 - 10 not included"
   ]
  },
  {
   "cell_type": "code",
   "execution_count": null,
   "metadata": {},
   "outputs": [],
   "source": [
    "b[0,0,0]"
   ]
  },
  {
   "cell_type": "code",
   "execution_count": null,
   "metadata": {},
   "outputs": [],
   "source": [
    "b[0,2,:]#vorderste Matrix, komplette 3. Zeile,"
   ]
  },
  {
   "cell_type": "code",
   "execution_count": null,
   "metadata": {},
   "outputs": [],
   "source": [
    "b[0,:,2]#vorderste Matrix komplette 3. Spalte"
   ]
  },
  {
   "cell_type": "code",
   "execution_count": null,
   "metadata": {},
   "outputs": [],
   "source": [
    "#mutabe ich kann eine einzelne Zeile ändern\n",
    "a[0,0,0]=5\n",
    "a"
   ]
  },
  {
   "cell_type": "code",
   "execution_count": null,
   "metadata": {},
   "outputs": [],
   "source": [
    "#insert list into array\n",
    "mylist=['cat','dog']\n",
    "np.array(mylist)"
   ]
  },
  {
   "cell_type": "code",
   "execution_count": null,
   "metadata": {},
   "outputs": [],
   "source": [
    "#DIFFRENCE nump.add\" vs \"+\""
   ]
  },
  {
   "cell_type": "code",
   "execution_count": null,
   "metadata": {},
   "outputs": [],
   "source": [
    "first=[1,2,3]\n",
    "second=[4,5,6]\n",
    "print(first+second) #joins two lists\n",
    "print (np.add(first,second))#addiert Element für Element"
   ]
  },
  {
   "cell_type": "code",
   "execution_count": null,
   "metadata": {},
   "outputs": [],
   "source": []
  },
  {
   "cell_type": "code",
   "execution_count": null,
   "metadata": {},
   "outputs": [],
   "source": []
  },
  {
   "cell_type": "code",
   "execution_count": null,
   "metadata": {},
   "outputs": [],
   "source": []
  },
  {
   "cell_type": "code",
   "execution_count": null,
   "metadata": {},
   "outputs": [],
   "source": []
  },
  {
   "cell_type": "code",
   "execution_count": null,
   "metadata": {},
   "outputs": [],
   "source": [
    "import numpy as np"
   ]
  },
  {
   "cell_type": "code",
   "execution_count": null,
   "metadata": {},
   "outputs": [],
   "source": [
    "atoms = np.array([[0., 0., 0.],\n",
    "                  [3., 3., 3.],\n",
    "                  [2., 8., 7.]]\n",
    "                 )"
   ]
  },
  {
   "cell_type": "code",
   "execution_count": null,
   "metadata": {},
   "outputs": [],
   "source": [
    "atoms"
   ]
  },
  {
   "cell_type": "code",
   "execution_count": null,
   "metadata": {},
   "outputs": [],
   "source": [
    "masses = np.array([1., 1., 5.])"
   ]
  },
  {
   "cell_type": "code",
   "execution_count": null,
   "metadata": {},
   "outputs": [],
   "source": [
    "atoms = atoms + [1.,2.,3.]\n",
    "atoms"
   ]
  },
  {
   "cell_type": "code",
   "execution_count": null,
   "metadata": {},
   "outputs": [],
   "source": [
    "riddle = np.array([[ 533.,  502.,  530.,  591.,  552.,  563.,  508.,  581.,  570.,  557.,  510.,  303.,  355.,  389.,  306.,  598.,  540.,  526.,  585.,  599.,  505.,  547.,  569.,  566.,  580.,  564.,  531.,  573.],\n",
    "       [ 512.,  522.,  540.,  510.,  541.,  544.,  521.,  567.,  324.,  388.,  384.,  495.,  457.,  469.,  485.,  300.,  426.,  410.,  584.,  545.,  518.,  591.,  518.,  536.,  508.,  556.,  595.,  560.],\n",
    "       [ 545.,  584.,  521.,  552.,  589.,  583.,  314.,  301.,  461.,  473.,  436.,  469.,  478.,  440.,  449.,  431.,  461.,  461.,  322.,  319.,  592.,  522.,  554.,  569.,  593.,  502.,  551.,  514.],\n",
    "       [ 576.,  517.,  538.,  588.,  550.,  331.,  529.,  532.,  470.,  469.,  471.,  461.,  426.,  400.,  450.,  462.,  422.,  430.,  454.,  487.,  398.,  529.,  584.,  567.,  594.,  522.,  530.,  506.],\n",
    "       [ 542.,  582.,  520.,  525.,  319.,  575.,  543.,  481.,  413.,  474.,  408.,  446.,  433.,  465.,  409.,  448.,  407.,  401.,  485.,  434.,  403.,  360.,  525.,  523.,  581.,  528.,  555.,  567.],\n",
    "       [ 533.,  588.,  569.,  383.,  581.,  541.,  558.,  448.,  411.,  425.,  403.,  463.,  423.,  457.,  493.,  472.,  460.,  470.,  444.,  418.,  498.,  426.,  340.,  577.,  556.,  544.,  560.,  589.],\n",
    "       [ 576.,  552.,  550.,  365.,  587.,  543.,  575.,  586.,  425.,  430.,  493.,  488.,  446.,  460.,  447.,  493.,  404.,  414.,  444.,  430.,  417.,  449.,  317.,  538.,  559.,  596.,  513.,  553.],\n",
    "       [ 567.,  574.,  374.,  513.,  578.,  593.,  539.,  555.,  512.,  407.,  435.,  483.,  458.,  456.,  462.,  433.,  497.,  465.,  459.,  400.,  445.,  436.,  456.,  356.,  547.,  526.,  508.,  573.],\n",
    "       [ 537.,  515.,  398.,  576.,  525.,  530.,  529.,  584.,  544.,  513.,  450.,  420.,  426.,  489.,  441.,  432.,  427.,  444.,  482.,  415.,  486.,  472.,  466.,  320.,  501.,  535.,  592.,  580.],\n",
    "       [ 539.,  542.,  304.,  522.,  565.,  500.,  559.,  530.,  554.,  520.,  526.,  594.,  423.,  472.,  477.,  468.,  428.,  374.,  343.,  332.,  379.,  419.,  477.,  354.,  557.,  554.,  554.,  550.],\n",
    "       [ 544.,  383.,  567.,  520.,  575.,  372.,  393.,  528.,  546.,  571.,  531.,  538.,  548.,  540.,  566.,  355.,  387.,  407.,  471.,  332.,  352.,  347.,  369.,  494.,  394.,  566.,  590.,  521.],\n",
    "       [ 590.,  326.,  524.,  327.,  357.,  501.,  559.,  348.,  566.,  516.,  522.,  505.,  502.,  501.,  363.,  445.,  442.,  398.,  329.,  548.,  591.,  512.,  595.,  358.,  344.,  571.,  519.,  543.],\n",
    "       [ 571.,  362.,  322.,  544.,  251.,  223.,  523.,  544.,  355.,  542.,  597.,  587.,  571.,  322.,  446.,  377.,  343.,  108.,  509.,  573.,  136.,  584.,  672.,  367.,  349.,  564.,  543.,  520.],\n",
    "       [ 585.,  312.,  225.,  228.,  435.,  484.,  215.,  536.,  336.,  522.,  529.,  557.,  375.,  455.,  350.,  371.,  108.,  523.,  507.,  218.,  298.,  221.,  292.,  244.,  242.,  294.,  556.,  573.],\n",
    "       [ 552.,  232.,  444.,  458.,  454.,  435.,  234.,  564.,  503.,  365.,  589.,  555.,  303.,  394.,  582.,  364.,  507.,  258.,  299.,  258.,  219.,  291.,  269.,  269.,  243.,  230.,  281.,  536.],\n",
    "       [ 279.,  522.,  453.,  406.,  419.,  487.,  444.,  514.,  283.,  398.,  521.,  352.,  487.,  309.,  347.,  108.,  214.,  236.,  602.,  261.,  221.,  200.,  292.,  235.,  261.,  236.,  292.,  540.],\n",
    "       [ 227.,  460.,  430.,  405.,  451.,  108.,  544.,  454.,  409.,  379.,  505.,  595.,  314.,  317.,  325.,  108.,  236.,  279.,  270.,  234.,  226.,  553.,  215.,  219.,  246.,  622.,  540.,  577.],\n",
    "       [ 595.,  218.,  209.,  456.,  108.,  584.,  549.,  576.,  450.,  401.,  491.,  515.,  321.,  654.,  697.,  267.,  276.,  249.,  531.,  651.,  606.,  558.,  604.,  693.,  594.,  570.,  560.,  523.],\n",
    "       [ 524.,  564.,  433.,  400.,  108.,  516.,  575.,  413.,  662.,  648.,  666.,  470.,  579.,  488.,  641.,  210.,  204.,  553.,  541.,  648.,  238.,  656.,  230.,  642.,  549.,  599.,  598.,  500.],\n",
    "       [ 524.,  596.,  549.,  439.,  108.,  108.,  437.,  691.,  693.,  671.,  659.,  628.,  420.,  494.,  581.,  282.,  246.,  506.,  611.,  612.,  227.,  670.,  275.,  691.,  634.,  461.,  597.,  553.],\n",
    "       [ 573.,  577.,  595.,  436.,  468.,  108.,  479.,  679.,  686.,  686.,  678.,  627.,  435.,  586.,  515.,  297.,  264.,  263.,  679.,  648.,  521.,  570.,  609.,  601.,  687.,  481.,  574.,  509.],\n",
    "       [ 501.,  544.,  508.,  539.,  430.,  499.,  108.,  474.,  656.,  669.,  601.,  462.,  108.,  108.,  108.,  502.,  232.,  685.,  687.,  201.,  437.,  569.,  549.,  576.,  558.,  409.,  516.,  584.],\n",
    "       [ 527.,  515.,  584.,  581.,  505.,  411.,  462.,  489.,  465.,  454.,  406.,  108.,  108.,  347.,  307.,  262.,  576.,  580.,  282.,  262.,  240.,  295.,  276.,  210.,  214.,  280.,  277.,  509.],\n",
    "       [ 537.,  562.,  565.,  573.,  559.,  500.,  466.,  464.,  410.,  404.,  108.,  108.,  108.,  108.,  108.,  287.,  543.,  521.,  686.,  659.,  261.,  278.,  266.,  276.,  293.,  288.,  554.,  541.],\n",
    "       [ 586.,  596.,  509.,  579.,  530.,  508.,  579.,  480.,  439.,  629.,  631.,  458.,  488.,  416.,  429.,  477.,  487.,  535.,  564.,  546.,  538.,  529.,  596.,  412.,  500.,  559.,  508.,  596.],\n",
    "       [ 536.,  578.,  502.,  522.,  531.,  525.,  587.,  580.,  501.,  487.,  439.,  432.,  478.,  443.,  405.,  548.,  533.,  439.,  486.,  415.,  476.,  417.,  472.,  541.,  528.,  595.,  531.,  549.],\n",
    "       [ 548.,  562.,  550.,  561.,  584.,  598.,  572.,  584.,  581.,  544.,  577.,  591.,  548.,  530.,  512.,  552.,  587.,  511.,  577.,  565.,  591.,  560.,  565.,  595.,  544.,  556.,  585.,  520.]])"
   ]
  },
  {
   "cell_type": "code",
   "execution_count": null,
   "metadata": {
    "scrolled": true
   },
   "outputs": [],
   "source": [
    "riddle"
   ]
  },
  {
   "cell_type": "code",
   "execution_count": null,
   "metadata": {},
   "outputs": [],
   "source": [
    "print(riddle.shape)\n",
    "print(riddle.size)"
   ]
  },
  {
   "cell_type": "code",
   "execution_count": null,
   "metadata": {},
   "outputs": [],
   "source": [
    "riddle[:,-1]"
   ]
  },
  {
   "cell_type": "code",
   "execution_count": null,
   "metadata": {},
   "outputs": [],
   "source": [
    "print(riddle)"
   ]
  },
  {
   "cell_type": "code",
   "execution_count": null,
   "metadata": {},
   "outputs": [],
   "source": [
    "\n",
    "for x in len(riddle): \n",
    "    if riddle[x] >=200 and  riddle[x]<= 300:\n",
    "        riddle [x]=0\n",
    "    elif riddle[x]>=300 and  riddle[x]<=400:\n",
    "        riddle [x]=40\n",
    "    elif riddle[x]>=400 and  riddle[x]<=500:\n",
    "        riddle [x]=156\n",
    "    elif riddle[x]>=500 and  riddle[x]<=600:\n",
    "        riddle [x]=220\n",
    "riddle"
   ]
  },
  {
   "cell_type": "code",
   "execution_count": null,
   "metadata": {},
   "outputs": [],
   "source": [
    "#PANDAS\n",
    "#Series vs Data Frame\n",
    "import pandas as pd\n",
    "import numpy as np"
   ]
  },
  {
   "cell_type": "code",
   "execution_count": null,
   "metadata": {},
   "outputs": [],
   "source": [
    "#SERIES\n",
    "a = pd.Series(np.random.random(10))\n",
    "a\n",
    "#generated an indexed array of random numbers\n"
   ]
  },
  {
   "cell_type": "code",
   "execution_count": null,
   "metadata": {},
   "outputs": [],
   "source": [
    "a = a*10\n",
    "a"
   ]
  },
  {
   "cell_type": "code",
   "execution_count": null,
   "metadata": {},
   "outputs": [],
   "source": [
    "a = pd.Series(np.random.random(10)),index=['a','b','c','d','e','f','g','h','i','j']"
   ]
  },
  {
   "cell_type": "code",
   "execution_count": null,
   "metadata": {},
   "outputs": [],
   "source": [
    "#DATAFRAME\n",
    "\n",
    "colnames = ['Column1','Column2','Column3','Column4','Column5']\n",
    "\n",
    "df = pd.DataFrame(np.random.random((10,5)), columns=colnames)\n",
    "\n",
    "df"
   ]
  },
  {
   "cell_type": "code",
   "execution_count": null,
   "metadata": {},
   "outputs": [],
   "source": [
    "np.random.random((10,10))"
   ]
  },
  {
   "cell_type": "code",
   "execution_count": null,
   "metadata": {},
   "outputs": [],
   "source": [
    "#TURN INTO DATAFRAME\n",
    "df=pd.DataFrame(np.random.random((10,10)))\n",
    "print(df)\n",
    "#bekommt row and colums index"
   ]
  },
  {
   "cell_type": "code",
   "execution_count": null,
   "metadata": {},
   "outputs": [],
   "source": [
    "colnames=[]\n",
    "for i in range (len(df)):\n",
    "              colnames.append('Columns' + str (i))\n"
   ]
  },
  {
   "cell_type": "code",
   "execution_count": null,
   "metadata": {},
   "outputs": [],
   "source": [
    "df_col=pd.DataFrame(np.random.random((10,10)), columns=colnames)\n",
    "print(df_col)"
   ]
  },
  {
   "cell_type": "code",
   "execution_count": null,
   "metadata": {},
   "outputs": [],
   "source": [
    "#After naming colums I can use thm to address the data\n",
    "df_col['Columns0']"
   ]
  },
  {
   "cell_type": "code",
   "execution_count": null,
   "metadata": {},
   "outputs": [],
   "source": [
    "#COMMAND HEAD TAIL\n",
    "df_col.head()\n",
    "#default is 5 first rows"
   ]
  },
  {
   "cell_type": "code",
   "execution_count": null,
   "metadata": {},
   "outputs": [],
   "source": [
    "df_col.head(2) #erste 2 Reihen\n"
   ]
  },
  {
   "cell_type": "code",
   "execution_count": null,
   "metadata": {},
   "outputs": [],
   "source": [
    "df_col.tail(2) #letzten 2 reihen"
   ]
  },
  {
   "cell_type": "code",
   "execution_count": null,
   "metadata": {},
   "outputs": [],
   "source": [
    "df_col['Columns1'].head(3)\n",
    "#erste 3 reihen der Column1"
   ]
  },
  {
   "cell_type": "code",
   "execution_count": null,
   "metadata": {},
   "outputs": [],
   "source": [
    "df_col['Columns2'][9]"
   ]
  },
  {
   "cell_type": "code",
   "execution_count": null,
   "metadata": {},
   "outputs": [],
   "source": [
    "# Converting Other Data Structures to DataFrames\n",
    "lst = [208500, 181500, 223500, 140000, 250000, 143000, 307000, 200000, 129900, 118000]\n",
    "\n",
    "price_df = pd.DataFrame(lst, columns=['SalePrice'])\n",
    "\n",
    "price_df"
   ]
  },
  {
   "cell_type": "code",
   "execution_count": null,
   "metadata": {},
   "outputs": [],
   "source": [
    "#TURN DICT IN TO DATAFRAME\n",
    "\n",
    "house_dict = {'Baker House': [7420, 'BrkSide', 1939, 5, 118000],\n",
    "              'Beazley House': [14115, 'Mitchel', 1993, 5, 143000],\n",
    "              'Dominguez House': [14260, 'NoRidge', 2000, 8, 250000],\n",
    "              'Hamilton House': [6120, 'OldTown', 1931, 7, 129900],\n",
    "              'James House': [11250, 'CollgCr', 2001, 7, 223500],\n",
    "              'Martinez House': [9600, 'Veenker', 1976, 6, 181500],\n",
    "              'Roberts House': [9550, 'Crawfor', 1915, 7, 140000],\n",
    "              'Smith House': [8450, 'CollgCr', 2003, 7, 208500],\n",
    "              'Snyder House': [10084, 'Somerst', 2004, 8, 307000],\n",
    "              'Zuckerman House': [10382, 'NWAmes', 1973, 7, 200000]}\n",
    "pd.DataFrame(house_dict)\n"
   ]
  },
  {
   "cell_type": "code",
   "execution_count": null,
   "metadata": {},
   "outputs": [],
   "source": [
    "pd.DataFrame.from_dict(house_dict, orient='index')"
   ]
  },
  {
   "cell_type": "code",
   "execution_count": null,
   "metadata": {},
   "outputs": [],
   "source": [
    "df_col.mean()"
   ]
  },
  {
   "cell_type": "code",
   "execution_count": null,
   "metadata": {},
   "outputs": [],
   "source": [
    "df_col.mean(axis=0)#spalte"
   ]
  },
  {
   "cell_type": "code",
   "execution_count": null,
   "metadata": {},
   "outputs": [],
   "source": [
    "df_col.mean(axis=1) #zeile"
   ]
  },
  {
   "cell_type": "code",
   "execution_count": null,
   "metadata": {},
   "outputs": [],
   "source": [
    "#Subsetting and Filtering in Pandas\n",
    "animals = pd.read_csv('/Users/spitzer/Desktop/IronHack/SleepInMammals.csv')\n",
    "animals"
   ]
  },
  {
   "cell_type": "code",
   "execution_count": null,
   "metadata": {},
   "outputs": [],
   "source": [
    "animals.index.values"
   ]
  },
  {
   "cell_type": "code",
   "execution_count": null,
   "metadata": {},
   "outputs": [],
   "source": [
    "#Selecting Columns\n",
    "animals['Body Weight (kg)']"
   ]
  },
  {
   "cell_type": "code",
   "execution_count": null,
   "metadata": {},
   "outputs": [],
   "source": [
    "#Selecting Rows\n",
    "animals[11:20]"
   ]
  },
  {
   "cell_type": "code",
   "execution_count": null,
   "metadata": {},
   "outputs": [],
   "source": [
    "#SUBSETTING USING FUNCTIONS\n",
    "#.loc is primarily label based. With .loc we perform subsetting using the name of the column\n",
    "#.iloc is primarily integer based. With .iloc we perform subsetting using the integer position of the column\n"
   ]
  },
  {
   "cell_type": "code",
   "execution_count": null,
   "metadata": {},
   "outputs": [],
   "source": [
    "animals.iloc[[0,2,4],[0,1]]#Zeilen mit Index 0,2,4 Spalten mit Index 0 und 1"
   ]
  },
  {
   "cell_type": "code",
   "execution_count": null,
   "metadata": {},
   "outputs": [],
   "source": [
    "#FILTERING\n",
    "animals[animals.Body Weight (kg) < 2]\n",
    "\n"
   ]
  },
  {
   "cell_type": "code",
   "execution_count": null,
   "metadata": {},
   "outputs": [],
   "source": [
    "df.mean()# dataframe mean of columns"
   ]
  },
  {
   "cell_type": "code",
   "execution_count": null,
   "metadata": {},
   "outputs": [],
   "source": [
    "df.mean(axis=1)# mean of each row of dataframe. axis=1 entspricht rows, axis=0 entspricht columns ist default"
   ]
  },
  {
   "cell_type": "code",
   "execution_count": null,
   "metadata": {},
   "outputs": [],
   "source": [
    "df['Columns0'].mean() #mean nur der 'Column0'"
   ]
  },
  {
   "cell_type": "code",
   "execution_count": null,
   "metadata": {},
   "outputs": [],
   "source": [
    "#ADD COLUMN TO DATAFRAM\n",
    "df['cat']='kittycat'\n",
    "df"
   ]
  },
  {
   "cell_type": "code",
   "execution_count": null,
   "metadata": {},
   "outputs": [],
   "source": [
    "df['2* Columns1']=df['Columns1']*2 #creates new column at the end with the values of column 1 multiplied by 2\n",
    "df"
   ]
  },
  {
   "cell_type": "code",
   "execution_count": null,
   "metadata": {},
   "outputs": [],
   "source": [
    "#'CREAT COLUMN WITH ALL MEANS OF THAT ROW OF ALL COLUMNS'\n",
    "df['MeanColumns']=df.mean(axis=1)\n",
    "df"
   ]
  },
  {
   "cell_type": "code",
   "execution_count": 23,
   "metadata": {},
   "outputs": [
    {
     "data": {
      "text/html": [
       "<div>\n",
       "<style scoped>\n",
       "    .dataframe tbody tr th:only-of-type {\n",
       "        vertical-align: middle;\n",
       "    }\n",
       "\n",
       "    .dataframe tbody tr th {\n",
       "        vertical-align: top;\n",
       "    }\n",
       "\n",
       "    .dataframe thead th {\n",
       "        text-align: right;\n",
       "    }\n",
       "</style>\n",
       "<table border=\"1\" class=\"dataframe\">\n",
       "  <thead>\n",
       "    <tr style=\"text-align: right;\">\n",
       "      <th></th>\n",
       "      <th>Species</th>\n",
       "      <th>BodyWt</th>\n",
       "      <th>BrainWt</th>\n",
       "      <th>NonDreaming</th>\n",
       "      <th>Dreaming</th>\n",
       "      <th>TotalSleep</th>\n",
       "      <th>LifeSpan</th>\n",
       "      <th>Gestation</th>\n",
       "    </tr>\n",
       "  </thead>\n",
       "  <tbody>\n",
       "    <tr>\n",
       "      <th>0</th>\n",
       "      <td>Africanelephant</td>\n",
       "      <td>6654.00</td>\n",
       "      <td>5712.0</td>\n",
       "      <td>NaN</td>\n",
       "      <td>NaN</td>\n",
       "      <td>3.3</td>\n",
       "      <td>38.6</td>\n",
       "      <td>645.0</td>\n",
       "    </tr>\n",
       "    <tr>\n",
       "      <th>1</th>\n",
       "      <td>Africangiantpouchedrat</td>\n",
       "      <td>1.00</td>\n",
       "      <td>6.6</td>\n",
       "      <td>6.3</td>\n",
       "      <td>2.0</td>\n",
       "      <td>8.3</td>\n",
       "      <td>4.5</td>\n",
       "      <td>42.0</td>\n",
       "    </tr>\n",
       "    <tr>\n",
       "      <th>2</th>\n",
       "      <td>ArcticFox</td>\n",
       "      <td>3385.00</td>\n",
       "      <td>44.5</td>\n",
       "      <td>NaN</td>\n",
       "      <td>NaN</td>\n",
       "      <td>12.5</td>\n",
       "      <td>14.0</td>\n",
       "      <td>60.0</td>\n",
       "    </tr>\n",
       "    <tr>\n",
       "      <th>3</th>\n",
       "      <td>Arcticgroundsquirrel</td>\n",
       "      <td>0.92</td>\n",
       "      <td>5.7</td>\n",
       "      <td>NaN</td>\n",
       "      <td>NaN</td>\n",
       "      <td>16.5</td>\n",
       "      <td>NaN</td>\n",
       "      <td>25.0</td>\n",
       "    </tr>\n",
       "    <tr>\n",
       "      <th>4</th>\n",
       "      <td>Asianelephant</td>\n",
       "      <td>2547.00</td>\n",
       "      <td>4603.0</td>\n",
       "      <td>2.1</td>\n",
       "      <td>1.8</td>\n",
       "      <td>3.9</td>\n",
       "      <td>69.0</td>\n",
       "      <td>624.0</td>\n",
       "    </tr>\n",
       "  </tbody>\n",
       "</table>\n",
       "</div>"
      ],
      "text/plain": [
       "                  Species   BodyWt  BrainWt  NonDreaming  Dreaming  \\\n",
       "0         Africanelephant  6654.00   5712.0          NaN       NaN   \n",
       "1  Africangiantpouchedrat     1.00      6.6          6.3       2.0   \n",
       "2               ArcticFox  3385.00     44.5          NaN       NaN   \n",
       "3    Arcticgroundsquirrel     0.92      5.7          NaN       NaN   \n",
       "4           Asianelephant  2547.00   4603.0          2.1       1.8   \n",
       "\n",
       "   TotalSleep  LifeSpan  Gestation  \n",
       "0         3.3      38.6      645.0  \n",
       "1         8.3       4.5       42.0  \n",
       "2        12.5      14.0       60.0  \n",
       "3        16.5       NaN       25.0  \n",
       "4         3.9      69.0      624.0  "
      ]
     },
     "execution_count": 23,
     "metadata": {},
     "output_type": "execute_result"
    }
   ],
   "source": [
    "#DATA ANALYSIS\n",
    "import pandas as pd\n",
    "animals = pd.read_csv('sleepinmammals.csv')\n",
    "animals.head()"
   ]
  },
  {
   "cell_type": "code",
   "execution_count": 24,
   "metadata": {},
   "outputs": [
    {
     "data": {
      "text/html": [
       "<div>\n",
       "<style scoped>\n",
       "    .dataframe tbody tr th:only-of-type {\n",
       "        vertical-align: middle;\n",
       "    }\n",
       "\n",
       "    .dataframe tbody tr th {\n",
       "        vertical-align: top;\n",
       "    }\n",
       "\n",
       "    .dataframe thead th {\n",
       "        text-align: right;\n",
       "    }\n",
       "</style>\n",
       "<table border=\"1\" class=\"dataframe\">\n",
       "  <thead>\n",
       "    <tr style=\"text-align: right;\">\n",
       "      <th></th>\n",
       "      <th>Species</th>\n",
       "      <th>BodyWt</th>\n",
       "      <th>BrainWt</th>\n",
       "      <th>NonDreaming</th>\n",
       "      <th>Dreaming</th>\n",
       "      <th>TotalSleep</th>\n",
       "      <th>LifeSpan</th>\n",
       "      <th>Gestation</th>\n",
       "    </tr>\n",
       "  </thead>\n",
       "  <tbody>\n",
       "    <tr>\n",
       "      <th>11</th>\n",
       "      <td>Cow</td>\n",
       "      <td>465.00</td>\n",
       "      <td>423.0</td>\n",
       "      <td>3.2</td>\n",
       "      <td>0.7</td>\n",
       "      <td>3.9</td>\n",
       "      <td>30.0</td>\n",
       "      <td>281.0</td>\n",
       "    </tr>\n",
       "    <tr>\n",
       "      <th>12</th>\n",
       "      <td>Deserthedgehog</td>\n",
       "      <td>0.55</td>\n",
       "      <td>2.4</td>\n",
       "      <td>7.6</td>\n",
       "      <td>2.7</td>\n",
       "      <td>10.3</td>\n",
       "      <td>NaN</td>\n",
       "      <td>NaN</td>\n",
       "    </tr>\n",
       "    <tr>\n",
       "      <th>13</th>\n",
       "      <td>Donkey</td>\n",
       "      <td>187.10</td>\n",
       "      <td>419.0</td>\n",
       "      <td>NaN</td>\n",
       "      <td>NaN</td>\n",
       "      <td>3.1</td>\n",
       "      <td>40.0</td>\n",
       "      <td>365.0</td>\n",
       "    </tr>\n",
       "    <tr>\n",
       "      <th>14</th>\n",
       "      <td>EasternAmericanmole</td>\n",
       "      <td>75.00</td>\n",
       "      <td>1.2</td>\n",
       "      <td>6.3</td>\n",
       "      <td>2.1</td>\n",
       "      <td>8.4</td>\n",
       "      <td>3.5</td>\n",
       "      <td>42.0</td>\n",
       "    </tr>\n",
       "    <tr>\n",
       "      <th>15</th>\n",
       "      <td>Echidna</td>\n",
       "      <td>3.00</td>\n",
       "      <td>25.0</td>\n",
       "      <td>8.6</td>\n",
       "      <td>0.0</td>\n",
       "      <td>8.6</td>\n",
       "      <td>50.0</td>\n",
       "      <td>28.0</td>\n",
       "    </tr>\n",
       "    <tr>\n",
       "      <th>16</th>\n",
       "      <td>Europeanhedgehog</td>\n",
       "      <td>785.00</td>\n",
       "      <td>3.5</td>\n",
       "      <td>6.6</td>\n",
       "      <td>4.1</td>\n",
       "      <td>10.7</td>\n",
       "      <td>6.0</td>\n",
       "      <td>42.0</td>\n",
       "    </tr>\n",
       "    <tr>\n",
       "      <th>17</th>\n",
       "      <td>Galago</td>\n",
       "      <td>0.20</td>\n",
       "      <td>5.0</td>\n",
       "      <td>9.5</td>\n",
       "      <td>1.2</td>\n",
       "      <td>10.7</td>\n",
       "      <td>10.4</td>\n",
       "      <td>120.0</td>\n",
       "    </tr>\n",
       "    <tr>\n",
       "      <th>18</th>\n",
       "      <td>Genet</td>\n",
       "      <td>1.41</td>\n",
       "      <td>17.5</td>\n",
       "      <td>4.8</td>\n",
       "      <td>1.3</td>\n",
       "      <td>6.1</td>\n",
       "      <td>34.0</td>\n",
       "      <td>NaN</td>\n",
       "    </tr>\n",
       "    <tr>\n",
       "      <th>19</th>\n",
       "      <td>Giantarmadillo</td>\n",
       "      <td>60.00</td>\n",
       "      <td>81.0</td>\n",
       "      <td>12.0</td>\n",
       "      <td>6.1</td>\n",
       "      <td>18.1</td>\n",
       "      <td>7.0</td>\n",
       "      <td>NaN</td>\n",
       "    </tr>\n",
       "    <tr>\n",
       "      <th>20</th>\n",
       "      <td>Giraffe</td>\n",
       "      <td>529.00</td>\n",
       "      <td>680.0</td>\n",
       "      <td>NaN</td>\n",
       "      <td>0.3</td>\n",
       "      <td>NaN</td>\n",
       "      <td>28.0</td>\n",
       "      <td>400.0</td>\n",
       "    </tr>\n",
       "  </tbody>\n",
       "</table>\n",
       "</div>"
      ],
      "text/plain": [
       "                Species  BodyWt  BrainWt  NonDreaming  Dreaming  TotalSleep  \\\n",
       "11                  Cow  465.00    423.0          3.2       0.7         3.9   \n",
       "12       Deserthedgehog    0.55      2.4          7.6       2.7        10.3   \n",
       "13               Donkey  187.10    419.0          NaN       NaN         3.1   \n",
       "14  EasternAmericanmole   75.00      1.2          6.3       2.1         8.4   \n",
       "15              Echidna    3.00     25.0          8.6       0.0         8.6   \n",
       "16     Europeanhedgehog  785.00      3.5          6.6       4.1        10.7   \n",
       "17               Galago    0.20      5.0          9.5       1.2        10.7   \n",
       "18                Genet    1.41     17.5          4.8       1.3         6.1   \n",
       "19       Giantarmadillo   60.00     81.0         12.0       6.1        18.1   \n",
       "20              Giraffe  529.00    680.0          NaN       0.3         NaN   \n",
       "\n",
       "    LifeSpan  Gestation  \n",
       "11      30.0      281.0  \n",
       "12       NaN        NaN  \n",
       "13      40.0      365.0  \n",
       "14       3.5       42.0  \n",
       "15      50.0       28.0  \n",
       "16       6.0       42.0  \n",
       "17      10.4      120.0  \n",
       "18      34.0        NaN  \n",
       "19       7.0        NaN  \n",
       "20      28.0      400.0  "
      ]
     },
     "execution_count": 24,
     "metadata": {},
     "output_type": "execute_result"
    }
   ],
   "source": [
    "animals[11:21] #rows 11 to 20"
   ]
  },
  {
   "cell_type": "code",
   "execution_count": 25,
   "metadata": {},
   "outputs": [],
   "source": [
    "#LOCATION: loc and iloc\n",
    "#loc for location iloc for index location, iloc uses location of column by index\n",
    "\n"
   ]
  },
  {
   "cell_type": "code",
   "execution_count": 28,
   "metadata": {},
   "outputs": [
    {
     "data": {
      "text/html": [
       "<div>\n",
       "<style scoped>\n",
       "    .dataframe tbody tr th:only-of-type {\n",
       "        vertical-align: middle;\n",
       "    }\n",
       "\n",
       "    .dataframe tbody tr th {\n",
       "        vertical-align: top;\n",
       "    }\n",
       "\n",
       "    .dataframe thead th {\n",
       "        text-align: right;\n",
       "    }\n",
       "</style>\n",
       "<table border=\"1\" class=\"dataframe\">\n",
       "  <thead>\n",
       "    <tr style=\"text-align: right;\">\n",
       "      <th></th>\n",
       "      <th>Species</th>\n",
       "      <th>BodyWt</th>\n",
       "      <th>BrainWt</th>\n",
       "    </tr>\n",
       "  </thead>\n",
       "  <tbody>\n",
       "    <tr>\n",
       "      <th>11</th>\n",
       "      <td>Cow</td>\n",
       "      <td>465.00</td>\n",
       "      <td>423.0</td>\n",
       "    </tr>\n",
       "    <tr>\n",
       "      <th>12</th>\n",
       "      <td>Deserthedgehog</td>\n",
       "      <td>0.55</td>\n",
       "      <td>2.4</td>\n",
       "    </tr>\n",
       "    <tr>\n",
       "      <th>13</th>\n",
       "      <td>Donkey</td>\n",
       "      <td>187.10</td>\n",
       "      <td>419.0</td>\n",
       "    </tr>\n",
       "    <tr>\n",
       "      <th>14</th>\n",
       "      <td>EasternAmericanmole</td>\n",
       "      <td>75.00</td>\n",
       "      <td>1.2</td>\n",
       "    </tr>\n",
       "    <tr>\n",
       "      <th>15</th>\n",
       "      <td>Echidna</td>\n",
       "      <td>3.00</td>\n",
       "      <td>25.0</td>\n",
       "    </tr>\n",
       "    <tr>\n",
       "      <th>16</th>\n",
       "      <td>Europeanhedgehog</td>\n",
       "      <td>785.00</td>\n",
       "      <td>3.5</td>\n",
       "    </tr>\n",
       "    <tr>\n",
       "      <th>17</th>\n",
       "      <td>Galago</td>\n",
       "      <td>0.20</td>\n",
       "      <td>5.0</td>\n",
       "    </tr>\n",
       "    <tr>\n",
       "      <th>18</th>\n",
       "      <td>Genet</td>\n",
       "      <td>1.41</td>\n",
       "      <td>17.5</td>\n",
       "    </tr>\n",
       "    <tr>\n",
       "      <th>19</th>\n",
       "      <td>Giantarmadillo</td>\n",
       "      <td>60.00</td>\n",
       "      <td>81.0</td>\n",
       "    </tr>\n",
       "    <tr>\n",
       "      <th>20</th>\n",
       "      <td>Giraffe</td>\n",
       "      <td>529.00</td>\n",
       "      <td>680.0</td>\n",
       "    </tr>\n",
       "  </tbody>\n",
       "</table>\n",
       "</div>"
      ],
      "text/plain": [
       "                Species  BodyWt  BrainWt\n",
       "11                  Cow  465.00    423.0\n",
       "12       Deserthedgehog    0.55      2.4\n",
       "13               Donkey  187.10    419.0\n",
       "14  EasternAmericanmole   75.00      1.2\n",
       "15              Echidna    3.00     25.0\n",
       "16     Europeanhedgehog  785.00      3.5\n",
       "17               Galago    0.20      5.0\n",
       "18                Genet    1.41     17.5\n",
       "19       Giantarmadillo   60.00     81.0\n",
       "20              Giraffe  529.00    680.0"
      ]
     },
     "execution_count": 28,
     "metadata": {},
     "output_type": "execute_result"
    }
   ],
   "source": [
    "#extraction rows 11-20 for the first 3 columns\n",
    "animals.iloc [11:21,0:3]"
   ]
  },
  {
   "cell_type": "code",
   "execution_count": 45,
   "metadata": {},
   "outputs": [
    {
     "data": {
      "text/html": [
       "<div>\n",
       "<style scoped>\n",
       "    .dataframe tbody tr th:only-of-type {\n",
       "        vertical-align: middle;\n",
       "    }\n",
       "\n",
       "    .dataframe tbody tr th {\n",
       "        vertical-align: top;\n",
       "    }\n",
       "\n",
       "    .dataframe thead th {\n",
       "        text-align: right;\n",
       "    }\n",
       "</style>\n",
       "<table border=\"1\" class=\"dataframe\">\n",
       "  <thead>\n",
       "    <tr style=\"text-align: right;\">\n",
       "      <th></th>\n",
       "      <th>Species</th>\n",
       "      <th>BrainWt</th>\n",
       "    </tr>\n",
       "  </thead>\n",
       "  <tbody>\n",
       "    <tr>\n",
       "      <th>11</th>\n",
       "      <td>Cow</td>\n",
       "      <td>423.0</td>\n",
       "    </tr>\n",
       "    <tr>\n",
       "      <th>12</th>\n",
       "      <td>Deserthedgehog</td>\n",
       "      <td>2.4</td>\n",
       "    </tr>\n",
       "    <tr>\n",
       "      <th>13</th>\n",
       "      <td>Donkey</td>\n",
       "      <td>419.0</td>\n",
       "    </tr>\n",
       "    <tr>\n",
       "      <th>14</th>\n",
       "      <td>EasternAmericanmole</td>\n",
       "      <td>1.2</td>\n",
       "    </tr>\n",
       "    <tr>\n",
       "      <th>15</th>\n",
       "      <td>Echidna</td>\n",
       "      <td>25.0</td>\n",
       "    </tr>\n",
       "    <tr>\n",
       "      <th>16</th>\n",
       "      <td>Europeanhedgehog</td>\n",
       "      <td>3.5</td>\n",
       "    </tr>\n",
       "    <tr>\n",
       "      <th>17</th>\n",
       "      <td>Galago</td>\n",
       "      <td>5.0</td>\n",
       "    </tr>\n",
       "    <tr>\n",
       "      <th>18</th>\n",
       "      <td>Genet</td>\n",
       "      <td>17.5</td>\n",
       "    </tr>\n",
       "    <tr>\n",
       "      <th>19</th>\n",
       "      <td>Giantarmadillo</td>\n",
       "      <td>81.0</td>\n",
       "    </tr>\n",
       "    <tr>\n",
       "      <th>20</th>\n",
       "      <td>Giraffe</td>\n",
       "      <td>680.0</td>\n",
       "    </tr>\n",
       "  </tbody>\n",
       "</table>\n",
       "</div>"
      ],
      "text/plain": [
       "                Species  BrainWt\n",
       "11                  Cow    423.0\n",
       "12       Deserthedgehog      2.4\n",
       "13               Donkey    419.0\n",
       "14  EasternAmericanmole      1.2\n",
       "15              Echidna     25.0\n",
       "16     Europeanhedgehog      3.5\n",
       "17               Galago      5.0\n",
       "18                Genet     17.5\n",
       "19       Giantarmadillo     81.0\n",
       "20              Giraffe    680.0"
      ]
     },
     "execution_count": 45,
     "metadata": {},
     "output_type": "execute_result"
    }
   ],
   "source": [
    "animals.loc[11:20,['Species','BrainWt']]"
   ]
  },
  {
   "cell_type": "code",
   "execution_count": 46,
   "metadata": {},
   "outputs": [
    {
     "data": {
      "text/html": [
       "<div>\n",
       "<style scoped>\n",
       "    .dataframe tbody tr th:only-of-type {\n",
       "        vertical-align: middle;\n",
       "    }\n",
       "\n",
       "    .dataframe tbody tr th {\n",
       "        vertical-align: top;\n",
       "    }\n",
       "\n",
       "    .dataframe thead th {\n",
       "        text-align: right;\n",
       "    }\n",
       "</style>\n",
       "<table border=\"1\" class=\"dataframe\">\n",
       "  <thead>\n",
       "    <tr style=\"text-align: right;\">\n",
       "      <th></th>\n",
       "      <th>Species</th>\n",
       "      <th>BodyWt</th>\n",
       "      <th>BrainWt</th>\n",
       "      <th>NonDreaming</th>\n",
       "      <th>Dreaming</th>\n",
       "    </tr>\n",
       "  </thead>\n",
       "  <tbody>\n",
       "    <tr>\n",
       "      <th>11</th>\n",
       "      <td>Cow</td>\n",
       "      <td>465.00</td>\n",
       "      <td>423.0</td>\n",
       "      <td>3.2</td>\n",
       "      <td>0.7</td>\n",
       "    </tr>\n",
       "    <tr>\n",
       "      <th>12</th>\n",
       "      <td>Deserthedgehog</td>\n",
       "      <td>0.55</td>\n",
       "      <td>2.4</td>\n",
       "      <td>7.6</td>\n",
       "      <td>2.7</td>\n",
       "    </tr>\n",
       "    <tr>\n",
       "      <th>13</th>\n",
       "      <td>Donkey</td>\n",
       "      <td>187.10</td>\n",
       "      <td>419.0</td>\n",
       "      <td>NaN</td>\n",
       "      <td>NaN</td>\n",
       "    </tr>\n",
       "    <tr>\n",
       "      <th>14</th>\n",
       "      <td>EasternAmericanmole</td>\n",
       "      <td>75.00</td>\n",
       "      <td>1.2</td>\n",
       "      <td>6.3</td>\n",
       "      <td>2.1</td>\n",
       "    </tr>\n",
       "    <tr>\n",
       "      <th>15</th>\n",
       "      <td>Echidna</td>\n",
       "      <td>3.00</td>\n",
       "      <td>25.0</td>\n",
       "      <td>8.6</td>\n",
       "      <td>0.0</td>\n",
       "    </tr>\n",
       "    <tr>\n",
       "      <th>16</th>\n",
       "      <td>Europeanhedgehog</td>\n",
       "      <td>785.00</td>\n",
       "      <td>3.5</td>\n",
       "      <td>6.6</td>\n",
       "      <td>4.1</td>\n",
       "    </tr>\n",
       "    <tr>\n",
       "      <th>17</th>\n",
       "      <td>Galago</td>\n",
       "      <td>0.20</td>\n",
       "      <td>5.0</td>\n",
       "      <td>9.5</td>\n",
       "      <td>1.2</td>\n",
       "    </tr>\n",
       "    <tr>\n",
       "      <th>18</th>\n",
       "      <td>Genet</td>\n",
       "      <td>1.41</td>\n",
       "      <td>17.5</td>\n",
       "      <td>4.8</td>\n",
       "      <td>1.3</td>\n",
       "    </tr>\n",
       "    <tr>\n",
       "      <th>19</th>\n",
       "      <td>Giantarmadillo</td>\n",
       "      <td>60.00</td>\n",
       "      <td>81.0</td>\n",
       "      <td>12.0</td>\n",
       "      <td>6.1</td>\n",
       "    </tr>\n",
       "    <tr>\n",
       "      <th>20</th>\n",
       "      <td>Giraffe</td>\n",
       "      <td>529.00</td>\n",
       "      <td>680.0</td>\n",
       "      <td>NaN</td>\n",
       "      <td>0.3</td>\n",
       "    </tr>\n",
       "    <tr>\n",
       "      <th>21</th>\n",
       "      <td>Goat</td>\n",
       "      <td>27.66</td>\n",
       "      <td>115.0</td>\n",
       "      <td>3.3</td>\n",
       "      <td>0.5</td>\n",
       "    </tr>\n",
       "  </tbody>\n",
       "</table>\n",
       "</div>"
      ],
      "text/plain": [
       "                Species  BodyWt  BrainWt  NonDreaming  Dreaming\n",
       "11                  Cow  465.00    423.0          3.2       0.7\n",
       "12       Deserthedgehog    0.55      2.4          7.6       2.7\n",
       "13               Donkey  187.10    419.0          NaN       NaN\n",
       "14  EasternAmericanmole   75.00      1.2          6.3       2.1\n",
       "15              Echidna    3.00     25.0          8.6       0.0\n",
       "16     Europeanhedgehog  785.00      3.5          6.6       4.1\n",
       "17               Galago    0.20      5.0          9.5       1.2\n",
       "18                Genet    1.41     17.5          4.8       1.3\n",
       "19       Giantarmadillo   60.00     81.0         12.0       6.1\n",
       "20              Giraffe  529.00    680.0          NaN       0.3\n",
       "21                 Goat   27.66    115.0          3.3       0.5"
      ]
     },
     "execution_count": 46,
     "metadata": {},
     "output_type": "execute_result"
    }
   ],
   "source": [
    "animals.loc[11:21,'Species':'Dreaming']"
   ]
  },
  {
   "cell_type": "code",
   "execution_count": 49,
   "metadata": {},
   "outputs": [
    {
     "data": {
      "text/html": [
       "<div>\n",
       "<style scoped>\n",
       "    .dataframe tbody tr th:only-of-type {\n",
       "        vertical-align: middle;\n",
       "    }\n",
       "\n",
       "    .dataframe tbody tr th {\n",
       "        vertical-align: top;\n",
       "    }\n",
       "\n",
       "    .dataframe thead th {\n",
       "        text-align: right;\n",
       "    }\n",
       "</style>\n",
       "<table border=\"1\" class=\"dataframe\">\n",
       "  <thead>\n",
       "    <tr style=\"text-align: right;\">\n",
       "      <th></th>\n",
       "      <th>Species</th>\n",
       "      <th>BodyWt</th>\n",
       "      <th>BrainWt</th>\n",
       "      <th>NonDreaming</th>\n",
       "      <th>Dreaming</th>\n",
       "      <th>TotalSleep</th>\n",
       "      <th>LifeSpan</th>\n",
       "      <th>Gestation</th>\n",
       "    </tr>\n",
       "  </thead>\n",
       "  <tbody>\n",
       "    <tr>\n",
       "      <th>6</th>\n",
       "      <td>Bigbrownbat</td>\n",
       "      <td>23.00</td>\n",
       "      <td>0.30</td>\n",
       "      <td>15.8</td>\n",
       "      <td>3.9</td>\n",
       "      <td>19.7</td>\n",
       "      <td>19.0</td>\n",
       "      <td>35.0</td>\n",
       "    </tr>\n",
       "    <tr>\n",
       "      <th>14</th>\n",
       "      <td>EasternAmericanmole</td>\n",
       "      <td>75.00</td>\n",
       "      <td>1.20</td>\n",
       "      <td>6.3</td>\n",
       "      <td>2.1</td>\n",
       "      <td>8.4</td>\n",
       "      <td>3.5</td>\n",
       "      <td>42.0</td>\n",
       "    </tr>\n",
       "    <tr>\n",
       "      <th>22</th>\n",
       "      <td>Goldenhamster</td>\n",
       "      <td>0.12</td>\n",
       "      <td>1.00</td>\n",
       "      <td>11.0</td>\n",
       "      <td>3.4</td>\n",
       "      <td>14.4</td>\n",
       "      <td>3.9</td>\n",
       "      <td>16.0</td>\n",
       "    </tr>\n",
       "    <tr>\n",
       "      <th>31</th>\n",
       "      <td>Lessershort-tailedshrew</td>\n",
       "      <td>5.00</td>\n",
       "      <td>0.14</td>\n",
       "      <td>7.7</td>\n",
       "      <td>1.4</td>\n",
       "      <td>9.1</td>\n",
       "      <td>2.6</td>\n",
       "      <td>21.5</td>\n",
       "    </tr>\n",
       "    <tr>\n",
       "      <th>32</th>\n",
       "      <td>Littlebrownbat</td>\n",
       "      <td>0.01</td>\n",
       "      <td>0.25</td>\n",
       "      <td>17.9</td>\n",
       "      <td>2.0</td>\n",
       "      <td>19.9</td>\n",
       "      <td>24.0</td>\n",
       "      <td>50.0</td>\n",
       "    </tr>\n",
       "    <tr>\n",
       "      <th>36</th>\n",
       "      <td>Mouse</td>\n",
       "      <td>23.00</td>\n",
       "      <td>0.40</td>\n",
       "      <td>11.9</td>\n",
       "      <td>1.3</td>\n",
       "      <td>13.2</td>\n",
       "      <td>3.2</td>\n",
       "      <td>19.0</td>\n",
       "    </tr>\n",
       "    <tr>\n",
       "      <th>37</th>\n",
       "      <td>Muskshrew</td>\n",
       "      <td>48.00</td>\n",
       "      <td>0.33</td>\n",
       "      <td>10.8</td>\n",
       "      <td>2.0</td>\n",
       "      <td>12.8</td>\n",
       "      <td>2.0</td>\n",
       "      <td>30.0</td>\n",
       "    </tr>\n",
       "    <tr>\n",
       "      <th>47</th>\n",
       "      <td>Rat</td>\n",
       "      <td>0.28</td>\n",
       "      <td>1.90</td>\n",
       "      <td>10.6</td>\n",
       "      <td>2.6</td>\n",
       "      <td>13.2</td>\n",
       "      <td>4.7</td>\n",
       "      <td>21.0</td>\n",
       "    </tr>\n",
       "    <tr>\n",
       "      <th>55</th>\n",
       "      <td>Starnosedmole</td>\n",
       "      <td>0.06</td>\n",
       "      <td>1.00</td>\n",
       "      <td>8.1</td>\n",
       "      <td>2.2</td>\n",
       "      <td>10.3</td>\n",
       "      <td>3.5</td>\n",
       "      <td>NaN</td>\n",
       "    </tr>\n",
       "  </tbody>\n",
       "</table>\n",
       "</div>"
      ],
      "text/plain": [
       "                    Species  BodyWt  BrainWt  NonDreaming  Dreaming  \\\n",
       "6               Bigbrownbat   23.00     0.30         15.8       3.9   \n",
       "14      EasternAmericanmole   75.00     1.20          6.3       2.1   \n",
       "22            Goldenhamster    0.12     1.00         11.0       3.4   \n",
       "31  Lessershort-tailedshrew    5.00     0.14          7.7       1.4   \n",
       "32           Littlebrownbat    0.01     0.25         17.9       2.0   \n",
       "36                    Mouse   23.00     0.40         11.9       1.3   \n",
       "37                Muskshrew   48.00     0.33         10.8       2.0   \n",
       "47                      Rat    0.28     1.90         10.6       2.6   \n",
       "55            Starnosedmole    0.06     1.00          8.1       2.2   \n",
       "\n",
       "    TotalSleep  LifeSpan  Gestation  \n",
       "6         19.7      19.0       35.0  \n",
       "14         8.4       3.5       42.0  \n",
       "22        14.4       3.9       16.0  \n",
       "31         9.1       2.6       21.5  \n",
       "32        19.9      24.0       50.0  \n",
       "36        13.2       3.2       19.0  \n",
       "37        12.8       2.0       30.0  \n",
       "47        13.2       4.7       21.0  \n",
       "55        10.3       3.5        NaN  "
      ]
     },
     "execution_count": 49,
     "metadata": {},
     "output_type": "execute_result"
    }
   ],
   "source": [
    "#subset datafram by condition\n",
    "#Getting all the rows where BrainWt <2\n",
    "animals[animals['BrainWt']<2] #give me all rows where condition is true\n"
   ]
  },
  {
   "cell_type": "code",
   "execution_count": 50,
   "metadata": {},
   "outputs": [
    {
     "data": {
      "text/html": [
       "<div>\n",
       "<style scoped>\n",
       "    .dataframe tbody tr th:only-of-type {\n",
       "        vertical-align: middle;\n",
       "    }\n",
       "\n",
       "    .dataframe tbody tr th {\n",
       "        vertical-align: top;\n",
       "    }\n",
       "\n",
       "    .dataframe thead th {\n",
       "        text-align: right;\n",
       "    }\n",
       "</style>\n",
       "<table border=\"1\" class=\"dataframe\">\n",
       "  <thead>\n",
       "    <tr style=\"text-align: right;\">\n",
       "      <th></th>\n",
       "      <th>BodyWt</th>\n",
       "      <th>BrainWt</th>\n",
       "      <th>NonDreaming</th>\n",
       "      <th>Dreaming</th>\n",
       "      <th>TotalSleep</th>\n",
       "      <th>LifeSpan</th>\n",
       "      <th>Gestation</th>\n",
       "    </tr>\n",
       "  </thead>\n",
       "  <tbody>\n",
       "    <tr>\n",
       "      <th>count</th>\n",
       "      <td>62.000000</td>\n",
       "      <td>62.000000</td>\n",
       "      <td>48.000000</td>\n",
       "      <td>50.000000</td>\n",
       "      <td>58.000000</td>\n",
       "      <td>58.000000</td>\n",
       "      <td>58.000000</td>\n",
       "    </tr>\n",
       "    <tr>\n",
       "      <th>mean</th>\n",
       "      <td>418.231613</td>\n",
       "      <td>283.134194</td>\n",
       "      <td>8.672917</td>\n",
       "      <td>1.972000</td>\n",
       "      <td>10.532759</td>\n",
       "      <td>19.877586</td>\n",
       "      <td>142.353448</td>\n",
       "    </tr>\n",
       "    <tr>\n",
       "      <th>std</th>\n",
       "      <td>1211.589440</td>\n",
       "      <td>930.278942</td>\n",
       "      <td>3.666452</td>\n",
       "      <td>1.442651</td>\n",
       "      <td>4.606760</td>\n",
       "      <td>18.206255</td>\n",
       "      <td>146.805039</td>\n",
       "    </tr>\n",
       "    <tr>\n",
       "      <th>min</th>\n",
       "      <td>0.010000</td>\n",
       "      <td>0.140000</td>\n",
       "      <td>2.100000</td>\n",
       "      <td>0.000000</td>\n",
       "      <td>2.600000</td>\n",
       "      <td>2.000000</td>\n",
       "      <td>12.000000</td>\n",
       "    </tr>\n",
       "    <tr>\n",
       "      <th>25%</th>\n",
       "      <td>1.640000</td>\n",
       "      <td>4.250000</td>\n",
       "      <td>6.250000</td>\n",
       "      <td>0.900000</td>\n",
       "      <td>8.050000</td>\n",
       "      <td>6.625000</td>\n",
       "      <td>35.750000</td>\n",
       "    </tr>\n",
       "    <tr>\n",
       "      <th>50%</th>\n",
       "      <td>18.915000</td>\n",
       "      <td>17.250000</td>\n",
       "      <td>8.350000</td>\n",
       "      <td>1.800000</td>\n",
       "      <td>10.450000</td>\n",
       "      <td>15.100000</td>\n",
       "      <td>79.000000</td>\n",
       "    </tr>\n",
       "    <tr>\n",
       "      <th>75%</th>\n",
       "      <td>117.500000</td>\n",
       "      <td>166.000000</td>\n",
       "      <td>11.000000</td>\n",
       "      <td>2.550000</td>\n",
       "      <td>13.200000</td>\n",
       "      <td>27.750000</td>\n",
       "      <td>207.500000</td>\n",
       "    </tr>\n",
       "    <tr>\n",
       "      <th>max</th>\n",
       "      <td>6654.000000</td>\n",
       "      <td>5712.000000</td>\n",
       "      <td>17.900000</td>\n",
       "      <td>6.600000</td>\n",
       "      <td>19.900000</td>\n",
       "      <td>100.000000</td>\n",
       "      <td>645.000000</td>\n",
       "    </tr>\n",
       "  </tbody>\n",
       "</table>\n",
       "</div>"
      ],
      "text/plain": [
       "            BodyWt      BrainWt  NonDreaming   Dreaming  TotalSleep  \\\n",
       "count    62.000000    62.000000    48.000000  50.000000   58.000000   \n",
       "mean    418.231613   283.134194     8.672917   1.972000   10.532759   \n",
       "std    1211.589440   930.278942     3.666452   1.442651    4.606760   \n",
       "min       0.010000     0.140000     2.100000   0.000000    2.600000   \n",
       "25%       1.640000     4.250000     6.250000   0.900000    8.050000   \n",
       "50%      18.915000    17.250000     8.350000   1.800000   10.450000   \n",
       "75%     117.500000   166.000000    11.000000   2.550000   13.200000   \n",
       "max    6654.000000  5712.000000    17.900000   6.600000   19.900000   \n",
       "\n",
       "         LifeSpan   Gestation  \n",
       "count   58.000000   58.000000  \n",
       "mean    19.877586  142.353448  \n",
       "std     18.206255  146.805039  \n",
       "min      2.000000   12.000000  \n",
       "25%      6.625000   35.750000  \n",
       "50%     15.100000   79.000000  \n",
       "75%     27.750000  207.500000  \n",
       "max    100.000000  645.000000  "
      ]
     },
     "execution_count": 50,
     "metadata": {},
     "output_type": "execute_result"
    }
   ],
   "source": [
    "#COOLE FUNKTION FÜR DATAFRAME\n",
    "animals.describe()"
   ]
  },
  {
   "cell_type": "code",
   "execution_count": 56,
   "metadata": {},
   "outputs": [
    {
     "data": {
      "text/plain": [
       "[10, 11, 12, 13, 14, 15, 16, 17, 18, 19, 20]"
      ]
     },
     "execution_count": 56,
     "metadata": {},
     "output_type": "execute_result"
    }
   ],
   "source": [
    "#LIST COMPREHENSION\n",
    "#list 10 bis 20\n",
    "my_list=[x for x in range (10,21)]\n",
    "my_list"
   ]
  },
  {
   "cell_type": "code",
   "execution_count": null,
   "metadata": {},
   "outputs": [],
   "source": []
  }
 ],
 "metadata": {
  "kernelspec": {
   "display_name": "Python 3",
   "language": "python",
   "name": "python3"
  },
  "language_info": {
   "codemirror_mode": {
    "name": "ipython",
    "version": 3
   },
   "file_extension": ".py",
   "mimetype": "text/x-python",
   "name": "python",
   "nbconvert_exporter": "python",
   "pygments_lexer": "ipython3",
   "version": "3.8.5"
  }
 },
 "nbformat": 4,
 "nbformat_minor": 4
}
