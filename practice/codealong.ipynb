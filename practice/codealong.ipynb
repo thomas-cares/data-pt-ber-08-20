{
 "cells": [
  {
   "cell_type": "code",
   "execution_count": 6,
   "metadata": {},
   "outputs": [],
   "source": [
    "names = [\"john\",\"paul\",\"ringo\",\"george\"]"
   ]
  },
  {
   "cell_type": "code",
   "execution_count": 7,
   "metadata": {},
   "outputs": [
    {
     "name": "stdout",
     "output_type": "stream",
     "text": [
      "john\n",
      "paul\n",
      "ringo\n"
     ]
    }
   ],
   "source": [
    "for i in names:\n",
    "    print (i)\n",
    "    if i == \"ringo\":\n",
    "        break"
   ]
  },
  {
   "cell_type": "code",
   "execution_count": 11,
   "metadata": {},
   "outputs": [
    {
     "name": "stdout",
     "output_type": "stream",
     "text": [
      "1\n",
      "4\n",
      "7\n",
      "10\n",
      "13\n",
      "16\n",
      "19\n"
     ]
    }
   ],
   "source": [
    "#loop macht 3er Schritte\n",
    "for x in range (1,21,3):\n",
    "    print (x)"
   ]
  },
  {
   "cell_type": "code",
   "execution_count": 12,
   "metadata": {},
   "outputs": [
    {
     "name": "stdout",
     "output_type": "stream",
     "text": [
      "apple\n"
     ]
    }
   ],
   "source": [
    "#break befehl unterbricht loop\n",
    "fruits = [\"apple\", \"banana\", \"cherry\"]\n",
    "for x in fruits:\n",
    "  if x == \"banana\":\n",
    "    break\n",
    "  print(x)"
   ]
  },
  {
   "cell_type": "code",
   "execution_count": 13,
   "metadata": {},
   "outputs": [
    {
     "name": "stdout",
     "output_type": "stream",
     "text": [
      "red apple\n",
      "red banana\n",
      "red cherry\n",
      "big apple\n",
      "big banana\n",
      "big cherry\n",
      "tasty apple\n",
      "tasty banana\n",
      "tasty cherry\n"
     ]
    }
   ],
   "source": [
    "#A nested loop is a loop inside a loop.\n",
    "adj = [\"red\", \"big\", \"tasty\"]\n",
    "fruits = [\"apple\", \"banana\", \"cherry\"]\n",
    "\n",
    "for x in adj:\n",
    "  for y in fruits:\n",
    "    print(x, y) "
   ]
  },
  {
   "cell_type": "code",
   "execution_count": 16,
   "metadata": {},
   "outputs": [
    {
     "name": "stdout",
     "output_type": "stream",
     "text": [
      "apple\n",
      "cherry\n"
     ]
    }
   ],
   "source": [
    "#continue überspringt wert\n",
    "fruits = [\"apple\", \"banana\", \"cherry\"]\n",
    "for x in fruits:\n",
    "  if x == \"banana\":\n",
    "    continue\n",
    "  print(x)\n"
   ]
  },
  {
   "cell_type": "code",
   "execution_count": 5,
   "metadata": {},
   "outputs": [
    {
     "name": "stdout",
     "output_type": "stream",
     "text": [
      "[26, 20, 69, 33, 38, 0, 87, 89, 75, 40, 59, 23, 48, 53, 51, 96, 18, 52, 44, 41, 88, 99, 19, 73, 65, 95, 86, 77, 58, 8, 27, 32, 54, 3, 11, 4, 31, 78, 61, 5, 16, 12, 82, 13, 83, 17, 100, 7, 2, 10, 14, 42, 66, 98, 9, 35, 81, 21, 71, 29, 50, 85, 70, 72, 25, 63, 1, 37, 6, 39, 90, 45, 80, 47, 68, 36, 74, 91, 60, 57]\n"
     ]
    }
   ],
   "source": [
    "#create list of 80 random elements with values 0-100\n",
    "import random\n",
    "sample_list_1=(random.sample(range(101), k=80))\n",
    "print (sample_list_1)"
   ]
  },
  {
   "cell_type": "code",
   "execution_count": 10,
   "metadata": {},
   "outputs": [
    {
     "data": {
      "text/plain": [
       "11"
      ]
     },
     "execution_count": 10,
     "metadata": {},
     "output_type": "execute_result"
    }
   ],
   "source": [
    "import random\n",
    "random.randint(10, 11)"
   ]
  },
  {
   "cell_type": "code",
   "execution_count": 16,
   "metadata": {},
   "outputs": [
    {
     "name": "stdout",
     "output_type": "stream",
     "text": [
      "hello Function\n",
      "hello Function\n",
      "hello Function\n",
      "hello Function\n"
     ]
    }
   ],
   "source": [
    "def hello_func():\n",
    "    print(\"hello Function\")\n",
    "\n",
    "hello_func()\n",
    "hello_func()\n",
    "hello_func()\n",
    "hello_func()"
   ]
  },
  {
   "cell_type": "code",
   "execution_count": 60,
   "metadata": {},
   "outputs": [
    {
     "name": "stdout",
     "output_type": "stream",
     "text": [
      "HI, YOU\n"
     ]
    }
   ],
   "source": [
    "import random\n",
    "\n",
    "def hello_func(greeting = \"hi\", name = \"you\") :\n",
    "    return \"{}, {}\".format(greeting, name).upper()\n",
    "    \n",
    "print(hello_func())\n"
   ]
  },
  {
   "cell_type": "code",
   "execution_count": 62,
   "metadata": {},
   "outputs": [],
   "source": [
    "def student_info(*args, **kwargs):\n",
    "    print(args)\n",
    "    print(kwarg)"
   ]
  },
  {
   "cell_type": "code",
   "execution_count": 12,
   "metadata": {},
   "outputs": [
    {
     "name": "stdout",
     "output_type": "stream",
     "text": [
      "meow\n",
      "{'cat': 'meow', 'cow': 'mooh', 'dog': 'bark', 'bird': 'zirp'}\n",
      "cat: meow\n",
      "cow: mooh\n",
      "dog: bark\n",
      "bird: zirp\n"
     ]
    }
   ],
   "source": [
    "#dictonary key value pair\n",
    "dict = {\"cat\": \"meow\", \"cow\":\"mooh\", \"dog\":\"bark\"}\n",
    "x = dict[\"cat\"]\n",
    "print(x)\n",
    "\n",
    "dict[\"bird\"] =\"zirp\"\n",
    "print(dict)\n",
    "\n",
    "for k,v in dict.items():\n",
    "    print(k+\": \"+v)"
   ]
  },
  {
   "cell_type": "code",
   "execution_count": 6,
   "metadata": {},
   "outputs": [
    {
     "name": "stdout",
     "output_type": "stream",
     "text": [
      "John, Norway\n"
     ]
    }
   ],
   "source": [
    "myDict = {\"name\": \"John\", \"country\": \"Norway\"}\n",
    "mySeparator = \"TEST\"\n",
    "\n",
    "x = \", \".join(myDict.values())\n",
    "\n",
    "print(x)\n"
   ]
  },
  {
   "cell_type": "code",
   "execution_count": 1,
   "metadata": {},
   "outputs": [],
   "source": [
    "import numpy as np"
   ]
  },
  {
   "cell_type": "code",
   "execution_count": 5,
   "metadata": {},
   "outputs": [
    {
     "name": "stdout",
     "output_type": "stream",
     "text": [
      "0\n",
      "1\n",
      "2\n",
      "3\n"
     ]
    }
   ],
   "source": [
    "a = np.array(42)\n",
    "b = np.array([1, 2, 3, 4, 5])\n",
    "c = np.array([[1, 2, 3], [4, 5, 6]])\n",
    "d = np.array([[[1, 2, 3], [4, 5, 6]], [[1, 2, 3], [4, 5, 6]]])\n",
    "\n",
    "print(a.ndim)\n",
    "print(b.ndim)\n",
    "print(c.ndim)\n",
    "print(d.ndim) "
   ]
  },
  {
   "cell_type": "code",
   "execution_count": 8,
   "metadata": {},
   "outputs": [
    {
     "name": "stdout",
     "output_type": "stream",
     "text": [
      "[[1 2 3]\n",
      " [4 5 6]\n",
      " [7 8 9]]\n"
     ]
    }
   ],
   "source": [
    "lst_lst = [[1,2,3],[4,5,6],[7,8,9]]\n",
    "d = np.array(lst_lst)\n",
    "print(d)"
   ]
  },
  {
   "cell_type": "code",
   "execution_count": 11,
   "metadata": {},
   "outputs": [
    {
     "data": {
      "text/plain": [
       "array([0., 0., 0.])"
      ]
     },
     "execution_count": 11,
     "metadata": {},
     "output_type": "execute_result"
    }
   ],
   "source": [
    "a=np.zeros(3)\n",
    "a"
   ]
  },
  {
   "cell_type": "code",
   "execution_count": 17,
   "metadata": {},
   "outputs": [
    {
     "name": "stdout",
     "output_type": "stream",
     "text": [
      "The cipher text is :  ?krow siht seod woH\n"
     ]
    }
   ],
   "source": [
    "message = 'How does this work?'\n",
    "translated = '' #cipher text is stored in this variable\n",
    "i = len(message) - 1\n",
    "\n",
    "while i >= 0:\n",
    "   translated = translated + message[i]\n",
    "   i = i - 1\n",
    "print('The cipher text is : ', translated)"
   ]
  },
  {
   "cell_type": "code",
   "execution_count": 23,
   "metadata": {},
   "outputs": [
    {
     "ename": "IndentationError",
     "evalue": "expected an indented block (<ipython-input-23-77fc53ce950e>, line 2)",
     "output_type": "error",
     "traceback": [
      "\u001b[0;36m  File \u001b[0;32m\"<ipython-input-23-77fc53ce950e>\"\u001b[0;36m, line \u001b[0;32m2\u001b[0m\n\u001b[0;31m    result = \"\"\u001b[0m\n\u001b[0m    ^\u001b[0m\n\u001b[0;31mIndentationError\u001b[0m\u001b[0;31m:\u001b[0m expected an indented block\n"
     ]
    }
   ],
   "source": [
    "def encrypt(text,s):\n",
    "result = \"\"\n",
    "   # transverse the plain text\n",
    "   for i in range(len(text)):\n",
    "      char = text[i]\n",
    "      # Encrypt uppercase characters in plain text\n",
    "      \n",
    "      if (char.isupper()):\n",
    "         result += chr((ord(char) + s-65) % 26 + 65)\n",
    "      # Encrypt lowercase characters in plain text\n",
    "      else:\n",
    "            result += chr((ord(char) + s - 97) % 26 + 97)\n",
    "      return result\n",
    "#check the above function\n",
    "text = \"CEASER CIPHER DEMO\"\n",
    "s = 4\n",
    "\n",
    "print \"Plain Text : \" + text\n",
    "print \"Shift pattern : \" + str(s)\n",
    "print \"Cipher: \" + encrypt(text,s)"
   ]
  },
  {
   "cell_type": "code",
   "execution_count": 2,
   "metadata": {},
   "outputs": [
    {
     "name": "stdout",
     "output_type": "stream",
     "text": [
      "[0, 1, 4, 9, 16, 25, 36, 49, 64, 81]\n"
     ]
    }
   ],
   "source": [
    "#list comprehnsion\n",
    "square=\n",
    "print(square)"
   ]
  },
  {
   "cell_type": "code",
   "execution_count": 1,
   "metadata": {},
   "outputs": [],
   "source": [
    "import numpy as np"
   ]
  },
  {
   "cell_type": "code",
   "execution_count": 7,
   "metadata": {},
   "outputs": [
    {
     "data": {
      "text/plain": [
       "array([[0.70999591, 0.17467466, 0.3007959 ],\n",
       "       [0.47181181, 0.67001562, 0.22250329]])"
      ]
     },
     "execution_count": 7,
     "metadata": {},
     "output_type": "execute_result"
    }
   ],
   "source": [
    "a=np.random.random((2,3))"
   ]
  },
  {
   "cell_type": "code",
   "execution_count": 9,
   "metadata": {},
   "outputs": [
    {
     "data": {
      "text/plain": [
       "array([[0.70999591, 0.17467466, 0.3007959 ],\n",
       "       [0.47181181, 0.67001562, 0.22250329]])"
      ]
     },
     "execution_count": 9,
     "metadata": {},
     "output_type": "execute_result"
    }
   ],
   "source": [
    "a"
   ]
  },
  {
   "cell_type": "code",
   "execution_count": 10,
   "metadata": {},
   "outputs": [
    {
     "data": {
      "text/plain": [
       "(2, 3)"
      ]
     },
     "execution_count": 10,
     "metadata": {},
     "output_type": "execute_result"
    }
   ],
   "source": [
    "a.shape"
   ]
  },
  {
   "cell_type": "code",
   "execution_count": 12,
   "metadata": {},
   "outputs": [
    {
     "data": {
      "text/plain": [
       "6"
      ]
     },
     "execution_count": 12,
     "metadata": {},
     "output_type": "execute_result"
    }
   ],
   "source": [
    "a.size #two by three items is 6"
   ]
  },
  {
   "cell_type": "code",
   "execution_count": 14,
   "metadata": {},
   "outputs": [
    {
     "data": {
      "text/plain": [
       "0.709995907254416"
      ]
     },
     "execution_count": 14,
     "metadata": {},
     "output_type": "execute_result"
    }
   ],
   "source": [
    "a[0, 0] # element links oben"
   ]
  },
  {
   "cell_type": "code",
   "execution_count": 13,
   "metadata": {},
   "outputs": [
    {
     "data": {
      "text/plain": [
       "array([0.70999591, 0.47181181])"
      ]
     },
     "execution_count": 13,
     "metadata": {},
     "output_type": "execute_result"
    }
   ],
   "source": [
    "a [:,0] #hole first column"
   ]
  },
  {
   "cell_type": "code",
   "execution_count": 15,
   "metadata": {},
   "outputs": [
    {
     "data": {
      "text/plain": [
       "array([0.70999591, 0.17467466, 0.3007959 ])"
      ]
     },
     "execution_count": 15,
     "metadata": {},
     "output_type": "execute_result"
    }
   ],
   "source": [
    "a[0,:] #hole first row"
   ]
  },
  {
   "cell_type": "code",
   "execution_count": 18,
   "metadata": {},
   "outputs": [
    {
     "data": {
      "text/plain": [
       "array([[[0.72705427, 0.88748976, 0.92034427, 0.82088818, 0.55002869],\n",
       "        [0.7779625 , 0.13730653, 0.35114947, 0.34864345, 0.10887537],\n",
       "        [0.08354085, 0.3562651 , 0.26825779, 0.07240365, 0.49767794]],\n",
       "\n",
       "       [[0.92438818, 0.91510996, 0.93053889, 0.18144351, 0.83939823],\n",
       "        [0.46366597, 0.37424037, 0.70944893, 0.21204728, 0.97774461],\n",
       "        [0.70876304, 0.84201784, 0.50799983, 0.3978107 , 0.06324905]]])"
      ]
     },
     "execution_count": 18,
     "metadata": {},
     "output_type": "execute_result"
    }
   ],
   "source": [
    "np.random.random((2,3,5)) #3 dimensons: 2 depth / 3 columns / 5 rows"
   ]
  },
  {
   "cell_type": "code",
   "execution_count": 20,
   "metadata": {},
   "outputs": [
    {
     "data": {
      "text/plain": [
       "array([[[0.68247865, 0.20852647, 0.22112528, 0.65543431, 0.37505715],\n",
       "        [0.31897464, 0.74235637, 0.08851318, 0.49493185, 0.75224304],\n",
       "        [0.65626143, 0.68850065, 0.33461817, 0.33999101, 0.43618597]],\n",
       "\n",
       "       [[0.86783736, 0.81682547, 0.16298816, 0.84439209, 0.37695437],\n",
       "        [0.55356392, 0.17803441, 0.04035824, 0.67137878, 0.35845933],\n",
       "        [0.02485719, 0.28495691, 0.21195664, 0.7883084 , 0.12776154]]])"
      ]
     },
     "execution_count": 20,
     "metadata": {},
     "output_type": "execute_result"
    }
   ],
   "source": [
    "b=np.random.random((2,3,5))\n",
    "b"
   ]
  },
  {
   "cell_type": "code",
   "execution_count": 21,
   "metadata": {},
   "outputs": [
    {
     "data": {
      "text/plain": [
       "0.6824786539861356"
      ]
     },
     "execution_count": 21,
     "metadata": {},
     "output_type": "execute_result"
    }
   ],
   "source": [
    "b[0,0,0]"
   ]
  },
  {
   "cell_type": "code",
   "execution_count": 23,
   "metadata": {},
   "outputs": [
    {
     "data": {
      "text/plain": [
       "array([0.65626143, 0.68850065, 0.33461817, 0.33999101, 0.43618597])"
      ]
     },
     "execution_count": 23,
     "metadata": {},
     "output_type": "execute_result"
    }
   ],
   "source": [
    "b[0,2,:]#vorderste Matrix, komplette 3. Zeile,"
   ]
  },
  {
   "cell_type": "code",
   "execution_count": 24,
   "metadata": {},
   "outputs": [
    {
     "data": {
      "text/plain": [
       "array([0.22112528, 0.08851318, 0.33461817])"
      ]
     },
     "execution_count": 24,
     "metadata": {},
     "output_type": "execute_result"
    }
   ],
   "source": [
    "b[0,:,2]#vorderste Matrix komplette 3. Spalte"
   ]
  },
  {
   "cell_type": "code",
   "execution_count": 25,
   "metadata": {},
   "outputs": [
    {
     "data": {
      "text/plain": [
       "array([[[5.        , 0.1589745 , 0.98210184, 0.75706021, 0.84765762],\n",
       "        [0.54656323, 0.79365949, 0.77907511, 0.95757385, 0.70630361],\n",
       "        [0.64564338, 0.46662405, 0.87795464, 0.67144808, 0.15875208]],\n",
       "\n",
       "       [[0.82263695, 0.37617004, 0.69097118, 0.78922332, 0.17354848],\n",
       "        [0.30052125, 0.05225526, 0.49345902, 0.85788907, 0.43201703],\n",
       "        [0.09310094, 0.08965939, 0.36447655, 0.51059496, 0.75908949]]])"
      ]
     },
     "execution_count": 25,
     "metadata": {},
     "output_type": "execute_result"
    }
   ],
   "source": [
    "#mutabe ich kann eine einzelne Zeile ändern\n",
    "a[0,0,0]=5\n",
    "a"
   ]
  },
  {
   "cell_type": "code",
   "execution_count": 26,
   "metadata": {},
   "outputs": [
    {
     "data": {
      "text/plain": [
       "array(['cat', 'dog'], dtype='<U3')"
      ]
     },
     "execution_count": 26,
     "metadata": {},
     "output_type": "execute_result"
    }
   ],
   "source": [
    "#insert list into array\n",
    "mylist=['cat','dog']\n",
    "np.array(mylist)"
   ]
  },
  {
   "cell_type": "code",
   "execution_count": 1,
   "metadata": {},
   "outputs": [],
   "source": [
    "import numpy as np"
   ]
  },
  {
   "cell_type": "code",
   "execution_count": 2,
   "metadata": {},
   "outputs": [],
   "source": [
    "atoms = np.array([[0., 0., 0.],\n",
    "                  [3., 3., 3.],\n",
    "                  [2., 8., 7.]]\n",
    "                 )"
   ]
  },
  {
   "cell_type": "code",
   "execution_count": 3,
   "metadata": {},
   "outputs": [
    {
     "data": {
      "text/plain": [
       "array([[0., 0., 0.],\n",
       "       [3., 3., 3.],\n",
       "       [2., 8., 7.]])"
      ]
     },
     "execution_count": 3,
     "metadata": {},
     "output_type": "execute_result"
    }
   ],
   "source": [
    "atoms"
   ]
  },
  {
   "cell_type": "code",
   "execution_count": 4,
   "metadata": {},
   "outputs": [],
   "source": [
    "masses = np.array([1., 1., 5.])"
   ]
  },
  {
   "cell_type": "code",
   "execution_count": 8,
   "metadata": {},
   "outputs": [
    {
     "data": {
      "text/plain": [
       "array([[ 4.,  5.,  6.],\n",
       "       [ 7.,  8.,  9.],\n",
       "       [ 6., 13., 13.]])"
      ]
     },
     "execution_count": 8,
     "metadata": {},
     "output_type": "execute_result"
    }
   ],
   "source": [
    "atoms = atoms + [1.,2.,3.]\n",
    "atoms"
   ]
  },
  {
   "cell_type": "code",
   "execution_count": 19,
   "metadata": {},
   "outputs": [],
   "source": [
    "riddle = np.array([[ 533.,  502.,  530.,  591.,  552.,  563.,  508.,  581.,  570.,  557.,  510.,  303.,  355.,  389.,  306.,  598.,  540.,  526.,  585.,  599.,  505.,  547.,  569.,  566.,  580.,  564.,  531.,  573.],\n",
    "       [ 512.,  522.,  540.,  510.,  541.,  544.,  521.,  567.,  324.,  388.,  384.,  495.,  457.,  469.,  485.,  300.,  426.,  410.,  584.,  545.,  518.,  591.,  518.,  536.,  508.,  556.,  595.,  560.],\n",
    "       [ 545.,  584.,  521.,  552.,  589.,  583.,  314.,  301.,  461.,  473.,  436.,  469.,  478.,  440.,  449.,  431.,  461.,  461.,  322.,  319.,  592.,  522.,  554.,  569.,  593.,  502.,  551.,  514.],\n",
    "       [ 576.,  517.,  538.,  588.,  550.,  331.,  529.,  532.,  470.,  469.,  471.,  461.,  426.,  400.,  450.,  462.,  422.,  430.,  454.,  487.,  398.,  529.,  584.,  567.,  594.,  522.,  530.,  506.],\n",
    "       [ 542.,  582.,  520.,  525.,  319.,  575.,  543.,  481.,  413.,  474.,  408.,  446.,  433.,  465.,  409.,  448.,  407.,  401.,  485.,  434.,  403.,  360.,  525.,  523.,  581.,  528.,  555.,  567.],\n",
    "       [ 533.,  588.,  569.,  383.,  581.,  541.,  558.,  448.,  411.,  425.,  403.,  463.,  423.,  457.,  493.,  472.,  460.,  470.,  444.,  418.,  498.,  426.,  340.,  577.,  556.,  544.,  560.,  589.],\n",
    "       [ 576.,  552.,  550.,  365.,  587.,  543.,  575.,  586.,  425.,  430.,  493.,  488.,  446.,  460.,  447.,  493.,  404.,  414.,  444.,  430.,  417.,  449.,  317.,  538.,  559.,  596.,  513.,  553.],\n",
    "       [ 567.,  574.,  374.,  513.,  578.,  593.,  539.,  555.,  512.,  407.,  435.,  483.,  458.,  456.,  462.,  433.,  497.,  465.,  459.,  400.,  445.,  436.,  456.,  356.,  547.,  526.,  508.,  573.],\n",
    "       [ 537.,  515.,  398.,  576.,  525.,  530.,  529.,  584.,  544.,  513.,  450.,  420.,  426.,  489.,  441.,  432.,  427.,  444.,  482.,  415.,  486.,  472.,  466.,  320.,  501.,  535.,  592.,  580.],\n",
    "       [ 539.,  542.,  304.,  522.,  565.,  500.,  559.,  530.,  554.,  520.,  526.,  594.,  423.,  472.,  477.,  468.,  428.,  374.,  343.,  332.,  379.,  419.,  477.,  354.,  557.,  554.,  554.,  550.],\n",
    "       [ 544.,  383.,  567.,  520.,  575.,  372.,  393.,  528.,  546.,  571.,  531.,  538.,  548.,  540.,  566.,  355.,  387.,  407.,  471.,  332.,  352.,  347.,  369.,  494.,  394.,  566.,  590.,  521.],\n",
    "       [ 590.,  326.,  524.,  327.,  357.,  501.,  559.,  348.,  566.,  516.,  522.,  505.,  502.,  501.,  363.,  445.,  442.,  398.,  329.,  548.,  591.,  512.,  595.,  358.,  344.,  571.,  519.,  543.],\n",
    "       [ 571.,  362.,  322.,  544.,  251.,  223.,  523.,  544.,  355.,  542.,  597.,  587.,  571.,  322.,  446.,  377.,  343.,  108.,  509.,  573.,  136.,  584.,  672.,  367.,  349.,  564.,  543.,  520.],\n",
    "       [ 585.,  312.,  225.,  228.,  435.,  484.,  215.,  536.,  336.,  522.,  529.,  557.,  375.,  455.,  350.,  371.,  108.,  523.,  507.,  218.,  298.,  221.,  292.,  244.,  242.,  294.,  556.,  573.],\n",
    "       [ 552.,  232.,  444.,  458.,  454.,  435.,  234.,  564.,  503.,  365.,  589.,  555.,  303.,  394.,  582.,  364.,  507.,  258.,  299.,  258.,  219.,  291.,  269.,  269.,  243.,  230.,  281.,  536.],\n",
    "       [ 279.,  522.,  453.,  406.,  419.,  487.,  444.,  514.,  283.,  398.,  521.,  352.,  487.,  309.,  347.,  108.,  214.,  236.,  602.,  261.,  221.,  200.,  292.,  235.,  261.,  236.,  292.,  540.],\n",
    "       [ 227.,  460.,  430.,  405.,  451.,  108.,  544.,  454.,  409.,  379.,  505.,  595.,  314.,  317.,  325.,  108.,  236.,  279.,  270.,  234.,  226.,  553.,  215.,  219.,  246.,  622.,  540.,  577.],\n",
    "       [ 595.,  218.,  209.,  456.,  108.,  584.,  549.,  576.,  450.,  401.,  491.,  515.,  321.,  654.,  697.,  267.,  276.,  249.,  531.,  651.,  606.,  558.,  604.,  693.,  594.,  570.,  560.,  523.],\n",
    "       [ 524.,  564.,  433.,  400.,  108.,  516.,  575.,  413.,  662.,  648.,  666.,  470.,  579.,  488.,  641.,  210.,  204.,  553.,  541.,  648.,  238.,  656.,  230.,  642.,  549.,  599.,  598.,  500.],\n",
    "       [ 524.,  596.,  549.,  439.,  108.,  108.,  437.,  691.,  693.,  671.,  659.,  628.,  420.,  494.,  581.,  282.,  246.,  506.,  611.,  612.,  227.,  670.,  275.,  691.,  634.,  461.,  597.,  553.],\n",
    "       [ 573.,  577.,  595.,  436.,  468.,  108.,  479.,  679.,  686.,  686.,  678.,  627.,  435.,  586.,  515.,  297.,  264.,  263.,  679.,  648.,  521.,  570.,  609.,  601.,  687.,  481.,  574.,  509.],\n",
    "       [ 501.,  544.,  508.,  539.,  430.,  499.,  108.,  474.,  656.,  669.,  601.,  462.,  108.,  108.,  108.,  502.,  232.,  685.,  687.,  201.,  437.,  569.,  549.,  576.,  558.,  409.,  516.,  584.],\n",
    "       [ 527.,  515.,  584.,  581.,  505.,  411.,  462.,  489.,  465.,  454.,  406.,  108.,  108.,  347.,  307.,  262.,  576.,  580.,  282.,  262.,  240.,  295.,  276.,  210.,  214.,  280.,  277.,  509.],\n",
    "       [ 537.,  562.,  565.,  573.,  559.,  500.,  466.,  464.,  410.,  404.,  108.,  108.,  108.,  108.,  108.,  287.,  543.,  521.,  686.,  659.,  261.,  278.,  266.,  276.,  293.,  288.,  554.,  541.],\n",
    "       [ 586.,  596.,  509.,  579.,  530.,  508.,  579.,  480.,  439.,  629.,  631.,  458.,  488.,  416.,  429.,  477.,  487.,  535.,  564.,  546.,  538.,  529.,  596.,  412.,  500.,  559.,  508.,  596.],\n",
    "       [ 536.,  578.,  502.,  522.,  531.,  525.,  587.,  580.,  501.,  487.,  439.,  432.,  478.,  443.,  405.,  548.,  533.,  439.,  486.,  415.,  476.,  417.,  472.,  541.,  528.,  595.,  531.,  549.],\n",
    "       [ 548.,  562.,  550.,  561.,  584.,  598.,  572.,  584.,  581.,  544.,  577.,  591.,  548.,  530.,  512.,  552.,  587.,  511.,  577.,  565.,  591.,  560.,  565.,  595.,  544.,  556.,  585.,  520.]])"
   ]
  },
  {
   "cell_type": "code",
   "execution_count": 21,
   "metadata": {
    "scrolled": true
   },
   "outputs": [
    {
     "data": {
      "text/plain": [
       "array([[533., 502., 530., 591., 552., 563., 508., 581., 570., 557., 510.,\n",
       "        303., 355., 389., 306., 598., 540., 526., 585., 599., 505., 547.,\n",
       "        569., 566., 580., 564., 531., 573.],\n",
       "       [512., 522., 540., 510., 541., 544., 521., 567., 324., 388., 384.,\n",
       "        495., 457., 469., 485., 300., 426., 410., 584., 545., 518., 591.,\n",
       "        518., 536., 508., 556., 595., 560.],\n",
       "       [545., 584., 521., 552., 589., 583., 314., 301., 461., 473., 436.,\n",
       "        469., 478., 440., 449., 431., 461., 461., 322., 319., 592., 522.,\n",
       "        554., 569., 593., 502., 551., 514.],\n",
       "       [576., 517., 538., 588., 550., 331., 529., 532., 470., 469., 471.,\n",
       "        461., 426., 400., 450., 462., 422., 430., 454., 487., 398., 529.,\n",
       "        584., 567., 594., 522., 530., 506.],\n",
       "       [542., 582., 520., 525., 319., 575., 543., 481., 413., 474., 408.,\n",
       "        446., 433., 465., 409., 448., 407., 401., 485., 434., 403., 360.,\n",
       "        525., 523., 581., 528., 555., 567.],\n",
       "       [533., 588., 569., 383., 581., 541., 558., 448., 411., 425., 403.,\n",
       "        463., 423., 457., 493., 472., 460., 470., 444., 418., 498., 426.,\n",
       "        340., 577., 556., 544., 560., 589.],\n",
       "       [576., 552., 550., 365., 587., 543., 575., 586., 425., 430., 493.,\n",
       "        488., 446., 460., 447., 493., 404., 414., 444., 430., 417., 449.,\n",
       "        317., 538., 559., 596., 513., 553.],\n",
       "       [567., 574., 374., 513., 578., 593., 539., 555., 512., 407., 435.,\n",
       "        483., 458., 456., 462., 433., 497., 465., 459., 400., 445., 436.,\n",
       "        456., 356., 547., 526., 508., 573.],\n",
       "       [537., 515., 398., 576., 525., 530., 529., 584., 544., 513., 450.,\n",
       "        420., 426., 489., 441., 432., 427., 444., 482., 415., 486., 472.,\n",
       "        466., 320., 501., 535., 592., 580.],\n",
       "       [539., 542., 304., 522., 565., 500., 559., 530., 554., 520., 526.,\n",
       "        594., 423., 472., 477., 468., 428., 374., 343., 332., 379., 419.,\n",
       "        477., 354., 557., 554., 554., 550.],\n",
       "       [544., 383., 567., 520., 575., 372., 393., 528., 546., 571., 531.,\n",
       "        538., 548., 540., 566., 355., 387., 407., 471., 332., 352., 347.,\n",
       "        369., 494., 394., 566., 590., 521.],\n",
       "       [590., 326., 524., 327., 357., 501., 559., 348., 566., 516., 522.,\n",
       "        505., 502., 501., 363., 445., 442., 398., 329., 548., 591., 512.,\n",
       "        595., 358., 344., 571., 519., 543.],\n",
       "       [571., 362., 322., 544., 251., 223., 523., 544., 355., 542., 597.,\n",
       "        587., 571., 322., 446., 377., 343., 108., 509., 573., 136., 584.,\n",
       "        672., 367., 349., 564., 543., 520.],\n",
       "       [585., 312., 225., 228., 435., 484., 215., 536., 336., 522., 529.,\n",
       "        557., 375., 455., 350., 371., 108., 523., 507., 218., 298., 221.,\n",
       "        292., 244., 242., 294., 556., 573.],\n",
       "       [552., 232., 444., 458., 454., 435., 234., 564., 503., 365., 589.,\n",
       "        555., 303., 394., 582., 364., 507., 258., 299., 258., 219., 291.,\n",
       "        269., 269., 243., 230., 281., 536.],\n",
       "       [279., 522., 453., 406., 419., 487., 444., 514., 283., 398., 521.,\n",
       "        352., 487., 309., 347., 108., 214., 236., 602., 261., 221., 200.,\n",
       "        292., 235., 261., 236., 292., 540.],\n",
       "       [227., 460., 430., 405., 451., 108., 544., 454., 409., 379., 505.,\n",
       "        595., 314., 317., 325., 108., 236., 279., 270., 234., 226., 553.,\n",
       "        215., 219., 246., 622., 540., 577.],\n",
       "       [595., 218., 209., 456., 108., 584., 549., 576., 450., 401., 491.,\n",
       "        515., 321., 654., 697., 267., 276., 249., 531., 651., 606., 558.,\n",
       "        604., 693., 594., 570., 560., 523.],\n",
       "       [524., 564., 433., 400., 108., 516., 575., 413., 662., 648., 666.,\n",
       "        470., 579., 488., 641., 210., 204., 553., 541., 648., 238., 656.,\n",
       "        230., 642., 549., 599., 598., 500.],\n",
       "       [524., 596., 549., 439., 108., 108., 437., 691., 693., 671., 659.,\n",
       "        628., 420., 494., 581., 282., 246., 506., 611., 612., 227., 670.,\n",
       "        275., 691., 634., 461., 597., 553.],\n",
       "       [573., 577., 595., 436., 468., 108., 479., 679., 686., 686., 678.,\n",
       "        627., 435., 586., 515., 297., 264., 263., 679., 648., 521., 570.,\n",
       "        609., 601., 687., 481., 574., 509.],\n",
       "       [501., 544., 508., 539., 430., 499., 108., 474., 656., 669., 601.,\n",
       "        462., 108., 108., 108., 502., 232., 685., 687., 201., 437., 569.,\n",
       "        549., 576., 558., 409., 516., 584.],\n",
       "       [527., 515., 584., 581., 505., 411., 462., 489., 465., 454., 406.,\n",
       "        108., 108., 347., 307., 262., 576., 580., 282., 262., 240., 295.,\n",
       "        276., 210., 214., 280., 277., 509.],\n",
       "       [537., 562., 565., 573., 559., 500., 466., 464., 410., 404., 108.,\n",
       "        108., 108., 108., 108., 287., 543., 521., 686., 659., 261., 278.,\n",
       "        266., 276., 293., 288., 554., 541.],\n",
       "       [586., 596., 509., 579., 530., 508., 579., 480., 439., 629., 631.,\n",
       "        458., 488., 416., 429., 477., 487., 535., 564., 546., 538., 529.,\n",
       "        596., 412., 500., 559., 508., 596.],\n",
       "       [536., 578., 502., 522., 531., 525., 587., 580., 501., 487., 439.,\n",
       "        432., 478., 443., 405., 548., 533., 439., 486., 415., 476., 417.,\n",
       "        472., 541., 528., 595., 531., 549.],\n",
       "       [548., 562., 550., 561., 584., 598., 572., 584., 581., 544., 577.,\n",
       "        591., 548., 530., 512., 552., 587., 511., 577., 565., 591., 560.,\n",
       "        565., 595., 544., 556., 585., 520.]])"
      ]
     },
     "execution_count": 21,
     "metadata": {},
     "output_type": "execute_result"
    }
   ],
   "source": [
    "riddle"
   ]
  },
  {
   "cell_type": "code",
   "execution_count": 24,
   "metadata": {},
   "outputs": [
    {
     "name": "stdout",
     "output_type": "stream",
     "text": [
      "(27, 28)\n",
      "756\n"
     ]
    }
   ],
   "source": [
    "print(riddle.shape)\n",
    "print(riddle.size)"
   ]
  },
  {
   "cell_type": "code",
   "execution_count": 30,
   "metadata": {},
   "outputs": [
    {
     "data": {
      "text/plain": [
       "array([573., 560., 514., 506., 567., 589., 553., 573., 580., 550., 521.,\n",
       "       543., 520., 573., 536., 540., 577., 523., 500., 553., 509., 584.,\n",
       "       509., 541., 596., 549., 520.])"
      ]
     },
     "execution_count": 30,
     "metadata": {},
     "output_type": "execute_result"
    }
   ],
   "source": [
    "riddle[:,-1]"
   ]
  },
  {
   "cell_type": "code",
   "execution_count": 36,
   "metadata": {},
   "outputs": [
    {
     "ename": "TypeError",
     "evalue": "'tuple' object is not callable",
     "output_type": "error",
     "traceback": [
      "\u001b[0;31m---------------------------------------------------------------------------\u001b[0m",
      "\u001b[0;31mTypeError\u001b[0m                                 Traceback (most recent call last)",
      "\u001b[0;32m<ipython-input-36-ff3bcfd46eed>\u001b[0m in \u001b[0;36m<module>\u001b[0;34m\u001b[0m\n\u001b[0;32m----> 1\u001b[0;31m \u001b[0mprint\u001b[0m\u001b[0;34m(\u001b[0m\u001b[0mriddle\u001b[0m\u001b[0;34m.\u001b[0m\u001b[0mshape\u001b[0m\u001b[0;34m)\u001b[0m\u001b[0;34m\u001b[0m\u001b[0;34m\u001b[0m\u001b[0m\n\u001b[0m\u001b[1;32m      2\u001b[0m \u001b[0;32mfor\u001b[0m \u001b[0mx\u001b[0m \u001b[0;32min\u001b[0m \u001b[0mriddle\u001b[0m\u001b[0;34m:\u001b[0m\u001b[0;34m\u001b[0m\u001b[0;34m\u001b[0m\u001b[0m\n\u001b[1;32m      3\u001b[0m     \u001b[0;32mif\u001b[0m \u001b[0mx\u001b[0m \u001b[0;34m>=\u001b[0m\u001b[0;36m200\u001b[0m \u001b[0;32mand\u001b[0m  \u001b[0mx\u001b[0m\u001b[0;34m<=\u001b[0m \u001b[0;36m300\u001b[0m\u001b[0;34m:\u001b[0m\u001b[0;34m\u001b[0m\u001b[0;34m\u001b[0m\u001b[0m\n\u001b[1;32m      4\u001b[0m         \u001b[0mriddle\u001b[0m \u001b[0;34m[\u001b[0m\u001b[0mx\u001b[0m\u001b[0;34m]\u001b[0m\u001b[0;34m=\u001b[0m\u001b[0;36m0\u001b[0m\u001b[0;34m\u001b[0m\u001b[0;34m\u001b[0m\u001b[0m\n\u001b[1;32m      5\u001b[0m     \u001b[0;32melif\u001b[0m \u001b[0mx\u001b[0m\u001b[0;34m>=\u001b[0m\u001b[0;36m300\u001b[0m \u001b[0;32mand\u001b[0m  \u001b[0mx\u001b[0m\u001b[0;34m<=\u001b[0m\u001b[0;36m400\u001b[0m\u001b[0;34m:\u001b[0m\u001b[0;34m\u001b[0m\u001b[0;34m\u001b[0m\u001b[0m\n",
      "\u001b[0;31mTypeError\u001b[0m: 'tuple' object is not callable"
     ]
    }
   ],
   "source": [
    "\n",
    "for x in riddle: \n",
    "    if x >=200 and  x<= 300:\n",
    "        riddle [x]=0\n",
    "    elif x>=300 and  x<=400:\n",
    "        riddle [x]=40\n",
    "    elif x>=400 and  x<=500:\n",
    "        riddle [x]=156\n",
    "    elif x>=500 and  x<=600:\n",
    "        riddle [x]=220\n",
    "riddle"
   ]
  },
  {
   "cell_type": "code",
   "execution_count": null,
   "metadata": {},
   "outputs": [],
   "source": []
  }
 ],
 "metadata": {
  "kernelspec": {
   "display_name": "Python 3",
   "language": "python",
   "name": "python3"
  },
  "language_info": {
   "codemirror_mode": {
    "name": "ipython",
    "version": 3
   },
   "file_extension": ".py",
   "mimetype": "text/x-python",
   "name": "python",
   "nbconvert_exporter": "python",
   "pygments_lexer": "ipython3",
   "version": "3.8.5"
  }
 },
 "nbformat": 4,
 "nbformat_minor": 4
}
